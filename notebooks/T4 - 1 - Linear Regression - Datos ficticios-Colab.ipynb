{
  "cells": [
    {
      "cell_type": "markdown",
      "metadata": {
        "id": "VlTwiGB5CNeC"
      },
      "source": [
        "<a href=\"https://colab.research.google.com/github/joanby/python-ml-course/blob/master/notebooks/T4%20-%201%20-%20Linear%20Regression%20-%20Datos%20ficticios-Colab.ipynb\" target=\"_parent\"><img src=\"https://colab.research.google.com/assets/colab-badge.svg\" alt=\"Open In Colab\"/></a>"
      ]
    },
    {
      "cell_type": "markdown",
      "metadata": {
        "id": "xUBJ1pG3CNeJ"
      },
      "source": [
        "# Clonamos el repositorio para obtener los dataSet"
      ]
    },
    {
      "cell_type": "code",
      "execution_count": 1,
      "metadata": {
        "id": "EyaZIyUlCNeK",
        "outputId": "22205fb4-ee34-4f35-bd41-d6a4f2bbc24d",
        "colab": {
          "base_uri": "https://localhost:8080/"
        }
      },
      "outputs": [
        {
          "output_type": "stream",
          "name": "stdout",
          "text": [
            "Cloning into 'python-ml-course'...\n",
            "remote: Enumerating objects: 17706, done.\u001b[K\n",
            "remote: Total 17706 (delta 0), reused 0 (delta 0), pack-reused 17706\u001b[K\n",
            "Receiving objects: 100% (17706/17706), 523.15 MiB | 16.62 MiB/s, done.\n",
            "Resolving deltas: 100% (333/333), done.\n",
            "Checking out files: 100% (16940/16940), done.\n"
          ]
        }
      ],
      "source": [
        "!git clone https://github.com/joanby/python-ml-course.git"
      ]
    },
    {
      "cell_type": "markdown",
      "metadata": {
        "id": "yiSVsuGKCNeL"
      },
      "source": [
        "# Damos acceso a nuestro Drive"
      ]
    },
    {
      "cell_type": "code",
      "execution_count": 2,
      "metadata": {
        "id": "X4Kr_T1DCNeM",
        "outputId": "3c8ff9a8-1c4f-4f2b-be92-a725a48dd809",
        "colab": {
          "base_uri": "https://localhost:8080/",
          "height": 380
        }
      },
      "outputs": [
        {
          "output_type": "error",
          "ename": "MessageError",
          "evalue": "ignored",
          "traceback": [
            "\u001b[0;31m---------------------------------------------------------------------------\u001b[0m",
            "\u001b[0;31mMessageError\u001b[0m                              Traceback (most recent call last)",
            "\u001b[0;32m<ipython-input-2-fe34fdfcb222>\u001b[0m in \u001b[0;36m<module>\u001b[0;34m()\u001b[0m\n\u001b[1;32m      1\u001b[0m \u001b[0;32mfrom\u001b[0m \u001b[0mgoogle\u001b[0m\u001b[0;34m.\u001b[0m\u001b[0mcolab\u001b[0m \u001b[0;32mimport\u001b[0m \u001b[0mdrive\u001b[0m\u001b[0;34m\u001b[0m\u001b[0;34m\u001b[0m\u001b[0m\n\u001b[0;32m----> 2\u001b[0;31m \u001b[0mdrive\u001b[0m\u001b[0;34m.\u001b[0m\u001b[0mmount\u001b[0m\u001b[0;34m(\u001b[0m\u001b[0;34m'/content/drive'\u001b[0m\u001b[0;34m)\u001b[0m\u001b[0;34m\u001b[0m\u001b[0;34m\u001b[0m\u001b[0m\n\u001b[0m\u001b[1;32m      3\u001b[0m \u001b[0;31m# Test it\u001b[0m\u001b[0;34m\u001b[0m\u001b[0;34m\u001b[0m\u001b[0;34m\u001b[0m\u001b[0m\n\u001b[1;32m      4\u001b[0m \u001b[0mget_ipython\u001b[0m\u001b[0;34m(\u001b[0m\u001b[0;34m)\u001b[0m\u001b[0;34m.\u001b[0m\u001b[0msystem\u001b[0m\u001b[0;34m(\u001b[0m\u001b[0;34m\"ls '/content/drive/My Drive'\"\u001b[0m\u001b[0;34m)\u001b[0m\u001b[0;34m\u001b[0m\u001b[0;34m\u001b[0m\u001b[0m\n",
            "\u001b[0;32m/usr/local/lib/python3.7/dist-packages/google/colab/drive.py\u001b[0m in \u001b[0;36mmount\u001b[0;34m(mountpoint, force_remount, timeout_ms)\u001b[0m\n\u001b[1;32m    107\u001b[0m       \u001b[0mforce_remount\u001b[0m\u001b[0;34m=\u001b[0m\u001b[0mforce_remount\u001b[0m\u001b[0;34m,\u001b[0m\u001b[0;34m\u001b[0m\u001b[0;34m\u001b[0m\u001b[0m\n\u001b[1;32m    108\u001b[0m       \u001b[0mtimeout_ms\u001b[0m\u001b[0;34m=\u001b[0m\u001b[0mtimeout_ms\u001b[0m\u001b[0;34m,\u001b[0m\u001b[0;34m\u001b[0m\u001b[0;34m\u001b[0m\u001b[0m\n\u001b[0;32m--> 109\u001b[0;31m       ephemeral=True)\n\u001b[0m\u001b[1;32m    110\u001b[0m \u001b[0;34m\u001b[0m\u001b[0m\n\u001b[1;32m    111\u001b[0m \u001b[0;34m\u001b[0m\u001b[0m\n",
            "\u001b[0;32m/usr/local/lib/python3.7/dist-packages/google/colab/drive.py\u001b[0m in \u001b[0;36m_mount\u001b[0;34m(mountpoint, force_remount, timeout_ms, ephemeral)\u001b[0m\n\u001b[1;32m    122\u001b[0m   \u001b[0;32mif\u001b[0m \u001b[0mephemeral\u001b[0m\u001b[0;34m:\u001b[0m\u001b[0;34m\u001b[0m\u001b[0;34m\u001b[0m\u001b[0m\n\u001b[1;32m    123\u001b[0m     _message.blocking_request(\n\u001b[0;32m--> 124\u001b[0;31m         'request_auth', request={'authType': 'dfs_ephemeral'}, timeout_sec=None)\n\u001b[0m\u001b[1;32m    125\u001b[0m \u001b[0;34m\u001b[0m\u001b[0m\n\u001b[1;32m    126\u001b[0m   \u001b[0mmountpoint\u001b[0m \u001b[0;34m=\u001b[0m \u001b[0m_os\u001b[0m\u001b[0;34m.\u001b[0m\u001b[0mpath\u001b[0m\u001b[0;34m.\u001b[0m\u001b[0mexpanduser\u001b[0m\u001b[0;34m(\u001b[0m\u001b[0mmountpoint\u001b[0m\u001b[0;34m)\u001b[0m\u001b[0;34m\u001b[0m\u001b[0;34m\u001b[0m\u001b[0m\n",
            "\u001b[0;32m/usr/local/lib/python3.7/dist-packages/google/colab/_message.py\u001b[0m in \u001b[0;36mblocking_request\u001b[0;34m(request_type, request, timeout_sec, parent)\u001b[0m\n\u001b[1;32m    173\u001b[0m   request_id = send_request(\n\u001b[1;32m    174\u001b[0m       request_type, request, parent=parent, expect_reply=True)\n\u001b[0;32m--> 175\u001b[0;31m   \u001b[0;32mreturn\u001b[0m \u001b[0mread_reply_from_input\u001b[0m\u001b[0;34m(\u001b[0m\u001b[0mrequest_id\u001b[0m\u001b[0;34m,\u001b[0m \u001b[0mtimeout_sec\u001b[0m\u001b[0;34m)\u001b[0m\u001b[0;34m\u001b[0m\u001b[0;34m\u001b[0m\u001b[0m\n\u001b[0m",
            "\u001b[0;32m/usr/local/lib/python3.7/dist-packages/google/colab/_message.py\u001b[0m in \u001b[0;36mread_reply_from_input\u001b[0;34m(message_id, timeout_sec)\u001b[0m\n\u001b[1;32m    104\u001b[0m         reply.get('colab_msg_id') == message_id):\n\u001b[1;32m    105\u001b[0m       \u001b[0;32mif\u001b[0m \u001b[0;34m'error'\u001b[0m \u001b[0;32min\u001b[0m \u001b[0mreply\u001b[0m\u001b[0;34m:\u001b[0m\u001b[0;34m\u001b[0m\u001b[0;34m\u001b[0m\u001b[0m\n\u001b[0;32m--> 106\u001b[0;31m         \u001b[0;32mraise\u001b[0m \u001b[0mMessageError\u001b[0m\u001b[0;34m(\u001b[0m\u001b[0mreply\u001b[0m\u001b[0;34m[\u001b[0m\u001b[0;34m'error'\u001b[0m\u001b[0;34m]\u001b[0m\u001b[0;34m)\u001b[0m\u001b[0;34m\u001b[0m\u001b[0;34m\u001b[0m\u001b[0m\n\u001b[0m\u001b[1;32m    107\u001b[0m       \u001b[0;32mreturn\u001b[0m \u001b[0mreply\u001b[0m\u001b[0;34m.\u001b[0m\u001b[0mget\u001b[0m\u001b[0;34m(\u001b[0m\u001b[0;34m'data'\u001b[0m\u001b[0;34m,\u001b[0m \u001b[0;32mNone\u001b[0m\u001b[0;34m)\u001b[0m\u001b[0;34m\u001b[0m\u001b[0;34m\u001b[0m\u001b[0m\n\u001b[1;32m    108\u001b[0m \u001b[0;34m\u001b[0m\u001b[0m\n",
            "\u001b[0;31mMessageError\u001b[0m: Error: credential propagation was unsuccessful"
          ]
        }
      ],
      "source": [
        "from google.colab import drive\n",
        "drive.mount('/content/drive')\n",
        "# Test it\n",
        "!ls '/content/drive/My Drive'"
      ]
    },
    {
      "cell_type": "code",
      "execution_count": 3,
      "metadata": {
        "id": "JFScgdguCNeN"
      },
      "outputs": [],
      "source": [
        "from google.colab import files # Para manejar los archivos y, por ejemplo, exportar a su navegador\n",
        "import glob # Para manejar los archivos y, por ejemplo, exportar a su navegador\n",
        "from google.colab import drive # Montar tu Google drive"
      ]
    },
    {
      "cell_type": "markdown",
      "metadata": {
        "id": "eQr1eQM0CNeO"
      },
      "source": [
        "# Modelos de Regresión Lineal\n",
        "## Modelo con datos simulados\n",
        "* y = a + b * x\n",
        "* X : 100 valores distribuídos según una N(1.5, 2.5)\n",
        "* Ye = 5 + 1.8 * x + e\n",
        "* e estará distribuído según una N(0, 0.8)"
      ]
    },
    {
      "cell_type": "code",
      "execution_count": 4,
      "metadata": {
        "id": "hTbiUfUfCNeP"
      },
      "outputs": [],
      "source": [
        "import pandas as pd\n",
        "import numpy as np"
      ]
    },
    {
      "cell_type": "code",
      "execution_count": 5,
      "metadata": {
        "id": "O3ptvsUHCNeQ"
      },
      "outputs": [],
      "source": [
        "x = 1.5 + 2.5 * np.random.randn(100)"
      ]
    },
    {
      "cell_type": "code",
      "execution_count": 6,
      "metadata": {
        "id": "NeVoF2e1CNeR"
      },
      "outputs": [],
      "source": [
        "res = 0 + 0.8 * np.random.randn(100)"
      ]
    },
    {
      "cell_type": "code",
      "execution_count": 7,
      "metadata": {
        "id": "WCDxY4ukCNeS"
      },
      "outputs": [],
      "source": [
        "y_pred = 5 + 1.8 * x"
      ]
    },
    {
      "cell_type": "code",
      "execution_count": 8,
      "metadata": {
        "id": "hIo5hI16CNeT"
      },
      "outputs": [],
      "source": [
        "y_act = 5 + 1.8 * x + res"
      ]
    },
    {
      "cell_type": "code",
      "execution_count": 9,
      "metadata": {
        "id": "zsGiyCyaCNeT"
      },
      "outputs": [],
      "source": [
        "x_list = x.tolist() # Para formar el dataset\n",
        "y_pred_list = y_pred.tolist()\n",
        "y_act_list = y_act.tolist()"
      ]
    },
    {
      "cell_type": "code",
      "execution_count": 11,
      "metadata": {
        "id": "KrffLa4xCNeT"
      },
      "outputs": [],
      "source": [
        "#Construyendo el dataset\n",
        "data = pd.DataFrame(\n",
        "    {\n",
        "        \"x\":x_list,\n",
        "        \"y_actual\":y_act_list,\n",
        "        \"y_prediccion\":y_pred_list\n",
        "    }\n",
        ")"
      ]
    },
    {
      "cell_type": "code",
      "execution_count": 12,
      "metadata": {
        "id": "O7tPt_6BCNeU",
        "outputId": "829d4d25-4c9a-4463-c614-9fc36daea2df",
        "colab": {
          "base_uri": "https://localhost:8080/",
          "height": 206
        }
      },
      "outputs": [
        {
          "output_type": "execute_result",
          "data": {
            "text/plain": [
              "          x   y_actual  y_prediccion\n",
              "0  0.601661   6.490912      6.082990\n",
              "1  4.054194  12.604368     12.297549\n",
              "2  0.674313   6.196706      6.213764\n",
              "3 -2.019747   2.946566      1.364455\n",
              "4  0.517553   6.521297      5.931595"
            ],
            "text/html": [
              "\n",
              "  <div id=\"df-0d49c1d5-2859-4b7d-b40a-e317dde06050\">\n",
              "    <div class=\"colab-df-container\">\n",
              "      <div>\n",
              "<style scoped>\n",
              "    .dataframe tbody tr th:only-of-type {\n",
              "        vertical-align: middle;\n",
              "    }\n",
              "\n",
              "    .dataframe tbody tr th {\n",
              "        vertical-align: top;\n",
              "    }\n",
              "\n",
              "    .dataframe thead th {\n",
              "        text-align: right;\n",
              "    }\n",
              "</style>\n",
              "<table border=\"1\" class=\"dataframe\">\n",
              "  <thead>\n",
              "    <tr style=\"text-align: right;\">\n",
              "      <th></th>\n",
              "      <th>x</th>\n",
              "      <th>y_actual</th>\n",
              "      <th>y_prediccion</th>\n",
              "    </tr>\n",
              "  </thead>\n",
              "  <tbody>\n",
              "    <tr>\n",
              "      <th>0</th>\n",
              "      <td>0.601661</td>\n",
              "      <td>6.490912</td>\n",
              "      <td>6.082990</td>\n",
              "    </tr>\n",
              "    <tr>\n",
              "      <th>1</th>\n",
              "      <td>4.054194</td>\n",
              "      <td>12.604368</td>\n",
              "      <td>12.297549</td>\n",
              "    </tr>\n",
              "    <tr>\n",
              "      <th>2</th>\n",
              "      <td>0.674313</td>\n",
              "      <td>6.196706</td>\n",
              "      <td>6.213764</td>\n",
              "    </tr>\n",
              "    <tr>\n",
              "      <th>3</th>\n",
              "      <td>-2.019747</td>\n",
              "      <td>2.946566</td>\n",
              "      <td>1.364455</td>\n",
              "    </tr>\n",
              "    <tr>\n",
              "      <th>4</th>\n",
              "      <td>0.517553</td>\n",
              "      <td>6.521297</td>\n",
              "      <td>5.931595</td>\n",
              "    </tr>\n",
              "  </tbody>\n",
              "</table>\n",
              "</div>\n",
              "      <button class=\"colab-df-convert\" onclick=\"convertToInteractive('df-0d49c1d5-2859-4b7d-b40a-e317dde06050')\"\n",
              "              title=\"Convert this dataframe to an interactive table.\"\n",
              "              style=\"display:none;\">\n",
              "        \n",
              "  <svg xmlns=\"http://www.w3.org/2000/svg\" height=\"24px\"viewBox=\"0 0 24 24\"\n",
              "       width=\"24px\">\n",
              "    <path d=\"M0 0h24v24H0V0z\" fill=\"none\"/>\n",
              "    <path d=\"M18.56 5.44l.94 2.06.94-2.06 2.06-.94-2.06-.94-.94-2.06-.94 2.06-2.06.94zm-11 1L8.5 8.5l.94-2.06 2.06-.94-2.06-.94L8.5 2.5l-.94 2.06-2.06.94zm10 10l.94 2.06.94-2.06 2.06-.94-2.06-.94-.94-2.06-.94 2.06-2.06.94z\"/><path d=\"M17.41 7.96l-1.37-1.37c-.4-.4-.92-.59-1.43-.59-.52 0-1.04.2-1.43.59L10.3 9.45l-7.72 7.72c-.78.78-.78 2.05 0 2.83L4 21.41c.39.39.9.59 1.41.59.51 0 1.02-.2 1.41-.59l7.78-7.78 2.81-2.81c.8-.78.8-2.07 0-2.86zM5.41 20L4 18.59l7.72-7.72 1.47 1.35L5.41 20z\"/>\n",
              "  </svg>\n",
              "      </button>\n",
              "      \n",
              "  <style>\n",
              "    .colab-df-container {\n",
              "      display:flex;\n",
              "      flex-wrap:wrap;\n",
              "      gap: 12px;\n",
              "    }\n",
              "\n",
              "    .colab-df-convert {\n",
              "      background-color: #E8F0FE;\n",
              "      border: none;\n",
              "      border-radius: 50%;\n",
              "      cursor: pointer;\n",
              "      display: none;\n",
              "      fill: #1967D2;\n",
              "      height: 32px;\n",
              "      padding: 0 0 0 0;\n",
              "      width: 32px;\n",
              "    }\n",
              "\n",
              "    .colab-df-convert:hover {\n",
              "      background-color: #E2EBFA;\n",
              "      box-shadow: 0px 1px 2px rgba(60, 64, 67, 0.3), 0px 1px 3px 1px rgba(60, 64, 67, 0.15);\n",
              "      fill: #174EA6;\n",
              "    }\n",
              "\n",
              "    [theme=dark] .colab-df-convert {\n",
              "      background-color: #3B4455;\n",
              "      fill: #D2E3FC;\n",
              "    }\n",
              "\n",
              "    [theme=dark] .colab-df-convert:hover {\n",
              "      background-color: #434B5C;\n",
              "      box-shadow: 0px 1px 3px 1px rgba(0, 0, 0, 0.15);\n",
              "      filter: drop-shadow(0px 1px 2px rgba(0, 0, 0, 0.3));\n",
              "      fill: #FFFFFF;\n",
              "    }\n",
              "  </style>\n",
              "\n",
              "      <script>\n",
              "        const buttonEl =\n",
              "          document.querySelector('#df-0d49c1d5-2859-4b7d-b40a-e317dde06050 button.colab-df-convert');\n",
              "        buttonEl.style.display =\n",
              "          google.colab.kernel.accessAllowed ? 'block' : 'none';\n",
              "\n",
              "        async function convertToInteractive(key) {\n",
              "          const element = document.querySelector('#df-0d49c1d5-2859-4b7d-b40a-e317dde06050');\n",
              "          const dataTable =\n",
              "            await google.colab.kernel.invokeFunction('convertToInteractive',\n",
              "                                                     [key], {});\n",
              "          if (!dataTable) return;\n",
              "\n",
              "          const docLinkHtml = 'Like what you see? Visit the ' +\n",
              "            '<a target=\"_blank\" href=https://colab.research.google.com/notebooks/data_table.ipynb>data table notebook</a>'\n",
              "            + ' to learn more about interactive tables.';\n",
              "          element.innerHTML = '';\n",
              "          dataTable['output_type'] = 'display_data';\n",
              "          await google.colab.output.renderOutput(dataTable, element);\n",
              "          const docLink = document.createElement('div');\n",
              "          docLink.innerHTML = docLinkHtml;\n",
              "          element.appendChild(docLink);\n",
              "        }\n",
              "      </script>\n",
              "    </div>\n",
              "  </div>\n",
              "  "
            ]
          },
          "metadata": {},
          "execution_count": 12
        }
      ],
      "source": [
        "data.head()"
      ]
    },
    {
      "cell_type": "code",
      "execution_count": 13,
      "metadata": {
        "id": "1fEXPFmQCNeV"
      },
      "outputs": [],
      "source": [
        "import matplotlib.pyplot as plt"
      ]
    },
    {
      "cell_type": "code",
      "execution_count": 14,
      "metadata": {
        "id": "u4qG7U3HCNeW"
      },
      "outputs": [],
      "source": [
        "y_mean = [np.mean(y_act) for i in range(1, len(x_list) + 1)]"
      ]
    },
    {
      "cell_type": "code",
      "execution_count": 15,
      "metadata": {
        "id": "rl6U7UPLCNeW",
        "outputId": "a7595fae-9006-4e28-bbc5-38e8bfbc1381",
        "colab": {
          "base_uri": "https://localhost:8080/",
          "height": 299
        }
      },
      "outputs": [
        {
          "output_type": "execute_result",
          "data": {
            "text/plain": [
              "Text(0.5, 1.0, 'Valor Actual vs Predicción')"
            ]
          },
          "metadata": {},
          "execution_count": 15
        },
        {
          "output_type": "display_data",
          "data": {
            "text/plain": [
              "<Figure size 432x288 with 1 Axes>"
            ],
            "image/png": "[encoded data removed]"
          },
          "metadata": {
            "needs_background": "light"
          }
        }
      ],
      "source": [
        "%matplotlib inline\n",
        "plt.plot(data[\"x\"],data[\"y_prediccion\"])\n",
        "plt.plot(data[\"x\"], data[\"y_actual\"], \"ro\")\n",
        "plt.plot(data[\"x\"],y_mean, \"g\")\n",
        "plt.title(\"Valor Actual vs Predicción\")"
      ]
    },
    {
      "cell_type": "markdown",
      "metadata": {
        "id": "PRHjwfjYCNeX"
      },
      "source": [
        "## ¿Como es la predicción de buena?\n",
        "* SST = SSD + SSR\n",
        "* SST : Variabilidad de los datos con respecto de su media\n",
        "* SSD : Diferencia entre los datos originales y las predicciones que el modelo no es capaz de explicar (errores que deberían seguir una distribución normal)\n",
        "* SSR : Diferencia entre la regresión y el valor medio que el modelo busca explicar\n",
        "* $R^2$ = SSR / SST, coeficiente de determinación entre 0 y 1"
      ]
    },
    {
      "cell_type": "code",
      "execution_count": 16,
      "metadata": {
        "id": "XSy5-Lj-CNeX"
      },
      "outputs": [],
      "source": [
        "y_m = np.mean(y_act)\n",
        "data[\"SSR\"]=(data[\"y_prediccion\"]-y_m)**2\n",
        "data[\"SSD\"]=(data[\"y_prediccion\"]-data[\"y_actual\"])**2\n",
        "data[\"SST\"]=(data[\"y_actual\"]-y_m)**2"
      ]
    },
    {
      "cell_type": "code",
      "execution_count": 17,
      "metadata": {
        "id": "jkPkGL65CNeY",
        "outputId": "d8c12bc3-197c-441e-f824-2865e73b975b",
        "colab": {
          "base_uri": "https://localhost:8080/",
          "height": 206
        }
      },
      "outputs": [
        {
          "output_type": "execute_result",
          "data": {
            "text/plain": [
              "          x   y_actual  y_prediccion        SSR       SSD        SST\n",
              "0  0.601661   6.490912      6.082990   0.798721  0.166401   0.235992\n",
              "1  4.054194  12.604368     12.297549  28.311415  0.094138  31.670625\n",
              "2  0.674313   6.196706      6.213764   0.582074  0.000291   0.608392\n",
              "3 -2.019747   2.946566      1.364455  31.497307  2.503072  16.241997\n",
              "4  0.517553   6.521297      5.931595   1.092248  0.347749   0.207393"
            ],
            "text/html": [
              "\n",
              "  <div id=\"df-644ae43c-a9fd-4da0-b310-9ec42808cc22\">\n",
              "    <div class=\"colab-df-container\">\n",
              "      <div>\n",
              "<style scoped>\n",
              "    .dataframe tbody tr th:only-of-type {\n",
              "        vertical-align: middle;\n",
              "    }\n",
              "\n",
              "    .dataframe tbody tr th {\n",
              "        vertical-align: top;\n",
              "    }\n",
              "\n",
              "    .dataframe thead th {\n",
              "        text-align: right;\n",
              "    }\n",
              "</style>\n",
              "<table border=\"1\" class=\"dataframe\">\n",
              "  <thead>\n",
              "    <tr style=\"text-align: right;\">\n",
              "      <th></th>\n",
              "      <th>x</th>\n",
              "      <th>y_actual</th>\n",
              "      <th>y_prediccion</th>\n",
              "      <th>SSR</th>\n",
              "      <th>SSD</th>\n",
              "      <th>SST</th>\n",
              "    </tr>\n",
              "  </thead>\n",
              "  <tbody>\n",
              "    <tr>\n",
              "      <th>0</th>\n",
              "      <td>0.601661</td>\n",
              "      <td>6.490912</td>\n",
              "      <td>6.082990</td>\n",
              "      <td>0.798721</td>\n",
              "      <td>0.166401</td>\n",
              "      <td>0.235992</td>\n",
              "    </tr>\n",
              "    <tr>\n",
              "      <th>1</th>\n",
              "      <td>4.054194</td>\n",
              "      <td>12.604368</td>\n",
              "      <td>12.297549</td>\n",
              "      <td>28.311415</td>\n",
              "      <td>0.094138</td>\n",
              "      <td>31.670625</td>\n",
              "    </tr>\n",
              "    <tr>\n",
              "      <th>2</th>\n",
              "      <td>0.674313</td>\n",
              "      <td>6.196706</td>\n",
              "      <td>6.213764</td>\n",
              "      <td>0.582074</td>\n",
              "      <td>0.000291</td>\n",
              "      <td>0.608392</td>\n",
              "    </tr>\n",
              "    <tr>\n",
              "      <th>3</th>\n",
              "      <td>-2.019747</td>\n",
              "      <td>2.946566</td>\n",
              "      <td>1.364455</td>\n",
              "      <td>31.497307</td>\n",
              "      <td>2.503072</td>\n",
              "      <td>16.241997</td>\n",
              "    </tr>\n",
              "    <tr>\n",
              "      <th>4</th>\n",
              "      <td>0.517553</td>\n",
              "      <td>6.521297</td>\n",
              "      <td>5.931595</td>\n",
              "      <td>1.092248</td>\n",
              "      <td>0.347749</td>\n",
              "      <td>0.207393</td>\n",
              "    </tr>\n",
              "  </tbody>\n",
              "</table>\n",
              "</div>\n",
              "      <button class=\"colab-df-convert\" onclick=\"convertToInteractive('df-644ae43c-a9fd-4da0-b310-9ec42808cc22')\"\n",
              "              title=\"Convert this dataframe to an interactive table.\"\n",
              "              style=\"display:none;\">\n",
              "        \n",
              "  <svg xmlns=\"http://www.w3.org/2000/svg\" height=\"24px\"viewBox=\"0 0 24 24\"\n",
              "       width=\"24px\">\n",
              "    <path d=\"M0 0h24v24H0V0z\" fill=\"none\"/>\n",
              "    <path d=\"M18.56 5.44l.94 2.06.94-2.06 2.06-.94-2.06-.94-.94-2.06-.94 2.06-2.06.94zm-11 1L8.5 8.5l.94-2.06 2.06-.94-2.06-.94L8.5 2.5l-.94 2.06-2.06.94zm10 10l.94 2.06.94-2.06 2.06-.94-2.06-.94-.94-2.06-.94 2.06-2.06.94z\"/><path d=\"M17.41 7.96l-1.37-1.37c-.4-.4-.92-.59-1.43-.59-.52 0-1.04.2-1.43.59L10.3 9.45l-7.72 7.72c-.78.78-.78 2.05 0 2.83L4 21.41c.39.39.9.59 1.41.59.51 0 1.02-.2 1.41-.59l7.78-7.78 2.81-2.81c.8-.78.8-2.07 0-2.86zM5.41 20L4 18.59l7.72-7.72 1.47 1.35L5.41 20z\"/>\n",
              "  </svg>\n",
              "      </button>\n",
              "      \n",
              "  <style>\n",
              "    .colab-df-container {\n",
              "      display:flex;\n",
              "      flex-wrap:wrap;\n",
              "      gap: 12px;\n",
              "    }\n",
              "\n",
              "    .colab-df-convert {\n",
              "      background-color: #E8F0FE;\n",
              "      border: none;\n",
              "      border-radius: 50%;\n",
              "      cursor: pointer;\n",
              "      display: none;\n",
              "      fill: #1967D2;\n",
              "      height: 32px;\n",
              "      padding: 0 0 0 0;\n",
              "      width: 32px;\n",
              "    }\n",
              "\n",
              "    .colab-df-convert:hover {\n",
              "      background-color: #E2EBFA;\n",
              "      box-shadow: 0px 1px 2px rgba(60, 64, 67, 0.3), 0px 1px 3px 1px rgba(60, 64, 67, 0.15);\n",
              "      fill: #174EA6;\n",
              "    }\n",
              "\n",
              "    [theme=dark] .colab-df-convert {\n",
              "      background-color: #3B4455;\n",
              "      fill: #D2E3FC;\n",
              "    }\n",
              "\n",
              "    [theme=dark] .colab-df-convert:hover {\n",
              "      background-color: #434B5C;\n",
              "      box-shadow: 0px 1px 3px 1px rgba(0, 0, 0, 0.15);\n",
              "      filter: drop-shadow(0px 1px 2px rgba(0, 0, 0, 0.3));\n",
              "      fill: #FFFFFF;\n",
              "    }\n",
              "  </style>\n",
              "\n",
              "      <script>\n",
              "        const buttonEl =\n",
              "          document.querySelector('#df-644ae43c-a9fd-4da0-b310-9ec42808cc22 button.colab-df-convert');\n",
              "        buttonEl.style.display =\n",
              "          google.colab.kernel.accessAllowed ? 'block' : 'none';\n",
              "\n",
              "        async function convertToInteractive(key) {\n",
              "          const element = document.querySelector('#df-644ae43c-a9fd-4da0-b310-9ec42808cc22');\n",
              "          const dataTable =\n",
              "            await google.colab.kernel.invokeFunction('convertToInteractive',\n",
              "                                                     [key], {});\n",
              "          if (!dataTable) return;\n",
              "\n",
              "          const docLinkHtml = 'Like what you see? Visit the ' +\n",
              "            '<a target=\"_blank\" href=https://colab.research.google.com/notebooks/data_table.ipynb>data table notebook</a>'\n",
              "            + ' to learn more about interactive tables.';\n",
              "          element.innerHTML = '';\n",
              "          dataTable['output_type'] = 'display_data';\n",
              "          await google.colab.output.renderOutput(dataTable, element);\n",
              "          const docLink = document.createElement('div');\n",
              "          docLink.innerHTML = docLinkHtml;\n",
              "          element.appendChild(docLink);\n",
              "        }\n",
              "      </script>\n",
              "    </div>\n",
              "  </div>\n",
              "  "
            ]
          },
          "metadata": {},
          "execution_count": 17
        }
      ],
      "source": [
        "data.head()"
      ]
    },
    {
      "cell_type": "code",
      "execution_count": 18,
      "metadata": {
        "id": "YLTCzgUYCNeY"
      },
      "outputs": [],
      "source": [
        "SSR = sum(data[\"SSR\"])\n",
        "SSD = sum(data[\"SSD\"])\n",
        "SST = sum(data[\"SST\"])"
      ]
    },
    {
      "cell_type": "code",
      "execution_count": 19,
      "metadata": {
        "id": "WI_x6zjiCNeZ",
        "outputId": "0af83a5b-a5fc-4057-f4f0-b4b4fc83b710",
        "colab": {
          "base_uri": "https://localhost:8080/"
        }
      },
      "outputs": [
        {
          "output_type": "execute_result",
          "data": {
            "text/plain": [
              "2439.119550627548"
            ]
          },
          "metadata": {},
          "execution_count": 19
        }
      ],
      "source": [
        "SSR"
      ]
    },
    {
      "cell_type": "code",
      "execution_count": 20,
      "metadata": {
        "id": "OGEWfvL9CNeZ",
        "outputId": "83bc6204-8cbb-4824-e77b-b27d4bc0f835",
        "colab": {
          "base_uri": "https://localhost:8080/"
        }
      },
      "outputs": [
        {
          "output_type": "execute_result",
          "data": {
            "text/plain": [
              "75.48163657775395"
            ]
          },
          "metadata": {},
          "execution_count": 20
        }
      ],
      "source": [
        "SSD"
      ]
    },
    {
      "cell_type": "code",
      "execution_count": 21,
      "metadata": {
        "id": "tJ2VqGccCNeZ",
        "outputId": "71eeef16-c3c2-4fc3-e1a2-acad7303a660",
        "colab": {
          "base_uri": "https://localhost:8080/"
        }
      },
      "outputs": [
        {
          "output_type": "execute_result",
          "data": {
            "text/plain": [
              "2443.2726796351976"
            ]
          },
          "metadata": {},
          "execution_count": 21
        }
      ],
      "source": [
        "SST"
      ]
    },
    {
      "cell_type": "code",
      "execution_count": 22,
      "metadata": {
        "id": "KTmn57UWCNea",
        "outputId": "2d399dd8-a289-43d5-b8d6-0b679c216541",
        "colab": {
          "base_uri": "https://localhost:8080/"
        }
      },
      "outputs": [
        {
          "output_type": "execute_result",
          "data": {
            "text/plain": [
              "2514.601187205302"
            ]
          },
          "metadata": {},
          "execution_count": 22
        }
      ],
      "source": [
        "SSR+SSD"
      ]
    },
    {
      "cell_type": "code",
      "execution_count": 23,
      "metadata": {
        "id": "BzNH_eKKCNea"
      },
      "outputs": [],
      "source": [
        "R2 = SSR/SST"
      ]
    },
    {
      "cell_type": "code",
      "execution_count": 24,
      "metadata": {
        "id": "6JBGg2unCNea",
        "outputId": "3c701d83-6db9-4c51-bf41-5fd2fd57962a",
        "colab": {
          "base_uri": "https://localhost:8080/"
        }
      },
      "outputs": [
        {
          "output_type": "execute_result",
          "data": {
            "text/plain": [
              "0.9983001778547822"
            ]
          },
          "metadata": {},
          "execution_count": 24
        }
      ],
      "source": [
        "R2"
      ]
    },
    {
      "cell_type": "code",
      "execution_count": 25,
      "metadata": {
        "id": "z0ZV6h8BCNeb",
        "outputId": "8af8785d-1edd-4495-b67a-1c9ed3987f2a",
        "colab": {
          "base_uri": "https://localhost:8080/",
          "height": 357
        }
      },
      "outputs": [
        {
          "output_type": "execute_result",
          "data": {
            "text/plain": [
              "(array([ 8., 14., 21., 26., 18.,  9.,  2.,  1.,  0.,  1.]),\n",
              " array([-1.71746778, -1.19163409, -0.66580041, -0.13996673,  0.38586695,\n",
              "         0.91170063,  1.43753431,  1.963368  ,  2.48920168,  3.01503536,\n",
              "         3.54086904]),\n",
              " <a list of 10 Patch objects>)"
            ]
          },
          "metadata": {},
          "execution_count": 25
        },
        {
          "output_type": "display_data",
          "data": {
            "text/plain": [
              "<Figure size 432x288 with 1 Axes>"
            ],
            "image/png": "[encoded data removed]"
          },
          "metadata": {
            "needs_background": "light"
          }
        }
      ],
      "source": [
        "plt.hist(data[\"y_prediccion\"]-data[\"y_actual\"])"
      ]
    },
    {
      "cell_type": "markdown",
      "metadata": {
        "id": "rsk39s13CNeb"
      },
      "source": [
        "## Obteniendo la recta de regresión \n",
        "\n",
        "* y = a + b * x\n",
        "* b = sum((xi - x_m)*(y_i-y_m))/sum((xi-x_m)^2)\n",
        "* a = y_m - b * x_m"
      ]
    },
    {
      "cell_type": "code",
      "execution_count": null,
      "metadata": {
        "id": "wF4SXgi1CNeb",
        "outputId": "6c1d89ae-fa38-4e7e-ff93-f08be52b0d2f"
      },
      "outputs": [
        {
          "data": {
            "text/plain": [
              "(1.4295087271088212, 5.4293119653299815)"
            ]
          },
          "execution_count": 22,
          "metadata": {},
          "output_type": "execute_result"
        }
      ],
      "source": [
        "x_mean = np.mean(data[\"x\"])\n",
        "y_mean = np.mean(data[\"y_actual\"])\n",
        "x_mean, y_mean"
      ]
    },
    {
      "cell_type": "code",
      "execution_count": null,
      "metadata": {
        "id": "zQHz9aJACNec"
      },
      "outputs": [],
      "source": [
        "data[\"beta_n\"] = (data[\"x\"]-x_mean)*(data[\"y_actual\"]-y_mean)\n",
        "data[\"beta_d\"] = (data[\"x\"]-x_mean)**2"
      ]
    },
    {
      "cell_type": "code",
      "execution_count": null,
      "metadata": {
        "id": "kTU6-d_jCNec"
      },
      "outputs": [],
      "source": [
        "beta = sum(data[\"beta_n\"])/sum(data[\"beta_d\"])"
      ]
    },
    {
      "cell_type": "code",
      "execution_count": null,
      "metadata": {
        "id": "h7f2csn_CNec"
      },
      "outputs": [],
      "source": [
        "alpha = y_mean - beta * x_mean"
      ]
    },
    {
      "cell_type": "code",
      "execution_count": null,
      "metadata": {
        "id": "NOq3exrbCNec",
        "outputId": "b3c06853-2502-4bc7-ccab-9c9c5a61cb2d"
      },
      "outputs": [
        {
          "data": {
            "text/plain": [
              "(5.019817505840673, 0.28645817386334554)"
            ]
          },
          "execution_count": 26,
          "metadata": {},
          "output_type": "execute_result"
        }
      ],
      "source": [
        "alpha, beta"
      ]
    },
    {
      "cell_type": "markdown",
      "metadata": {
        "id": "OU5ipi8MCNed"
      },
      "source": [
        "El modelo lineal obtenido por regresión es:\n",
        "y = 5.042341442370516 + 1.9044490309709992 * x"
      ]
    },
    {
      "cell_type": "code",
      "execution_count": null,
      "metadata": {
        "id": "FhHZFHHhCNed"
      },
      "outputs": [],
      "source": [
        "data[\"y_model\"] = alpha + beta * data[\"x\"]"
      ]
    },
    {
      "cell_type": "code",
      "execution_count": null,
      "metadata": {
        "id": "wDcPMqH9CNed",
        "outputId": "7066f043-3d79-4f76-c201-43fdb83e003f"
      },
      "outputs": [
        {
          "data": {
            "text/html": [
              "<div>\n",
              "<style scoped>\n",
              "    .dataframe tbody tr th:only-of-type {\n",
              "        vertical-align: middle;\n",
              "    }\n",
              "\n",
              "    .dataframe tbody tr th {\n",
              "        vertical-align: top;\n",
              "    }\n",
              "\n",
              "    .dataframe thead th {\n",
              "        text-align: right;\n",
              "    }\n",
              "</style>\n",
              "<table border=\"1\" class=\"dataframe\">\n",
              "  <thead>\n",
              "    <tr style=\"text-align: right;\">\n",
              "      <th></th>\n",
              "      <th>x</th>\n",
              "      <th>y_actual</th>\n",
              "      <th>y_prediccion</th>\n",
              "      <th>SSR</th>\n",
              "      <th>SSD</th>\n",
              "      <th>SST</th>\n",
              "      <th>beta_n</th>\n",
              "      <th>beta_d</th>\n",
              "      <th>y_model</th>\n",
              "    </tr>\n",
              "  </thead>\n",
              "  <tbody>\n",
              "    <tr>\n",
              "      <th>0</th>\n",
              "      <td>0.445763</td>\n",
              "      <td>5.181348</td>\n",
              "      <td>5.133729</td>\n",
              "      <td>0.087369</td>\n",
              "      <td>0.002268</td>\n",
              "      <td>0.061486</td>\n",
              "      <td>0.243934</td>\n",
              "      <td>0.967756</td>\n",
              "      <td>5.147510</td>\n",
              "    </tr>\n",
              "    <tr>\n",
              "      <th>1</th>\n",
              "      <td>1.922469</td>\n",
              "      <td>6.190295</td>\n",
              "      <td>5.576741</td>\n",
              "      <td>0.021735</td>\n",
              "      <td>0.376449</td>\n",
              "      <td>0.579095</td>\n",
              "      <td>0.375135</td>\n",
              "      <td>0.243010</td>\n",
              "      <td>5.570525</td>\n",
              "    </tr>\n",
              "    <tr>\n",
              "      <th>2</th>\n",
              "      <td>0.756439</td>\n",
              "      <td>6.325118</td>\n",
              "      <td>5.226932</td>\n",
              "      <td>0.040958</td>\n",
              "      <td>1.206014</td>\n",
              "      <td>0.802469</td>\n",
              "      <td>-0.602940</td>\n",
              "      <td>0.453023</td>\n",
              "      <td>5.236506</td>\n",
              "    </tr>\n",
              "    <tr>\n",
              "      <th>3</th>\n",
              "      <td>1.758071</td>\n",
              "      <td>5.847538</td>\n",
              "      <td>5.527421</td>\n",
              "      <td>0.009625</td>\n",
              "      <td>0.102475</td>\n",
              "      <td>0.174913</td>\n",
              "      <td>0.137413</td>\n",
              "      <td>0.107953</td>\n",
              "      <td>5.523431</td>\n",
              "    </tr>\n",
              "    <tr>\n",
              "      <th>4</th>\n",
              "      <td>-1.579013</td>\n",
              "      <td>3.990324</td>\n",
              "      <td>4.526296</td>\n",
              "      <td>0.815438</td>\n",
              "      <td>0.287266</td>\n",
              "      <td>2.070686</td>\n",
              "      <td>4.329227</td>\n",
              "      <td>9.051206</td>\n",
              "      <td>4.567496</td>\n",
              "    </tr>\n",
              "  </tbody>\n",
              "</table>\n",
              "</div>"
            ],
            "text/plain": [
              "          x  y_actual  y_prediccion       SSR       SSD       SST    beta_n  \\\n",
              "0  0.445763  5.181348      5.133729  0.087369  0.002268  0.061486  0.243934   \n",
              "1  1.922469  6.190295      5.576741  0.021735  0.376449  0.579095  0.375135   \n",
              "2  0.756439  6.325118      5.226932  0.040958  1.206014  0.802469 -0.602940   \n",
              "3  1.758071  5.847538      5.527421  0.009625  0.102475  0.174913  0.137413   \n",
              "4 -1.579013  3.990324      4.526296  0.815438  0.287266  2.070686  4.329227   \n",
              "\n",
              "     beta_d   y_model  \n",
              "0  0.967756  5.147510  \n",
              "1  0.243010  5.570525  \n",
              "2  0.453023  5.236506  \n",
              "3  0.107953  5.523431  \n",
              "4  9.051206  4.567496  "
            ]
          },
          "execution_count": 28,
          "metadata": {},
          "output_type": "execute_result"
        }
      ],
      "source": [
        "data.head()"
      ]
    },
    {
      "cell_type": "code",
      "execution_count": null,
      "metadata": {
        "id": "6R75_g0WCNed"
      },
      "outputs": [],
      "source": [
        "SSR = sum((data[\"y_model\"]-y_mean)**2)\n",
        "SSD = sum((data[\"y_model\"]-data[\"y_actual\"])**2)\n",
        "SST = sum((data[\"y_actual\"]-y_mean)**2)"
      ]
    },
    {
      "cell_type": "code",
      "execution_count": null,
      "metadata": {
        "id": "klIjbbKvCNee",
        "outputId": "dace7d43-70e7-4587-990e-4e914696a2f6"
      },
      "outputs": [
        {
          "data": {
            "text/plain": [
              "(49.88237713027072, 51.328022863583286, 101.210399993854)"
            ]
          },
          "execution_count": 30,
          "metadata": {},
          "output_type": "execute_result"
        }
      ],
      "source": [
        "SSR, SSD, SST"
      ]
    },
    {
      "cell_type": "code",
      "execution_count": null,
      "metadata": {
        "id": "tWtCSxqUCNee",
        "outputId": "e4e5c025-8f92-49dd-94af-6b5dbd74d869"
      },
      "outputs": [
        {
          "data": {
            "text/plain": [
              "0.49285821549267494"
            ]
          },
          "execution_count": 31,
          "metadata": {},
          "output_type": "execute_result"
        }
      ],
      "source": [
        "R2 = SSR / SST\n",
        "R2"
      ]
    },
    {
      "cell_type": "code",
      "execution_count": null,
      "metadata": {
        "id": "ubzW2t4TCNee",
        "outputId": "1e5635f6-91de-405a-f26d-23d645a747a8"
      },
      "outputs": [
        {
          "data": {
            "text/plain": [
              "Text(0.5, 1.0, 'Valor Actual vs Predicción')"
            ]
          },
          "execution_count": 32,
          "metadata": {},
          "output_type": "execute_result"
        },
        {
          "data": {
            "image/png": "[encoded data removed]",
            "text/plain": [
              "<Figure size 432x288 with 1 Axes>"
            ]
          },
          "metadata": {
            "needs_background": "light"
          },
          "output_type": "display_data"
        }
      ],
      "source": [
        "y_mean = [np.mean(y_act) for i in range(1, len(x_list) + 1)]\n",
        "\n",
        "%matplotlib inline\n",
        "plt.plot(data[\"x\"],data[\"y_prediccion\"])\n",
        "plt.plot(data[\"x\"], data[\"y_actual\"], \"ro\")\n",
        "plt.plot(data[\"x\"],y_mean, \"g\")\n",
        "plt.plot(data[\"x\"], data[\"y_model\"])\n",
        "plt.title(\"Valor Actual vs Predicción\")"
      ]
    },
    {
      "cell_type": "markdown",
      "metadata": {
        "id": "G8GubUWHCNee"
      },
      "source": [
        "## Error estándar de los residuos (RSE)"
      ]
    },
    {
      "cell_type": "code",
      "execution_count": null,
      "metadata": {
        "id": "LJl7Ou5CCNef",
        "outputId": "f392c85e-3d88-4f6d-a712-13eea0685498"
      },
      "outputs": [
        {
          "data": {
            "text/plain": [
              "0.7237094274242161"
            ]
          },
          "execution_count": 33,
          "metadata": {},
          "output_type": "execute_result"
        }
      ],
      "source": [
        "RSE = np.sqrt(SSD/(len(data)-2))\n",
        "RSE"
      ]
    },
    {
      "cell_type": "code",
      "execution_count": null,
      "metadata": {
        "id": "6TxPhE35CNef",
        "outputId": "c63e8d45-84fc-4123-aa4a-f559a761e58d"
      },
      "outputs": [
        {
          "data": {
            "text/plain": [
              "5.4293119653299815"
            ]
          },
          "execution_count": 34,
          "metadata": {},
          "output_type": "execute_result"
        }
      ],
      "source": [
        "np.mean(data[\"y_actual\"])"
      ]
    },
    {
      "cell_type": "code",
      "execution_count": null,
      "metadata": {
        "id": "jKYMsVIlCNef",
        "outputId": "6f2f924e-88dd-4072-eac6-862586201d77"
      },
      "outputs": [
        {
          "data": {
            "text/plain": [
              "0.13329671089921072"
            ]
          },
          "execution_count": 35,
          "metadata": {},
          "output_type": "execute_result"
        }
      ],
      "source": [
        "RSE / np.mean(data[\"y_actual\"])"
      ]
    }
  ],
  "metadata": {
    "kernelspec": {
      "display_name": "Python 3",
      "language": "python",
      "name": "python3"
    },
    "language_info": {
      "codemirror_mode": {
        "name": "ipython",
        "version": 3
      },
      "file_extension": ".py",
      "mimetype": "text/x-python",
      "name": "python",
      "nbconvert_exporter": "python",
      "pygments_lexer": "ipython3",
      "version": "3.8.5"
    },
    "colab": {
      "name": "T4 - 1 - Linear Regression - Datos ficticios-Colab.ipynb",
      "provenance": [],
      "toc_visible": true
    }
  },
  "nbformat": 4,
  "nbformat_minor": 0
}