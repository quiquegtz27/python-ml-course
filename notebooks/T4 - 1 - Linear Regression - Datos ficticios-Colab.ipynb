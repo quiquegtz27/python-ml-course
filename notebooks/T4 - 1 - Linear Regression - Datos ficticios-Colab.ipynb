{
  "cells": [
    {
      "cell_type": "markdown",
      "metadata": {
        "id": "A9WApVTPK64j"
      },
      "source": [
        "<a href=\"https://colab.research.google.com/github/joanby/python-ml-course/blob/master/notebooks/T4%20-%201%20-%20Linear%20Regression%20-%20Datos%20ficticios-Colab.ipynb\" target=\"_parent\"><img src=\"https://colab.research.google.com/assets/colab-badge.svg\" alt=\"Open In Colab\"/></a>"
      ]
    },
    {
      "cell_type": "markdown",
      "metadata": {
        "id": "nUdx770BK64n"
      },
      "source": [
        "# Clonamos el repositorio para obtener los dataSet"
      ]
    },
    {
      "cell_type": "code",
      "execution_count": null,
      "metadata": {
        "id": "xXwzi7g6K64o"
      },
      "outputs": [],
      "source": [
        "!git clone https://github.com/joanby/python-ml-course.git"
      ]
    },
    {
      "cell_type": "markdown",
      "metadata": {
        "id": "wQ0LKet_K64q"
      },
      "source": [
        "# Damos acceso a nuestro Drive"
      ]
    },
    {
      "cell_type": "code",
      "execution_count": null,
      "metadata": {
        "id": "cOTAlqLqK64q"
      },
      "outputs": [],
      "source": [
        "from google.colab import drive\n",
        "drive.mount('/content/drive')\n",
        "# Test it\n",
        "!ls '/content/drive/My Drive'"
      ]
    },
    {
      "cell_type": "code",
      "execution_count": null,
      "metadata": {
        "id": "Ci6siEyaK64r"
      },
      "outputs": [],
      "source": [
        "from google.colab import files # Para manejar los archivos y, por ejemplo, exportar a su navegador\n",
        "import glob # Para manejar los archivos y, por ejemplo, exportar a su navegador\n",
        "from google.colab import drive # Montar tu Google drive"
      ]
    },
    {
      "cell_type": "markdown",
      "metadata": {
        "id": "yyI55p2SK64r"
      },
      "source": [
        "# Modelos de Regresión Lineal\n",
        "## Modelo con datos simulados\n",
        "* y = a + b * x\n",
        "* X : 100 valores distribuídos según una N(1.5, 2.5)\n",
        "* Ye = 5 + 1.9 * x + e\n",
        "* e estará distribuído según una N(0, 0.8)"
      ]
    },
    {
      "cell_type": "code",
      "execution_count": 2,
      "metadata": {
        "id": "obDDdAVcK64s"
      },
      "outputs": [],
      "source": [
        "import pandas as pd\n",
        "import numpy as np"
      ]
    },
    {
      "cell_type": "code",
      "execution_count": 3,
      "metadata": {
        "id": "21IgQ3wBK64t"
      },
      "outputs": [],
      "source": [
        "x = 1.5 + 2.5 * np.random.randn(100)"
      ]
    },
    {
      "cell_type": "code",
      "execution_count": 4,
      "metadata": {
        "id": "hap5H-S_K64u"
      },
      "outputs": [],
      "source": [
        "res = 0 + 0.8 * np.random.randn(100)"
      ]
    },
    {
      "cell_type": "code",
      "execution_count": 5,
      "metadata": {
        "id": "7M0AF_p3K64u"
      },
      "outputs": [],
      "source": [
        "y_pred = 5 + 0.3 * x"
      ]
    },
    {
      "cell_type": "code",
      "execution_count": 6,
      "metadata": {
        "id": "xA2lGfDTK64v"
      },
      "outputs": [],
      "source": [
        "y_act = 5 + 0.3 * x + res"
      ]
    },
    {
      "cell_type": "code",
      "execution_count": 7,
      "metadata": {
        "id": "iZ4c2vDzK64v"
      },
      "outputs": [],
      "source": [
        "x_list = x.tolist()\n",
        "y_pred_list = y_pred.tolist()\n",
        "y_act_list = y_act.tolist()"
      ]
    },
    {
      "cell_type": "code",
      "execution_count": 8,
      "metadata": {
        "id": "EIyksgMhK64v"
      },
      "outputs": [],
      "source": [
        "data = pd.DataFrame(\n",
        "    {\n",
        "        \"x\":x_list,\n",
        "        \"y_actual\":y_act_list,\n",
        "        \"y_prediccion\":y_pred_list\n",
        "    }\n",
        ")"
      ]
    },
    {
      "cell_type": "code",
      "execution_count": 9,
      "metadata": {
        "id": "b9gKZG2uK64w",
        "outputId": "6091aa10-60f1-4292-de24-e2cf6e889fca",
        "colab": {
          "base_uri": "https://localhost:8080/",
          "height": 206
        }
      },
      "outputs": [
        {
          "output_type": "execute_result",
          "data": {
            "text/plain": [
              "          x  y_actual  y_prediccion\n",
              "0  0.510688  3.129858      5.153206\n",
              "1  2.599950  4.719378      5.779985\n",
              "2  0.384280  3.770460      5.115284\n",
              "3 -0.295036  3.917531      4.911489\n",
              "4  0.666584  4.751123      5.199975"
            ],
            "text/html": [
              "\n",
              "  <div id=\"df-68bd6aec-7f54-4f9b-a4f8-dfd9f186035c\">\n",
              "    <div class=\"colab-df-container\">\n",
              "      <div>\n",
              "<style scoped>\n",
              "    .dataframe tbody tr th:only-of-type {\n",
              "        vertical-align: middle;\n",
              "    }\n",
              "\n",
              "    .dataframe tbody tr th {\n",
              "        vertical-align: top;\n",
              "    }\n",
              "\n",
              "    .dataframe thead th {\n",
              "        text-align: right;\n",
              "    }\n",
              "</style>\n",
              "<table border=\"1\" class=\"dataframe\">\n",
              "  <thead>\n",
              "    <tr style=\"text-align: right;\">\n",
              "      <th></th>\n",
              "      <th>x</th>\n",
              "      <th>y_actual</th>\n",
              "      <th>y_prediccion</th>\n",
              "    </tr>\n",
              "  </thead>\n",
              "  <tbody>\n",
              "    <tr>\n",
              "      <th>0</th>\n",
              "      <td>0.510688</td>\n",
              "      <td>3.129858</td>\n",
              "      <td>5.153206</td>\n",
              "    </tr>\n",
              "    <tr>\n",
              "      <th>1</th>\n",
              "      <td>2.599950</td>\n",
              "      <td>4.719378</td>\n",
              "      <td>5.779985</td>\n",
              "    </tr>\n",
              "    <tr>\n",
              "      <th>2</th>\n",
              "      <td>0.384280</td>\n",
              "      <td>3.770460</td>\n",
              "      <td>5.115284</td>\n",
              "    </tr>\n",
              "    <tr>\n",
              "      <th>3</th>\n",
              "      <td>-0.295036</td>\n",
              "      <td>3.917531</td>\n",
              "      <td>4.911489</td>\n",
              "    </tr>\n",
              "    <tr>\n",
              "      <th>4</th>\n",
              "      <td>0.666584</td>\n",
              "      <td>4.751123</td>\n",
              "      <td>5.199975</td>\n",
              "    </tr>\n",
              "  </tbody>\n",
              "</table>\n",
              "</div>\n",
              "      <button class=\"colab-df-convert\" onclick=\"convertToInteractive('df-68bd6aec-7f54-4f9b-a4f8-dfd9f186035c')\"\n",
              "              title=\"Convert this dataframe to an interactive table.\"\n",
              "              style=\"display:none;\">\n",
              "        \n",
              "  <svg xmlns=\"http://www.w3.org/2000/svg\" height=\"24px\"viewBox=\"0 0 24 24\"\n",
              "       width=\"24px\">\n",
              "    <path d=\"M0 0h24v24H0V0z\" fill=\"none\"/>\n",
              "    <path d=\"M18.56 5.44l.94 2.06.94-2.06 2.06-.94-2.06-.94-.94-2.06-.94 2.06-2.06.94zm-11 1L8.5 8.5l.94-2.06 2.06-.94-2.06-.94L8.5 2.5l-.94 2.06-2.06.94zm10 10l.94 2.06.94-2.06 2.06-.94-2.06-.94-.94-2.06-.94 2.06-2.06.94z\"/><path d=\"M17.41 7.96l-1.37-1.37c-.4-.4-.92-.59-1.43-.59-.52 0-1.04.2-1.43.59L10.3 9.45l-7.72 7.72c-.78.78-.78 2.05 0 2.83L4 21.41c.39.39.9.59 1.41.59.51 0 1.02-.2 1.41-.59l7.78-7.78 2.81-2.81c.8-.78.8-2.07 0-2.86zM5.41 20L4 18.59l7.72-7.72 1.47 1.35L5.41 20z\"/>\n",
              "  </svg>\n",
              "      </button>\n",
              "      \n",
              "  <style>\n",
              "    .colab-df-container {\n",
              "      display:flex;\n",
              "      flex-wrap:wrap;\n",
              "      gap: 12px;\n",
              "    }\n",
              "\n",
              "    .colab-df-convert {\n",
              "      background-color: #E8F0FE;\n",
              "      border: none;\n",
              "      border-radius: 50%;\n",
              "      cursor: pointer;\n",
              "      display: none;\n",
              "      fill: #1967D2;\n",
              "      height: 32px;\n",
              "      padding: 0 0 0 0;\n",
              "      width: 32px;\n",
              "    }\n",
              "\n",
              "    .colab-df-convert:hover {\n",
              "      background-color: #E2EBFA;\n",
              "      box-shadow: 0px 1px 2px rgba(60, 64, 67, 0.3), 0px 1px 3px 1px rgba(60, 64, 67, 0.15);\n",
              "      fill: #174EA6;\n",
              "    }\n",
              "\n",
              "    [theme=dark] .colab-df-convert {\n",
              "      background-color: #3B4455;\n",
              "      fill: #D2E3FC;\n",
              "    }\n",
              "\n",
              "    [theme=dark] .colab-df-convert:hover {\n",
              "      background-color: #434B5C;\n",
              "      box-shadow: 0px 1px 3px 1px rgba(0, 0, 0, 0.15);\n",
              "      filter: drop-shadow(0px 1px 2px rgba(0, 0, 0, 0.3));\n",
              "      fill: #FFFFFF;\n",
              "    }\n",
              "  </style>\n",
              "\n",
              "      <script>\n",
              "        const buttonEl =\n",
              "          document.querySelector('#df-68bd6aec-7f54-4f9b-a4f8-dfd9f186035c button.colab-df-convert');\n",
              "        buttonEl.style.display =\n",
              "          google.colab.kernel.accessAllowed ? 'block' : 'none';\n",
              "\n",
              "        async function convertToInteractive(key) {\n",
              "          const element = document.querySelector('#df-68bd6aec-7f54-4f9b-a4f8-dfd9f186035c');\n",
              "          const dataTable =\n",
              "            await google.colab.kernel.invokeFunction('convertToInteractive',\n",
              "                                                     [key], {});\n",
              "          if (!dataTable) return;\n",
              "\n",
              "          const docLinkHtml = 'Like what you see? Visit the ' +\n",
              "            '<a target=\"_blank\" href=https://colab.research.google.com/notebooks/data_table.ipynb>data table notebook</a>'\n",
              "            + ' to learn more about interactive tables.';\n",
              "          element.innerHTML = '';\n",
              "          dataTable['output_type'] = 'display_data';\n",
              "          await google.colab.output.renderOutput(dataTable, element);\n",
              "          const docLink = document.createElement('div');\n",
              "          docLink.innerHTML = docLinkHtml;\n",
              "          element.appendChild(docLink);\n",
              "        }\n",
              "      </script>\n",
              "    </div>\n",
              "  </div>\n",
              "  "
            ]
          },
          "metadata": {},
          "execution_count": 9
        }
      ],
      "source": [
        "data.head()"
      ]
    },
    {
      "cell_type": "code",
      "execution_count": 10,
      "metadata": {
        "id": "xnkZmYD7K64x"
      },
      "outputs": [],
      "source": [
        "import matplotlib.pyplot as plt"
      ]
    },
    {
      "cell_type": "code",
      "execution_count": 11,
      "metadata": {
        "id": "qzsxliOgK64x"
      },
      "outputs": [],
      "source": [
        "y_mean = [np.mean(y_act) for i in range(1, len(x_list) + 1)]"
      ]
    },
    {
      "cell_type": "code",
      "execution_count": 12,
      "metadata": {
        "id": "KP18KgqlK64x",
        "outputId": "7de8c70a-9751-4ccd-c457-dc7044652f74",
        "colab": {
          "base_uri": "https://localhost:8080/",
          "height": 299
        }
      },
      "outputs": [
        {
          "output_type": "execute_result",
          "data": {
            "text/plain": [
              "Text(0.5, 1.0, 'Valor Actual vs Predicción')"
            ]
          },
          "metadata": {},
          "execution_count": 12
        },
        {
          "output_type": "display_data",
          "data": {
            "text/plain": [
              "<Figure size 432x288 with 1 Axes>"
            ],
            "image/png": "[encoded data removed]"
          },
          "metadata": {
            "needs_background": "light"
          }
        }
      ],
      "source": [
        "%matplotlib inline\n",
        "plt.plot(data[\"x\"],data[\"y_prediccion\"])\n",
        "plt.plot(data[\"x\"], data[\"y_actual\"], \"ro\")\n",
        "plt.plot(data[\"x\"],y_mean, \"g\")\n",
        "plt.title(\"Valor Actual vs Predicción\")"
      ]
    },
    {
      "cell_type": "markdown",
      "metadata": {
        "id": "uRauK0dpK64y"
      },
      "source": [
        "## ¿Como es la predicción de buena?\n",
        "* SST = SSD + SSR\n",
        "* SST : Variabilidad de los datos con respecto de su media\n",
        "* SSD : Diferencia entre los datos originales y las predicciones que el modelo no es capaz de explicar (errores que deberían seguir una distribución normal)\n",
        "* SSR : Diferencia entre la regresión y el valor medio que el modelo busca explicar\n",
        "* R2 = SSR / SST, coeficiente de determinación entre 0 y 1"
      ]
    },
    {
      "cell_type": "code",
      "execution_count": 13,
      "metadata": {
        "id": "wdqUSvLSK64y"
      },
      "outputs": [],
      "source": [
        "y_m = np.mean(y_act)\n",
        "data[\"SSR\"]=(data[\"y_prediccion\"]-y_m)**2\n",
        "data[\"SSD\"]=(data[\"y_prediccion\"]-data[\"y_actual\"])**2\n",
        "data[\"SST\"]=(data[\"y_actual\"]-y_m)**2"
      ]
    },
    {
      "cell_type": "code",
      "execution_count": 14,
      "metadata": {
        "id": "tZXX7wS_K64y",
        "outputId": "4c116031-09cd-4417-fb56-2f2dd61261ea",
        "colab": {
          "base_uri": "https://localhost:8080/",
          "height": 0
        }
      },
      "outputs": [
        {
          "output_type": "execute_result",
          "data": {
            "text/plain": [
              "          x  y_actual  y_prediccion       SSR       SSD       SST\n",
              "0  0.510688  3.129858      5.153206  0.009417  4.093939  4.496058\n",
              "1  2.599950  4.719378      5.779985  0.280620  1.124888  0.281824\n",
              "2  0.384280  3.770460      5.115284  0.018216  1.808552  2.189776\n",
              "3 -0.295036  3.917531      4.911489  0.114758  0.987953  1.776137\n",
              "4  0.666584  4.751123      5.199975  0.002527  0.201468  0.249126"
            ],
            "text/html": [
              "\n",
              "  <div id=\"df-b0f023c3-08ac-41f6-ba82-fc365d2ebe49\">\n",
              "    <div class=\"colab-df-container\">\n",
              "      <div>\n",
              "<style scoped>\n",
              "    .dataframe tbody tr th:only-of-type {\n",
              "        vertical-align: middle;\n",
              "    }\n",
              "\n",
              "    .dataframe tbody tr th {\n",
              "        vertical-align: top;\n",
              "    }\n",
              "\n",
              "    .dataframe thead th {\n",
              "        text-align: right;\n",
              "    }\n",
              "</style>\n",
              "<table border=\"1\" class=\"dataframe\">\n",
              "  <thead>\n",
              "    <tr style=\"text-align: right;\">\n",
              "      <th></th>\n",
              "      <th>x</th>\n",
              "      <th>y_actual</th>\n",
              "      <th>y_prediccion</th>\n",
              "      <th>SSR</th>\n",
              "      <th>SSD</th>\n",
              "      <th>SST</th>\n",
              "    </tr>\n",
              "  </thead>\n",
              "  <tbody>\n",
              "    <tr>\n",
              "      <th>0</th>\n",
              "      <td>0.510688</td>\n",
              "      <td>3.129858</td>\n",
              "      <td>5.153206</td>\n",
              "      <td>0.009417</td>\n",
              "      <td>4.093939</td>\n",
              "      <td>4.496058</td>\n",
              "    </tr>\n",
              "    <tr>\n",
              "      <th>1</th>\n",
              "      <td>2.599950</td>\n",
              "      <td>4.719378</td>\n",
              "      <td>5.779985</td>\n",
              "      <td>0.280620</td>\n",
              "      <td>1.124888</td>\n",
              "      <td>0.281824</td>\n",
              "    </tr>\n",
              "    <tr>\n",
              "      <th>2</th>\n",
              "      <td>0.384280</td>\n",
              "      <td>3.770460</td>\n",
              "      <td>5.115284</td>\n",
              "      <td>0.018216</td>\n",
              "      <td>1.808552</td>\n",
              "      <td>2.189776</td>\n",
              "    </tr>\n",
              "    <tr>\n",
              "      <th>3</th>\n",
              "      <td>-0.295036</td>\n",
              "      <td>3.917531</td>\n",
              "      <td>4.911489</td>\n",
              "      <td>0.114758</td>\n",
              "      <td>0.987953</td>\n",
              "      <td>1.776137</td>\n",
              "    </tr>\n",
              "    <tr>\n",
              "      <th>4</th>\n",
              "      <td>0.666584</td>\n",
              "      <td>4.751123</td>\n",
              "      <td>5.199975</td>\n",
              "      <td>0.002527</td>\n",
              "      <td>0.201468</td>\n",
              "      <td>0.249126</td>\n",
              "    </tr>\n",
              "  </tbody>\n",
              "</table>\n",
              "</div>\n",
              "      <button class=\"colab-df-convert\" onclick=\"convertToInteractive('df-b0f023c3-08ac-41f6-ba82-fc365d2ebe49')\"\n",
              "              title=\"Convert this dataframe to an interactive table.\"\n",
              "              style=\"display:none;\">\n",
              "        \n",
              "  <svg xmlns=\"http://www.w3.org/2000/svg\" height=\"24px\"viewBox=\"0 0 24 24\"\n",
              "       width=\"24px\">\n",
              "    <path d=\"M0 0h24v24H0V0z\" fill=\"none\"/>\n",
              "    <path d=\"M18.56 5.44l.94 2.06.94-2.06 2.06-.94-2.06-.94-.94-2.06-.94 2.06-2.06.94zm-11 1L8.5 8.5l.94-2.06 2.06-.94-2.06-.94L8.5 2.5l-.94 2.06-2.06.94zm10 10l.94 2.06.94-2.06 2.06-.94-2.06-.94-.94-2.06-.94 2.06-2.06.94z\"/><path d=\"M17.41 7.96l-1.37-1.37c-.4-.4-.92-.59-1.43-.59-.52 0-1.04.2-1.43.59L10.3 9.45l-7.72 7.72c-.78.78-.78 2.05 0 2.83L4 21.41c.39.39.9.59 1.41.59.51 0 1.02-.2 1.41-.59l7.78-7.78 2.81-2.81c.8-.78.8-2.07 0-2.86zM5.41 20L4 18.59l7.72-7.72 1.47 1.35L5.41 20z\"/>\n",
              "  </svg>\n",
              "      </button>\n",
              "      \n",
              "  <style>\n",
              "    .colab-df-container {\n",
              "      display:flex;\n",
              "      flex-wrap:wrap;\n",
              "      gap: 12px;\n",
              "    }\n",
              "\n",
              "    .colab-df-convert {\n",
              "      background-color: #E8F0FE;\n",
              "      border: none;\n",
              "      border-radius: 50%;\n",
              "      cursor: pointer;\n",
              "      display: none;\n",
              "      fill: #1967D2;\n",
              "      height: 32px;\n",
              "      padding: 0 0 0 0;\n",
              "      width: 32px;\n",
              "    }\n",
              "\n",
              "    .colab-df-convert:hover {\n",
              "      background-color: #E2EBFA;\n",
              "      box-shadow: 0px 1px 2px rgba(60, 64, 67, 0.3), 0px 1px 3px 1px rgba(60, 64, 67, 0.15);\n",
              "      fill: #174EA6;\n",
              "    }\n",
              "\n",
              "    [theme=dark] .colab-df-convert {\n",
              "      background-color: #3B4455;\n",
              "      fill: #D2E3FC;\n",
              "    }\n",
              "\n",
              "    [theme=dark] .colab-df-convert:hover {\n",
              "      background-color: #434B5C;\n",
              "      box-shadow: 0px 1px 3px 1px rgba(0, 0, 0, 0.15);\n",
              "      filter: drop-shadow(0px 1px 2px rgba(0, 0, 0, 0.3));\n",
              "      fill: #FFFFFF;\n",
              "    }\n",
              "  </style>\n",
              "\n",
              "      <script>\n",
              "        const buttonEl =\n",
              "          document.querySelector('#df-b0f023c3-08ac-41f6-ba82-fc365d2ebe49 button.colab-df-convert');\n",
              "        buttonEl.style.display =\n",
              "          google.colab.kernel.accessAllowed ? 'block' : 'none';\n",
              "\n",
              "        async function convertToInteractive(key) {\n",
              "          const element = document.querySelector('#df-b0f023c3-08ac-41f6-ba82-fc365d2ebe49');\n",
              "          const dataTable =\n",
              "            await google.colab.kernel.invokeFunction('convertToInteractive',\n",
              "                                                     [key], {});\n",
              "          if (!dataTable) return;\n",
              "\n",
              "          const docLinkHtml = 'Like what you see? Visit the ' +\n",
              "            '<a target=\"_blank\" href=https://colab.research.google.com/notebooks/data_table.ipynb>data table notebook</a>'\n",
              "            + ' to learn more about interactive tables.';\n",
              "          element.innerHTML = '';\n",
              "          dataTable['output_type'] = 'display_data';\n",
              "          await google.colab.output.renderOutput(dataTable, element);\n",
              "          const docLink = document.createElement('div');\n",
              "          docLink.innerHTML = docLinkHtml;\n",
              "          element.appendChild(docLink);\n",
              "        }\n",
              "      </script>\n",
              "    </div>\n",
              "  </div>\n",
              "  "
            ]
          },
          "metadata": {},
          "execution_count": 14
        }
      ],
      "source": [
        "data.head()"
      ]
    },
    {
      "cell_type": "code",
      "execution_count": 15,
      "metadata": {
        "id": "zeA7dQ7RK64z"
      },
      "outputs": [],
      "source": [
        "SSR = sum(data[\"SSR\"])\n",
        "SSD = sum(data[\"SSD\"])\n",
        "SST = sum(data[\"SST\"])"
      ]
    },
    {
      "cell_type": "code",
      "execution_count": 16,
      "metadata": {
        "id": "Xh0jgRAsK64z",
        "outputId": "5f155fb8-1538-4304-d0c4-fce982778ce5",
        "colab": {
          "base_uri": "https://localhost:8080/"
        }
      },
      "outputs": [
        {
          "output_type": "execute_result",
          "data": {
            "text/plain": [
              "64.92667778365941"
            ]
          },
          "metadata": {},
          "execution_count": 16
        }
      ],
      "source": [
        "SSR"
      ]
    },
    {
      "cell_type": "code",
      "execution_count": 17,
      "metadata": {
        "id": "R72exs6wK64z",
        "outputId": "3faf9725-7a05-4250-ca85-f065cda74696",
        "colab": {
          "base_uri": "https://localhost:8080/"
        }
      },
      "outputs": [
        {
          "output_type": "execute_result",
          "data": {
            "text/plain": [
              "66.9851707568815"
            ]
          },
          "metadata": {},
          "execution_count": 17
        }
      ],
      "source": [
        "SSD"
      ]
    },
    {
      "cell_type": "code",
      "execution_count": 18,
      "metadata": {
        "id": "15yW3TzZK64z",
        "outputId": "40f9bc49-1589-4823-f57b-978990b389ef",
        "colab": {
          "base_uri": "https://localhost:8080/"
        }
      },
      "outputs": [
        {
          "output_type": "execute_result",
          "data": {
            "text/plain": [
              "107.39909612123846"
            ]
          },
          "metadata": {},
          "execution_count": 18
        }
      ],
      "source": [
        "SST"
      ]
    },
    {
      "cell_type": "code",
      "execution_count": 19,
      "metadata": {
        "id": "mWGwcoaPK64z",
        "outputId": "43434910-71d6-447f-8699-4d8701f0b98f",
        "colab": {
          "base_uri": "https://localhost:8080/"
        }
      },
      "outputs": [
        {
          "output_type": "execute_result",
          "data": {
            "text/plain": [
              "131.91184854054092"
            ]
          },
          "metadata": {},
          "execution_count": 19
        }
      ],
      "source": [
        "SSR+SSD"
      ]
    },
    {
      "cell_type": "code",
      "execution_count": 20,
      "metadata": {
        "id": "xr2LneLlK640"
      },
      "outputs": [],
      "source": [
        "R2 = SSR/SST"
      ]
    },
    {
      "cell_type": "code",
      "execution_count": 21,
      "metadata": {
        "id": "elz_wTpMK640",
        "outputId": "17a3a40e-0f06-440e-c7c8-35cb62914ed2",
        "colab": {
          "base_uri": "https://localhost:8080/"
        }
      },
      "outputs": [
        {
          "output_type": "execute_result",
          "data": {
            "text/plain": [
              "0.6045365382811634"
            ]
          },
          "metadata": {},
          "execution_count": 21
        }
      ],
      "source": [
        "R2"
      ]
    },
    {
      "cell_type": "code",
      "execution_count": 22,
      "metadata": {
        "id": "ifuBJsFrK640",
        "outputId": "76b4e89c-ab94-4d0f-fe58-d0497266321e",
        "colab": {
          "base_uri": "https://localhost:8080/",
          "height": 0
        }
      },
      "outputs": [
        {
          "output_type": "execute_result",
          "data": {
            "text/plain": [
              "(array([ 1.,  1.,  3., 16., 18., 21., 16., 14.,  6.,  4.]),\n",
              " array([-2.25634994, -1.82838011, -1.40041027, -0.97244044, -0.5444706 ,\n",
              "        -0.11650077,  0.31146907,  0.7394389 ,  1.16740874,  1.59537857,\n",
              "         2.02334841]),\n",
              " <a list of 10 Patch objects>)"
            ]
          },
          "metadata": {},
          "execution_count": 22
        },
        {
          "output_type": "display_data",
          "data": {
            "text/plain": [
              "<Figure size 432x288 with 1 Axes>"
            ],
            "image/png": "[encoded data removed]"
          },
          "metadata": {
            "needs_background": "light"
          }
        }
      ],
      "source": [
        "plt.hist(data[\"y_prediccion\"]-data[\"y_actual\"])"
      ]
    },
    {
      "cell_type": "markdown",
      "metadata": {
        "id": "CBQQ5vABK640"
      },
      "source": [
        "## Obteniendo la recta de regresión \n",
        "\n",
        "* $y = a + bx$\n",
        "* $b = \\sum((x_i - x_m)*(y_i-y_m))/\\sum((x_i-x_m)^2)$\n",
        "* $a = y_m - b * x_m$"
      ]
    },
    {
      "cell_type": "code",
      "execution_count": 36,
      "metadata": {
        "id": "W_nf2nocK641",
        "outputId": "a66ee980-914d-46ce-964a-d517b0c877ab",
        "colab": {
          "base_uri": "https://localhost:8080/"
        }
      },
      "outputs": [
        {
          "output_type": "execute_result",
          "data": {
            "text/plain": [
              "(1.3211925754364124, 5.250248927533265)"
            ]
          },
          "metadata": {},
          "execution_count": 36
        }
      ],
      "source": [
        "x_mean = np.mean(data[\"x\"])\n",
        "y_mean = np.mean(data[\"y_actual\"])\n",
        "x_mean, y_mean"
      ]
    },
    {
      "cell_type": "code",
      "execution_count": 37,
      "metadata": {
        "id": "sbUMh8k3K641"
      },
      "outputs": [],
      "source": [
        "data[\"beta_n\"] = (data[\"x\"]-x_mean)*(data[\"y_actual\"]-y_mean) #numerador o  covarianza\n",
        "data[\"beta_d\"] = (data[\"x\"]-x_mean)**2 #Denominador o varianza"
      ]
    },
    {
      "cell_type": "code",
      "execution_count": 38,
      "metadata": {
        "id": "5c8eRc0AK641"
      },
      "outputs": [],
      "source": [
        "beta = sum(data[\"beta_n\"])/sum(data[\"beta_d\"])"
      ]
    },
    {
      "cell_type": "code",
      "execution_count": 39,
      "metadata": {
        "id": "YBB1deOBK641"
      },
      "outputs": [],
      "source": [
        "alpha = y_mean - beta * x_mean"
      ]
    },
    {
      "cell_type": "code",
      "execution_count": 40,
      "metadata": {
        "id": "__74u-QvK642",
        "outputId": "b7565380-fc84-4514-8c8a-f0670e11228e",
        "colab": {
          "base_uri": "https://localhost:8080/"
        }
      },
      "outputs": [
        {
          "output_type": "execute_result",
          "data": {
            "text/plain": [
              "(4.917781141504709, 0.25164218465179966)"
            ]
          },
          "metadata": {},
          "execution_count": 40
        }
      ],
      "source": [
        "alpha, beta"
      ]
    },
    {
      "cell_type": "code",
      "execution_count": 41,
      "metadata": {
        "id": "BPX3FkgqK642"
      },
      "outputs": [],
      "source": [
        "data[\"y_model\"] = alpha + beta * data[\"x\"]"
      ]
    },
    {
      "cell_type": "code",
      "execution_count": 42,
      "metadata": {
        "id": "cewvf487K642",
        "outputId": "f7455c88-a7d6-485a-a0d0-15e03f8e758a",
        "colab": {
          "base_uri": "https://localhost:8080/",
          "height": 206
        }
      },
      "outputs": [
        {
          "output_type": "execute_result",
          "data": {
            "text/plain": [
              "          x  y_actual  y_prediccion       SSR       SSD       SST    beta_n  \\\n",
              "0  0.510688  3.129858      5.153206  0.009417  4.093939  4.496058  1.718586   \n",
              "1  2.599950  4.719378      5.779985  0.280620  1.124888  0.281824 -0.678855   \n",
              "2  0.384280  3.770460      5.115284  0.018216  1.808552  2.189776  1.386433   \n",
              "3 -0.295036  3.917531      4.911489  0.114758  0.987953  1.776137  2.153976   \n",
              "4  0.666584  4.751123      5.199975  0.002527  0.201468  0.249126  0.326732   \n",
              "\n",
              "     beta_d   y_model  \n",
              "0  0.656918  5.046292  \n",
              "1  1.635220  5.572038  \n",
              "2  0.877805  5.014482  \n",
              "3  2.612194  4.843538  \n",
              "4  0.428513  5.085522  "
            ],
            "text/html": [
              "\n",
              "  <div id=\"df-bb945159-7cff-44b5-a55b-ebe3cf86415e\">\n",
              "    <div class=\"colab-df-container\">\n",
              "      <div>\n",
              "<style scoped>\n",
              "    .dataframe tbody tr th:only-of-type {\n",
              "        vertical-align: middle;\n",
              "    }\n",
              "\n",
              "    .dataframe tbody tr th {\n",
              "        vertical-align: top;\n",
              "    }\n",
              "\n",
              "    .dataframe thead th {\n",
              "        text-align: right;\n",
              "    }\n",
              "</style>\n",
              "<table border=\"1\" class=\"dataframe\">\n",
              "  <thead>\n",
              "    <tr style=\"text-align: right;\">\n",
              "      <th></th>\n",
              "      <th>x</th>\n",
              "      <th>y_actual</th>\n",
              "      <th>y_prediccion</th>\n",
              "      <th>SSR</th>\n",
              "      <th>SSD</th>\n",
              "      <th>SST</th>\n",
              "      <th>beta_n</th>\n",
              "      <th>beta_d</th>\n",
              "      <th>y_model</th>\n",
              "    </tr>\n",
              "  </thead>\n",
              "  <tbody>\n",
              "    <tr>\n",
              "      <th>0</th>\n",
              "      <td>0.510688</td>\n",
              "      <td>3.129858</td>\n",
              "      <td>5.153206</td>\n",
              "      <td>0.009417</td>\n",
              "      <td>4.093939</td>\n",
              "      <td>4.496058</td>\n",
              "      <td>1.718586</td>\n",
              "      <td>0.656918</td>\n",
              "      <td>5.046292</td>\n",
              "    </tr>\n",
              "    <tr>\n",
              "      <th>1</th>\n",
              "      <td>2.599950</td>\n",
              "      <td>4.719378</td>\n",
              "      <td>5.779985</td>\n",
              "      <td>0.280620</td>\n",
              "      <td>1.124888</td>\n",
              "      <td>0.281824</td>\n",
              "      <td>-0.678855</td>\n",
              "      <td>1.635220</td>\n",
              "      <td>5.572038</td>\n",
              "    </tr>\n",
              "    <tr>\n",
              "      <th>2</th>\n",
              "      <td>0.384280</td>\n",
              "      <td>3.770460</td>\n",
              "      <td>5.115284</td>\n",
              "      <td>0.018216</td>\n",
              "      <td>1.808552</td>\n",
              "      <td>2.189776</td>\n",
              "      <td>1.386433</td>\n",
              "      <td>0.877805</td>\n",
              "      <td>5.014482</td>\n",
              "    </tr>\n",
              "    <tr>\n",
              "      <th>3</th>\n",
              "      <td>-0.295036</td>\n",
              "      <td>3.917531</td>\n",
              "      <td>4.911489</td>\n",
              "      <td>0.114758</td>\n",
              "      <td>0.987953</td>\n",
              "      <td>1.776137</td>\n",
              "      <td>2.153976</td>\n",
              "      <td>2.612194</td>\n",
              "      <td>4.843538</td>\n",
              "    </tr>\n",
              "    <tr>\n",
              "      <th>4</th>\n",
              "      <td>0.666584</td>\n",
              "      <td>4.751123</td>\n",
              "      <td>5.199975</td>\n",
              "      <td>0.002527</td>\n",
              "      <td>0.201468</td>\n",
              "      <td>0.249126</td>\n",
              "      <td>0.326732</td>\n",
              "      <td>0.428513</td>\n",
              "      <td>5.085522</td>\n",
              "    </tr>\n",
              "  </tbody>\n",
              "</table>\n",
              "</div>\n",
              "      <button class=\"colab-df-convert\" onclick=\"convertToInteractive('df-bb945159-7cff-44b5-a55b-ebe3cf86415e')\"\n",
              "              title=\"Convert this dataframe to an interactive table.\"\n",
              "              style=\"display:none;\">\n",
              "        \n",
              "  <svg xmlns=\"http://www.w3.org/2000/svg\" height=\"24px\"viewBox=\"0 0 24 24\"\n",
              "       width=\"24px\">\n",
              "    <path d=\"M0 0h24v24H0V0z\" fill=\"none\"/>\n",
              "    <path d=\"M18.56 5.44l.94 2.06.94-2.06 2.06-.94-2.06-.94-.94-2.06-.94 2.06-2.06.94zm-11 1L8.5 8.5l.94-2.06 2.06-.94-2.06-.94L8.5 2.5l-.94 2.06-2.06.94zm10 10l.94 2.06.94-2.06 2.06-.94-2.06-.94-.94-2.06-.94 2.06-2.06.94z\"/><path d=\"M17.41 7.96l-1.37-1.37c-.4-.4-.92-.59-1.43-.59-.52 0-1.04.2-1.43.59L10.3 9.45l-7.72 7.72c-.78.78-.78 2.05 0 2.83L4 21.41c.39.39.9.59 1.41.59.51 0 1.02-.2 1.41-.59l7.78-7.78 2.81-2.81c.8-.78.8-2.07 0-2.86zM5.41 20L4 18.59l7.72-7.72 1.47 1.35L5.41 20z\"/>\n",
              "  </svg>\n",
              "      </button>\n",
              "      \n",
              "  <style>\n",
              "    .colab-df-container {\n",
              "      display:flex;\n",
              "      flex-wrap:wrap;\n",
              "      gap: 12px;\n",
              "    }\n",
              "\n",
              "    .colab-df-convert {\n",
              "      background-color: #E8F0FE;\n",
              "      border: none;\n",
              "      border-radius: 50%;\n",
              "      cursor: pointer;\n",
              "      display: none;\n",
              "      fill: #1967D2;\n",
              "      height: 32px;\n",
              "      padding: 0 0 0 0;\n",
              "      width: 32px;\n",
              "    }\n",
              "\n",
              "    .colab-df-convert:hover {\n",
              "      background-color: #E2EBFA;\n",
              "      box-shadow: 0px 1px 2px rgba(60, 64, 67, 0.3), 0px 1px 3px 1px rgba(60, 64, 67, 0.15);\n",
              "      fill: #174EA6;\n",
              "    }\n",
              "\n",
              "    [theme=dark] .colab-df-convert {\n",
              "      background-color: #3B4455;\n",
              "      fill: #D2E3FC;\n",
              "    }\n",
              "\n",
              "    [theme=dark] .colab-df-convert:hover {\n",
              "      background-color: #434B5C;\n",
              "      box-shadow: 0px 1px 3px 1px rgba(0, 0, 0, 0.15);\n",
              "      filter: drop-shadow(0px 1px 2px rgba(0, 0, 0, 0.3));\n",
              "      fill: #FFFFFF;\n",
              "    }\n",
              "  </style>\n",
              "\n",
              "      <script>\n",
              "        const buttonEl =\n",
              "          document.querySelector('#df-bb945159-7cff-44b5-a55b-ebe3cf86415e button.colab-df-convert');\n",
              "        buttonEl.style.display =\n",
              "          google.colab.kernel.accessAllowed ? 'block' : 'none';\n",
              "\n",
              "        async function convertToInteractive(key) {\n",
              "          const element = document.querySelector('#df-bb945159-7cff-44b5-a55b-ebe3cf86415e');\n",
              "          const dataTable =\n",
              "            await google.colab.kernel.invokeFunction('convertToInteractive',\n",
              "                                                     [key], {});\n",
              "          if (!dataTable) return;\n",
              "\n",
              "          const docLinkHtml = 'Like what you see? Visit the ' +\n",
              "            '<a target=\"_blank\" href=https://colab.research.google.com/notebooks/data_table.ipynb>data table notebook</a>'\n",
              "            + ' to learn more about interactive tables.';\n",
              "          element.innerHTML = '';\n",
              "          dataTable['output_type'] = 'display_data';\n",
              "          await google.colab.output.renderOutput(dataTable, element);\n",
              "          const docLink = document.createElement('div');\n",
              "          docLink.innerHTML = docLinkHtml;\n",
              "          element.appendChild(docLink);\n",
              "        }\n",
              "      </script>\n",
              "    </div>\n",
              "  </div>\n",
              "  "
            ]
          },
          "metadata": {},
          "execution_count": 42
        }
      ],
      "source": [
        "data.head()"
      ]
    },
    {
      "cell_type": "code",
      "execution_count": 43,
      "metadata": {
        "id": "jmj2kV0wK643"
      },
      "outputs": [],
      "source": [
        "SSR = sum((data[\"y_model\"]-y_mean)**2)\n",
        "SSD = sum((data[\"y_model\"]-data[\"y_actual\"])**2)\n",
        "SST = sum((data[\"y_actual\"]-y_mean)**2)"
      ]
    },
    {
      "cell_type": "code",
      "execution_count": 44,
      "metadata": {
        "id": "xroqc2pIK643",
        "outputId": "10a2de9b-9ea1-461c-9f70-cec0dfe5ee4a",
        "colab": {
          "base_uri": "https://localhost:8080/"
        }
      },
      "outputs": [
        {
          "output_type": "execute_result",
          "data": {
            "text/plain": [
              "(44.18023251450845, 63.218863606730025, 107.39909612123846)"
            ]
          },
          "metadata": {},
          "execution_count": 44
        }
      ],
      "source": [
        "SSR, SSD, SST"
      ]
    },
    {
      "cell_type": "code",
      "execution_count": 45,
      "metadata": {
        "id": "uwErQO2JK643",
        "outputId": "d9627e17-d5ef-4a4e-9c85-0e191583b1c9",
        "colab": {
          "base_uri": "https://localhost:8080/"
        }
      },
      "outputs": [
        {
          "output_type": "execute_result",
          "data": {
            "text/plain": [
              "0.4113650310858779"
            ]
          },
          "metadata": {},
          "execution_count": 45
        }
      ],
      "source": [
        "R2 = SSR / SST\n",
        "R2"
      ]
    },
    {
      "cell_type": "code",
      "execution_count": 46,
      "metadata": {
        "id": "mZ8rYjZaK643",
        "outputId": "e46d3956-af9f-4535-a5a3-09760f51bd21",
        "colab": {
          "base_uri": "https://localhost:8080/",
          "height": 299
        }
      },
      "outputs": [
        {
          "output_type": "execute_result",
          "data": {
            "text/plain": [
              "Text(0.5, 1.0, 'Valor Actual vs Predicción vs Modelo')"
            ]
          },
          "metadata": {},
          "execution_count": 46
        },
        {
          "output_type": "display_data",
          "data": {
            "text/plain": [
              "<Figure size 432x288 with 1 Axes>"
            ],
            "image/png": "[encoded data removed]"
          },
          "metadata": {
            "needs_background": "light"
          }
        }
      ],
      "source": [
        "y_mean = [np.mean(y_act) for i in range(1, len(x_list) + 1)]\n",
        "\n",
        "%matplotlib inline\n",
        "plt.plot(data[\"x\"],data[\"y_prediccion\"])\n",
        "plt.plot(data[\"x\"], data[\"y_actual\"], \"ro\")\n",
        "plt.plot(data[\"x\"],y_mean, \"g\")\n",
        "plt.plot(data[\"x\"], data[\"y_model\"])\n",
        "plt.title(\"Valor Actual vs Predicción vs Modelo\")"
      ]
    },
    {
      "cell_type": "markdown",
      "metadata": {
        "id": "YvMPX7BwK643"
      },
      "source": [
        "## Error estándar de los residuos (RSE)"
      ]
    },
    {
      "cell_type": "code",
      "execution_count": 47,
      "metadata": {
        "id": "Lq3RGcKcK643",
        "outputId": "53082236-671b-4a00-8be6-70cf9e1da5d9",
        "colab": {
          "base_uri": "https://localhost:8080/"
        }
      },
      "outputs": [
        {
          "output_type": "execute_result",
          "data": {
            "text/plain": [
              "0.8031752268133231"
            ]
          },
          "metadata": {},
          "execution_count": 47
        }
      ],
      "source": [
        "RSE = np.sqrt(SSD/(len(data)-2))\n",
        "RSE"
      ]
    },
    {
      "cell_type": "code",
      "execution_count": 48,
      "metadata": {
        "id": "RtlF7XzYK643",
        "outputId": "fd506bdd-fe4e-44ad-ff7d-1d084a465956",
        "colab": {
          "base_uri": "https://localhost:8080/"
        }
      },
      "outputs": [
        {
          "output_type": "execute_result",
          "data": {
            "text/plain": [
              "5.250248927533265"
            ]
          },
          "metadata": {},
          "execution_count": 48
        }
      ],
      "source": [
        "np.mean(data[\"y_actual\"])"
      ]
    },
    {
      "cell_type": "code",
      "execution_count": 49,
      "metadata": {
        "id": "sedzO0dqK644",
        "outputId": "651ada32-535e-4c09-ab49-3d75770c365a",
        "colab": {
          "base_uri": "https://localhost:8080/"
        }
      },
      "outputs": [
        {
          "output_type": "execute_result",
          "data": {
            "text/plain": [
              "0.15297850404793673"
            ]
          },
          "metadata": {},
          "execution_count": 49
        }
      ],
      "source": [
        "RSE / np.mean(data[\"y_actual\"])"
      ]
    }
  ],
  "metadata": {
    "kernelspec": {
      "display_name": "Python 3",
      "language": "python",
      "name": "python3"
    },
    "language_info": {
      "codemirror_mode": {
        "name": "ipython",
        "version": 3
      },
      "file_extension": ".py",
      "mimetype": "text/x-python",
      "name": "python",
      "nbconvert_exporter": "python",
      "pygments_lexer": "ipython3",
      "version": "3.8.5"
    },
    "colab": {
      "name": "T4 - 1 - Linear Regression - Datos ficticios-Colab.ipynb",
      "provenance": [],
      "toc_visible": true
    }
  },
  "nbformat": 4,
  "nbformat_minor": 0
}