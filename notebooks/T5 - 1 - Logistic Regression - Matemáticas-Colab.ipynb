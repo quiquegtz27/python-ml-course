{
  "cells": [
    {
      "cell_type": "markdown",
      "metadata": {
        "id": "hriPI2Z4f4p-"
      },
      "source": [
        "<a href=\"https://colab.research.google.com/github/joanby/python-ml-course/blob/master/notebooks/T5%20-%201%20-%20Logistic%20Regression%20-%20Matemáticas-Colab.ipynb\" target=\"_parent\"><img src=\"https://colab.research.google.com/assets/colab-badge.svg\" alt=\"Open In Colab\"/></a>"
      ]
    },
    {
      "cell_type": "markdown",
      "metadata": {
        "id": "Aa2I7D1gf4qD"
      },
      "source": [
        "# Clonamos el repositorio para obtener los dataSet"
      ]
    },
    {
      "cell_type": "code",
      "execution_count": 2,
      "metadata": {
        "id": "ztONxx0Gf4qD",
        "outputId": "5289bb7d-d25b-49d4-f4ec-70cbe66880a9",
        "colab": {
          "base_uri": "https://localhost:8080/"
        }
      },
      "outputs": [
        {
          "output_type": "stream",
          "name": "stdout",
          "text": [
            "Cloning into 'python-ml-course'...\n",
            "remote: Enumerating objects: 17706, done.\u001b[K\n",
            "remote: Total 17706 (delta 0), reused 0 (delta 0), pack-reused 17706\u001b[K\n",
            "Receiving objects: 100% (17706/17706), 523.15 MiB | 20.02 MiB/s, done.\n",
            "Resolving deltas: 100% (333/333), done.\n",
            "Checking out files: 100% (16940/16940), done.\n"
          ]
        }
      ],
      "source": [
        "!git clone https://github.com/joanby/python-ml-course.git"
      ]
    },
    {
      "cell_type": "markdown",
      "metadata": {
        "id": "hF9S0bkRf4qF"
      },
      "source": [
        "# Damos acceso a nuestro Drive"
      ]
    },
    {
      "cell_type": "code",
      "execution_count": null,
      "metadata": {
        "id": "83LmXwJ0f4qF"
      },
      "outputs": [],
      "source": [
        "from google.colab import drive\n",
        "drive.mount('/content/drive')\n",
        "# Test it\n",
        "!ls '/content/drive/My Drive' "
      ]
    },
    {
      "cell_type": "code",
      "execution_count": null,
      "metadata": {
        "id": "TeT7PM23f4qG"
      },
      "outputs": [],
      "source": [
        "from google.colab import files # Para manejar los archivos y, por ejemplo, exportar a su navegador\n",
        "import glob # Para manejar los archivos y, por ejemplo, exportar a su navegador\n",
        "from google.colab import drive # Montar tu Google drive"
      ]
    },
    {
      "cell_type": "markdown",
      "metadata": {
        "id": "V6mL-CS0f4qH"
      },
      "source": [
        "# Las matemáticas tras la regresión logística"
      ]
    },
    {
      "cell_type": "markdown",
      "metadata": {
        "id": "IeTrs907f4qI"
      },
      "source": [
        "### Las tablas de contingencia"
      ]
    },
    {
      "cell_type": "code",
      "execution_count": 3,
      "metadata": {
        "id": "JSepktDEf4qJ"
      },
      "outputs": [],
      "source": [
        "import pandas as pd"
      ]
    },
    {
      "cell_type": "code",
      "execution_count": null,
      "metadata": {
        "id": "9Bd-FDdpf4qK",
        "outputId": "f74b9a8d-4f78-4644-a66e-e19e851f466c"
      },
      "outputs": [
        {
          "data": {
            "text/html": [
              "<div>\n",
              "<style scoped>\n",
              "    .dataframe tbody tr th:only-of-type {\n",
              "        vertical-align: middle;\n",
              "    }\n",
              "\n",
              "    .dataframe tbody tr th {\n",
              "        vertical-align: top;\n",
              "    }\n",
              "\n",
              "    .dataframe thead th {\n",
              "        text-align: right;\n",
              "    }\n",
              "</style>\n",
              "<table border=\"1\" class=\"dataframe\">\n",
              "  <thead>\n",
              "    <tr style=\"text-align: right;\">\n",
              "      <th></th>\n",
              "      <th>Gender</th>\n",
              "      <th>Purchase</th>\n",
              "    </tr>\n",
              "  </thead>\n",
              "  <tbody>\n",
              "    <tr>\n",
              "      <th>0</th>\n",
              "      <td>Female</td>\n",
              "      <td>Yes</td>\n",
              "    </tr>\n",
              "    <tr>\n",
              "      <th>1</th>\n",
              "      <td>Female</td>\n",
              "      <td>Yes</td>\n",
              "    </tr>\n",
              "    <tr>\n",
              "      <th>2</th>\n",
              "      <td>Female</td>\n",
              "      <td>No</td>\n",
              "    </tr>\n",
              "    <tr>\n",
              "      <th>3</th>\n",
              "      <td>Male</td>\n",
              "      <td>No</td>\n",
              "    </tr>\n",
              "    <tr>\n",
              "      <th>4</th>\n",
              "      <td>Male</td>\n",
              "      <td>Yes</td>\n",
              "    </tr>\n",
              "  </tbody>\n",
              "</table>\n",
              "</div>"
            ],
            "text/plain": [
              "   Gender Purchase\n",
              "0  Female      Yes\n",
              "1  Female      Yes\n",
              "2  Female       No\n",
              "3    Male       No\n",
              "4    Male      Yes"
            ]
          },
          "execution_count": 2,
          "metadata": {},
          "output_type": "execute_result"
        }
      ],
      "source": [
        "df = pd.read_csv(\"/content/python-ml-course/datasets/gender-purchase/Gender Purchase.csv\")\n",
        "df.head()"
      ]
    },
    {
      "cell_type": "code",
      "execution_count": null,
      "metadata": {
        "id": "fLFVMNRwf4qL",
        "outputId": "43e8a6f6-d72f-4b4a-984b-31c5031b8656"
      },
      "outputs": [
        {
          "data": {
            "text/plain": [
              "(511, 2)"
            ]
          },
          "execution_count": 3,
          "metadata": {},
          "output_type": "execute_result"
        }
      ],
      "source": [
        "df.shape"
      ]
    },
    {
      "cell_type": "code",
      "execution_count": null,
      "metadata": {
        "id": "lVTVKyBIf4qL",
        "outputId": "50435e5d-9ae2-4a22-ec10-5f9955f8ee95"
      },
      "outputs": [
        {
          "data": {
            "text/html": [
              "<div>\n",
              "<style scoped>\n",
              "    .dataframe tbody tr th:only-of-type {\n",
              "        vertical-align: middle;\n",
              "    }\n",
              "\n",
              "    .dataframe tbody tr th {\n",
              "        vertical-align: top;\n",
              "    }\n",
              "\n",
              "    .dataframe thead th {\n",
              "        text-align: right;\n",
              "    }\n",
              "</style>\n",
              "<table border=\"1\" class=\"dataframe\">\n",
              "  <thead>\n",
              "    <tr style=\"text-align: right;\">\n",
              "      <th>Purchase</th>\n",
              "      <th>No</th>\n",
              "      <th>Yes</th>\n",
              "    </tr>\n",
              "    <tr>\n",
              "      <th>Gender</th>\n",
              "      <th></th>\n",
              "      <th></th>\n",
              "    </tr>\n",
              "  </thead>\n",
              "  <tbody>\n",
              "    <tr>\n",
              "      <th>Female</th>\n",
              "      <td>106</td>\n",
              "      <td>159</td>\n",
              "    </tr>\n",
              "    <tr>\n",
              "      <th>Male</th>\n",
              "      <td>125</td>\n",
              "      <td>121</td>\n",
              "    </tr>\n",
              "  </tbody>\n",
              "</table>\n",
              "</div>"
            ],
            "text/plain": [
              "Purchase   No  Yes\n",
              "Gender            \n",
              "Female    106  159\n",
              "Male      125  121"
            ]
          },
          "execution_count": 4,
          "metadata": {},
          "output_type": "execute_result"
        }
      ],
      "source": [
        "contingency_table = pd.crosstab(df[\"Gender\"], df[\"Purchase\"])\n",
        "contingency_table"
      ]
    },
    {
      "cell_type": "code",
      "execution_count": null,
      "metadata": {
        "id": "GcpWDOrhf4qM",
        "outputId": "8ee1b273-71e7-4b29-d74a-7e986632a366"
      },
      "outputs": [
        {
          "data": {
            "text/plain": [
              "Gender\n",
              "Female    265\n",
              "Male      246\n",
              "dtype: int64"
            ]
          },
          "execution_count": 5,
          "metadata": {},
          "output_type": "execute_result"
        }
      ],
      "source": [
        "contingency_table.sum(axis = 1)"
      ]
    },
    {
      "cell_type": "code",
      "execution_count": null,
      "metadata": {
        "id": "F8SRhB_Zf4qM",
        "outputId": "9bdd8ccd-610d-41a7-85d0-39d0f216dd77"
      },
      "outputs": [
        {
          "data": {
            "text/plain": [
              "Purchase\n",
              "No     231\n",
              "Yes    280\n",
              "dtype: int64"
            ]
          },
          "execution_count": 6,
          "metadata": {},
          "output_type": "execute_result"
        }
      ],
      "source": [
        "contingency_table.sum(axis = 0)"
      ]
    },
    {
      "cell_type": "code",
      "execution_count": null,
      "metadata": {
        "id": "dG6H7HaXf4qN",
        "outputId": "8be3c2bc-4886-4630-b66a-4d41e54e5c2b"
      },
      "outputs": [
        {
          "data": {
            "text/html": [
              "<div>\n",
              "<style scoped>\n",
              "    .dataframe tbody tr th:only-of-type {\n",
              "        vertical-align: middle;\n",
              "    }\n",
              "\n",
              "    .dataframe tbody tr th {\n",
              "        vertical-align: top;\n",
              "    }\n",
              "\n",
              "    .dataframe thead th {\n",
              "        text-align: right;\n",
              "    }\n",
              "</style>\n",
              "<table border=\"1\" class=\"dataframe\">\n",
              "  <thead>\n",
              "    <tr style=\"text-align: right;\">\n",
              "      <th>Purchase</th>\n",
              "      <th>No</th>\n",
              "      <th>Yes</th>\n",
              "    </tr>\n",
              "    <tr>\n",
              "      <th>Gender</th>\n",
              "      <th></th>\n",
              "      <th></th>\n",
              "    </tr>\n",
              "  </thead>\n",
              "  <tbody>\n",
              "    <tr>\n",
              "      <th>Female</th>\n",
              "      <td>0.40000</td>\n",
              "      <td>0.60000</td>\n",
              "    </tr>\n",
              "    <tr>\n",
              "      <th>Male</th>\n",
              "      <td>0.50813</td>\n",
              "      <td>0.49187</td>\n",
              "    </tr>\n",
              "  </tbody>\n",
              "</table>\n",
              "</div>"
            ],
            "text/plain": [
              "Purchase       No      Yes\n",
              "Gender                    \n",
              "Female    0.40000  0.60000\n",
              "Male      0.50813  0.49187"
            ]
          },
          "execution_count": 7,
          "metadata": {},
          "output_type": "execute_result"
        }
      ],
      "source": [
        "contingency_table.astype(\"float\").div(contingency_table.sum(axis=1), axis = 0)"
      ]
    },
    {
      "cell_type": "markdown",
      "metadata": {
        "id": "X9gROHG6f4qN"
      },
      "source": [
        "### La probabilidad condicional"
      ]
    },
    {
      "cell_type": "code",
      "execution_count": 4,
      "metadata": {
        "id": "INwwk1fDf4qO"
      },
      "outputs": [],
      "source": [
        "from IPython.display import display, Math, Latex"
      ]
    },
    {
      "cell_type": "markdown",
      "metadata": {
        "id": "eO0-4WYEf4qO"
      },
      "source": [
        "* ¿Cuál es la probabilidad de que un cliente compre un producto sabiendo que es un hombre?\n",
        "* ¿Cuál es la probabilidad de que sabiendo que un cliente compra un producto sea mujer?"
      ]
    },
    {
      "cell_type": "code",
      "execution_count": null,
      "metadata": {
        "id": "JkHoPKFsf4qO",
        "outputId": "471ae291-988d-48cd-ac03-32cdc563ebd6"
      },
      "outputs": [
        {
          "data": {
            "text/latex": [
              "$\\displaystyle P(Purchase|Male) = \\frac{Numero\\ total\\ de\\ compras\\ hechas\\ por\\ hombres}{Numero\\ total\\ de\\ hombres\\ del\\ grupo} = \\frac{Purchase\\cap Male}{Male}$"
            ],
            "text/plain": [
              "<IPython.core.display.Math object>"
            ]
          },
          "metadata": {},
          "output_type": "display_data"
        },
        {
          "data": {
            "text/plain": [
              "0.491869918699187"
            ]
          },
          "execution_count": 9,
          "metadata": {},
          "output_type": "execute_result"
        }
      ],
      "source": [
        "display(Math(r'P(Purchase|Male) = \\frac{Numero\\ total\\ de\\ compras\\ hechas\\ por\\ hombres}{Numero\\ total\\ de\\ hombres\\ del\\ grupo} = \\frac{Purchase\\cap Male}{Male}'))\n",
        "121/246"
      ]
    },
    {
      "cell_type": "code",
      "execution_count": null,
      "metadata": {
        "id": "nUNO7b6_f4qP",
        "outputId": "deb3c2c1-9679-4a7e-ce16-d2678b4a4f88"
      },
      "outputs": [
        {
          "data": {
            "text/latex": [
              "$\\displaystyle P(No\\ Purchase|Male) = 1-P(Purchase|Male)$"
            ],
            "text/plain": [
              "<IPython.core.display.Math object>"
            ]
          },
          "metadata": {},
          "output_type": "display_data"
        },
        {
          "data": {
            "text/plain": [
              "0.508130081300813"
            ]
          },
          "execution_count": 10,
          "metadata": {},
          "output_type": "execute_result"
        }
      ],
      "source": [
        "display(Math(r'P(No\\ Purchase|Male) = 1-P(Purchase|Male)'))\n",
        "125/246"
      ]
    },
    {
      "cell_type": "code",
      "execution_count": null,
      "metadata": {
        "id": "7PqDOS-mf4qP",
        "outputId": "d5f7270b-2743-46fe-e421-e57a6e650583"
      },
      "outputs": [
        {
          "data": {
            "text/latex": [
              "$\\displaystyle P(Female|Purchase) = \\frac{Numero\\ total\\ de\\ compras\\ hechas\\ por\\ mujeres}{Numero\\ total\\ de\\ compras} = \\frac{Female\\cap Purchase}{Purchase}$"
            ],
            "text/plain": [
              "<IPython.core.display.Math object>"
            ]
          },
          "metadata": {},
          "output_type": "display_data"
        },
        {
          "data": {
            "text/plain": [
              "0.5678571428571428"
            ]
          },
          "execution_count": 11,
          "metadata": {},
          "output_type": "execute_result"
        }
      ],
      "source": [
        "display(Math(r'P(Female|Purchase) = \\frac{Numero\\ total\\ de\\ compras\\ hechas\\ por\\ mujeres}{Numero\\ total\\ de\\ compras} = \\frac{Female\\cap Purchase}{Purchase}'))\n",
        "159/280"
      ]
    },
    {
      "cell_type": "code",
      "execution_count": null,
      "metadata": {
        "id": "WDwiTSNCf4qQ",
        "outputId": "175205a2-c829-4d22-d6c8-9509888d89e1"
      },
      "outputs": [
        {
          "data": {
            "text/latex": [
              "$\\displaystyle P(Male|Purchase)$"
            ],
            "text/plain": [
              "<IPython.core.display.Math object>"
            ]
          },
          "metadata": {},
          "output_type": "display_data"
        },
        {
          "data": {
            "text/plain": [
              "0.43214285714285716"
            ]
          },
          "execution_count": 12,
          "metadata": {},
          "output_type": "execute_result"
        }
      ],
      "source": [
        "display(Math(r'P(Male|Purchase)'))\n",
        "121/280"
      ]
    },
    {
      "cell_type": "code",
      "execution_count": null,
      "metadata": {
        "id": "P01Lcspqf4qQ",
        "outputId": "1ecd0f20-ddb4-4728-92cf-d1d45818e25c"
      },
      "outputs": [
        {
          "data": {
            "text/latex": [
              "$\\displaystyle P(Purchase|Male)$"
            ],
            "text/plain": [
              "<IPython.core.display.Math object>"
            ]
          },
          "metadata": {},
          "output_type": "display_data"
        },
        {
          "name": "stdout",
          "output_type": "stream",
          "text": [
            "0.491869918699187\n"
          ]
        },
        {
          "data": {
            "text/latex": [
              "$\\displaystyle P(NO\\ Purchase|Male)$"
            ],
            "text/plain": [
              "<IPython.core.display.Math object>"
            ]
          },
          "metadata": {},
          "output_type": "display_data"
        },
        {
          "name": "stdout",
          "output_type": "stream",
          "text": [
            "0.508130081300813\n"
          ]
        },
        {
          "data": {
            "text/latex": [
              "$\\displaystyle P(Purchase|Female)$"
            ],
            "text/plain": [
              "<IPython.core.display.Math object>"
            ]
          },
          "metadata": {},
          "output_type": "display_data"
        },
        {
          "name": "stdout",
          "output_type": "stream",
          "text": [
            "0.6\n"
          ]
        },
        {
          "data": {
            "text/latex": [
              "$\\displaystyle P(NO\\ Purchase|Female)$"
            ],
            "text/plain": [
              "<IPython.core.display.Math object>"
            ]
          },
          "metadata": {},
          "output_type": "display_data"
        },
        {
          "name": "stdout",
          "output_type": "stream",
          "text": [
            "0.4\n"
          ]
        }
      ],
      "source": [
        "display(Math(r'P(Purchase|Male)'))\n",
        "print(121/246)\n",
        "display(Math(r'P(NO\\ Purchase|Male)'))\n",
        "print(125/246)\n",
        "display(Math(r'P(Purchase|Female)'))\n",
        "print(159/265)\n",
        "display(Math(r'P(NO\\ Purchase|Female)'))\n",
        "print(106/265)"
      ]
    },
    {
      "cell_type": "markdown",
      "metadata": {
        "id": "u9tZM4nBf4qR"
      },
      "source": [
        "### Ratio de probabilidades\n",
        "Cociente entre los casos de éxito sobre los de fracaso en el suceso estudiado y para cada grupo"
      ]
    },
    {
      "cell_type": "code",
      "execution_count": null,
      "metadata": {
        "id": "E4D1O9Ilf4qR",
        "outputId": "aabe0352-caf0-443e-9205-c11984301be8"
      },
      "outputs": [
        {
          "data": {
            "text/latex": [
              "$\\displaystyle P_m = \\ probabilidad\\ de\\ hacer\\ compra\\ sabiendo\\ que\\ es \\ un \\ hombre$"
            ],
            "text/plain": [
              "<IPython.core.display.Math object>"
            ]
          },
          "metadata": {},
          "output_type": "display_data"
        },
        {
          "data": {
            "text/latex": [
              "$\\displaystyle P_f = \\ probabilidad\\ de\\ hacer\\ compra\\ sabiendo\\ que\\ es \\ una\\ mujer$"
            ],
            "text/plain": [
              "<IPython.core.display.Math object>"
            ]
          },
          "metadata": {},
          "output_type": "display_data"
        },
        {
          "data": {
            "text/latex": [
              "$\\displaystyle odds\\in[0,+\\infty]$"
            ],
            "text/plain": [
              "<IPython.core.display.Math object>"
            ]
          },
          "metadata": {},
          "output_type": "display_data"
        },
        {
          "data": {
            "text/latex": [
              "$\\displaystyle odds_{purchase,male} = \\frac{P_m}{1-P_m} = \\frac{N_{p,m}}{N_{\\bar p, m}}$"
            ],
            "text/plain": [
              "<IPython.core.display.Math object>"
            ]
          },
          "metadata": {},
          "output_type": "display_data"
        },
        {
          "data": {
            "text/latex": [
              "$\\displaystyle odds_{purchase,female} = \\frac{P_F}{1-P_F} = \\frac{N_{p,f}}{N_{\\bar p, f}}$"
            ],
            "text/plain": [
              "<IPython.core.display.Math object>"
            ]
          },
          "metadata": {},
          "output_type": "display_data"
        }
      ],
      "source": [
        "display(Math(r'P_m = \\ probabilidad\\ de\\ hacer\\ compra\\ sabiendo\\ que\\ es \\ un \\ hombre'))\n",
        "\n",
        "display(Math(r'P_f = \\ probabilidad\\ de\\ hacer\\ compra\\ sabiendo\\ que\\ es \\ una\\ mujer'))\n",
        "\n",
        "display(Math(r'odds\\in[0,+\\infty]'))\n",
        "\n",
        "display(Math(r'odds_{purchase,male} = \\frac{P_m}{1-P_m} = \\frac{N_{p,m}}{N_{\\bar p, m}}'))\n",
        "\n",
        "display(Math(r'odds_{purchase,female} = \\frac{P_F}{1-P_F} = \\frac{N_{p,f}}{N_{\\bar p, f}}'))"
      ]
    },
    {
      "cell_type": "code",
      "execution_count": null,
      "metadata": {
        "id": "wms_puAyf4qR"
      },
      "outputs": [],
      "source": [
        "pm = 121/246\n",
        "pf = 159/265\n",
        "odds_m = pm/(1-pm)# 121/125\n",
        "odds_f = pf/(1-pf)# 159/106"
      ]
    },
    {
      "cell_type": "code",
      "execution_count": null,
      "metadata": {
        "id": "w9aZR1oBf4qR",
        "outputId": "890fb34c-d5af-4e09-903c-bedb97c5eea2"
      },
      "outputs": [
        {
          "data": {
            "text/plain": [
              "0.9680000000000002"
            ]
          },
          "execution_count": 16,
          "metadata": {},
          "output_type": "execute_result"
        }
      ],
      "source": [
        "odds_m"
      ]
    },
    {
      "cell_type": "code",
      "execution_count": null,
      "metadata": {
        "id": "JLVX5Be4f4qS",
        "outputId": "e6c08702-fff8-4258-ba0e-67c0821d14b3"
      },
      "outputs": [
        {
          "data": {
            "text/plain": [
              "1.4999999999999998"
            ]
          },
          "execution_count": 17,
          "metadata": {},
          "output_type": "execute_result"
        }
      ],
      "source": [
        "odds_f"
      ]
    },
    {
      "cell_type": "markdown",
      "metadata": {
        "id": "2FgP_ffXf4qS"
      },
      "source": [
        "* Si el ratio es superior a 1, es más probable el éxito que el fracas. Cuanto mayor es el ratio, más probabilidad de éxito en nuestro suceso.\n",
        "* Si el ratio es exactamente igual a 1, éxito y fracaso son equiprobables (p=0.5)\n",
        "* Si el ratio es menor que 1, el fracaso es más probable que el éxito. Cuanto menor es el ratio, menor es la probabilidad de éxito del suceso."
      ]
    },
    {
      "cell_type": "code",
      "execution_count": null,
      "metadata": {
        "id": "nPkbScECf4qS",
        "outputId": "12445eee-a949-497c-f82f-1192bf75d2f4"
      },
      "outputs": [
        {
          "data": {
            "text/latex": [
              "$\\displaystyle odds_{ratio} = \\frac{odds_{purchase,male}}{odds_{purchase,female}}$"
            ],
            "text/plain": [
              "<IPython.core.display.Math object>"
            ]
          },
          "metadata": {},
          "output_type": "display_data"
        }
      ],
      "source": [
        "display(Math(r'odds_{ratio} = \\frac{odds_{purchase,male}}{odds_{purchase,female}}'))"
      ]
    },
    {
      "cell_type": "code",
      "execution_count": null,
      "metadata": {
        "id": "CTRbJNkJf4qS"
      },
      "outputs": [],
      "source": [
        "odds_r = odds_m/odds_f"
      ]
    },
    {
      "cell_type": "code",
      "execution_count": null,
      "metadata": {
        "id": "7pdEOvKOf4qT",
        "outputId": "4cb5df6b-dfe7-44a4-ebf9-5617801b7bdd"
      },
      "outputs": [
        {
          "data": {
            "text/plain": [
              "0.6453333333333335"
            ]
          },
          "execution_count": 20,
          "metadata": {},
          "output_type": "execute_result"
        }
      ],
      "source": [
        "odds_r"
      ]
    },
    {
      "cell_type": "code",
      "execution_count": null,
      "metadata": {
        "id": "eT0PVAGuf4qT",
        "outputId": "7d6cfaf2-c231-4c47-f3a4-fcd815c6fce9"
      },
      "outputs": [
        {
          "data": {
            "text/plain": [
              "1.5495867768595037"
            ]
          },
          "execution_count": 21,
          "metadata": {},
          "output_type": "execute_result"
        }
      ],
      "source": [
        "1/odds_r# odds_f/odds_m"
      ]
    },
    {
      "cell_type": "markdown",
      "metadata": {
        "id": "mFpkmZU5f4qT"
      },
      "source": [
        "# La regresión logística desde la regresión lineal"
      ]
    },
    {
      "cell_type": "code",
      "execution_count": 5,
      "metadata": {
        "id": "JIqjv78Mf4qT",
        "outputId": "150da00e-a683-4afa-dc09-3f22cfba42ec",
        "colab": {
          "base_uri": "https://localhost:8080/",
          "height": 60
        }
      },
      "outputs": [
        {
          "output_type": "display_data",
          "data": {
            "text/plain": [
              "<IPython.core.display.Math object>"
            ],
            "text/latex": "$$y = \\alpha + \\beta \\cdot x$$"
          },
          "metadata": {}
        },
        {
          "output_type": "display_data",
          "data": {
            "text/plain": [
              "<IPython.core.display.Math object>"
            ],
            "text/latex": "$$(x,y)\\in[-\\infty, +\\infty]^2$$"
          },
          "metadata": {}
        }
      ],
      "source": [
        "display(Math(r'y = \\alpha + \\beta \\cdot x'))\n",
        "display(Math(r'(x,y)\\in[-\\infty, +\\infty]^2'))"
      ]
    },
    {
      "cell_type": "code",
      "execution_count": 6,
      "metadata": {
        "id": "XpC5Yw-Kf4qT",
        "outputId": "0976819a-20ac-4137-9134-6abe22494f80",
        "colab": {
          "base_uri": "https://localhost:8080/",
          "height": 103
        }
      },
      "outputs": [
        {
          "output_type": "display_data",
          "data": {
            "text/plain": [
              "<IPython.core.display.Math object>"
            ],
            "text/latex": "$$Y\\in\\{0,1\\}??$$"
          },
          "metadata": {}
        },
        {
          "output_type": "display_data",
          "data": {
            "text/plain": [
              "<IPython.core.display.Math object>"
            ],
            "text/latex": "$$P\\in [0,1]$$"
          },
          "metadata": {}
        },
        {
          "output_type": "display_data",
          "data": {
            "text/plain": [
              "<IPython.core.display.Math object>"
            ],
            "text/latex": "$$X\\in [-\\infty,\\infty]$$"
          },
          "metadata": {}
        },
        {
          "output_type": "display_data",
          "data": {
            "text/plain": [
              "<IPython.core.display.Math object>"
            ],
            "text/latex": "$$P = \\alpha + \\beta\\cdot X$$"
          },
          "metadata": {}
        }
      ],
      "source": [
        "display(Math(r'Y\\in\\{0,1\\}??'))\n",
        "display(Math(r'P\\in [0,1]'))\n",
        "display(Math(r'X\\in [-\\infty,\\infty]'))\n",
        "\n",
        "display(Math(r'P = \\alpha + \\beta\\cdot X'))"
      ]
    },
    {
      "cell_type": "markdown",
      "metadata": {
        "id": "h3w8N6Cyf4qU"
      },
      "source": [
        "P es la probabilidad condicionada de éxito o de fracaso condicionada a la presencia de la variable X"
      ]
    },
    {
      "cell_type": "code",
      "execution_count": 7,
      "metadata": {
        "id": "zeosHbqTf4qU",
        "outputId": "7174693f-20a7-4cc3-9b5f-f14aa60b047b",
        "colab": {
          "base_uri": "https://localhost:8080/",
          "height": 39
        }
      },
      "outputs": [
        {
          "output_type": "display_data",
          "data": {
            "text/plain": [
              "<IPython.core.display.Math object>"
            ],
            "text/latex": "$$\\frac{P}{1-P} = \\alpha + \\beta\\cdot X\\in [0,+\\infty]$$"
          },
          "metadata": {}
        }
      ],
      "source": [
        "display(Math(r'\\frac{P}{1-P} = \\alpha + \\beta\\cdot X\\in [0,+\\infty]'))"
      ]
    },
    {
      "cell_type": "code",
      "execution_count": 8,
      "metadata": {
        "id": "F_deKjEMf4qU",
        "outputId": "da5bc032-546c-4ca9-e30e-b6edb79144a7",
        "colab": {
          "base_uri": "https://localhost:8080/",
          "height": 39
        }
      },
      "outputs": [
        {
          "output_type": "display_data",
          "data": {
            "text/plain": [
              "<IPython.core.display.Math object>"
            ],
            "text/latex": "$$ ln(\\frac{P}{1-P}) = \\alpha + \\beta\\cdot X$$"
          },
          "metadata": {}
        }
      ],
      "source": [
        "display(Math(r' ln(\\frac{P}{1-P}) = \\alpha + \\beta\\cdot X'))"
      ]
    },
    {
      "cell_type": "code",
      "execution_count": 9,
      "metadata": {
        "id": "Y4QP2ThXf4qV",
        "outputId": "e9a05099-4701-4251-d97c-292ee9c2e542",
        "colab": {
          "base_uri": "https://localhost:8080/",
          "height": 68
        }
      },
      "outputs": [
        {
          "output_type": "display_data",
          "data": {
            "text/plain": [
              "<IPython.core.display.Math object>"
            ],
            "text/latex": "$$\\begin{cases}\\frac{P}{1-P}\\in[0,1]\\Rightarrow ln(\\frac{P}{1-P})\\in[-\\infty,0]\\\\ \\frac{P}{1-P}\\in[1,+\\infty]\\Rightarrow ln(\\frac{P}{1-P})\\in[0, \\infty]\\end{cases}$$"
          },
          "metadata": {}
        }
      ],
      "source": [
        "display(Math(r'\\begin{cases}\\frac{P}{1-P}\\in[0,1]\\Rightarrow ln(\\frac{P}{1-P})\\in[-\\infty,0]\\\\ \\frac{P}{1-P}\\in[1,+\\infty]\\Rightarrow ln(\\frac{P}{1-P})\\in[0, \\infty]\\end{cases}'))"
      ]
    },
    {
      "cell_type": "code",
      "execution_count": 10,
      "metadata": {
        "id": "NMwv332of4qV",
        "outputId": "21123a21-bf21-476a-b038-2d6bba7f0b4f",
        "colab": {
          "base_uri": "https://localhost:8080/",
          "height": 110
        }
      },
      "outputs": [
        {
          "output_type": "display_data",
          "data": {
            "text/plain": [
              "<IPython.core.display.Math object>"
            ],
            "text/latex": "$$ ln(\\frac{P}{1-P}) = \\alpha + \\beta\\cdot X$$"
          },
          "metadata": {}
        },
        {
          "output_type": "display_data",
          "data": {
            "text/plain": [
              "<IPython.core.display.Math object>"
            ],
            "text/latex": "$$ \\frac{P}{1-P} = e^{\\alpha + \\beta\\cdot X}$$"
          },
          "metadata": {}
        },
        {
          "output_type": "display_data",
          "data": {
            "text/plain": [
              "<IPython.core.display.Math object>"
            ],
            "text/latex": "$$ P = \\frac{e^{\\alpha+\\beta\\cdot X}}{1+e^{\\alpha+\\beta\\cdot X}}$$"
          },
          "metadata": {}
        },
        {
          "output_type": "display_data",
          "data": {
            "text/plain": [
              "<IPython.core.display.Math object>"
            ],
            "text/latex": "$$ P = \\frac{1}{1+e^{-(\\alpha+\\beta\\cdot X)}}$$"
          },
          "metadata": {}
        }
      ],
      "source": [
        "display(Math(r' ln(\\frac{P}{1-P}) = \\alpha + \\beta\\cdot X'))\n",
        "display(Math(r' \\frac{P}{1-P} = e^{\\alpha + \\beta\\cdot X}'))\n",
        "display(Math(r' P = \\frac{e^{\\alpha+\\beta\\cdot X}}{1+e^{\\alpha+\\beta\\cdot X}}'))\n",
        "display(Math(r' P = \\frac{1}{1+e^{-(\\alpha+\\beta\\cdot X)}}'))"
      ]
    },
    {
      "cell_type": "markdown",
      "metadata": {
        "id": "npfTDgL9f4qV"
      },
      "source": [
        "* Si a+bX es muy pequeño (negativo), entonces P tiende a 0\n",
        "* Si a+bX = 0, P = 0.5\n",
        "* Si a+bX es muy grande (positivo), entonces P tiende a 1"
      ]
    },
    {
      "cell_type": "markdown",
      "metadata": {
        "id": "iQ4rhe9qf4qV"
      },
      "source": [
        "## Regresión logística múltiple"
      ]
    },
    {
      "cell_type": "code",
      "execution_count": 11,
      "metadata": {
        "id": "nrX-JDBif4qV",
        "outputId": "7fe28a03-6970-491c-c3c0-e45e304de579",
        "colab": {
          "base_uri": "https://localhost:8080/",
          "height": 42
        }
      },
      "outputs": [
        {
          "output_type": "display_data",
          "data": {
            "text/plain": [
              "<IPython.core.display.Math object>"
            ],
            "text/latex": "$$ P = \\frac{1}{1+e^{-(\\alpha+\\sum_{i=1}^n\\beta_i\\cdot x_i)}}$$"
          },
          "metadata": {}
        }
      ],
      "source": [
        "display(Math(r' P = \\frac{1}{1+e^{-(\\alpha+\\sum_{i=1}^n\\beta_i\\cdot x_i)}}'))"
      ]
    },
    {
      "cell_type": "code",
      "execution_count": 12,
      "metadata": {
        "id": "wqdVYFkNf4qV",
        "outputId": "c157ff04-5926-4152-bad2-931f2c8f1c76",
        "colab": {
          "base_uri": "https://localhost:8080/",
          "height": 87
        }
      },
      "outputs": [
        {
          "output_type": "display_data",
          "data": {
            "text/plain": [
              "<IPython.core.display.Math object>"
            ],
            "text/latex": "$$ \\vec{\\beta} = (\\beta_1,\\beta_2,\\cdots,\\beta_n)$$"
          },
          "metadata": {}
        },
        {
          "output_type": "display_data",
          "data": {
            "text/plain": [
              "<IPython.core.display.Math object>"
            ],
            "text/latex": "$$ \\vec{X} = (x_1,x_2,\\cdots,x_n)$$"
          },
          "metadata": {}
        },
        {
          "output_type": "display_data",
          "data": {
            "text/plain": [
              "<IPython.core.display.Math object>"
            ],
            "text/latex": "$$ P = \\frac{1}{1+e^{-(\\alpha+\\vec{\\beta_i}\\cdot \\vec{X})}}$$"
          },
          "metadata": {}
        }
      ],
      "source": [
        "display(Math(r' \\vec{\\beta} = (\\beta_1,\\beta_2,\\cdots,\\beta_n)'))\n",
        "display(Math(r' \\vec{X} = (x_1,x_2,\\cdots,x_n)'))\n",
        "display(Math(r' P = \\frac{1}{1+e^{-(\\alpha+\\vec{\\beta_i}\\cdot \\vec{X})}}'))"
      ]
    }
  ],
  "metadata": {
    "kernelspec": {
      "display_name": "Python 3",
      "language": "python",
      "name": "python3"
    },
    "language_info": {
      "codemirror_mode": {
        "name": "ipython",
        "version": 3
      },
      "file_extension": ".py",
      "mimetype": "text/x-python",
      "name": "python",
      "nbconvert_exporter": "python",
      "pygments_lexer": "ipython3",
      "version": "3.8.5"
    },
    "colab": {
      "name": "T5 - 1 - Logistic Regression - Matemáticas-Colab.ipynb",
      "provenance": [],
      "toc_visible": true
    }
  },
  "nbformat": 4,
  "nbformat_minor": 0
}