{
  "cells": [
    {
      "cell_type": "markdown",
      "metadata": {
        "id": "view-in-github",
        "colab_type": "text"
      },
      "source": [
        "<a href=\"https://colab.research.google.com/github/quiquegtz27/python-ml-course/blob/Collab---v-3.8/notebooks/T2%20-%202%20-%20Data%20Cleaning%20-%20Funciones%20de%20distribuci%C3%B3n%20de%20probabilidad%20-%20Colab.ipynb\" target=\"_parent\"><img src=\"https://colab.research.google.com/assets/colab-badge.svg\" alt=\"Open In Colab\"/></a>"
      ]
    },
    {
      "cell_type": "markdown",
      "metadata": {
        "id": "76tSTLpx_6tj"
      },
      "source": [
        "# Funciones de distribución de probabilidades\n",
        "## Distribución Uniforme"
      ]
    },
    {
      "cell_type": "code",
      "execution_count": null,
      "metadata": {
        "colab": {
          "base_uri": "https://localhost:8080/",
          "height": 122
        },
        "id": "tOrouqly_9oY",
        "outputId": "dfe35705-3b1a-452c-de31-3b8025787095"
      },
      "outputs": [
        {
          "name": "stdout",
          "output_type": "stream",
          "text": [
            "Go to this URL in a browser: https://accounts.google.com/o/oauth2/auth?client_id=947318989803-6bn6qk8qdgf4n4g3pfee6491hc0brc4i.apps.googleusercontent.com&redirect_uri=urn%3aietf%3awg%3aoauth%3a2.0%3aoob&response_type=code&scope=email%20https%3a%2f%2fwww.googleapis.com%2fauth%2fdocs.test%20https%3a%2f%2fwww.googleapis.com%2fauth%2fdrive%20https%3a%2f%2fwww.googleapis.com%2fauth%2fdrive.photos.readonly%20https%3a%2f%2fwww.googleapis.com%2fauth%2fpeopleapi.readonly\n",
            "\n",
            "Enter your authorization code:\n",
            "··········\n",
            "Mounted at /content/drive\n"
          ]
        }
      ],
      "source": [
        "from google.colab import drive\n",
        "drive.mount('/content/drive')"
      ]
    },
    {
      "cell_type": "code",
      "execution_count": 1,
      "metadata": {
        "id": "24f0E2tZ_6tk"
      },
      "outputs": [],
      "source": [
        "import numpy as np\n",
        "import matplotlib.pyplot as plt\n",
        "import pandas as pd"
      ]
    },
    {
      "cell_type": "code",
      "execution_count": 46,
      "metadata": {
        "id": "lXlMO8RS_6tp"
      },
      "outputs": [],
      "source": [
        "a = 1\n",
        "b = 100\n",
        "n = 1000000\n",
        "#Generación de números aleatorios que cumplan con una distribución uniforme\n",
        "data = np.random.uniform(a, b, n) # (Limite inferior, Limite superior, Número de muestras)"
      ]
    },
    {
      "cell_type": "code",
      "execution_count": 21,
      "metadata": {
        "colab": {
          "base_uri": "https://localhost:8080/",
          "height": 375
        },
        "id": "tiC5WseY_6tt",
        "outputId": "03a781e7-48b5-4651-96c3-977a908ad366"
      },
      "outputs": [
        {
          "output_type": "execute_result",
          "data": {
            "text/plain": [
              "(array([ 99994., 100157., 100342.,  99898.,  99798.,  99396.,  99929.,\n",
              "        100606.,  99705., 100175.]),\n",
              " array([ 1.00012488, 10.90010377, 20.80008266, 30.70006154, 40.60004043,\n",
              "        50.50001931, 60.3999982 , 70.29997709, 80.19995597, 90.09993486,\n",
              "        99.99991374]),\n",
              " <a list of 10 Patch objects>)"
            ]
          },
          "metadata": {},
          "execution_count": 21
        },
        {
          "output_type": "display_data",
          "data": {
            "text/plain": [
              "<Figure size 432x288 with 1 Axes>"
            ],
            "image/png": "[encoded data removed]"
          },
          "metadata": {
            "needs_background": "light"
          }
        }
      ],
      "source": [
        "%matplotlib inline\n",
        "plt.hist(data)"
      ]
    },
    {
      "cell_type": "markdown",
      "metadata": {
        "id": "XubDFO_f_6tx"
      },
      "source": [
        "## Distribución Normal"
      ]
    },
    {
      "cell_type": "code",
      "execution_count": 49,
      "metadata": {
        "id": "X1N2_WO1_6tx"
      },
      "outputs": [],
      "source": [
        "#Generación de un set de números aleatorios que cumplen con una distriución normal\n",
        "data = np.random.randn(100000)"
      ]
    },
    {
      "cell_type": "code",
      "execution_count": 50,
      "metadata": {
        "colab": {
          "base_uri": "https://localhost:8080/",
          "height": 283
        },
        "id": "qhOyLRGN_6tz",
        "outputId": "c84e6dd2-3971-4edb-e1c7-e07060efc101"
      },
      "outputs": [
        {
          "output_type": "execute_result",
          "data": {
            "text/plain": [
              "[<matplotlib.lines.Line2D at 0x7fda157cf650>]"
            ]
          },
          "metadata": {},
          "execution_count": 50
        },
        {
          "output_type": "display_data",
          "data": {
            "text/plain": [
              "<Figure size 432x288 with 1 Axes>"
            ],
            "image/png": "[encoded data removed]"
          },
          "metadata": {
            "needs_background": "light"
          }
        }
      ],
      "source": [
        "#Imprimir en sucesión todos los valores contra un eje x creado para ver que todos son diferentes\n",
        "x = range(1,100001)\n",
        "plt.plot(x, data)"
      ]
    },
    {
      "cell_type": "code",
      "execution_count": 52,
      "metadata": {
        "colab": {
          "base_uri": "https://localhost:8080/",
          "height": 450
        },
        "id": "UnsfVULW_6t1",
        "outputId": "4b28a610-6fa8-4145-d161-4e75ca7e613c"
      },
      "outputs": [
        {
          "output_type": "execute_result",
          "data": {
            "text/plain": [
              "(array([9.0000e+00, 4.0000e+01, 1.9000e+02, 5.5400e+02, 1.5540e+03,\n",
              "        3.5670e+03, 6.8890e+03, 1.1214e+04, 1.5104e+04, 1.7028e+04,\n",
              "        1.5791e+04, 1.2400e+04, 8.0270e+03, 4.5270e+03, 2.0070e+03,\n",
              "        7.7500e+02, 2.4400e+02, 6.2000e+01, 1.4000e+01, 4.0000e+00]),\n",
              " array([-4.12588577, -3.69813102, -3.27037626, -2.84262151, -2.41486676,\n",
              "        -1.987112  , -1.55935725, -1.13160249, -0.70384774, -0.27609299,\n",
              "         0.15166177,  0.57941652,  1.00717127,  1.43492603,  1.86268078,\n",
              "         2.29043554,  2.71819029,  3.14594504,  3.5736998 ,  4.00145455,\n",
              "         4.42920931]),\n",
              " <a list of 20 Patch objects>)"
            ]
          },
          "metadata": {},
          "execution_count": 52
        },
        {
          "output_type": "display_data",
          "data": {
            "text/plain": [
              "<Figure size 432x288 with 1 Axes>"
            ],
            "image/png": "[encoded data removed]"
          },
          "metadata": {
            "needs_background": "light"
          }
        }
      ],
      "source": [
        "%matplotlib inline\n",
        "#Histograma de los valores, en donde se puede ver que se dibuja la camapana de Gauss\n",
        "plt.hist(data, 20)"
      ]
    },
    {
      "cell_type": "code",
      "execution_count": 53,
      "metadata": {
        "colab": {
          "base_uri": "https://localhost:8080/",
          "height": 283
        },
        "id": "XdW96vvx_6t3",
        "outputId": "a45b3460-5030-45a7-a1b5-b545abbe4e94"
      },
      "outputs": [
        {
          "output_type": "execute_result",
          "data": {
            "text/plain": [
              "[<matplotlib.lines.Line2D at 0x7fda1531e390>]"
            ]
          },
          "metadata": {},
          "execution_count": 53
        },
        {
          "output_type": "display_data",
          "data": {
            "text/plain": [
              "<Figure size 432x288 with 1 Axes>"
            ],
            "image/png": "[encoded data removed]"
          },
          "metadata": {
            "needs_background": "light"
          }
        }
      ],
      "source": [
        "#Dibujando la función de distribución acumulada.\n",
        "plt.plot(x,sorted(data))"
      ]
    },
    {
      "cell_type": "markdown",
      "source": [
        "####Tipificando para encontrar una normalizar una distribución con Propia media y propia desviación estándar, siguiendo el teorema central del límite:\n",
        "$$Z = \\frac{(X-\\mu)}{σ} → N(0,1) $$\n",
        "####Despejando para X\n",
        "$$X = μ + σZ$$"
      ],
      "metadata": {
        "id": "txOwBp77i-3z"
      }
    },
    {
      "cell_type": "code",
      "execution_count": 58,
      "metadata": {
        "colab": {
          "base_uri": "https://localhost:8080/",
          "height": 375
        },
        "id": "QQZ1SxuG_6t5",
        "outputId": "7a459840-78a3-40fb-c623-204ab3ba10a3"
      },
      "outputs": [
        {
          "output_type": "execute_result",
          "data": {
            "text/plain": [
              "(array([  10.,  131.,  678., 1912., 3014., 2652., 1209.,  319.,   67.,\n",
              "           8.]),\n",
              " array([-3.89166878, -1.92981538,  0.03203802,  1.99389142,  3.95574482,\n",
              "         5.91759821,  7.87945161,  9.84130501, 11.80315841, 13.76501181,\n",
              "        15.72686521]),\n",
              " <a list of 10 Patch objects>)"
            ]
          },
          "metadata": {},
          "execution_count": 58
        },
        {
          "output_type": "display_data",
          "data": {
            "text/plain": [
              "<Figure size 432x288 with 1 Axes>"
            ],
            "image/png": "[encoded data removed]"
          },
          "metadata": {
            "needs_background": "light"
          }
        }
      ],
      "source": [
        "mu = 5.5\n",
        "sd = 2.5\n",
        "Z_10000 = np.random.randn(10000)\n",
        "data = mu + sd * Z_10000 # Z = (X - mu) / sd -> N(0,1), X = mu + sd * Z\n",
        "plt.hist(data)"
      ]
    },
    {
      "cell_type": "code",
      "execution_count": 63,
      "metadata": {
        "colab": {
          "base_uri": "https://localhost:8080/"
        },
        "id": "n8siHqnN_6t6",
        "outputId": "73fc5669-98ff-47a5-c805-ce4d57e7057a"
      },
      "outputs": [
        {
          "output_type": "execute_result",
          "data": {
            "text/plain": [
              "array([[-1.4700105 , -0.54639732,  0.79673429,  1.46151614],\n",
              "       [-1.08773032,  0.51165757,  0.22659485, -1.28015141]])"
            ]
          },
          "metadata": {},
          "execution_count": 63
        }
      ],
      "source": [
        "#Para conseguir más de una muestra con randn\n",
        "data = np.random.randn(2,4)\n",
        "data"
      ]
    },
    {
      "cell_type": "markdown",
      "metadata": {
        "id": "qirIn8au_6t8"
      },
      "source": [
        "## La simulación de Monte Carlo"
      ]
    },
    {
      "cell_type": "markdown",
      "metadata": {
        "id": "s4ySxEBn_6t8"
      },
      "source": [
        "* Generamos dos números aleatorios uniforme x e y entre 0 y 1 en total 1000 veces.\n",
        "* Calcularemos $z = x^2 + y^2$:\n",
        "    * Si $z < 1 \\rightarrow$ estamos dentro del círculo.\n",
        "    * Si $z \\geq 1 \\rightarrow$ estamos fuera del círculo.\n",
        "* Calculamos el número total de veces que están dentro del círculo y lo dividimos entre el número total de intentos para obtener una aproximación de la probabilidad de caer dentro del círculo.\n",
        "* Usamos dicha probabilidad para aproximar el valor de π.\n",
        "* Repetimos el experimento un número suficiente de veces (por ejemplo 100), para obtener (100) diferentes aproximaciones de π. \n",
        "* Calculamos el promedio de los 100 experimentos anteriores para dar un valor final de π.\n",
        "    "
      ]
    },
    {
      "cell_type": "code",
      "execution_count": null,
      "metadata": {
        "id": "IxAP8lvL_6t_"
      },
      "outputs": [],
      "source": [
        "def pi_montecarlo(n, n_exp):\n",
        "    pi_avg = 0\n",
        "    pi_value_list = []\n",
        "    for i in range(n_exp):\n",
        "        value = 0\n",
        "        x = np.random.uniform(0,1,n).tolist()\n",
        "        y = np.random.uniform(0,1,n).tolist()\n",
        "        for j in range(n):\n",
        "            z = np.sqrt(x[j] * x[j] + y[j] * y[j])\n",
        "            if z<=1:\n",
        "                value += 1\n",
        "        float_value = float(value)\n",
        "        pi_value = float_value * 4 / n\n",
        "        pi_value_list.append(pi_value)\n",
        "        pi_avg += pi_value\n",
        "\n",
        "    pi = pi_avg/n_exp\n",
        "\n",
        "    print(pi)\n",
        "    fig = plt.plot(pi_value_list)\n",
        "    return (pi, fig)"
      ]
    },
    {
      "cell_type": "code",
      "execution_count": null,
      "metadata": {
        "colab": {
          "base_uri": "https://localhost:8080/",
          "height": 301
        },
        "id": "36fV9Wf9_6uA",
        "outputId": "472dd2bc-a99d-4d73-cb97-5ff12e9220c8"
      },
      "outputs": [
        {
          "name": "stdout",
          "output_type": "stream",
          "text": [
            "3.143076000000002\n"
          ]
        },
        {
          "data": {
            "text/plain": [
              "(3.143076000000002, [<matplotlib.lines.Line2D at 0x7f85134a1ac8>])"
            ]
          },
          "execution_count": 12,
          "metadata": {
            "tags": []
          },
          "output_type": "execute_result"
        },
        {
          "data": {
            "image/png": "[encoded data removed]",
            "text/plain": [
              "<Figure size 432x288 with 1 Axes>"
            ]
          },
          "metadata": {
            "needs_background": "light",
            "tags": []
          },
          "output_type": "display_data"
        }
      ],
      "source": [
        "pi_montecarlo(10000, 200)"
      ]
    },
    {
      "cell_type": "markdown",
      "metadata": {
        "id": "T367QBnb_6uB"
      },
      "source": [
        "### Dummy Data Sets"
      ]
    },
    {
      "cell_type": "code",
      "execution_count": null,
      "metadata": {
        "id": "Eu_1AXII_6uC"
      },
      "outputs": [],
      "source": [
        "n = 1000000\n",
        "data = pd.DataFrame(\n",
        "    {\n",
        "        'A' : np.random.randn(n),\n",
        "        'B' : 1.5 + 2.5 * np.random.randn(n),\n",
        "        'C' : np.random.uniform(5, 32, n)\n",
        "    }\n",
        ")"
      ]
    },
    {
      "cell_type": "code",
      "execution_count": null,
      "metadata": {
        "colab": {
          "base_uri": "https://localhost:8080/",
          "height": 297
        },
        "id": "BvB2sFTs_6uD",
        "outputId": "555a43d1-bee1-467f-8154-11a0b9efea82"
      },
      "outputs": [
        {
          "data": {
            "text/html": [
              "<div>\n",
              "<style scoped>\n",
              "    .dataframe tbody tr th:only-of-type {\n",
              "        vertical-align: middle;\n",
              "    }\n",
              "\n",
              "    .dataframe tbody tr th {\n",
              "        vertical-align: top;\n",
              "    }\n",
              "\n",
              "    .dataframe thead th {\n",
              "        text-align: right;\n",
              "    }\n",
              "</style>\n",
              "<table border=\"1\" class=\"dataframe\">\n",
              "  <thead>\n",
              "    <tr style=\"text-align: right;\">\n",
              "      <th></th>\n",
              "      <th>A</th>\n",
              "      <th>B</th>\n",
              "      <th>C</th>\n",
              "    </tr>\n",
              "  </thead>\n",
              "  <tbody>\n",
              "    <tr>\n",
              "      <th>count</th>\n",
              "      <td>1000000.000000</td>\n",
              "      <td>1000000.000000</td>\n",
              "      <td>1000000.000000</td>\n",
              "    </tr>\n",
              "    <tr>\n",
              "      <th>mean</th>\n",
              "      <td>0.002164</td>\n",
              "      <td>1.499644</td>\n",
              "      <td>18.508191</td>\n",
              "    </tr>\n",
              "    <tr>\n",
              "      <th>std</th>\n",
              "      <td>0.999902</td>\n",
              "      <td>2.501756</td>\n",
              "      <td>7.794876</td>\n",
              "    </tr>\n",
              "    <tr>\n",
              "      <th>min</th>\n",
              "      <td>-4.614127</td>\n",
              "      <td>-11.344276</td>\n",
              "      <td>5.000005</td>\n",
              "    </tr>\n",
              "    <tr>\n",
              "      <th>25%</th>\n",
              "      <td>-0.673665</td>\n",
              "      <td>-0.187840</td>\n",
              "      <td>11.749997</td>\n",
              "    </tr>\n",
              "    <tr>\n",
              "      <th>50%</th>\n",
              "      <td>0.002129</td>\n",
              "      <td>1.502898</td>\n",
              "      <td>18.506363</td>\n",
              "    </tr>\n",
              "    <tr>\n",
              "      <th>75%</th>\n",
              "      <td>0.678266</td>\n",
              "      <td>3.187172</td>\n",
              "      <td>25.261393</td>\n",
              "    </tr>\n",
              "    <tr>\n",
              "      <th>max</th>\n",
              "      <td>4.553337</td>\n",
              "      <td>13.301662</td>\n",
              "      <td>31.999969</td>\n",
              "    </tr>\n",
              "  </tbody>\n",
              "</table>\n",
              "</div>"
            ],
            "text/plain": [
              "                    A               B               C\n",
              "count  1000000.000000  1000000.000000  1000000.000000\n",
              "mean         0.002164        1.499644       18.508191\n",
              "std          0.999902        2.501756        7.794876\n",
              "min         -4.614127      -11.344276        5.000005\n",
              "25%         -0.673665       -0.187840       11.749997\n",
              "50%          0.002129        1.502898       18.506363\n",
              "75%          0.678266        3.187172       25.261393\n",
              "max          4.553337       13.301662       31.999969"
            ]
          },
          "execution_count": 14,
          "metadata": {
            "tags": []
          },
          "output_type": "execute_result"
        }
      ],
      "source": [
        "data.describe()"
      ]
    },
    {
      "cell_type": "code",
      "execution_count": null,
      "metadata": {
        "colab": {
          "base_uri": "https://localhost:8080/",
          "height": 367
        },
        "id": "1GCmP9H6_6uE",
        "outputId": "389e26c7-7030-4d80-b48a-a360080b878c"
      },
      "outputs": [
        {
          "data": {
            "text/plain": [
              "(array([1.22000e+02, 2.50800e+03, 2.81180e+04, 1.40963e+05, 3.15165e+05,\n",
              "        3.24594e+05, 1.52739e+05, 3.25730e+04, 3.09000e+03, 1.28000e+02]),\n",
              " array([-4.61412738, -3.69738095, -2.78063452, -1.86388809, -0.94714166,\n",
              "        -0.03039522,  0.88635121,  1.80309764,  2.71984407,  3.6365905 ,\n",
              "         4.55333693]),\n",
              " <a list of 10 Patch objects>)"
            ]
          },
          "execution_count": 15,
          "metadata": {
            "tags": []
          },
          "output_type": "execute_result"
        },
        {
          "data": {
            "image/png": "[encoded data removed]",
            "text/plain": [
              "<Figure size 432x288 with 1 Axes>"
            ]
          },
          "metadata": {
            "needs_background": "light",
            "tags": []
          },
          "output_type": "display_data"
        }
      ],
      "source": [
        "plt.hist(data[\"A\"])"
      ]
    },
    {
      "cell_type": "code",
      "execution_count": null,
      "metadata": {
        "colab": {
          "base_uri": "https://localhost:8080/",
          "height": 367
        },
        "id": "N9nUkcxA_6uF",
        "outputId": "e9fae6ec-8936-4406-e6c4-c36075e781f3"
      },
      "outputs": [
        {
          "data": {
            "text/plain": [
              "(array([1.20000e+01, 8.29000e+02, 1.39770e+04, 1.01506e+05, 3.00478e+05,\n",
              "        3.64624e+05, 1.79885e+05, 3.57100e+04, 2.90300e+03, 7.60000e+01]),\n",
              " array([-11.34427637,  -8.87968257,  -6.41508878,  -3.95049498,\n",
              "         -1.48590119,   0.9786926 ,   3.4432864 ,   5.90788019,\n",
              "          8.37247399,  10.83706778,  13.30166157]),\n",
              " <a list of 10 Patch objects>)"
            ]
          },
          "execution_count": 16,
          "metadata": {
            "tags": []
          },
          "output_type": "execute_result"
        },
        {
          "data": {
            "image/png": "[encoded data removed]",
            "text/plain": [
              "<Figure size 432x288 with 1 Axes>"
            ]
          },
          "metadata": {
            "needs_background": "light",
            "tags": []
          },
          "output_type": "display_data"
        }
      ],
      "source": [
        "plt.hist(data[\"B\"])"
      ]
    },
    {
      "cell_type": "code",
      "execution_count": null,
      "metadata": {
        "colab": {
          "base_uri": "https://localhost:8080/",
          "height": 367
        },
        "id": "W1Y5s-qY_6uG",
        "outputId": "8078d044-b46c-4183-b68e-0a75194160b3"
      },
      "outputs": [
        {
          "data": {
            "text/plain": [
              "(array([ 99574., 100661.,  99456.,  99788., 100310.,  99741.,  99869.,\n",
              "        100111., 100293., 100197.]),\n",
              " array([ 5.00000455,  7.70000101, 10.39999746, 13.09999392, 15.79999037,\n",
              "        18.49998682, 21.19998328, 23.89997973, 26.59997619, 29.29997264,\n",
              "        31.99996909]),\n",
              " <a list of 10 Patch objects>)"
            ]
          },
          "execution_count": 17,
          "metadata": {
            "tags": []
          },
          "output_type": "execute_result"
        },
        {
          "data": {
            "image/png": "[encoded data removed]",
            "text/plain": [
              "<Figure size 432x288 with 1 Axes>"
            ]
          },
          "metadata": {
            "needs_background": "light",
            "tags": []
          },
          "output_type": "display_data"
        }
      ],
      "source": [
        "plt.hist(data[\"C\"])"
      ]
    },
    {
      "cell_type": "code",
      "execution_count": null,
      "metadata": {
        "id": "KPDL3dga_6uH"
      },
      "outputs": [],
      "source": [
        "data = pd.read_csv(\"/content/drive/My Drive/Curso Machine Learning con Python/datasets/customer-churn-model/Customer Churn Model.txt\")"
      ]
    },
    {
      "cell_type": "code",
      "execution_count": null,
      "metadata": {
        "colab": {
          "base_uri": "https://localhost:8080/",
          "height": 204
        },
        "id": "HA94Q1BK_6uI",
        "outputId": "404b0219-bace-4f83-ee13-d83c9207d107"
      },
      "outputs": [
        {
          "data": {
            "text/html": [
              "<div>\n",
              "<style scoped>\n",
              "    .dataframe tbody tr th:only-of-type {\n",
              "        vertical-align: middle;\n",
              "    }\n",
              "\n",
              "    .dataframe tbody tr th {\n",
              "        vertical-align: top;\n",
              "    }\n",
              "\n",
              "    .dataframe thead th {\n",
              "        text-align: right;\n",
              "    }\n",
              "</style>\n",
              "<table border=\"1\" class=\"dataframe\">\n",
              "  <thead>\n",
              "    <tr style=\"text-align: right;\">\n",
              "      <th></th>\n",
              "      <th>State</th>\n",
              "      <th>Account Length</th>\n",
              "      <th>Area Code</th>\n",
              "      <th>Phone</th>\n",
              "      <th>Int'l Plan</th>\n",
              "      <th>VMail Plan</th>\n",
              "      <th>VMail Message</th>\n",
              "      <th>Day Mins</th>\n",
              "      <th>Day Calls</th>\n",
              "      <th>Day Charge</th>\n",
              "      <th>Eve Mins</th>\n",
              "      <th>Eve Calls</th>\n",
              "      <th>Eve Charge</th>\n",
              "      <th>Night Mins</th>\n",
              "      <th>Night Calls</th>\n",
              "      <th>Night Charge</th>\n",
              "      <th>Intl Mins</th>\n",
              "      <th>Intl Calls</th>\n",
              "      <th>Intl Charge</th>\n",
              "      <th>CustServ Calls</th>\n",
              "      <th>Churn?</th>\n",
              "    </tr>\n",
              "  </thead>\n",
              "  <tbody>\n",
              "    <tr>\n",
              "      <th>0</th>\n",
              "      <td>KS</td>\n",
              "      <td>128</td>\n",
              "      <td>415</td>\n",
              "      <td>382-4657</td>\n",
              "      <td>no</td>\n",
              "      <td>yes</td>\n",
              "      <td>25</td>\n",
              "      <td>265.1</td>\n",
              "      <td>110</td>\n",
              "      <td>45.07</td>\n",
              "      <td>197.4</td>\n",
              "      <td>99</td>\n",
              "      <td>16.78</td>\n",
              "      <td>244.7</td>\n",
              "      <td>91</td>\n",
              "      <td>11.01</td>\n",
              "      <td>10.0</td>\n",
              "      <td>3</td>\n",
              "      <td>2.70</td>\n",
              "      <td>1</td>\n",
              "      <td>False.</td>\n",
              "    </tr>\n",
              "    <tr>\n",
              "      <th>1</th>\n",
              "      <td>OH</td>\n",
              "      <td>107</td>\n",
              "      <td>415</td>\n",
              "      <td>371-7191</td>\n",
              "      <td>no</td>\n",
              "      <td>yes</td>\n",
              "      <td>26</td>\n",
              "      <td>161.6</td>\n",
              "      <td>123</td>\n",
              "      <td>27.47</td>\n",
              "      <td>195.5</td>\n",
              "      <td>103</td>\n",
              "      <td>16.62</td>\n",
              "      <td>254.4</td>\n",
              "      <td>103</td>\n",
              "      <td>11.45</td>\n",
              "      <td>13.7</td>\n",
              "      <td>3</td>\n",
              "      <td>3.70</td>\n",
              "      <td>1</td>\n",
              "      <td>False.</td>\n",
              "    </tr>\n",
              "    <tr>\n",
              "      <th>2</th>\n",
              "      <td>NJ</td>\n",
              "      <td>137</td>\n",
              "      <td>415</td>\n",
              "      <td>358-1921</td>\n",
              "      <td>no</td>\n",
              "      <td>no</td>\n",
              "      <td>0</td>\n",
              "      <td>243.4</td>\n",
              "      <td>114</td>\n",
              "      <td>41.38</td>\n",
              "      <td>121.2</td>\n",
              "      <td>110</td>\n",
              "      <td>10.30</td>\n",
              "      <td>162.6</td>\n",
              "      <td>104</td>\n",
              "      <td>7.32</td>\n",
              "      <td>12.2</td>\n",
              "      <td>5</td>\n",
              "      <td>3.29</td>\n",
              "      <td>0</td>\n",
              "      <td>False.</td>\n",
              "    </tr>\n",
              "    <tr>\n",
              "      <th>3</th>\n",
              "      <td>OH</td>\n",
              "      <td>84</td>\n",
              "      <td>408</td>\n",
              "      <td>375-9999</td>\n",
              "      <td>yes</td>\n",
              "      <td>no</td>\n",
              "      <td>0</td>\n",
              "      <td>299.4</td>\n",
              "      <td>71</td>\n",
              "      <td>50.90</td>\n",
              "      <td>61.9</td>\n",
              "      <td>88</td>\n",
              "      <td>5.26</td>\n",
              "      <td>196.9</td>\n",
              "      <td>89</td>\n",
              "      <td>8.86</td>\n",
              "      <td>6.6</td>\n",
              "      <td>7</td>\n",
              "      <td>1.78</td>\n",
              "      <td>2</td>\n",
              "      <td>False.</td>\n",
              "    </tr>\n",
              "    <tr>\n",
              "      <th>4</th>\n",
              "      <td>OK</td>\n",
              "      <td>75</td>\n",
              "      <td>415</td>\n",
              "      <td>330-6626</td>\n",
              "      <td>yes</td>\n",
              "      <td>no</td>\n",
              "      <td>0</td>\n",
              "      <td>166.7</td>\n",
              "      <td>113</td>\n",
              "      <td>28.34</td>\n",
              "      <td>148.3</td>\n",
              "      <td>122</td>\n",
              "      <td>12.61</td>\n",
              "      <td>186.9</td>\n",
              "      <td>121</td>\n",
              "      <td>8.41</td>\n",
              "      <td>10.1</td>\n",
              "      <td>3</td>\n",
              "      <td>2.73</td>\n",
              "      <td>3</td>\n",
              "      <td>False.</td>\n",
              "    </tr>\n",
              "  </tbody>\n",
              "</table>\n",
              "</div>"
            ],
            "text/plain": [
              "  State  Account Length  Area Code  ... Intl Charge CustServ Calls  Churn?\n",
              "0    KS             128        415  ...        2.70              1  False.\n",
              "1    OH             107        415  ...        3.70              1  False.\n",
              "2    NJ             137        415  ...        3.29              0  False.\n",
              "3    OH              84        408  ...        1.78              2  False.\n",
              "4    OK              75        415  ...        2.73              3  False.\n",
              "\n",
              "[5 rows x 21 columns]"
            ]
          },
          "execution_count": 19,
          "metadata": {
            "tags": []
          },
          "output_type": "execute_result"
        }
      ],
      "source": [
        "data.head()"
      ]
    },
    {
      "cell_type": "code",
      "execution_count": null,
      "metadata": {
        "id": "hN3pktK9_6uJ"
      },
      "outputs": [],
      "source": [
        "colum_names = data.columns.values.tolist()"
      ]
    },
    {
      "cell_type": "code",
      "execution_count": null,
      "metadata": {
        "colab": {
          "base_uri": "https://localhost:8080/",
          "height": 34
        },
        "id": "321RtjMG_6uK",
        "outputId": "153b3032-42cb-42da-ee53-df9aa52d72a4"
      },
      "outputs": [
        {
          "data": {
            "text/plain": [
              "21"
            ]
          },
          "execution_count": 21,
          "metadata": {
            "tags": []
          },
          "output_type": "execute_result"
        }
      ],
      "source": [
        "a = len(colum_names)\n",
        "a"
      ]
    },
    {
      "cell_type": "code",
      "execution_count": null,
      "metadata": {
        "id": "gFJSTVfp_6uL"
      },
      "outputs": [],
      "source": [
        "new_data = pd.DataFrame(\n",
        "    {\n",
        "        'Column Name': colum_names,\n",
        "        'A' : np.random.randn(a),\n",
        "        'B' : np.random.uniform(0,1,a)\n",
        "    }, index = range(42, 42 + a)\n",
        ")"
      ]
    },
    {
      "cell_type": "code",
      "execution_count": null,
      "metadata": {
        "colab": {
          "base_uri": "https://localhost:8080/",
          "height": 700
        },
        "id": "ovmUIoXZ_6uM",
        "outputId": "8baf6056-944f-404d-94e0-b02247d348e3"
      },
      "outputs": [
        {
          "data": {
            "text/html": [
              "<div>\n",
              "<style scoped>\n",
              "    .dataframe tbody tr th:only-of-type {\n",
              "        vertical-align: middle;\n",
              "    }\n",
              "\n",
              "    .dataframe tbody tr th {\n",
              "        vertical-align: top;\n",
              "    }\n",
              "\n",
              "    .dataframe thead th {\n",
              "        text-align: right;\n",
              "    }\n",
              "</style>\n",
              "<table border=\"1\" class=\"dataframe\">\n",
              "  <thead>\n",
              "    <tr style=\"text-align: right;\">\n",
              "      <th></th>\n",
              "      <th>Column Name</th>\n",
              "      <th>A</th>\n",
              "      <th>B</th>\n",
              "    </tr>\n",
              "  </thead>\n",
              "  <tbody>\n",
              "    <tr>\n",
              "      <th>42</th>\n",
              "      <td>State</td>\n",
              "      <td>0.009601</td>\n",
              "      <td>0.571675</td>\n",
              "    </tr>\n",
              "    <tr>\n",
              "      <th>43</th>\n",
              "      <td>Account Length</td>\n",
              "      <td>1.127091</td>\n",
              "      <td>0.203394</td>\n",
              "    </tr>\n",
              "    <tr>\n",
              "      <th>44</th>\n",
              "      <td>Area Code</td>\n",
              "      <td>1.413309</td>\n",
              "      <td>0.426407</td>\n",
              "    </tr>\n",
              "    <tr>\n",
              "      <th>45</th>\n",
              "      <td>Phone</td>\n",
              "      <td>1.335081</td>\n",
              "      <td>0.190180</td>\n",
              "    </tr>\n",
              "    <tr>\n",
              "      <th>46</th>\n",
              "      <td>Int'l Plan</td>\n",
              "      <td>-0.828382</td>\n",
              "      <td>0.156801</td>\n",
              "    </tr>\n",
              "    <tr>\n",
              "      <th>47</th>\n",
              "      <td>VMail Plan</td>\n",
              "      <td>0.608314</td>\n",
              "      <td>0.255236</td>\n",
              "    </tr>\n",
              "    <tr>\n",
              "      <th>48</th>\n",
              "      <td>VMail Message</td>\n",
              "      <td>-1.529998</td>\n",
              "      <td>0.688072</td>\n",
              "    </tr>\n",
              "    <tr>\n",
              "      <th>49</th>\n",
              "      <td>Day Mins</td>\n",
              "      <td>0.463638</td>\n",
              "      <td>0.638551</td>\n",
              "    </tr>\n",
              "    <tr>\n",
              "      <th>50</th>\n",
              "      <td>Day Calls</td>\n",
              "      <td>-0.419050</td>\n",
              "      <td>0.900912</td>\n",
              "    </tr>\n",
              "    <tr>\n",
              "      <th>51</th>\n",
              "      <td>Day Charge</td>\n",
              "      <td>0.180764</td>\n",
              "      <td>0.204704</td>\n",
              "    </tr>\n",
              "    <tr>\n",
              "      <th>52</th>\n",
              "      <td>Eve Mins</td>\n",
              "      <td>-0.569117</td>\n",
              "      <td>0.213367</td>\n",
              "    </tr>\n",
              "    <tr>\n",
              "      <th>53</th>\n",
              "      <td>Eve Calls</td>\n",
              "      <td>-1.260274</td>\n",
              "      <td>0.206531</td>\n",
              "    </tr>\n",
              "    <tr>\n",
              "      <th>54</th>\n",
              "      <td>Eve Charge</td>\n",
              "      <td>0.241916</td>\n",
              "      <td>0.431233</td>\n",
              "    </tr>\n",
              "    <tr>\n",
              "      <th>55</th>\n",
              "      <td>Night Mins</td>\n",
              "      <td>-0.105272</td>\n",
              "      <td>0.562286</td>\n",
              "    </tr>\n",
              "    <tr>\n",
              "      <th>56</th>\n",
              "      <td>Night Calls</td>\n",
              "      <td>-0.788214</td>\n",
              "      <td>0.735034</td>\n",
              "    </tr>\n",
              "    <tr>\n",
              "      <th>57</th>\n",
              "      <td>Night Charge</td>\n",
              "      <td>1.190481</td>\n",
              "      <td>0.578185</td>\n",
              "    </tr>\n",
              "    <tr>\n",
              "      <th>58</th>\n",
              "      <td>Intl Mins</td>\n",
              "      <td>-1.857890</td>\n",
              "      <td>0.029463</td>\n",
              "    </tr>\n",
              "    <tr>\n",
              "      <th>59</th>\n",
              "      <td>Intl Calls</td>\n",
              "      <td>-0.085863</td>\n",
              "      <td>0.238753</td>\n",
              "    </tr>\n",
              "    <tr>\n",
              "      <th>60</th>\n",
              "      <td>Intl Charge</td>\n",
              "      <td>-0.622193</td>\n",
              "      <td>0.324741</td>\n",
              "    </tr>\n",
              "    <tr>\n",
              "      <th>61</th>\n",
              "      <td>CustServ Calls</td>\n",
              "      <td>0.839831</td>\n",
              "      <td>0.839604</td>\n",
              "    </tr>\n",
              "    <tr>\n",
              "      <th>62</th>\n",
              "      <td>Churn?</td>\n",
              "      <td>0.570857</td>\n",
              "      <td>0.642823</td>\n",
              "    </tr>\n",
              "  </tbody>\n",
              "</table>\n",
              "</div>"
            ],
            "text/plain": [
              "       Column Name         A         B\n",
              "42           State  0.009601  0.571675\n",
              "43  Account Length  1.127091  0.203394\n",
              "44       Area Code  1.413309  0.426407\n",
              "45           Phone  1.335081  0.190180\n",
              "46      Int'l Plan -0.828382  0.156801\n",
              "47      VMail Plan  0.608314  0.255236\n",
              "48   VMail Message -1.529998  0.688072\n",
              "49        Day Mins  0.463638  0.638551\n",
              "50       Day Calls -0.419050  0.900912\n",
              "51      Day Charge  0.180764  0.204704\n",
              "52        Eve Mins -0.569117  0.213367\n",
              "53       Eve Calls -1.260274  0.206531\n",
              "54      Eve Charge  0.241916  0.431233\n",
              "55      Night Mins -0.105272  0.562286\n",
              "56     Night Calls -0.788214  0.735034\n",
              "57    Night Charge  1.190481  0.578185\n",
              "58       Intl Mins -1.857890  0.029463\n",
              "59      Intl Calls -0.085863  0.238753\n",
              "60     Intl Charge -0.622193  0.324741\n",
              "61  CustServ Calls  0.839831  0.839604\n",
              "62          Churn?  0.570857  0.642823"
            ]
          },
          "execution_count": 23,
          "metadata": {
            "tags": []
          },
          "output_type": "execute_result"
        }
      ],
      "source": [
        "new_data"
      ]
    },
    {
      "cell_type": "code",
      "execution_count": null,
      "metadata": {
        "id": "97ZGkX3z_6uN"
      },
      "outputs": [],
      "source": [
        ""
      ]
    }
  ],
  "metadata": {
    "colab": {
      "name": "T2 - 2 - Data Cleaning - Funciones de distribución de probabilidad.ipynb",
      "provenance": [],
      "include_colab_link": true
    },
    "kernelspec": {
      "display_name": "Python 3",
      "language": "python",
      "name": "python3"
    },
    "language_info": {
      "codemirror_mode": {
        "name": "ipython",
        "version": 3
      },
      "file_extension": ".py",
      "mimetype": "text/x-python",
      "name": "python",
      "nbconvert_exporter": "python",
      "pygments_lexer": "ipython3",
      "version": "3.6.4"
    }
  },
  "nbformat": 4,
  "nbformat_minor": 0
}