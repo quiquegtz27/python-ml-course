{
  "cells": [
    {
      "cell_type": "markdown",
      "metadata": {
        "id": "nOawA8wYoTxA"
      },
      "source": [
        "<a href=\"https://colab.research.google.com/github/joanby/python-ml-course/blob/master/notebooks/T4%20-%205%20-%20Linear%20Regression%20-%20Problemas%20con%20la%20regresión%20lineal-Colab.ipynb\" target=\"_parent\"><img src=\"https://colab.research.google.com/assets/colab-badge.svg\" alt=\"Open In Colab\"/></a>"
      ]
    },
    {
      "cell_type": "markdown",
      "metadata": {
        "id": "HoAxV8swoTxF"
      },
      "source": [
        "# Clonamos el repositorio para obtener los dataSet"
      ]
    },
    {
      "cell_type": "code",
      "execution_count": 1,
      "metadata": {
        "id": "J_naSPQToTxG",
        "outputId": "70ee129e-21d6-40b2-cf35-7c89942b1152",
        "colab": {
          "base_uri": "https://localhost:8080/"
        }
      },
      "outputs": [
        {
          "output_type": "stream",
          "name": "stdout",
          "text": [
            "Cloning into 'python-ml-course'...\n",
            "remote: Enumerating objects: 17706, done.\u001b[K\n",
            "remote: Total 17706 (delta 0), reused 0 (delta 0), pack-reused 17706\u001b[K\n",
            "Receiving objects: 100% (17706/17706), 523.15 MiB | 16.31 MiB/s, done.\n",
            "Resolving deltas: 100% (333/333), done.\n",
            "Checking out files: 100% (16940/16940), done.\n"
          ]
        }
      ],
      "source": [
        "!git clone https://github.com/joanby/python-ml-course.git"
      ]
    },
    {
      "cell_type": "markdown",
      "metadata": {
        "id": "5frvip9poTxH"
      },
      "source": [
        "# Damos acceso a nuestro Drive"
      ]
    },
    {
      "cell_type": "code",
      "execution_count": null,
      "metadata": {
        "id": "ZQ5i0438oTxI"
      },
      "outputs": [],
      "source": [
        "from google.colab import drive\n",
        "drive.mount('/content/drive')\n",
        "# Test it\n",
        "!ls '/content/drive/My Drive' "
      ]
    },
    {
      "cell_type": "code",
      "execution_count": null,
      "metadata": {
        "id": "3btZjIFkoTxJ"
      },
      "outputs": [],
      "source": [
        "from google.colab import files # Para manejar los archivos y, por ejemplo, exportar a su navegador\n",
        "import glob # Para manejar los archivos y, por ejemplo, exportar a su navegador\n",
        "from google.colab import drive # Montar tu Google drive"
      ]
    },
    {
      "cell_type": "markdown",
      "metadata": {
        "id": "vg4x1kvJoTxK"
      },
      "source": [
        "# El tratamiento de las variables categóricas"
      ]
    },
    {
      "cell_type": "code",
      "execution_count": 8,
      "metadata": {
        "id": "D_Y_6wIaoTxL"
      },
      "outputs": [],
      "source": [
        "import pandas as pd\n",
        "import numpy as np\n",
        "from sklearn.linear_model import LinearRegression"
      ]
    },
    {
      "cell_type": "code",
      "execution_count": null,
      "metadata": {
        "id": "qy_zsQBsoTxL"
      },
      "outputs": [],
      "source": [
        "df = pd.read_csv(\"/content/python-ml-course/datasets/ecom-expense/Ecom Expense.csv\")"
      ]
    },
    {
      "cell_type": "code",
      "execution_count": null,
      "metadata": {
        "id": "bjZFr8aAoTxN",
        "outputId": "8edd3a94-091c-4856-e596-bb33e2ea1558"
      },
      "outputs": [
        {
          "data": {
            "text/html": [
              "<div>\n",
              "<style scoped>\n",
              "    .dataframe tbody tr th:only-of-type {\n",
              "        vertical-align: middle;\n",
              "    }\n",
              "\n",
              "    .dataframe tbody tr th {\n",
              "        vertical-align: top;\n",
              "    }\n",
              "\n",
              "    .dataframe thead th {\n",
              "        text-align: right;\n",
              "    }\n",
              "</style>\n",
              "<table border=\"1\" class=\"dataframe\">\n",
              "  <thead>\n",
              "    <tr style=\"text-align: right;\">\n",
              "      <th></th>\n",
              "      <th>Transaction ID</th>\n",
              "      <th>Age</th>\n",
              "      <th>Items</th>\n",
              "      <th>Monthly Income</th>\n",
              "      <th>Transaction Time</th>\n",
              "      <th>Record</th>\n",
              "      <th>Gender</th>\n",
              "      <th>City Tier</th>\n",
              "      <th>Total Spend</th>\n",
              "    </tr>\n",
              "  </thead>\n",
              "  <tbody>\n",
              "    <tr>\n",
              "      <th>0</th>\n",
              "      <td>TXN001</td>\n",
              "      <td>42</td>\n",
              "      <td>10</td>\n",
              "      <td>7313</td>\n",
              "      <td>627.668127</td>\n",
              "      <td>5</td>\n",
              "      <td>Female</td>\n",
              "      <td>Tier 1</td>\n",
              "      <td>4198.385084</td>\n",
              "    </tr>\n",
              "    <tr>\n",
              "      <th>1</th>\n",
              "      <td>TXN002</td>\n",
              "      <td>24</td>\n",
              "      <td>8</td>\n",
              "      <td>17747</td>\n",
              "      <td>126.904567</td>\n",
              "      <td>3</td>\n",
              "      <td>Female</td>\n",
              "      <td>Tier 2</td>\n",
              "      <td>4134.976648</td>\n",
              "    </tr>\n",
              "    <tr>\n",
              "      <th>2</th>\n",
              "      <td>TXN003</td>\n",
              "      <td>47</td>\n",
              "      <td>11</td>\n",
              "      <td>22845</td>\n",
              "      <td>873.469701</td>\n",
              "      <td>2</td>\n",
              "      <td>Male</td>\n",
              "      <td>Tier 2</td>\n",
              "      <td>5166.614455</td>\n",
              "    </tr>\n",
              "    <tr>\n",
              "      <th>3</th>\n",
              "      <td>TXN004</td>\n",
              "      <td>50</td>\n",
              "      <td>11</td>\n",
              "      <td>18552</td>\n",
              "      <td>380.219428</td>\n",
              "      <td>7</td>\n",
              "      <td>Female</td>\n",
              "      <td>Tier 1</td>\n",
              "      <td>7784.447676</td>\n",
              "    </tr>\n",
              "    <tr>\n",
              "      <th>4</th>\n",
              "      <td>TXN005</td>\n",
              "      <td>60</td>\n",
              "      <td>2</td>\n",
              "      <td>14439</td>\n",
              "      <td>403.374223</td>\n",
              "      <td>2</td>\n",
              "      <td>Female</td>\n",
              "      <td>Tier 2</td>\n",
              "      <td>3254.160485</td>\n",
              "    </tr>\n",
              "  </tbody>\n",
              "</table>\n",
              "</div>"
            ],
            "text/plain": [
              "  Transaction ID  Age    Items   Monthly Income  Transaction Time  Record  \\\n",
              "0         TXN001    42       10            7313        627.668127       5   \n",
              "1         TXN002    24        8           17747        126.904567       3   \n",
              "2         TXN003    47       11           22845        873.469701       2   \n",
              "3         TXN004    50       11           18552        380.219428       7   \n",
              "4         TXN005    60        2           14439        403.374223       2   \n",
              "\n",
              "   Gender City Tier  Total Spend  \n",
              "0  Female    Tier 1  4198.385084  \n",
              "1  Female    Tier 2  4134.976648  \n",
              "2    Male    Tier 2  5166.614455  \n",
              "3  Female    Tier 1  7784.447676  \n",
              "4  Female    Tier 2  3254.160485  "
            ]
          },
          "execution_count": 3,
          "metadata": {},
          "output_type": "execute_result"
        }
      ],
      "source": [
        "df.head()"
      ]
    },
    {
      "cell_type": "code",
      "execution_count": null,
      "metadata": {
        "id": "H5Vq02luoTxO"
      },
      "outputs": [],
      "source": [
        "dummy_gender = pd.get_dummies(df[\"Gender\"], prefix = \"Gender\")\n",
        "dummy_city_tier = pd.get_dummies(df[\"City Tier\"], prefix = \"City\")"
      ]
    },
    {
      "cell_type": "code",
      "execution_count": null,
      "metadata": {
        "id": "z2xnPRcboTxP",
        "outputId": "105454de-cfcb-41f2-fb4b-8a46b9bab8d1"
      },
      "outputs": [
        {
          "data": {
            "text/html": [
              "<div>\n",
              "<style scoped>\n",
              "    .dataframe tbody tr th:only-of-type {\n",
              "        vertical-align: middle;\n",
              "    }\n",
              "\n",
              "    .dataframe tbody tr th {\n",
              "        vertical-align: top;\n",
              "    }\n",
              "\n",
              "    .dataframe thead th {\n",
              "        text-align: right;\n",
              "    }\n",
              "</style>\n",
              "<table border=\"1\" class=\"dataframe\">\n",
              "  <thead>\n",
              "    <tr style=\"text-align: right;\">\n",
              "      <th></th>\n",
              "      <th>Gender_Female</th>\n",
              "      <th>Gender_Male</th>\n",
              "    </tr>\n",
              "  </thead>\n",
              "  <tbody>\n",
              "    <tr>\n",
              "      <th>0</th>\n",
              "      <td>1</td>\n",
              "      <td>0</td>\n",
              "    </tr>\n",
              "    <tr>\n",
              "      <th>1</th>\n",
              "      <td>1</td>\n",
              "      <td>0</td>\n",
              "    </tr>\n",
              "    <tr>\n",
              "      <th>2</th>\n",
              "      <td>0</td>\n",
              "      <td>1</td>\n",
              "    </tr>\n",
              "    <tr>\n",
              "      <th>3</th>\n",
              "      <td>1</td>\n",
              "      <td>0</td>\n",
              "    </tr>\n",
              "    <tr>\n",
              "      <th>4</th>\n",
              "      <td>1</td>\n",
              "      <td>0</td>\n",
              "    </tr>\n",
              "  </tbody>\n",
              "</table>\n",
              "</div>"
            ],
            "text/plain": [
              "   Gender_Female  Gender_Male\n",
              "0              1            0\n",
              "1              1            0\n",
              "2              0            1\n",
              "3              1            0\n",
              "4              1            0"
            ]
          },
          "execution_count": 5,
          "metadata": {},
          "output_type": "execute_result"
        }
      ],
      "source": [
        "dummy_gender.head()"
      ]
    },
    {
      "cell_type": "code",
      "execution_count": null,
      "metadata": {
        "id": "411ZmHvEoTxP",
        "outputId": "59bb6eb5-791c-4239-edf3-8fc158e18569"
      },
      "outputs": [
        {
          "data": {
            "text/html": [
              "<div>\n",
              "<style scoped>\n",
              "    .dataframe tbody tr th:only-of-type {\n",
              "        vertical-align: middle;\n",
              "    }\n",
              "\n",
              "    .dataframe tbody tr th {\n",
              "        vertical-align: top;\n",
              "    }\n",
              "\n",
              "    .dataframe thead th {\n",
              "        text-align: right;\n",
              "    }\n",
              "</style>\n",
              "<table border=\"1\" class=\"dataframe\">\n",
              "  <thead>\n",
              "    <tr style=\"text-align: right;\">\n",
              "      <th></th>\n",
              "      <th>City_Tier 1</th>\n",
              "      <th>City_Tier 2</th>\n",
              "      <th>City_Tier 3</th>\n",
              "    </tr>\n",
              "  </thead>\n",
              "  <tbody>\n",
              "    <tr>\n",
              "      <th>0</th>\n",
              "      <td>1</td>\n",
              "      <td>0</td>\n",
              "      <td>0</td>\n",
              "    </tr>\n",
              "    <tr>\n",
              "      <th>1</th>\n",
              "      <td>0</td>\n",
              "      <td>1</td>\n",
              "      <td>0</td>\n",
              "    </tr>\n",
              "    <tr>\n",
              "      <th>2</th>\n",
              "      <td>0</td>\n",
              "      <td>1</td>\n",
              "      <td>0</td>\n",
              "    </tr>\n",
              "    <tr>\n",
              "      <th>3</th>\n",
              "      <td>1</td>\n",
              "      <td>0</td>\n",
              "      <td>0</td>\n",
              "    </tr>\n",
              "    <tr>\n",
              "      <th>4</th>\n",
              "      <td>0</td>\n",
              "      <td>1</td>\n",
              "      <td>0</td>\n",
              "    </tr>\n",
              "  </tbody>\n",
              "</table>\n",
              "</div>"
            ],
            "text/plain": [
              "   City_Tier 1  City_Tier 2  City_Tier 3\n",
              "0            1            0            0\n",
              "1            0            1            0\n",
              "2            0            1            0\n",
              "3            1            0            0\n",
              "4            0            1            0"
            ]
          },
          "execution_count": 6,
          "metadata": {},
          "output_type": "execute_result"
        }
      ],
      "source": [
        "dummy_city_tier.head()"
      ]
    },
    {
      "cell_type": "code",
      "execution_count": null,
      "metadata": {
        "id": "5eVXksyVoTxQ",
        "outputId": "f908adf7-2155-4409-8ee7-0c896d0a9fd6"
      },
      "outputs": [
        {
          "data": {
            "text/plain": [
              "['Transaction ID',\n",
              " 'Age ',\n",
              " ' Items ',\n",
              " 'Monthly Income',\n",
              " 'Transaction Time',\n",
              " 'Record',\n",
              " 'Gender',\n",
              " 'City Tier',\n",
              " 'Total Spend']"
            ]
          },
          "execution_count": 7,
          "metadata": {},
          "output_type": "execute_result"
        }
      ],
      "source": [
        "column_names = df.columns.values.tolist()\n",
        "column_names"
      ]
    },
    {
      "cell_type": "code",
      "execution_count": null,
      "metadata": {
        "id": "fUVr3IsvoTxR",
        "outputId": "6c0999dd-67b0-4884-8021-81bc0aaec26a"
      },
      "outputs": [
        {
          "data": {
            "text/html": [
              "<div>\n",
              "<style scoped>\n",
              "    .dataframe tbody tr th:only-of-type {\n",
              "        vertical-align: middle;\n",
              "    }\n",
              "\n",
              "    .dataframe tbody tr th {\n",
              "        vertical-align: top;\n",
              "    }\n",
              "\n",
              "    .dataframe thead th {\n",
              "        text-align: right;\n",
              "    }\n",
              "</style>\n",
              "<table border=\"1\" class=\"dataframe\">\n",
              "  <thead>\n",
              "    <tr style=\"text-align: right;\">\n",
              "      <th></th>\n",
              "      <th>Transaction ID</th>\n",
              "      <th>Age</th>\n",
              "      <th>Items</th>\n",
              "      <th>Monthly Income</th>\n",
              "      <th>Transaction Time</th>\n",
              "      <th>Record</th>\n",
              "      <th>Gender</th>\n",
              "      <th>City Tier</th>\n",
              "      <th>Total Spend</th>\n",
              "      <th>Gender_Female</th>\n",
              "      <th>Gender_Male</th>\n",
              "    </tr>\n",
              "  </thead>\n",
              "  <tbody>\n",
              "    <tr>\n",
              "      <th>0</th>\n",
              "      <td>TXN001</td>\n",
              "      <td>42</td>\n",
              "      <td>10</td>\n",
              "      <td>7313</td>\n",
              "      <td>627.668127</td>\n",
              "      <td>5</td>\n",
              "      <td>Female</td>\n",
              "      <td>Tier 1</td>\n",
              "      <td>4198.385084</td>\n",
              "      <td>1</td>\n",
              "      <td>0</td>\n",
              "    </tr>\n",
              "    <tr>\n",
              "      <th>1</th>\n",
              "      <td>TXN002</td>\n",
              "      <td>24</td>\n",
              "      <td>8</td>\n",
              "      <td>17747</td>\n",
              "      <td>126.904567</td>\n",
              "      <td>3</td>\n",
              "      <td>Female</td>\n",
              "      <td>Tier 2</td>\n",
              "      <td>4134.976648</td>\n",
              "      <td>1</td>\n",
              "      <td>0</td>\n",
              "    </tr>\n",
              "    <tr>\n",
              "      <th>2</th>\n",
              "      <td>TXN003</td>\n",
              "      <td>47</td>\n",
              "      <td>11</td>\n",
              "      <td>22845</td>\n",
              "      <td>873.469701</td>\n",
              "      <td>2</td>\n",
              "      <td>Male</td>\n",
              "      <td>Tier 2</td>\n",
              "      <td>5166.614455</td>\n",
              "      <td>0</td>\n",
              "      <td>1</td>\n",
              "    </tr>\n",
              "    <tr>\n",
              "      <th>3</th>\n",
              "      <td>TXN004</td>\n",
              "      <td>50</td>\n",
              "      <td>11</td>\n",
              "      <td>18552</td>\n",
              "      <td>380.219428</td>\n",
              "      <td>7</td>\n",
              "      <td>Female</td>\n",
              "      <td>Tier 1</td>\n",
              "      <td>7784.447676</td>\n",
              "      <td>1</td>\n",
              "      <td>0</td>\n",
              "    </tr>\n",
              "    <tr>\n",
              "      <th>4</th>\n",
              "      <td>TXN005</td>\n",
              "      <td>60</td>\n",
              "      <td>2</td>\n",
              "      <td>14439</td>\n",
              "      <td>403.374223</td>\n",
              "      <td>2</td>\n",
              "      <td>Female</td>\n",
              "      <td>Tier 2</td>\n",
              "      <td>3254.160485</td>\n",
              "      <td>1</td>\n",
              "      <td>0</td>\n",
              "    </tr>\n",
              "  </tbody>\n",
              "</table>\n",
              "</div>"
            ],
            "text/plain": [
              "  Transaction ID  Age    Items   Monthly Income  Transaction Time  Record  \\\n",
              "0         TXN001    42       10            7313        627.668127       5   \n",
              "1         TXN002    24        8           17747        126.904567       3   \n",
              "2         TXN003    47       11           22845        873.469701       2   \n",
              "3         TXN004    50       11           18552        380.219428       7   \n",
              "4         TXN005    60        2           14439        403.374223       2   \n",
              "\n",
              "   Gender City Tier  Total Spend  Gender_Female  Gender_Male  \n",
              "0  Female    Tier 1  4198.385084              1            0  \n",
              "1  Female    Tier 2  4134.976648              1            0  \n",
              "2    Male    Tier 2  5166.614455              0            1  \n",
              "3  Female    Tier 1  7784.447676              1            0  \n",
              "4  Female    Tier 2  3254.160485              1            0  "
            ]
          },
          "execution_count": 8,
          "metadata": {},
          "output_type": "execute_result"
        }
      ],
      "source": [
        "df_new = df[column_names].join(dummy_gender)\n",
        "column_names = df_new.columns.values.tolist()\n",
        "df_new.head()"
      ]
    },
    {
      "cell_type": "code",
      "execution_count": null,
      "metadata": {
        "id": "qWyz5cDOoTxR",
        "outputId": "faf41cc8-557d-49ed-8394-f28725fd6a3d"
      },
      "outputs": [
        {
          "data": {
            "text/html": [
              "<div>\n",
              "<style scoped>\n",
              "    .dataframe tbody tr th:only-of-type {\n",
              "        vertical-align: middle;\n",
              "    }\n",
              "\n",
              "    .dataframe tbody tr th {\n",
              "        vertical-align: top;\n",
              "    }\n",
              "\n",
              "    .dataframe thead th {\n",
              "        text-align: right;\n",
              "    }\n",
              "</style>\n",
              "<table border=\"1\" class=\"dataframe\">\n",
              "  <thead>\n",
              "    <tr style=\"text-align: right;\">\n",
              "      <th></th>\n",
              "      <th>Transaction ID</th>\n",
              "      <th>Age</th>\n",
              "      <th>Items</th>\n",
              "      <th>Monthly Income</th>\n",
              "      <th>Transaction Time</th>\n",
              "      <th>Record</th>\n",
              "      <th>Gender</th>\n",
              "      <th>City Tier</th>\n",
              "      <th>Total Spend</th>\n",
              "      <th>Gender_Female</th>\n",
              "      <th>Gender_Male</th>\n",
              "      <th>City_Tier 1</th>\n",
              "      <th>City_Tier 2</th>\n",
              "      <th>City_Tier 3</th>\n",
              "    </tr>\n",
              "  </thead>\n",
              "  <tbody>\n",
              "    <tr>\n",
              "      <th>0</th>\n",
              "      <td>TXN001</td>\n",
              "      <td>42</td>\n",
              "      <td>10</td>\n",
              "      <td>7313</td>\n",
              "      <td>627.668127</td>\n",
              "      <td>5</td>\n",
              "      <td>Female</td>\n",
              "      <td>Tier 1</td>\n",
              "      <td>4198.385084</td>\n",
              "      <td>1</td>\n",
              "      <td>0</td>\n",
              "      <td>1</td>\n",
              "      <td>0</td>\n",
              "      <td>0</td>\n",
              "    </tr>\n",
              "    <tr>\n",
              "      <th>1</th>\n",
              "      <td>TXN002</td>\n",
              "      <td>24</td>\n",
              "      <td>8</td>\n",
              "      <td>17747</td>\n",
              "      <td>126.904567</td>\n",
              "      <td>3</td>\n",
              "      <td>Female</td>\n",
              "      <td>Tier 2</td>\n",
              "      <td>4134.976648</td>\n",
              "      <td>1</td>\n",
              "      <td>0</td>\n",
              "      <td>0</td>\n",
              "      <td>1</td>\n",
              "      <td>0</td>\n",
              "    </tr>\n",
              "    <tr>\n",
              "      <th>2</th>\n",
              "      <td>TXN003</td>\n",
              "      <td>47</td>\n",
              "      <td>11</td>\n",
              "      <td>22845</td>\n",
              "      <td>873.469701</td>\n",
              "      <td>2</td>\n",
              "      <td>Male</td>\n",
              "      <td>Tier 2</td>\n",
              "      <td>5166.614455</td>\n",
              "      <td>0</td>\n",
              "      <td>1</td>\n",
              "      <td>0</td>\n",
              "      <td>1</td>\n",
              "      <td>0</td>\n",
              "    </tr>\n",
              "    <tr>\n",
              "      <th>3</th>\n",
              "      <td>TXN004</td>\n",
              "      <td>50</td>\n",
              "      <td>11</td>\n",
              "      <td>18552</td>\n",
              "      <td>380.219428</td>\n",
              "      <td>7</td>\n",
              "      <td>Female</td>\n",
              "      <td>Tier 1</td>\n",
              "      <td>7784.447676</td>\n",
              "      <td>1</td>\n",
              "      <td>0</td>\n",
              "      <td>1</td>\n",
              "      <td>0</td>\n",
              "      <td>0</td>\n",
              "    </tr>\n",
              "    <tr>\n",
              "      <th>4</th>\n",
              "      <td>TXN005</td>\n",
              "      <td>60</td>\n",
              "      <td>2</td>\n",
              "      <td>14439</td>\n",
              "      <td>403.374223</td>\n",
              "      <td>2</td>\n",
              "      <td>Female</td>\n",
              "      <td>Tier 2</td>\n",
              "      <td>3254.160485</td>\n",
              "      <td>1</td>\n",
              "      <td>0</td>\n",
              "      <td>0</td>\n",
              "      <td>1</td>\n",
              "      <td>0</td>\n",
              "    </tr>\n",
              "  </tbody>\n",
              "</table>\n",
              "</div>"
            ],
            "text/plain": [
              "  Transaction ID  Age    Items   Monthly Income  Transaction Time  Record  \\\n",
              "0         TXN001    42       10            7313        627.668127       5   \n",
              "1         TXN002    24        8           17747        126.904567       3   \n",
              "2         TXN003    47       11           22845        873.469701       2   \n",
              "3         TXN004    50       11           18552        380.219428       7   \n",
              "4         TXN005    60        2           14439        403.374223       2   \n",
              "\n",
              "   Gender City Tier  Total Spend  Gender_Female  Gender_Male  City_Tier 1  \\\n",
              "0  Female    Tier 1  4198.385084              1            0            1   \n",
              "1  Female    Tier 2  4134.976648              1            0            0   \n",
              "2    Male    Tier 2  5166.614455              0            1            0   \n",
              "3  Female    Tier 1  7784.447676              1            0            1   \n",
              "4  Female    Tier 2  3254.160485              1            0            0   \n",
              "\n",
              "   City_Tier 2  City_Tier 3  \n",
              "0            0            0  \n",
              "1            1            0  \n",
              "2            1            0  \n",
              "3            0            0  \n",
              "4            1            0  "
            ]
          },
          "execution_count": 9,
          "metadata": {},
          "output_type": "execute_result"
        }
      ],
      "source": [
        "df_new = df_new[column_names].join(dummy_city_tier)\n",
        "df_new.head()"
      ]
    },
    {
      "cell_type": "code",
      "execution_count": null,
      "metadata": {
        "id": "vthe58OnoTxS"
      },
      "outputs": [],
      "source": [
        "feature_cols = [\"Monthly Income\", \"Transaction Time\", \n",
        "                \"Gender_Female\", \"Gender_Male\", \n",
        "                \"City_Tier 1\", \"City_Tier 2\", \"City_Tier 3\",\n",
        "                \"Record\"]"
      ]
    },
    {
      "cell_type": "code",
      "execution_count": null,
      "metadata": {
        "id": "jhDfUHncoTxS"
      },
      "outputs": [],
      "source": [
        "X = df_new[feature_cols]\n",
        "Y = df_new[\"Total Spend\"]"
      ]
    },
    {
      "cell_type": "code",
      "execution_count": null,
      "metadata": {
        "id": "jMinHPrfoTxT",
        "outputId": "cd9d288b-3920-4f7f-ea91-796bf667e299"
      },
      "outputs": [
        {
          "data": {
            "text/plain": [
              "LinearRegression()"
            ]
          },
          "execution_count": 12,
          "metadata": {},
          "output_type": "execute_result"
        }
      ],
      "source": [
        "lm = LinearRegression()\n",
        "lm.fit(X,Y)"
      ]
    },
    {
      "cell_type": "code",
      "execution_count": null,
      "metadata": {
        "id": "OXv4xoWnoTxT",
        "outputId": "c2e3b612-d03f-4f53-a7ac-bc91f3c82a23"
      },
      "outputs": [
        {
          "name": "stdout",
          "output_type": "stream",
          "text": [
            "-79.41713030137271\n",
            "[ 1.47538980e-01  1.54946125e-01 -1.31025013e+02  1.31025013e+02\n",
            "  7.67643260e+01  5.51389743e+01 -1.31903300e+02  7.72233446e+02]\n"
          ]
        }
      ],
      "source": [
        "print(lm.intercept_)\n",
        "print(lm.coef_)"
      ]
    },
    {
      "cell_type": "code",
      "execution_count": null,
      "metadata": {
        "id": "UfIu2OKKoTxU",
        "outputId": "07427929-95a0-41c0-e366-67989b0dad8a"
      },
      "outputs": [
        {
          "data": {
            "text/plain": [
              "[('Monthly Income', 0.14753898049205746),\n",
              " ('Transaction Time', 0.15494612549589526),\n",
              " ('Gender_Female', -131.02501325554653),\n",
              " ('Gender_Male', 131.02501325554647),\n",
              " ('City_Tier 1', 76.76432601049476),\n",
              " ('City_Tier 2', 55.138974309232474),\n",
              " ('City_Tier 3', -131.9033003197273),\n",
              " ('Record', 772.2334457445645)]"
            ]
          },
          "execution_count": 14,
          "metadata": {},
          "output_type": "execute_result"
        }
      ],
      "source": [
        "list(zip(feature_cols, lm.coef_))"
      ]
    },
    {
      "cell_type": "code",
      "execution_count": null,
      "metadata": {
        "id": "a_86jdJOoTxU",
        "outputId": "138e6735-ecce-4f0b-e523-493c004843b5"
      },
      "outputs": [
        {
          "data": {
            "text/plain": [
              "0.9179923586131016"
            ]
          },
          "execution_count": 15,
          "metadata": {},
          "output_type": "execute_result"
        }
      ],
      "source": [
        "lm.score(X,Y)"
      ]
    },
    {
      "cell_type": "markdown",
      "metadata": {
        "id": "7vKgxLPhoTxV"
      },
      "source": [
        "El modelo puede ser escrito como:\n",
        "* Total_Spend = -79.41713030137362 + 'Monthly Income'* 0.14753898049205738 + 'Transaction Time'* 0.15494612549589545+'Gender_Female'* -131.02501325554567 + 'Gender_Male'* 131.0250132555456+'City_Tier 1'* 76.76432601049527 + 'City_Tier 2'* 55.138974309232474 + 'City_Tier 3'* -131.9033003197278+'Record'* 772.2334457445648\n",
        "    * Si es hombre y vive en CT1: Total_Spend = 128.37220896466724 + 'Monthly Income'* 0.14753898049205738 + 'Transaction Time'* 0.15494612549589545+'Record'* 772.2334457445648\n",
        "    * Si es hombre y vive en CT2: Total_Spend = 106.74685726340445 + 'Monthly Income'* 0.14753898049205738 + 'Transaction Time'* 0.15494612549589545 +'Record'* 772.2334457445648\n",
        "    * Si es hombre y vive en CT3: Total_Spend = -80.29541736555583 + 'Monthly Income'* 0.14753898049205738 + 'Transaction Time'* 0.15494612549589545+'Record'* 772.2334457445648\n",
        "    * Si es mujer y vive en CT1: Total_Spend = -79.41713030137362 + 'Monthly Income'* 0.14753898049205738 + 'Transaction Time'* 0.15494612549589545 - 131.0250132555456+ 76.76432601049527 +'Record'* 772.2334457445648\n",
        "    * Si es mujer y vive en CT2: Total_Spend = -79.41713030137362 + 'Monthly Income'* 0.14753898049205738 + 'Transaction Time'* 0.15494612549589545 - 131.0250132555456+ 55.138974309232474  +'Record'* 772.2334457445648\n",
        "    * Si es mujer y vive en CT3: Total_Spend = -79.41713030137362 + 'Monthly Income'* 0.14753898049205738 + 'Transaction Time'* 0.15494612549589545 - 131.0250132555456-131.9033003197278 +'Record'* 772.2334457445648"
      ]
    },
    {
      "cell_type": "code",
      "execution_count": null,
      "metadata": {
        "id": "6teMWUTtoTxW",
        "outputId": "56ebebb2-756e-4ba9-a204-3da771cc048b"
      },
      "outputs": [
        {
          "data": {
            "text/plain": [
              "-80.29541736555583"
            ]
          },
          "execution_count": 16,
          "metadata": {},
          "output_type": "execute_result"
        }
      ],
      "source": [
        " -79.41713030137362 + 131.0250132555456-131.9033003197278"
      ]
    },
    {
      "cell_type": "code",
      "execution_count": null,
      "metadata": {
        "id": "5bVS4EE8oTxX"
      },
      "outputs": [],
      "source": [
        "df_new[\"prediction\"] = -79.41713030137362 + df_new['Monthly Income']*0.14753898049205738 + df_new['Transaction Time']* 0.15494612549589545+ df_new['Gender_Female'] * (-131.02501325554567) + df_new['Gender_Male'] * 131.0250132555456+ df_new['City_Tier 1']* 76.76432601049527 +  df_new['City_Tier 2']* 55.138974309232474 + df_new['City_Tier 3']* (-131.9033003197278)+ df_new['Record']* 772.2334457445648"
      ]
    },
    {
      "cell_type": "code",
      "execution_count": null,
      "metadata": {
        "id": "CNkuveTHoTxX",
        "outputId": "48d43f91-8e84-4a2b-8f91-345b126174da"
      },
      "outputs": [
        {
          "data": {
            "text/html": [
              "<div>\n",
              "<style scoped>\n",
              "    .dataframe tbody tr th:only-of-type {\n",
              "        vertical-align: middle;\n",
              "    }\n",
              "\n",
              "    .dataframe tbody tr th {\n",
              "        vertical-align: top;\n",
              "    }\n",
              "\n",
              "    .dataframe thead th {\n",
              "        text-align: right;\n",
              "    }\n",
              "</style>\n",
              "<table border=\"1\" class=\"dataframe\">\n",
              "  <thead>\n",
              "    <tr style=\"text-align: right;\">\n",
              "      <th></th>\n",
              "      <th>Transaction ID</th>\n",
              "      <th>Age</th>\n",
              "      <th>Items</th>\n",
              "      <th>Monthly Income</th>\n",
              "      <th>Transaction Time</th>\n",
              "      <th>Record</th>\n",
              "      <th>Gender</th>\n",
              "      <th>City Tier</th>\n",
              "      <th>Total Spend</th>\n",
              "      <th>Gender_Female</th>\n",
              "      <th>Gender_Male</th>\n",
              "      <th>City_Tier 1</th>\n",
              "      <th>City_Tier 2</th>\n",
              "      <th>City_Tier 3</th>\n",
              "      <th>prediction</th>\n",
              "    </tr>\n",
              "  </thead>\n",
              "  <tbody>\n",
              "    <tr>\n",
              "      <th>0</th>\n",
              "      <td>TXN001</td>\n",
              "      <td>42</td>\n",
              "      <td>10</td>\n",
              "      <td>7313</td>\n",
              "      <td>627.668127</td>\n",
              "      <td>5</td>\n",
              "      <td>Female</td>\n",
              "      <td>Tier 1</td>\n",
              "      <td>4198.385084</td>\n",
              "      <td>1</td>\n",
              "      <td>0</td>\n",
              "      <td>1</td>\n",
              "      <td>0</td>\n",
              "      <td>0</td>\n",
              "      <td>4903.696720</td>\n",
              "    </tr>\n",
              "    <tr>\n",
              "      <th>1</th>\n",
              "      <td>TXN002</td>\n",
              "      <td>24</td>\n",
              "      <td>8</td>\n",
              "      <td>17747</td>\n",
              "      <td>126.904567</td>\n",
              "      <td>3</td>\n",
              "      <td>Female</td>\n",
              "      <td>Tier 2</td>\n",
              "      <td>4134.976648</td>\n",
              "      <td>1</td>\n",
              "      <td>0</td>\n",
              "      <td>0</td>\n",
              "      <td>1</td>\n",
              "      <td>0</td>\n",
              "      <td>4799.434826</td>\n",
              "    </tr>\n",
              "    <tr>\n",
              "      <th>2</th>\n",
              "      <td>TXN003</td>\n",
              "      <td>47</td>\n",
              "      <td>11</td>\n",
              "      <td>22845</td>\n",
              "      <td>873.469701</td>\n",
              "      <td>2</td>\n",
              "      <td>Male</td>\n",
              "      <td>Tier 2</td>\n",
              "      <td>5166.614455</td>\n",
              "      <td>0</td>\n",
              "      <td>1</td>\n",
              "      <td>0</td>\n",
              "      <td>1</td>\n",
              "      <td>0</td>\n",
              "      <td>5157.082504</td>\n",
              "    </tr>\n",
              "    <tr>\n",
              "      <th>3</th>\n",
              "      <td>TXN004</td>\n",
              "      <td>50</td>\n",
              "      <td>11</td>\n",
              "      <td>18552</td>\n",
              "      <td>380.219428</td>\n",
              "      <td>7</td>\n",
              "      <td>Female</td>\n",
              "      <td>Tier 1</td>\n",
              "      <td>7784.447676</td>\n",
              "      <td>1</td>\n",
              "      <td>0</td>\n",
              "      <td>1</td>\n",
              "      <td>0</td>\n",
              "      <td>0</td>\n",
              "      <td>8068.012996</td>\n",
              "    </tr>\n",
              "    <tr>\n",
              "      <th>4</th>\n",
              "      <td>TXN005</td>\n",
              "      <td>60</td>\n",
              "      <td>2</td>\n",
              "      <td>14439</td>\n",
              "      <td>403.374223</td>\n",
              "      <td>2</td>\n",
              "      <td>Female</td>\n",
              "      <td>Tier 2</td>\n",
              "      <td>3254.160485</td>\n",
              "      <td>1</td>\n",
              "      <td>0</td>\n",
              "      <td>0</td>\n",
              "      <td>1</td>\n",
              "      <td>0</td>\n",
              "      <td>3581.980335</td>\n",
              "    </tr>\n",
              "  </tbody>\n",
              "</table>\n",
              "</div>"
            ],
            "text/plain": [
              "  Transaction ID  Age    Items   Monthly Income  Transaction Time  Record  \\\n",
              "0         TXN001    42       10            7313        627.668127       5   \n",
              "1         TXN002    24        8           17747        126.904567       3   \n",
              "2         TXN003    47       11           22845        873.469701       2   \n",
              "3         TXN004    50       11           18552        380.219428       7   \n",
              "4         TXN005    60        2           14439        403.374223       2   \n",
              "\n",
              "   Gender City Tier  Total Spend  Gender_Female  Gender_Male  City_Tier 1  \\\n",
              "0  Female    Tier 1  4198.385084              1            0            1   \n",
              "1  Female    Tier 2  4134.976648              1            0            0   \n",
              "2    Male    Tier 2  5166.614455              0            1            0   \n",
              "3  Female    Tier 1  7784.447676              1            0            1   \n",
              "4  Female    Tier 2  3254.160485              1            0            0   \n",
              "\n",
              "   City_Tier 2  City_Tier 3   prediction  \n",
              "0            0            0  4903.696720  \n",
              "1            1            0  4799.434826  \n",
              "2            1            0  5157.082504  \n",
              "3            0            0  8068.012996  \n",
              "4            1            0  3581.980335  "
            ]
          },
          "execution_count": 18,
          "metadata": {},
          "output_type": "execute_result"
        }
      ],
      "source": [
        "df_new.head()"
      ]
    },
    {
      "cell_type": "code",
      "execution_count": null,
      "metadata": {
        "id": "4ss831fToTxY"
      },
      "outputs": [],
      "source": [
        "SSD = np.sum((df_new[\"prediction\"] - df_new[\"Total Spend\"])**2)"
      ]
    },
    {
      "cell_type": "code",
      "execution_count": null,
      "metadata": {
        "id": "GNv1ZTJ0oTxY",
        "outputId": "d25dc195-12f3-446f-9321-2b47941ff0c7"
      },
      "outputs": [
        {
          "data": {
            "text/plain": [
              "1517733985.3408163"
            ]
          },
          "execution_count": 20,
          "metadata": {},
          "output_type": "execute_result"
        }
      ],
      "source": [
        "SSD"
      ]
    },
    {
      "cell_type": "code",
      "execution_count": null,
      "metadata": {
        "id": "8cPkLdRLoTxZ"
      },
      "outputs": [],
      "source": [
        "RSE = np.sqrt(SSD/(len(df_new)-len(feature_cols)-1))"
      ]
    },
    {
      "cell_type": "code",
      "execution_count": null,
      "metadata": {
        "id": "EjvJLUdKoTxZ",
        "outputId": "1f1988f0-1254-40df-cc82-421e10e7b2e5"
      },
      "outputs": [
        {
          "data": {
            "text/plain": [
              "803.1318809818165"
            ]
          },
          "execution_count": 22,
          "metadata": {},
          "output_type": "execute_result"
        }
      ],
      "source": [
        "RSE"
      ]
    },
    {
      "cell_type": "code",
      "execution_count": null,
      "metadata": {
        "id": "YZ0UhY7aoTxa"
      },
      "outputs": [],
      "source": [
        "sales_mean=np.mean(df_new[\"Total Spend\"])"
      ]
    },
    {
      "cell_type": "code",
      "execution_count": null,
      "metadata": {
        "id": "hvauE6rYoTxa",
        "outputId": "ffb01250-362c-4193-c668-fa03f64cf9f2"
      },
      "outputs": [
        {
          "data": {
            "text/plain": [
              "6163.176415976714"
            ]
          },
          "execution_count": 24,
          "metadata": {},
          "output_type": "execute_result"
        }
      ],
      "source": [
        "sales_mean"
      ]
    },
    {
      "cell_type": "code",
      "execution_count": null,
      "metadata": {
        "id": "PlknzytZoTxa"
      },
      "outputs": [],
      "source": [
        "error = RSE/sales_mean"
      ]
    },
    {
      "cell_type": "code",
      "execution_count": null,
      "metadata": {
        "id": "t_IjHVWToTxb",
        "outputId": "1c067cca-6015-4c83-8b04-57fd9695a384"
      },
      "outputs": [
        {
          "data": {
            "text/plain": [
              "13.031135680294161"
            ]
          },
          "execution_count": 26,
          "metadata": {},
          "output_type": "execute_result"
        }
      ],
      "source": [
        "error*100"
      ]
    },
    {
      "cell_type": "markdown",
      "metadata": {
        "id": "0D1spdmmoTxb"
      },
      "source": [
        "## Eliminar variables dummy redundantes"
      ]
    },
    {
      "cell_type": "code",
      "execution_count": null,
      "metadata": {
        "id": "O-lGhwBdoTxb",
        "outputId": "400e1247-58c2-4b33-d831-9752ba9bb1ca"
      },
      "outputs": [
        {
          "data": {
            "text/html": [
              "<div>\n",
              "<style scoped>\n",
              "    .dataframe tbody tr th:only-of-type {\n",
              "        vertical-align: middle;\n",
              "    }\n",
              "\n",
              "    .dataframe tbody tr th {\n",
              "        vertical-align: top;\n",
              "    }\n",
              "\n",
              "    .dataframe thead th {\n",
              "        text-align: right;\n",
              "    }\n",
              "</style>\n",
              "<table border=\"1\" class=\"dataframe\">\n",
              "  <thead>\n",
              "    <tr style=\"text-align: right;\">\n",
              "      <th></th>\n",
              "      <th>Gender_Male</th>\n",
              "    </tr>\n",
              "  </thead>\n",
              "  <tbody>\n",
              "    <tr>\n",
              "      <th>0</th>\n",
              "      <td>0</td>\n",
              "    </tr>\n",
              "    <tr>\n",
              "      <th>1</th>\n",
              "      <td>0</td>\n",
              "    </tr>\n",
              "    <tr>\n",
              "      <th>2</th>\n",
              "      <td>1</td>\n",
              "    </tr>\n",
              "    <tr>\n",
              "      <th>3</th>\n",
              "      <td>0</td>\n",
              "    </tr>\n",
              "    <tr>\n",
              "      <th>4</th>\n",
              "      <td>0</td>\n",
              "    </tr>\n",
              "  </tbody>\n",
              "</table>\n",
              "</div>"
            ],
            "text/plain": [
              "   Gender_Male\n",
              "0            0\n",
              "1            0\n",
              "2            1\n",
              "3            0\n",
              "4            0"
            ]
          },
          "execution_count": 27,
          "metadata": {},
          "output_type": "execute_result"
        }
      ],
      "source": [
        "dummy_gender = pd.get_dummies(df[\"Gender\"], prefix=\"Gender\").iloc[:,1:]\n",
        "dummy_gender.head()"
      ]
    },
    {
      "cell_type": "code",
      "execution_count": null,
      "metadata": {
        "id": "xazwYyBToTxb",
        "outputId": "14bc104c-8c1c-44fd-a65c-041c320e6a68"
      },
      "outputs": [
        {
          "data": {
            "text/html": [
              "<div>\n",
              "<style scoped>\n",
              "    .dataframe tbody tr th:only-of-type {\n",
              "        vertical-align: middle;\n",
              "    }\n",
              "\n",
              "    .dataframe tbody tr th {\n",
              "        vertical-align: top;\n",
              "    }\n",
              "\n",
              "    .dataframe thead th {\n",
              "        text-align: right;\n",
              "    }\n",
              "</style>\n",
              "<table border=\"1\" class=\"dataframe\">\n",
              "  <thead>\n",
              "    <tr style=\"text-align: right;\">\n",
              "      <th></th>\n",
              "      <th>City_Tier 2</th>\n",
              "      <th>City_Tier 3</th>\n",
              "    </tr>\n",
              "  </thead>\n",
              "  <tbody>\n",
              "    <tr>\n",
              "      <th>0</th>\n",
              "      <td>0</td>\n",
              "      <td>0</td>\n",
              "    </tr>\n",
              "    <tr>\n",
              "      <th>1</th>\n",
              "      <td>1</td>\n",
              "      <td>0</td>\n",
              "    </tr>\n",
              "    <tr>\n",
              "      <th>2</th>\n",
              "      <td>1</td>\n",
              "      <td>0</td>\n",
              "    </tr>\n",
              "    <tr>\n",
              "      <th>3</th>\n",
              "      <td>0</td>\n",
              "      <td>0</td>\n",
              "    </tr>\n",
              "    <tr>\n",
              "      <th>4</th>\n",
              "      <td>1</td>\n",
              "      <td>0</td>\n",
              "    </tr>\n",
              "  </tbody>\n",
              "</table>\n",
              "</div>"
            ],
            "text/plain": [
              "   City_Tier 2  City_Tier 3\n",
              "0            0            0\n",
              "1            1            0\n",
              "2            1            0\n",
              "3            0            0\n",
              "4            1            0"
            ]
          },
          "execution_count": 28,
          "metadata": {},
          "output_type": "execute_result"
        }
      ],
      "source": [
        "dummy_city_tier = pd.get_dummies(df[\"City Tier\"], prefix=\"City\").iloc[:,1:]\n",
        "dummy_city_tier.head()"
      ]
    },
    {
      "cell_type": "code",
      "execution_count": null,
      "metadata": {
        "id": "NKuljRsWoTxc",
        "outputId": "35e3068c-124b-409c-f2f1-d9c8812137a1"
      },
      "outputs": [
        {
          "data": {
            "text/html": [
              "<div>\n",
              "<style scoped>\n",
              "    .dataframe tbody tr th:only-of-type {\n",
              "        vertical-align: middle;\n",
              "    }\n",
              "\n",
              "    .dataframe tbody tr th {\n",
              "        vertical-align: top;\n",
              "    }\n",
              "\n",
              "    .dataframe thead th {\n",
              "        text-align: right;\n",
              "    }\n",
              "</style>\n",
              "<table border=\"1\" class=\"dataframe\">\n",
              "  <thead>\n",
              "    <tr style=\"text-align: right;\">\n",
              "      <th></th>\n",
              "      <th>Transaction ID</th>\n",
              "      <th>Age</th>\n",
              "      <th>Items</th>\n",
              "      <th>Monthly Income</th>\n",
              "      <th>Transaction Time</th>\n",
              "      <th>Record</th>\n",
              "      <th>Gender</th>\n",
              "      <th>City Tier</th>\n",
              "      <th>Total Spend</th>\n",
              "      <th>Gender_Male</th>\n",
              "      <th>City_Tier 2</th>\n",
              "      <th>City_Tier 3</th>\n",
              "    </tr>\n",
              "  </thead>\n",
              "  <tbody>\n",
              "    <tr>\n",
              "      <th>0</th>\n",
              "      <td>TXN001</td>\n",
              "      <td>42</td>\n",
              "      <td>10</td>\n",
              "      <td>7313</td>\n",
              "      <td>627.668127</td>\n",
              "      <td>5</td>\n",
              "      <td>Female</td>\n",
              "      <td>Tier 1</td>\n",
              "      <td>4198.385084</td>\n",
              "      <td>0</td>\n",
              "      <td>0</td>\n",
              "      <td>0</td>\n",
              "    </tr>\n",
              "    <tr>\n",
              "      <th>1</th>\n",
              "      <td>TXN002</td>\n",
              "      <td>24</td>\n",
              "      <td>8</td>\n",
              "      <td>17747</td>\n",
              "      <td>126.904567</td>\n",
              "      <td>3</td>\n",
              "      <td>Female</td>\n",
              "      <td>Tier 2</td>\n",
              "      <td>4134.976648</td>\n",
              "      <td>0</td>\n",
              "      <td>1</td>\n",
              "      <td>0</td>\n",
              "    </tr>\n",
              "    <tr>\n",
              "      <th>2</th>\n",
              "      <td>TXN003</td>\n",
              "      <td>47</td>\n",
              "      <td>11</td>\n",
              "      <td>22845</td>\n",
              "      <td>873.469701</td>\n",
              "      <td>2</td>\n",
              "      <td>Male</td>\n",
              "      <td>Tier 2</td>\n",
              "      <td>5166.614455</td>\n",
              "      <td>1</td>\n",
              "      <td>1</td>\n",
              "      <td>0</td>\n",
              "    </tr>\n",
              "    <tr>\n",
              "      <th>3</th>\n",
              "      <td>TXN004</td>\n",
              "      <td>50</td>\n",
              "      <td>11</td>\n",
              "      <td>18552</td>\n",
              "      <td>380.219428</td>\n",
              "      <td>7</td>\n",
              "      <td>Female</td>\n",
              "      <td>Tier 1</td>\n",
              "      <td>7784.447676</td>\n",
              "      <td>0</td>\n",
              "      <td>0</td>\n",
              "      <td>0</td>\n",
              "    </tr>\n",
              "    <tr>\n",
              "      <th>4</th>\n",
              "      <td>TXN005</td>\n",
              "      <td>60</td>\n",
              "      <td>2</td>\n",
              "      <td>14439</td>\n",
              "      <td>403.374223</td>\n",
              "      <td>2</td>\n",
              "      <td>Female</td>\n",
              "      <td>Tier 2</td>\n",
              "      <td>3254.160485</td>\n",
              "      <td>0</td>\n",
              "      <td>1</td>\n",
              "      <td>0</td>\n",
              "    </tr>\n",
              "  </tbody>\n",
              "</table>\n",
              "</div>"
            ],
            "text/plain": [
              "  Transaction ID  Age    Items   Monthly Income  Transaction Time  Record  \\\n",
              "0         TXN001    42       10            7313        627.668127       5   \n",
              "1         TXN002    24        8           17747        126.904567       3   \n",
              "2         TXN003    47       11           22845        873.469701       2   \n",
              "3         TXN004    50       11           18552        380.219428       7   \n",
              "4         TXN005    60        2           14439        403.374223       2   \n",
              "\n",
              "   Gender City Tier  Total Spend  Gender_Male  City_Tier 2  City_Tier 3  \n",
              "0  Female    Tier 1  4198.385084            0            0            0  \n",
              "1  Female    Tier 2  4134.976648            0            1            0  \n",
              "2    Male    Tier 2  5166.614455            1            1            0  \n",
              "3  Female    Tier 1  7784.447676            0            0            0  \n",
              "4  Female    Tier 2  3254.160485            0            1            0  "
            ]
          },
          "execution_count": 29,
          "metadata": {},
          "output_type": "execute_result"
        }
      ],
      "source": [
        "column_names = df.columns.values.tolist()\n",
        "df_new = df[column_names].join(dummy_gender)\n",
        "column_names = df_new.columns.values.tolist()\n",
        "df_new = df_new[column_names].join(dummy_city_tier)\n",
        "df_new.head()"
      ]
    },
    {
      "cell_type": "code",
      "execution_count": null,
      "metadata": {
        "id": "qo1mEbVWoTxc",
        "outputId": "616c043e-d6ce-4c07-b9ce-65958bd3f1a1"
      },
      "outputs": [
        {
          "data": {
            "text/plain": [
              "LinearRegression()"
            ]
          },
          "execution_count": 30,
          "metadata": {},
          "output_type": "execute_result"
        }
      ],
      "source": [
        "feature_cols = [\"Monthly Income\", \"Transaction Time\", \"Gender_Male\", \"City_Tier 2\", \"City_Tier 3\", \"Record\"]\n",
        "X = df_new[feature_cols]\n",
        "Y = df_new[\"Total Spend\"]\n",
        "lm = LinearRegression()\n",
        "lm.fit(X,Y)"
      ]
    },
    {
      "cell_type": "code",
      "execution_count": null,
      "metadata": {
        "id": "k3xLrqpaoTxc",
        "outputId": "2daac930-4dd3-4427-d81a-6e5607a260bf"
      },
      "outputs": [
        {
          "name": "stdout",
          "output_type": "stream",
          "text": [
            "-133.67781754642238\n"
          ]
        }
      ],
      "source": [
        "print(lm.intercept_)"
      ]
    },
    {
      "cell_type": "code",
      "execution_count": null,
      "metadata": {
        "id": "fZ1f4aK0oTxc",
        "outputId": "294cf639-71ad-4b7c-a18c-c0d7edcee9ac"
      },
      "outputs": [
        {
          "data": {
            "text/plain": [
              "[('Monthly Income', 0.1475389804920575),\n",
              " ('Transaction Time', 0.15494612549589615),\n",
              " ('Gender_Male', 262.05002651109584),\n",
              " ('City_Tier 2', -21.62535170126288),\n",
              " ('City_Tier 3', -208.66762633022262),\n",
              " ('Record', 772.2334457445636)]"
            ]
          },
          "execution_count": 32,
          "metadata": {},
          "output_type": "execute_result"
        }
      ],
      "source": [
        "list(zip(feature_cols, lm.coef_))"
      ]
    },
    {
      "cell_type": "code",
      "execution_count": null,
      "metadata": {
        "id": "FLIYC8NnoTxd",
        "outputId": "ae7749e9-48bc-4401-ebca-4b73e113fd8a"
      },
      "outputs": [
        {
          "data": {
            "text/plain": [
              "0.9179923586131016"
            ]
          },
          "execution_count": 33,
          "metadata": {},
          "output_type": "execute_result"
        }
      ],
      "source": [
        "lm.score(X,Y)"
      ]
    },
    {
      "cell_type": "markdown",
      "metadata": {
        "id": "VVlavouloTxd"
      },
      "source": [
        "Coeficientes con todas las variables en el modelo\n",
        "* ('Monthly Income', 0.14753898049205738),\n",
        "* ('Transaction Time', 0.15494612549589545),\n",
        "* ('Gender_Female', -131.02501325554567),\n",
        "* ('Gender_Male', 131.0250132555456),\n",
        "* ('City_Tier 1', 76.76432601049527),\n",
        "* ('City_Tier 2', 55.138974309232474),\n",
        "* ('City_Tier 3', -131.9033003197278),\n",
        "* ('Record', 772.2334457445648)\n",
        " \n",
        " Coeficientes tras enmascarar las variables dummy pertinentes\n",
        "* 'Monthly Income', 0.14753898049205744),\n",
        "* ('Transaction Time', 0.15494612549589631),\n",
        "* ('Gender_Male', 262.05002651109595),\n",
        "* ('City_Tier 2', -21.62535170126296),\n",
        "* ('City_Tier 3', -208.66762633022324),\n",
        "* ('Record', 772.2334457445635)]\n",
        "\n",
        "Los cambios se reflejan en\n",
        "* Gender_Male: \n",
        "    * antes -> 131.02, \n",
        "    * después -> 262.05 = ( 131.02 - (-131.02))\n",
        "* Gender_Female: \n",
        "    * antes -> -131.02,\n",
        "    * después -> 0\n",
        "* CT1: \n",
        "    * antes -> 76.76,\n",
        "    * después -> 0\n",
        "* CT2: \n",
        "    * antes -> 55.13, \n",
        "    * después -> -21.62 = (55.13 - 76.76)\n",
        "* CT3: \n",
        "    * antes -> -131.90, \n",
        "    * después -> -208.66 = (-131.90 - 76.76)"
      ]
    },
    {
      "cell_type": "markdown",
      "metadata": {
        "id": "hRHYuC4NoTxd"
      },
      "source": [
        "# Transformación de variables para conseguir una relación no lineal"
      ]
    },
    {
      "cell_type": "code",
      "execution_count": 2,
      "metadata": {
        "id": "PYNOpS8ZoTxd"
      },
      "outputs": [],
      "source": [
        "import pandas as pd"
      ]
    },
    {
      "cell_type": "code",
      "execution_count": 3,
      "metadata": {
        "id": "OBIhUO4goTxe",
        "outputId": "d8c454df-8678-4161-e9b2-f7578ea6e5dd",
        "colab": {
          "base_uri": "https://localhost:8080/",
          "height": 206
        }
      },
      "outputs": [
        {
          "output_type": "execute_result",
          "data": {
            "text/plain": [
              "    mpg  cylinders  displacement  horsepower  weight  acceleration  \\\n",
              "0  18.0          8         307.0       130.0    3504          12.0   \n",
              "1  15.0          8         350.0       165.0    3693          11.5   \n",
              "2  18.0          8         318.0       150.0    3436          11.0   \n",
              "3  16.0          8         304.0       150.0    3433          12.0   \n",
              "4  17.0          8         302.0       140.0    3449          10.5   \n",
              "\n",
              "   model year  origin                   car name  \n",
              "0          70       1  chevrolet chevelle malibu  \n",
              "1          70       1          buick skylark 320  \n",
              "2          70       1         plymouth satellite  \n",
              "3          70       1              amc rebel sst  \n",
              "4          70       1                ford torino  "
            ],
            "text/html": [
              "\n",
              "  <div id=\"df-c07cc461-e7c4-4a74-bec4-fe331c081776\">\n",
              "    <div class=\"colab-df-container\">\n",
              "      <div>\n",
              "<style scoped>\n",
              "    .dataframe tbody tr th:only-of-type {\n",
              "        vertical-align: middle;\n",
              "    }\n",
              "\n",
              "    .dataframe tbody tr th {\n",
              "        vertical-align: top;\n",
              "    }\n",
              "\n",
              "    .dataframe thead th {\n",
              "        text-align: right;\n",
              "    }\n",
              "</style>\n",
              "<table border=\"1\" class=\"dataframe\">\n",
              "  <thead>\n",
              "    <tr style=\"text-align: right;\">\n",
              "      <th></th>\n",
              "      <th>mpg</th>\n",
              "      <th>cylinders</th>\n",
              "      <th>displacement</th>\n",
              "      <th>horsepower</th>\n",
              "      <th>weight</th>\n",
              "      <th>acceleration</th>\n",
              "      <th>model year</th>\n",
              "      <th>origin</th>\n",
              "      <th>car name</th>\n",
              "    </tr>\n",
              "  </thead>\n",
              "  <tbody>\n",
              "    <tr>\n",
              "      <th>0</th>\n",
              "      <td>18.0</td>\n",
              "      <td>8</td>\n",
              "      <td>307.0</td>\n",
              "      <td>130.0</td>\n",
              "      <td>3504</td>\n",
              "      <td>12.0</td>\n",
              "      <td>70</td>\n",
              "      <td>1</td>\n",
              "      <td>chevrolet chevelle malibu</td>\n",
              "    </tr>\n",
              "    <tr>\n",
              "      <th>1</th>\n",
              "      <td>15.0</td>\n",
              "      <td>8</td>\n",
              "      <td>350.0</td>\n",
              "      <td>165.0</td>\n",
              "      <td>3693</td>\n",
              "      <td>11.5</td>\n",
              "      <td>70</td>\n",
              "      <td>1</td>\n",
              "      <td>buick skylark 320</td>\n",
              "    </tr>\n",
              "    <tr>\n",
              "      <th>2</th>\n",
              "      <td>18.0</td>\n",
              "      <td>8</td>\n",
              "      <td>318.0</td>\n",
              "      <td>150.0</td>\n",
              "      <td>3436</td>\n",
              "      <td>11.0</td>\n",
              "      <td>70</td>\n",
              "      <td>1</td>\n",
              "      <td>plymouth satellite</td>\n",
              "    </tr>\n",
              "    <tr>\n",
              "      <th>3</th>\n",
              "      <td>16.0</td>\n",
              "      <td>8</td>\n",
              "      <td>304.0</td>\n",
              "      <td>150.0</td>\n",
              "      <td>3433</td>\n",
              "      <td>12.0</td>\n",
              "      <td>70</td>\n",
              "      <td>1</td>\n",
              "      <td>amc rebel sst</td>\n",
              "    </tr>\n",
              "    <tr>\n",
              "      <th>4</th>\n",
              "      <td>17.0</td>\n",
              "      <td>8</td>\n",
              "      <td>302.0</td>\n",
              "      <td>140.0</td>\n",
              "      <td>3449</td>\n",
              "      <td>10.5</td>\n",
              "      <td>70</td>\n",
              "      <td>1</td>\n",
              "      <td>ford torino</td>\n",
              "    </tr>\n",
              "  </tbody>\n",
              "</table>\n",
              "</div>\n",
              "      <button class=\"colab-df-convert\" onclick=\"convertToInteractive('df-c07cc461-e7c4-4a74-bec4-fe331c081776')\"\n",
              "              title=\"Convert this dataframe to an interactive table.\"\n",
              "              style=\"display:none;\">\n",
              "        \n",
              "  <svg xmlns=\"http://www.w3.org/2000/svg\" height=\"24px\"viewBox=\"0 0 24 24\"\n",
              "       width=\"24px\">\n",
              "    <path d=\"M0 0h24v24H0V0z\" fill=\"none\"/>\n",
              "    <path d=\"M18.56 5.44l.94 2.06.94-2.06 2.06-.94-2.06-.94-.94-2.06-.94 2.06-2.06.94zm-11 1L8.5 8.5l.94-2.06 2.06-.94-2.06-.94L8.5 2.5l-.94 2.06-2.06.94zm10 10l.94 2.06.94-2.06 2.06-.94-2.06-.94-.94-2.06-.94 2.06-2.06.94z\"/><path d=\"M17.41 7.96l-1.37-1.37c-.4-.4-.92-.59-1.43-.59-.52 0-1.04.2-1.43.59L10.3 9.45l-7.72 7.72c-.78.78-.78 2.05 0 2.83L4 21.41c.39.39.9.59 1.41.59.51 0 1.02-.2 1.41-.59l7.78-7.78 2.81-2.81c.8-.78.8-2.07 0-2.86zM5.41 20L4 18.59l7.72-7.72 1.47 1.35L5.41 20z\"/>\n",
              "  </svg>\n",
              "      </button>\n",
              "      \n",
              "  <style>\n",
              "    .colab-df-container {\n",
              "      display:flex;\n",
              "      flex-wrap:wrap;\n",
              "      gap: 12px;\n",
              "    }\n",
              "\n",
              "    .colab-df-convert {\n",
              "      background-color: #E8F0FE;\n",
              "      border: none;\n",
              "      border-radius: 50%;\n",
              "      cursor: pointer;\n",
              "      display: none;\n",
              "      fill: #1967D2;\n",
              "      height: 32px;\n",
              "      padding: 0 0 0 0;\n",
              "      width: 32px;\n",
              "    }\n",
              "\n",
              "    .colab-df-convert:hover {\n",
              "      background-color: #E2EBFA;\n",
              "      box-shadow: 0px 1px 2px rgba(60, 64, 67, 0.3), 0px 1px 3px 1px rgba(60, 64, 67, 0.15);\n",
              "      fill: #174EA6;\n",
              "    }\n",
              "\n",
              "    [theme=dark] .colab-df-convert {\n",
              "      background-color: #3B4455;\n",
              "      fill: #D2E3FC;\n",
              "    }\n",
              "\n",
              "    [theme=dark] .colab-df-convert:hover {\n",
              "      background-color: #434B5C;\n",
              "      box-shadow: 0px 1px 3px 1px rgba(0, 0, 0, 0.15);\n",
              "      filter: drop-shadow(0px 1px 2px rgba(0, 0, 0, 0.3));\n",
              "      fill: #FFFFFF;\n",
              "    }\n",
              "  </style>\n",
              "\n",
              "      <script>\n",
              "        const buttonEl =\n",
              "          document.querySelector('#df-c07cc461-e7c4-4a74-bec4-fe331c081776 button.colab-df-convert');\n",
              "        buttonEl.style.display =\n",
              "          google.colab.kernel.accessAllowed ? 'block' : 'none';\n",
              "\n",
              "        async function convertToInteractive(key) {\n",
              "          const element = document.querySelector('#df-c07cc461-e7c4-4a74-bec4-fe331c081776');\n",
              "          const dataTable =\n",
              "            await google.colab.kernel.invokeFunction('convertToInteractive',\n",
              "                                                     [key], {});\n",
              "          if (!dataTable) return;\n",
              "\n",
              "          const docLinkHtml = 'Like what you see? Visit the ' +\n",
              "            '<a target=\"_blank\" href=https://colab.research.google.com/notebooks/data_table.ipynb>data table notebook</a>'\n",
              "            + ' to learn more about interactive tables.';\n",
              "          element.innerHTML = '';\n",
              "          dataTable['output_type'] = 'display_data';\n",
              "          await google.colab.output.renderOutput(dataTable, element);\n",
              "          const docLink = document.createElement('div');\n",
              "          docLink.innerHTML = docLinkHtml;\n",
              "          element.appendChild(docLink);\n",
              "        }\n",
              "      </script>\n",
              "    </div>\n",
              "  </div>\n",
              "  "
            ]
          },
          "metadata": {},
          "execution_count": 3
        }
      ],
      "source": [
        "data_auto = pd.read_csv(\"/content/python-ml-course/datasets/auto/auto-mpg.csv\")\n",
        "data_auto.head()"
      ]
    },
    {
      "cell_type": "code",
      "execution_count": 4,
      "metadata": {
        "id": "CpKo6pBwoTxe",
        "outputId": "ea30db81-54c9-4ea8-e230-eb2aaf527f89",
        "colab": {
          "base_uri": "https://localhost:8080/"
        }
      },
      "outputs": [
        {
          "output_type": "execute_result",
          "data": {
            "text/plain": [
              "(406, 9)"
            ]
          },
          "metadata": {},
          "execution_count": 4
        }
      ],
      "source": [
        "data_auto.shape"
      ]
    },
    {
      "cell_type": "code",
      "execution_count": 5,
      "metadata": {
        "id": "vh8e70EtoTxe"
      },
      "outputs": [],
      "source": [
        "import matplotlib.pyplot as plt"
      ]
    },
    {
      "cell_type": "code",
      "execution_count": 6,
      "metadata": {
        "id": "YIwke81voTxf",
        "outputId": "748844db-47ec-4273-bfae-6bf0afbc60b9",
        "colab": {
          "base_uri": "https://localhost:8080/",
          "height": 313
        }
      },
      "outputs": [
        {
          "output_type": "execute_result",
          "data": {
            "text/plain": [
              "Text(0.5, 1.0, 'CV vs MPG')"
            ]
          },
          "metadata": {},
          "execution_count": 6
        },
        {
          "output_type": "display_data",
          "data": {
            "text/plain": [
              "<Figure size 432x288 with 1 Axes>"
            ],
            "image/png": "[encoded data removed]"
          },
          "metadata": {
            "needs_background": "light"
          }
        }
      ],
      "source": [
        "%matplotlib inline\n",
        "#Eliminando los datos NA de las dos columnas del dataset\n",
        "data_auto[\"mpg\"] = data_auto[\"mpg\"].dropna()\n",
        "data_auto[\"horsepower\"] = data_auto[\"horsepower\"].dropna()\n",
        "\n",
        "plt.plot(data_auto[\"horsepower\"], data_auto[\"mpg\"], \"ro\")\n",
        "plt.xlabel(\"Caballos de Potencia\")\n",
        "plt.ylabel(\"Consumo (millas por galeón)\")\n",
        "plt.title(\"CV vs MPG\")"
      ]
    },
    {
      "cell_type": "markdown",
      "metadata": {
        "id": "GUSk7zoPoTxf"
      },
      "source": [
        "### Modelo de regresión lineal\n",
        "* $mpg = a + b (horsepower)$"
      ]
    },
    {
      "cell_type": "code",
      "execution_count": 21,
      "metadata": {
        "id": "j39nA_QHoTxg",
        "outputId": "44d68f8c-32b7-450b-8d95-4872921b5787",
        "colab": {
          "base_uri": "https://localhost:8080/"
        }
      },
      "outputs": [
        {
          "output_type": "stream",
          "name": "stderr",
          "text": [
            "/usr/local/lib/python3.7/dist-packages/ipykernel_launcher.py:4: FutureWarning: Support for multi-dimensional indexing (e.g. `obj[:, None]`) is deprecated and will be removed in a future version.  Convert to a numpy array before indexing instead.\n",
            "  after removing the cwd from sys.path.\n"
          ]
        }
      ],
      "source": [
        "X = data_auto[\"horsepower\"].fillna(data_auto[\"horsepower\"].mean())\n",
        "Y = data_auto[\"mpg\"].fillna(data_auto[\"mpg\"].mean())\n",
        "#Para que sea un dataset en lugar de un simple array\n",
        "X_data = X[:,np.newaxis]\n",
        "#Otra manera de que sea un dataset, desde la declaración:\n",
        "  #X = data_auto[\"horsepower\"].fillna(data_auto[\"horsepower\"].mean()).to_numpy()"
      ]
    },
    {
      "cell_type": "code",
      "execution_count": 15,
      "metadata": {
        "id": "0V9xDEOloTxg",
        "outputId": "1c62c0be-b590-4914-81d0-a9587a8f7de7",
        "colab": {
          "base_uri": "https://localhost:8080/"
        }
      },
      "outputs": [
        {
          "output_type": "execute_result",
          "data": {
            "text/plain": [
              "LinearRegression()"
            ]
          },
          "metadata": {},
          "execution_count": 15
        }
      ],
      "source": [
        "lm = LinearRegression()\n",
        "lm.fit(X_data,Y)"
      ]
    },
    {
      "cell_type": "code",
      "execution_count": 22,
      "metadata": {
        "id": "MRoJWXXboTxg",
        "outputId": "24b5bc23-1b24-4679-e837-7a4c6b071248",
        "colab": {
          "base_uri": "https://localhost:8080/"
        }
      },
      "outputs": [
        {
          "output_type": "execute_result",
          "data": {
            "text/plain": [
              "pandas.core.series.Series"
            ]
          },
          "metadata": {},
          "execution_count": 22
        }
      ],
      "source": [
        "type(X) #Es un array unidimensional"
      ]
    },
    {
      "cell_type": "code",
      "execution_count": 23,
      "metadata": {
        "id": "rm69IB5ooTxg",
        "outputId": "621c49e0-4435-443f-bcd3-df264be9dda2",
        "colab": {
          "base_uri": "https://localhost:8080/"
        }
      },
      "outputs": [
        {
          "output_type": "execute_result",
          "data": {
            "text/plain": [
              "numpy.ndarray"
            ]
          },
          "metadata": {},
          "execution_count": 23
        }
      ],
      "source": [
        "type(X_data) #Es tratado como un dato dataset para numpy"
      ]
    },
    {
      "cell_type": "code",
      "execution_count": 24,
      "metadata": {
        "id": "wM1DhRMyoTxg",
        "outputId": "5fa397df-bd8d-45b4-8049-a55001305743",
        "colab": {
          "base_uri": "https://localhost:8080/",
          "height": 283
        }
      },
      "outputs": [
        {
          "output_type": "execute_result",
          "data": {
            "text/plain": [
              "[<matplotlib.lines.Line2D at 0x7f27babb6bd0>]"
            ]
          },
          "metadata": {},
          "execution_count": 24
        },
        {
          "output_type": "display_data",
          "data": {
            "text/plain": [
              "<Figure size 432x288 with 1 Axes>"
            ],
            "image/png": "[encoded data removed]"
          },
          "metadata": {
            "needs_background": "light"
          }
        }
      ],
      "source": [
        "%matplotlib inline\n",
        "plt.plot(X,Y, \"ro\")\n",
        "plt.plot(X, lm.predict(X_data), color=\"blue\")"
      ]
    },
    {
      "cell_type": "code",
      "execution_count": 25,
      "metadata": {
        "id": "DveN2W6joTxh",
        "outputId": "bfd9393b-ef36-4b30-c577-162e8a8d825b",
        "colab": {
          "base_uri": "https://localhost:8080/"
        }
      },
      "outputs": [
        {
          "output_type": "execute_result",
          "data": {
            "text/plain": [
              "0.5746533406450252"
            ]
          },
          "metadata": {},
          "execution_count": 25
        }
      ],
      "source": [
        "lm.score(X_data, Y)"
      ]
    },
    {
      "cell_type": "code",
      "execution_count": 26,
      "metadata": {
        "id": "PfTzY4fJoTxh",
        "outputId": "d8164898-6f7c-4a18-db9f-e335bf0e2e65",
        "colab": {
          "base_uri": "https://localhost:8080/"
        }
      },
      "outputs": [
        {
          "output_type": "execute_result",
          "data": {
            "text/plain": [
              "(10315.751960060918, 5.046879480825511, 23.514572864321607, 21.462773361633474)"
            ]
          },
          "metadata": {},
          "execution_count": 26
        }
      ],
      "source": [
        "SSD = np.sum((Y - lm.predict(X_data))**2)\n",
        "RSE = np.sqrt(SSD/(len(X_data)-1))\n",
        "y_mean = np.mean(Y)\n",
        "error = RSE/y_mean\n",
        "SSD, RSE, y_mean, error*100"
      ]
    },
    {
      "cell_type": "markdown",
      "metadata": {
        "id": "w49w0OmJoTxh"
      },
      "source": [
        "### Modelo de regresión cuadrático\n",
        "* $mpg = a + b * horsepower^2$ "
      ]
    },
    {
      "cell_type": "code",
      "execution_count": 27,
      "metadata": {
        "id": "OyHax_BUoTxh"
      },
      "outputs": [],
      "source": [
        "X_data = X**2\n",
        "X_data = np.asarray(X_data)\n",
        "X_data = X_data[:,np.newaxis]"
      ]
    },
    {
      "cell_type": "code",
      "execution_count": 28,
      "metadata": {
        "id": "QXa4G4ILoTxi",
        "outputId": "50227c4a-6a2e-4bb1-b82a-ed0ea0cd8734",
        "colab": {
          "base_uri": "https://localhost:8080/"
        }
      },
      "outputs": [
        {
          "output_type": "execute_result",
          "data": {
            "text/plain": [
              "LinearRegression()"
            ]
          },
          "metadata": {},
          "execution_count": 28
        }
      ],
      "source": [
        "lm = LinearRegression()\n",
        "lm.fit(X_data, Y)"
      ]
    },
    {
      "cell_type": "code",
      "execution_count": 29,
      "metadata": {
        "id": "--WQsGMroTxi",
        "outputId": "0dbe90fd-8ae9-4a5c-a8c4-9a4b8ac5ee9a",
        "colab": {
          "base_uri": "https://localhost:8080/"
        }
      },
      "outputs": [
        {
          "output_type": "execute_result",
          "data": {
            "text/plain": [
              "0.4849887034823205"
            ]
          },
          "metadata": {},
          "execution_count": 29
        }
      ],
      "source": [
        "lm.score(X_data, Y)"
      ]
    },
    {
      "cell_type": "code",
      "execution_count": 30,
      "metadata": {
        "id": "O1z1wKL4oTxi",
        "outputId": "ac8d9461-7281-47f2-a41f-e5e15e620404",
        "colab": {
          "base_uri": "https://localhost:8080/"
        }
      },
      "outputs": [
        {
          "output_type": "execute_result",
          "data": {
            "text/plain": [
              "(12490.350340501926, 5.553410772769817, 23.514572864321607, 23.616889852998113)"
            ]
          },
          "metadata": {},
          "execution_count": 30
        }
      ],
      "source": [
        "SSD = np.sum((Y - lm.predict(X_data))**2)\n",
        "RSE = np.sqrt(SSD/(len(X_data)-1))\n",
        "y_mean = np.mean(Y)\n",
        "error = RSE/y_mean\n",
        "SSD, RSE, y_mean, error*100"
      ]
    },
    {
      "cell_type": "markdown",
      "metadata": {
        "id": "SlaSCeLhoTxi"
      },
      "source": [
        "### Modelo de regresión  lineal y cuadrático\n",
        "* mpg = a + b * horsepower + c * horsepower^2"
      ]
    },
    {
      "cell_type": "code",
      "execution_count": 31,
      "metadata": {
        "id": "iv6BDI8KoTxj"
      },
      "outputs": [],
      "source": [
        "from sklearn.preprocessing import PolynomialFeatures\n",
        "from sklearn import linear_model"
      ]
    },
    {
      "cell_type": "code",
      "execution_count": 32,
      "metadata": {
        "id": "TnIdChSfoTxj"
      },
      "outputs": [],
      "source": [
        "poly = PolynomialFeatures(degree=2)"
      ]
    },
    {
      "cell_type": "code",
      "execution_count": 33,
      "metadata": {
        "id": "NTrDTuY1oTxj"
      },
      "outputs": [],
      "source": [
        "X = np.asarray(X)\n",
        "X_data = poly.fit_transform(X[:,np.newaxis])"
      ]
    },
    {
      "cell_type": "code",
      "execution_count": 34,
      "metadata": {
        "id": "kC9PbrROoTxj",
        "outputId": "eee28260-2a0c-40a6-90a3-dc7e96bb4568",
        "colab": {
          "base_uri": "https://localhost:8080/"
        }
      },
      "outputs": [
        {
          "output_type": "execute_result",
          "data": {
            "text/plain": [
              "LinearRegression()"
            ]
          },
          "metadata": {},
          "execution_count": 34
        }
      ],
      "source": [
        "lm = linear_model.LinearRegression()\n",
        "lm.fit(X_data, Y)"
      ]
    },
    {
      "cell_type": "code",
      "execution_count": 35,
      "metadata": {
        "id": "3oa-foKloTxj",
        "outputId": "889eb894-acad-46a7-91e7-ffbad73441df",
        "colab": {
          "base_uri": "https://localhost:8080/"
        }
      },
      "outputs": [
        {
          "output_type": "execute_result",
          "data": {
            "text/plain": [
              "0.6439066584257469"
            ]
          },
          "metadata": {},
          "execution_count": 35
        }
      ],
      "source": [
        "lm.score(X_data, Y)"
      ]
    },
    {
      "cell_type": "code",
      "execution_count": 36,
      "metadata": {
        "id": "0HvGcf4noTxk",
        "outputId": "f35fc574-ce8c-423b-d7c8-c5de8dbf1378",
        "colab": {
          "base_uri": "https://localhost:8080/"
        }
      },
      "outputs": [
        {
          "output_type": "execute_result",
          "data": {
            "text/plain": [
              "55.026192447081144"
            ]
          },
          "metadata": {},
          "execution_count": 36
        }
      ],
      "source": [
        "lm.intercept_"
      ]
    },
    {
      "cell_type": "code",
      "execution_count": 37,
      "metadata": {
        "id": "MeszGQZNoTxk",
        "outputId": "a6eaa7db-8d56-45c4-f571-da69162f57d7",
        "colab": {
          "base_uri": "https://localhost:8080/"
        }
      },
      "outputs": [
        {
          "output_type": "execute_result",
          "data": {
            "text/plain": [
              "array([ 0.        , -0.43404318,  0.00112615])"
            ]
          },
          "metadata": {},
          "execution_count": 37
        }
      ],
      "source": [
        "lm.coef_"
      ]
    },
    {
      "cell_type": "markdown",
      "metadata": {
        "id": "ZrngyEg7oTxk"
      },
      "source": [
        "mpg = 55.026 -0.434 * hp + 0.00112615 * hp^2"
      ]
    },
    {
      "cell_type": "code",
      "execution_count": 38,
      "metadata": {
        "id": "7Cyo5eMhoTxk"
      },
      "outputs": [],
      "source": [
        "def regresion_validation(X_data, Y, Y_pred):\n",
        "    SSD = np.sum((Y - Y_pred)**2)\n",
        "    RSE = np.sqrt(SSD/(len(X_data)-1))\n",
        "    y_mean = np.mean(Y)\n",
        "    error = RSE/y_mean\n",
        "    print(\"SSD: \"+str(SSD)+\", RSE: \" +str(RSE) + \", Y_mean: \" +str(y_mean) +\", error: \" + str(error*100)+ \"%\")"
      ]
    },
    {
      "cell_type": "code",
      "execution_count": 39,
      "metadata": {
        "id": "FXCHql13oTxk",
        "outputId": "89f6f0f5-12bc-4119-bdf7-02350736939b",
        "colab": {
          "base_uri": "https://localhost:8080/"
        }
      },
      "outputs": [
        {
          "output_type": "stream",
          "name": "stdout",
          "text": [
            "Regresión de grado 2\n",
            "R2:0.6439066584257469\n",
            "55.026192447081144\n",
            "[ 0.         -0.43404318  0.00112615]\n",
            "SSD: 8636.180643524502, RSE: 4.61778115803654, Y_mean: 23.514572864321607, error: 19.6379546619069%\n",
            "Regresión de grado 3\n",
            "R2:0.6444678885560744\n",
            "58.44877411148572\n",
            "[ 0.00000000e+00 -5.27113167e-01  1.89736722e-03 -1.95723195e-06]\n",
            "SSD: 8622.56936742855, RSE: 4.614140736300908, Y_mean: 23.514572864321607, error: 19.622473106036686%\n",
            "Regresión de grado 4\n",
            "R2:0.6467674189704502\n",
            "40.096643848808654\n",
            "[ 0.00000000e+00  1.62563541e-01 -7.10892744e-03  4.65580255e-05\n",
            " -9.15840092e-08]\n",
            "SSD: 8566.799832491351, RSE: 4.599194731579757, Y_mean: 23.514572864321607, error: 19.558912501268786%\n",
            "Regresión de grado 5\n",
            "R2:0.6547512491371934\n",
            "-40.69402885502241\n",
            "[ 0.00000000e+00  4.00021894e+00 -7.54802468e-02  6.19621641e-04\n",
            " -2.36220984e-06  3.41983153e-09]\n",
            "SSD: 8373.171388773775, RSE: 4.546921734122058, Y_mean: 23.514572864321607, error: 19.33661206757895%\n",
            "Regresión de grado 6\n",
            "R2:0.6572852671633754\n",
            "-156.98520706471135\n",
            "[ 0.00000000e+00  1.07622445e+01 -2.30165514e-01  2.40584068e-03\n",
            " -1.33797044e-05  3.79780867e-08 -4.32542890e-11]\n",
            "SSD: 8311.714925332735, RSE: 4.530204509959361, Y_mean: 23.514572864321607, error: 19.265519029831026%\n",
            "Regresión de grado 7\n",
            "R2:0.6538574587728879\n",
            "14.784065828850075\n",
            "[ 0.00000000e+00  1.26694156e-03  4.31482742e-02 -1.25395189e-03\n",
            "  1.46292435e-05 -8.50453223e-08  2.45090897e-10 -2.79305658e-13]\n",
            "SSD: 8394.848107045054, RSE: 4.552803533801475, Y_mean: 23.514572864321607, error: 19.36162549101367%\n",
            "Regresión de grado 8\n",
            "R2:0.6512432187305688\n",
            "36.40687265232428\n",
            "[ 0.00000000e+00  5.13552363e-07  3.03206123e-06  8.84865763e-05\n",
            " -3.97062827e-06  5.47389300e-08 -3.43823669e-10  1.02688816e-12\n",
            " -1.18560949e-15]\n",
            "SSD: 8458.250160987405, RSE: 4.56996370868898, Y_mean: 23.514572864321607, error: 19.4346022573216%\n",
            "Regresión de grado 9\n",
            "R2:0.6510536193902765\n",
            "39.46387142679963\n",
            "[ 0.00000000e+00  2.96414081e-08 -1.28619207e-09 -6.48222295e-08\n",
            " -1.77070696e-06  3.55391882e-08 -3.00072616e-10  1.32188162e-12\n",
            " -3.03802044e-15  2.92180706e-18]\n",
            "SSD: 8462.848433298306, RSE: 4.571205755326124, Y_mean: 23.514572864321607, error: 19.43988428665852%\n",
            "Regresión de grado 10\n",
            "R2:0.652357049711226\n",
            "38.443257481650434\n",
            "[ 0.00000000e+00 -8.69901012e-10 -2.80006298e-13 -2.72222346e-11\n",
            " -1.29906751e-09 -3.51792974e-08  8.70675176e-10 -8.87325871e-12\n",
            "  4.60568123e-14 -1.20916592e-16  1.27856170e-19]\n",
            "SSD: 8431.236891059965, RSE: 4.56266028395877, Y_mean: 23.514572864321607, error: 19.403543114668448%\n",
            "Regresión de grado 11\n",
            "R2:0.650973900794568\n",
            "36.33550600907266\n",
            "[ 0.00000000e+00  3.42124539e-11  1.37528592e-14 -4.89050725e-15\n",
            " -3.12607788e-13 -1.48171763e-11 -4.06509621e-10  1.03821826e-11\n",
            " -1.07573405e-13  5.61841262e-16 -1.47322816e-18  1.54740289e-21]\n",
            "SSD: 8464.78181455768, RSE: 4.57172788324218, Y_mean: 23.514572864321607, error: 19.442104730632%\n"
          ]
        }
      ],
      "source": [
        "for d in range(2,12):\n",
        "    poly = PolynomialFeatures(degree=d)\n",
        "    X_data = poly.fit_transform(X[:,np.newaxis])\n",
        "    lm = linear_model.LinearRegression()\n",
        "    lm.fit(X_data, Y)\n",
        "    print(\"Regresión de grado \"+str(d))\n",
        "    print(\"R2:\" +str(lm.score(X_data, Y)))\n",
        "    print(lm.intercept_)\n",
        "    print(lm.coef_)\n",
        "    regresion_validation(X_data, Y, lm.predict(X_data))"
      ]
    },
    {
      "cell_type": "markdown",
      "metadata": {
        "id": "MWBghpgRoTxl"
      },
      "source": [
        "# El problema de los outliers"
      ]
    },
    {
      "cell_type": "code",
      "execution_count": 40,
      "metadata": {
        "id": "3UMfEQ6IoTxl",
        "outputId": "6d8a5db2-b796-4b35-c56c-aac1eb5577f9",
        "colab": {
          "base_uri": "https://localhost:8080/",
          "height": 283
        }
      },
      "outputs": [
        {
          "output_type": "execute_result",
          "data": {
            "text/plain": [
              "[<matplotlib.lines.Line2D at 0x7f27bab435d0>]"
            ]
          },
          "metadata": {},
          "execution_count": 40
        },
        {
          "output_type": "display_data",
          "data": {
            "text/plain": [
              "<Figure size 432x288 with 1 Axes>"
            ],
            "image/png": "[encoded data removed]"
          },
          "metadata": {
            "needs_background": "light"
          }
        }
      ],
      "source": [
        "plt.plot(data_auto[\"displacement\"], data_auto[\"mpg\"], \"ro\")"
      ]
    },
    {
      "cell_type": "code",
      "execution_count": 44,
      "metadata": {
        "id": "Tjcv25WMoTxl",
        "outputId": "5b5d24b4-fa1b-496d-debb-b9a0378ccebe",
        "colab": {
          "base_uri": "https://localhost:8080/"
        }
      },
      "outputs": [
        {
          "output_type": "execute_result",
          "data": {
            "text/plain": [
              "LinearRegression()"
            ]
          },
          "metadata": {},
          "execution_count": 44
        }
      ],
      "source": [
        "X = data_auto[\"displacement\"].fillna(data_auto[\"displacement\"].mean()).to_numpy()\n",
        "X = X[:,np.newaxis]\n",
        "Y = data_auto[\"mpg\"].fillna(data_auto[\"mpg\"].mean())\n",
        "\n",
        "lm = LinearRegression()\n",
        "lm.fit(X, Y)"
      ]
    },
    {
      "cell_type": "code",
      "execution_count": 45,
      "metadata": {
        "id": "cRt5CjUjoTxl",
        "outputId": "3bb07143-d2d1-484e-bbcf-18167cccb03c",
        "colab": {
          "base_uri": "https://localhost:8080/"
        }
      },
      "outputs": [
        {
          "output_type": "execute_result",
          "data": {
            "text/plain": [
              "0.6261049762826918"
            ]
          },
          "metadata": {},
          "execution_count": 45
        }
      ],
      "source": [
        "lm.score(X,Y)"
      ]
    },
    {
      "cell_type": "code",
      "execution_count": 46,
      "metadata": {
        "id": "zv_ROo3RoTxl",
        "outputId": "3ac0c3a6-6635-4515-b905-40ec8bde6028",
        "colab": {
          "base_uri": "https://localhost:8080/",
          "height": 283
        }
      },
      "outputs": [
        {
          "output_type": "execute_result",
          "data": {
            "text/plain": [
              "[<matplotlib.lines.Line2D at 0x7f27baa80750>]"
            ]
          },
          "metadata": {},
          "execution_count": 46
        },
        {
          "output_type": "display_data",
          "data": {
            "text/plain": [
              "<Figure size 432x288 with 1 Axes>"
            ],
            "image/png": "[encoded data removed]"
          },
          "metadata": {
            "needs_background": "light"
          }
        }
      ],
      "source": [
        "%matplotlib inline\n",
        "plt.plot(X,Y, \"ro\")\n",
        "plt.plot(X, lm.predict(X), color=\"blue\")"
      ]
    },
    {
      "cell_type": "code",
      "execution_count": 47,
      "metadata": {
        "id": "nSey9-kKoTxm",
        "outputId": "71c4fb7c-2e7a-4b9a-dab2-ba96ae2decc1",
        "colab": {
          "base_uri": "https://localhost:8080/",
          "height": 81
        }
      },
      "outputs": [
        {
          "output_type": "execute_result",
          "data": {
            "text/plain": [
              "      mpg  cylinders  displacement  horsepower  weight  acceleration  \\\n",
              "395  38.0          6         262.0        85.0    3015          17.0   \n",
              "\n",
              "     model year  origin                           car name  \n",
              "395          82       1  oldsmobile cutlass ciera (diesel)  "
            ],
            "text/html": [
              "\n",
              "  <div id=\"df-12b269b8-b84c-41fa-824f-017576ed95e8\">\n",
              "    <div class=\"colab-df-container\">\n",
              "      <div>\n",
              "<style scoped>\n",
              "    .dataframe tbody tr th:only-of-type {\n",
              "        vertical-align: middle;\n",
              "    }\n",
              "\n",
              "    .dataframe tbody tr th {\n",
              "        vertical-align: top;\n",
              "    }\n",
              "\n",
              "    .dataframe thead th {\n",
              "        text-align: right;\n",
              "    }\n",
              "</style>\n",
              "<table border=\"1\" class=\"dataframe\">\n",
              "  <thead>\n",
              "    <tr style=\"text-align: right;\">\n",
              "      <th></th>\n",
              "      <th>mpg</th>\n",
              "      <th>cylinders</th>\n",
              "      <th>displacement</th>\n",
              "      <th>horsepower</th>\n",
              "      <th>weight</th>\n",
              "      <th>acceleration</th>\n",
              "      <th>model year</th>\n",
              "      <th>origin</th>\n",
              "      <th>car name</th>\n",
              "    </tr>\n",
              "  </thead>\n",
              "  <tbody>\n",
              "    <tr>\n",
              "      <th>395</th>\n",
              "      <td>38.0</td>\n",
              "      <td>6</td>\n",
              "      <td>262.0</td>\n",
              "      <td>85.0</td>\n",
              "      <td>3015</td>\n",
              "      <td>17.0</td>\n",
              "      <td>82</td>\n",
              "      <td>1</td>\n",
              "      <td>oldsmobile cutlass ciera (diesel)</td>\n",
              "    </tr>\n",
              "  </tbody>\n",
              "</table>\n",
              "</div>\n",
              "      <button class=\"colab-df-convert\" onclick=\"convertToInteractive('df-12b269b8-b84c-41fa-824f-017576ed95e8')\"\n",
              "              title=\"Convert this dataframe to an interactive table.\"\n",
              "              style=\"display:none;\">\n",
              "        \n",
              "  <svg xmlns=\"http://www.w3.org/2000/svg\" height=\"24px\"viewBox=\"0 0 24 24\"\n",
              "       width=\"24px\">\n",
              "    <path d=\"M0 0h24v24H0V0z\" fill=\"none\"/>\n",
              "    <path d=\"M18.56 5.44l.94 2.06.94-2.06 2.06-.94-2.06-.94-.94-2.06-.94 2.06-2.06.94zm-11 1L8.5 8.5l.94-2.06 2.06-.94-2.06-.94L8.5 2.5l-.94 2.06-2.06.94zm10 10l.94 2.06.94-2.06 2.06-.94-2.06-.94-.94-2.06-.94 2.06-2.06.94z\"/><path d=\"M17.41 7.96l-1.37-1.37c-.4-.4-.92-.59-1.43-.59-.52 0-1.04.2-1.43.59L10.3 9.45l-7.72 7.72c-.78.78-.78 2.05 0 2.83L4 21.41c.39.39.9.59 1.41.59.51 0 1.02-.2 1.41-.59l7.78-7.78 2.81-2.81c.8-.78.8-2.07 0-2.86zM5.41 20L4 18.59l7.72-7.72 1.47 1.35L5.41 20z\"/>\n",
              "  </svg>\n",
              "      </button>\n",
              "      \n",
              "  <style>\n",
              "    .colab-df-container {\n",
              "      display:flex;\n",
              "      flex-wrap:wrap;\n",
              "      gap: 12px;\n",
              "    }\n",
              "\n",
              "    .colab-df-convert {\n",
              "      background-color: #E8F0FE;\n",
              "      border: none;\n",
              "      border-radius: 50%;\n",
              "      cursor: pointer;\n",
              "      display: none;\n",
              "      fill: #1967D2;\n",
              "      height: 32px;\n",
              "      padding: 0 0 0 0;\n",
              "      width: 32px;\n",
              "    }\n",
              "\n",
              "    .colab-df-convert:hover {\n",
              "      background-color: #E2EBFA;\n",
              "      box-shadow: 0px 1px 2px rgba(60, 64, 67, 0.3), 0px 1px 3px 1px rgba(60, 64, 67, 0.15);\n",
              "      fill: #174EA6;\n",
              "    }\n",
              "\n",
              "    [theme=dark] .colab-df-convert {\n",
              "      background-color: #3B4455;\n",
              "      fill: #D2E3FC;\n",
              "    }\n",
              "\n",
              "    [theme=dark] .colab-df-convert:hover {\n",
              "      background-color: #434B5C;\n",
              "      box-shadow: 0px 1px 3px 1px rgba(0, 0, 0, 0.15);\n",
              "      filter: drop-shadow(0px 1px 2px rgba(0, 0, 0, 0.3));\n",
              "      fill: #FFFFFF;\n",
              "    }\n",
              "  </style>\n",
              "\n",
              "      <script>\n",
              "        const buttonEl =\n",
              "          document.querySelector('#df-12b269b8-b84c-41fa-824f-017576ed95e8 button.colab-df-convert');\n",
              "        buttonEl.style.display =\n",
              "          google.colab.kernel.accessAllowed ? 'block' : 'none';\n",
              "\n",
              "        async function convertToInteractive(key) {\n",
              "          const element = document.querySelector('#df-12b269b8-b84c-41fa-824f-017576ed95e8');\n",
              "          const dataTable =\n",
              "            await google.colab.kernel.invokeFunction('convertToInteractive',\n",
              "                                                     [key], {});\n",
              "          if (!dataTable) return;\n",
              "\n",
              "          const docLinkHtml = 'Like what you see? Visit the ' +\n",
              "            '<a target=\"_blank\" href=https://colab.research.google.com/notebooks/data_table.ipynb>data table notebook</a>'\n",
              "            + ' to learn more about interactive tables.';\n",
              "          element.innerHTML = '';\n",
              "          dataTable['output_type'] = 'display_data';\n",
              "          await google.colab.output.renderOutput(dataTable, element);\n",
              "          const docLink = document.createElement('div');\n",
              "          docLink.innerHTML = docLinkHtml;\n",
              "          element.appendChild(docLink);\n",
              "        }\n",
              "      </script>\n",
              "    </div>\n",
              "  </div>\n",
              "  "
            ]
          },
          "metadata": {},
          "execution_count": 47
        }
      ],
      "source": [
        "data_auto[(data_auto[\"displacement\"]>250)&(data_auto[\"mpg\"]>35)]"
      ]
    },
    {
      "cell_type": "code",
      "execution_count": 48,
      "metadata": {
        "id": "iWTd1WjyoTxm",
        "outputId": "b16e2e6e-a848-4504-df35-c46c114a1f3f",
        "colab": {
          "base_uri": "https://localhost:8080/",
          "height": 143
        }
      },
      "outputs": [
        {
          "output_type": "execute_result",
          "data": {
            "text/plain": [
              "      mpg  cylinders  displacement  horsepower  weight  acceleration  \\\n",
              "258  20.2          8         302.0       139.0    3570          12.8   \n",
              "305  23.0          8         350.0       125.0    3900          17.4   \n",
              "372  26.6          8         350.0       105.0    3725          19.0   \n",
              "\n",
              "     model year  origin               car name  \n",
              "258          78       1   mercury monarch ghia  \n",
              "305          79       1      cadillac eldorado  \n",
              "372          81       1  oldsmobile cutlass ls  "
            ],
            "text/html": [
              "\n",
              "  <div id=\"df-efac680d-dde5-42ec-9d9f-12de6513e149\">\n",
              "    <div class=\"colab-df-container\">\n",
              "      <div>\n",
              "<style scoped>\n",
              "    .dataframe tbody tr th:only-of-type {\n",
              "        vertical-align: middle;\n",
              "    }\n",
              "\n",
              "    .dataframe tbody tr th {\n",
              "        vertical-align: top;\n",
              "    }\n",
              "\n",
              "    .dataframe thead th {\n",
              "        text-align: right;\n",
              "    }\n",
              "</style>\n",
              "<table border=\"1\" class=\"dataframe\">\n",
              "  <thead>\n",
              "    <tr style=\"text-align: right;\">\n",
              "      <th></th>\n",
              "      <th>mpg</th>\n",
              "      <th>cylinders</th>\n",
              "      <th>displacement</th>\n",
              "      <th>horsepower</th>\n",
              "      <th>weight</th>\n",
              "      <th>acceleration</th>\n",
              "      <th>model year</th>\n",
              "      <th>origin</th>\n",
              "      <th>car name</th>\n",
              "    </tr>\n",
              "  </thead>\n",
              "  <tbody>\n",
              "    <tr>\n",
              "      <th>258</th>\n",
              "      <td>20.2</td>\n",
              "      <td>8</td>\n",
              "      <td>302.0</td>\n",
              "      <td>139.0</td>\n",
              "      <td>3570</td>\n",
              "      <td>12.8</td>\n",
              "      <td>78</td>\n",
              "      <td>1</td>\n",
              "      <td>mercury monarch ghia</td>\n",
              "    </tr>\n",
              "    <tr>\n",
              "      <th>305</th>\n",
              "      <td>23.0</td>\n",
              "      <td>8</td>\n",
              "      <td>350.0</td>\n",
              "      <td>125.0</td>\n",
              "      <td>3900</td>\n",
              "      <td>17.4</td>\n",
              "      <td>79</td>\n",
              "      <td>1</td>\n",
              "      <td>cadillac eldorado</td>\n",
              "    </tr>\n",
              "    <tr>\n",
              "      <th>372</th>\n",
              "      <td>26.6</td>\n",
              "      <td>8</td>\n",
              "      <td>350.0</td>\n",
              "      <td>105.0</td>\n",
              "      <td>3725</td>\n",
              "      <td>19.0</td>\n",
              "      <td>81</td>\n",
              "      <td>1</td>\n",
              "      <td>oldsmobile cutlass ls</td>\n",
              "    </tr>\n",
              "  </tbody>\n",
              "</table>\n",
              "</div>\n",
              "      <button class=\"colab-df-convert\" onclick=\"convertToInteractive('df-efac680d-dde5-42ec-9d9f-12de6513e149')\"\n",
              "              title=\"Convert this dataframe to an interactive table.\"\n",
              "              style=\"display:none;\">\n",
              "        \n",
              "  <svg xmlns=\"http://www.w3.org/2000/svg\" height=\"24px\"viewBox=\"0 0 24 24\"\n",
              "       width=\"24px\">\n",
              "    <path d=\"M0 0h24v24H0V0z\" fill=\"none\"/>\n",
              "    <path d=\"M18.56 5.44l.94 2.06.94-2.06 2.06-.94-2.06-.94-.94-2.06-.94 2.06-2.06.94zm-11 1L8.5 8.5l.94-2.06 2.06-.94-2.06-.94L8.5 2.5l-.94 2.06-2.06.94zm10 10l.94 2.06.94-2.06 2.06-.94-2.06-.94-.94-2.06-.94 2.06-2.06.94z\"/><path d=\"M17.41 7.96l-1.37-1.37c-.4-.4-.92-.59-1.43-.59-.52 0-1.04.2-1.43.59L10.3 9.45l-7.72 7.72c-.78.78-.78 2.05 0 2.83L4 21.41c.39.39.9.59 1.41.59.51 0 1.02-.2 1.41-.59l7.78-7.78 2.81-2.81c.8-.78.8-2.07 0-2.86zM5.41 20L4 18.59l7.72-7.72 1.47 1.35L5.41 20z\"/>\n",
              "  </svg>\n",
              "      </button>\n",
              "      \n",
              "  <style>\n",
              "    .colab-df-container {\n",
              "      display:flex;\n",
              "      flex-wrap:wrap;\n",
              "      gap: 12px;\n",
              "    }\n",
              "\n",
              "    .colab-df-convert {\n",
              "      background-color: #E8F0FE;\n",
              "      border: none;\n",
              "      border-radius: 50%;\n",
              "      cursor: pointer;\n",
              "      display: none;\n",
              "      fill: #1967D2;\n",
              "      height: 32px;\n",
              "      padding: 0 0 0 0;\n",
              "      width: 32px;\n",
              "    }\n",
              "\n",
              "    .colab-df-convert:hover {\n",
              "      background-color: #E2EBFA;\n",
              "      box-shadow: 0px 1px 2px rgba(60, 64, 67, 0.3), 0px 1px 3px 1px rgba(60, 64, 67, 0.15);\n",
              "      fill: #174EA6;\n",
              "    }\n",
              "\n",
              "    [theme=dark] .colab-df-convert {\n",
              "      background-color: #3B4455;\n",
              "      fill: #D2E3FC;\n",
              "    }\n",
              "\n",
              "    [theme=dark] .colab-df-convert:hover {\n",
              "      background-color: #434B5C;\n",
              "      box-shadow: 0px 1px 3px 1px rgba(0, 0, 0, 0.15);\n",
              "      filter: drop-shadow(0px 1px 2px rgba(0, 0, 0, 0.3));\n",
              "      fill: #FFFFFF;\n",
              "    }\n",
              "  </style>\n",
              "\n",
              "      <script>\n",
              "        const buttonEl =\n",
              "          document.querySelector('#df-efac680d-dde5-42ec-9d9f-12de6513e149 button.colab-df-convert');\n",
              "        buttonEl.style.display =\n",
              "          google.colab.kernel.accessAllowed ? 'block' : 'none';\n",
              "\n",
              "        async function convertToInteractive(key) {\n",
              "          const element = document.querySelector('#df-efac680d-dde5-42ec-9d9f-12de6513e149');\n",
              "          const dataTable =\n",
              "            await google.colab.kernel.invokeFunction('convertToInteractive',\n",
              "                                                     [key], {});\n",
              "          if (!dataTable) return;\n",
              "\n",
              "          const docLinkHtml = 'Like what you see? Visit the ' +\n",
              "            '<a target=\"_blank\" href=https://colab.research.google.com/notebooks/data_table.ipynb>data table notebook</a>'\n",
              "            + ' to learn more about interactive tables.';\n",
              "          element.innerHTML = '';\n",
              "          dataTable['output_type'] = 'display_data';\n",
              "          await google.colab.output.renderOutput(dataTable, element);\n",
              "          const docLink = document.createElement('div');\n",
              "          docLink.innerHTML = docLinkHtml;\n",
              "          element.appendChild(docLink);\n",
              "        }\n",
              "      </script>\n",
              "    </div>\n",
              "  </div>\n",
              "  "
            ]
          },
          "metadata": {},
          "execution_count": 48
        }
      ],
      "source": [
        "data_auto[(data_auto[\"displacement\"]>300)&(data_auto[\"mpg\"]>20)]"
      ]
    },
    {
      "cell_type": "code",
      "execution_count": 49,
      "metadata": {
        "id": "rB0nX13doTxm"
      },
      "outputs": [],
      "source": [
        "data_auto_clean = data_auto.drop([395, 258, 305, 372])"
      ]
    },
    {
      "cell_type": "code",
      "execution_count": 50,
      "metadata": {
        "id": "8D_T7f8RoTxm",
        "outputId": "98d269b9-28b7-4dbf-ffdd-7fc4b26deda1",
        "colab": {
          "base_uri": "https://localhost:8080/"
        }
      },
      "outputs": [
        {
          "output_type": "execute_result",
          "data": {
            "text/plain": [
              "LinearRegression()"
            ]
          },
          "metadata": {},
          "execution_count": 50
        }
      ],
      "source": [
        "X = data_auto_clean[\"displacement\"].fillna(data_auto_clean[\"displacement\"].mean()).to_numpy()\n",
        "X = X[:,np.newaxis]\n",
        "Y = data_auto_clean[\"mpg\"].fillna(data_auto_clean[\"mpg\"].mean())\n",
        "\n",
        "lm = LinearRegression()\n",
        "lm.fit(X, Y)"
      ]
    },
    {
      "cell_type": "code",
      "execution_count": 51,
      "metadata": {
        "id": "yhROt3RSoTxm",
        "outputId": "89db8349-aed7-4b6d-8649-5058a994c29c",
        "colab": {
          "base_uri": "https://localhost:8080/"
        }
      },
      "outputs": [
        {
          "output_type": "execute_result",
          "data": {
            "text/plain": [
              "0.6466514317531822"
            ]
          },
          "metadata": {},
          "execution_count": 51
        }
      ],
      "source": [
        "lm.score(X,Y)"
      ]
    },
    {
      "cell_type": "code",
      "execution_count": 52,
      "metadata": {
        "id": "T9B4_tUvoTxn",
        "outputId": "645c3787-1ecd-49c0-818f-89ad9c184ea7",
        "colab": {
          "base_uri": "https://localhost:8080/",
          "height": 283
        }
      },
      "outputs": [
        {
          "output_type": "execute_result",
          "data": {
            "text/plain": [
              "[<matplotlib.lines.Line2D at 0x7f27baa0c0d0>]"
            ]
          },
          "metadata": {},
          "execution_count": 52
        },
        {
          "output_type": "display_data",
          "data": {
            "text/plain": [
              "<Figure size 432x288 with 1 Axes>"
            ],
            "image/png": "[encoded data removed]"
          },
          "metadata": {
            "needs_background": "light"
          }
        }
      ],
      "source": [
        "%matplotlib inline\n",
        "plt.plot(X,Y, \"ro\")\n",
        "plt.plot(X, lm.predict(X), color=\"blue\")"
      ]
    }
  ],
  "metadata": {
    "kernelspec": {
      "display_name": "Python 3",
      "language": "python",
      "name": "python3"
    },
    "language_info": {
      "codemirror_mode": {
        "name": "ipython",
        "version": 3
      },
      "file_extension": ".py",
      "mimetype": "text/x-python",
      "name": "python",
      "nbconvert_exporter": "python",
      "pygments_lexer": "ipython3",
      "version": "3.8.5"
    },
    "colab": {
      "name": "T4 - 5 - Linear Regression - Problemas con la regresión lineal-Colab.ipynb",
      "provenance": [],
      "toc_visible": true
    }
  },
  "nbformat": 4,
  "nbformat_minor": 0
}