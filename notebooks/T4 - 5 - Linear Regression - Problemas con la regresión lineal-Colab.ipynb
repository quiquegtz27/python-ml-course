{
  "cells": [
    {
      "cell_type": "markdown",
      "metadata": {
        "id": "361pKMEZEuZN"
      },
      "source": [
        "<a href=\"https://colab.research.google.com/github/joanby/python-ml-course/blob/master/notebooks/T4%20-%205%20-%20Linear%20Regression%20-%20Problemas%20con%20la%20regresión%20lineal-Colab.ipynb\" target=\"_parent\"><img src=\"https://colab.research.google.com/assets/colab-badge.svg\" alt=\"Open In Colab\"/></a>"
      ]
    },
    {
      "cell_type": "markdown",
      "metadata": {
        "id": "fuKBVmq7EuZS"
      },
      "source": [
        "# Clonamos el repositorio para obtener los dataSet"
      ]
    },
    {
      "cell_type": "code",
      "execution_count": 1,
      "metadata": {
        "id": "bhSGxj85EuZT",
        "outputId": "dc0aefcb-1506-4d62-b441-ef008e7ee9d2",
        "colab": {
          "base_uri": "https://localhost:8080/"
        }
      },
      "outputs": [
        {
          "output_type": "stream",
          "name": "stdout",
          "text": [
            "Cloning into 'python-ml-course'...\n",
            "remote: Enumerating objects: 17706, done.\u001b[K\n",
            "remote: Total 17706 (delta 0), reused 0 (delta 0), pack-reused 17706\u001b[K\n",
            "Receiving objects: 100% (17706/17706), 523.15 MiB | 15.03 MiB/s, done.\n",
            "Resolving deltas: 100% (333/333), done.\n",
            "Checking out files: 100% (16940/16940), done.\n"
          ]
        }
      ],
      "source": [
        "!git clone https://github.com/joanby/python-ml-course.git"
      ]
    },
    {
      "cell_type": "markdown",
      "metadata": {
        "id": "USpMmLScEuZV"
      },
      "source": [
        "# Damos acceso a nuestro Drive"
      ]
    },
    {
      "cell_type": "code",
      "execution_count": null,
      "metadata": {
        "id": "rj_no7kWEuZW"
      },
      "outputs": [],
      "source": [
        "from google.colab import drive\n",
        "drive.mount('/content/drive')\n",
        "# Test it\n",
        "!ls '/content/drive/My Drive' "
      ]
    },
    {
      "cell_type": "code",
      "execution_count": null,
      "metadata": {
        "id": "Y9nCoEk0EuZX"
      },
      "outputs": [],
      "source": [
        "from google.colab import files # Para manejar los archivos y, por ejemplo, exportar a su navegador\n",
        "import glob # Para manejar los archivos y, por ejemplo, exportar a su navegador\n",
        "from google.colab import drive # Montar tu Google drive"
      ]
    },
    {
      "cell_type": "markdown",
      "metadata": {
        "id": "6gqwdv2FEuZX"
      },
      "source": [
        "# El tratamiento de las variables categóricas"
      ]
    },
    {
      "cell_type": "code",
      "execution_count": 17,
      "metadata": {
        "id": "dTYpJmIsEuZY"
      },
      "outputs": [],
      "source": [
        "import pandas as pd\n",
        "import numpy as np\n",
        "from sklearn.linear_model import LinearRegression"
      ]
    },
    {
      "cell_type": "code",
      "execution_count": 18,
      "metadata": {
        "id": "rYSohiCAEuZY"
      },
      "outputs": [],
      "source": [
        "df = pd.read_csv(\"/content/python-ml-course/datasets/ecom-expense/Ecom Expense.csv\")"
      ]
    },
    {
      "cell_type": "code",
      "execution_count": 19,
      "metadata": {
        "id": "SRIGYS8EEuZZ",
        "outputId": "fd86019a-b623-4071-b6f4-65c20ee6559a",
        "colab": {
          "base_uri": "https://localhost:8080/",
          "height": 206
        }
      },
      "outputs": [
        {
          "output_type": "execute_result",
          "data": {
            "text/plain": [
              "  Transaction ID  Age    Items   Monthly Income  Transaction Time  Record  \\\n",
              "0         TXN001    42       10            7313        627.668127       5   \n",
              "1         TXN002    24        8           17747        126.904567       3   \n",
              "2         TXN003    47       11           22845        873.469701       2   \n",
              "3         TXN004    50       11           18552        380.219428       7   \n",
              "4         TXN005    60        2           14439        403.374223       2   \n",
              "\n",
              "   Gender City Tier  Total Spend  \n",
              "0  Female    Tier 1  4198.385084  \n",
              "1  Female    Tier 2  4134.976648  \n",
              "2    Male    Tier 2  5166.614455  \n",
              "3  Female    Tier 1  7784.447676  \n",
              "4  Female    Tier 2  3254.160485  "
            ],
            "text/html": [
              "\n",
              "  <div id=\"df-3b524952-b81d-4cbb-8050-a30d25ec87c0\">\n",
              "    <div class=\"colab-df-container\">\n",
              "      <div>\n",
              "<style scoped>\n",
              "    .dataframe tbody tr th:only-of-type {\n",
              "        vertical-align: middle;\n",
              "    }\n",
              "\n",
              "    .dataframe tbody tr th {\n",
              "        vertical-align: top;\n",
              "    }\n",
              "\n",
              "    .dataframe thead th {\n",
              "        text-align: right;\n",
              "    }\n",
              "</style>\n",
              "<table border=\"1\" class=\"dataframe\">\n",
              "  <thead>\n",
              "    <tr style=\"text-align: right;\">\n",
              "      <th></th>\n",
              "      <th>Transaction ID</th>\n",
              "      <th>Age</th>\n",
              "      <th>Items</th>\n",
              "      <th>Monthly Income</th>\n",
              "      <th>Transaction Time</th>\n",
              "      <th>Record</th>\n",
              "      <th>Gender</th>\n",
              "      <th>City Tier</th>\n",
              "      <th>Total Spend</th>\n",
              "    </tr>\n",
              "  </thead>\n",
              "  <tbody>\n",
              "    <tr>\n",
              "      <th>0</th>\n",
              "      <td>TXN001</td>\n",
              "      <td>42</td>\n",
              "      <td>10</td>\n",
              "      <td>7313</td>\n",
              "      <td>627.668127</td>\n",
              "      <td>5</td>\n",
              "      <td>Female</td>\n",
              "      <td>Tier 1</td>\n",
              "      <td>4198.385084</td>\n",
              "    </tr>\n",
              "    <tr>\n",
              "      <th>1</th>\n",
              "      <td>TXN002</td>\n",
              "      <td>24</td>\n",
              "      <td>8</td>\n",
              "      <td>17747</td>\n",
              "      <td>126.904567</td>\n",
              "      <td>3</td>\n",
              "      <td>Female</td>\n",
              "      <td>Tier 2</td>\n",
              "      <td>4134.976648</td>\n",
              "    </tr>\n",
              "    <tr>\n",
              "      <th>2</th>\n",
              "      <td>TXN003</td>\n",
              "      <td>47</td>\n",
              "      <td>11</td>\n",
              "      <td>22845</td>\n",
              "      <td>873.469701</td>\n",
              "      <td>2</td>\n",
              "      <td>Male</td>\n",
              "      <td>Tier 2</td>\n",
              "      <td>5166.614455</td>\n",
              "    </tr>\n",
              "    <tr>\n",
              "      <th>3</th>\n",
              "      <td>TXN004</td>\n",
              "      <td>50</td>\n",
              "      <td>11</td>\n",
              "      <td>18552</td>\n",
              "      <td>380.219428</td>\n",
              "      <td>7</td>\n",
              "      <td>Female</td>\n",
              "      <td>Tier 1</td>\n",
              "      <td>7784.447676</td>\n",
              "    </tr>\n",
              "    <tr>\n",
              "      <th>4</th>\n",
              "      <td>TXN005</td>\n",
              "      <td>60</td>\n",
              "      <td>2</td>\n",
              "      <td>14439</td>\n",
              "      <td>403.374223</td>\n",
              "      <td>2</td>\n",
              "      <td>Female</td>\n",
              "      <td>Tier 2</td>\n",
              "      <td>3254.160485</td>\n",
              "    </tr>\n",
              "  </tbody>\n",
              "</table>\n",
              "</div>\n",
              "      <button class=\"colab-df-convert\" onclick=\"convertToInteractive('df-3b524952-b81d-4cbb-8050-a30d25ec87c0')\"\n",
              "              title=\"Convert this dataframe to an interactive table.\"\n",
              "              style=\"display:none;\">\n",
              "        \n",
              "  <svg xmlns=\"http://www.w3.org/2000/svg\" height=\"24px\"viewBox=\"0 0 24 24\"\n",
              "       width=\"24px\">\n",
              "    <path d=\"M0 0h24v24H0V0z\" fill=\"none\"/>\n",
              "    <path d=\"M18.56 5.44l.94 2.06.94-2.06 2.06-.94-2.06-.94-.94-2.06-.94 2.06-2.06.94zm-11 1L8.5 8.5l.94-2.06 2.06-.94-2.06-.94L8.5 2.5l-.94 2.06-2.06.94zm10 10l.94 2.06.94-2.06 2.06-.94-2.06-.94-.94-2.06-.94 2.06-2.06.94z\"/><path d=\"M17.41 7.96l-1.37-1.37c-.4-.4-.92-.59-1.43-.59-.52 0-1.04.2-1.43.59L10.3 9.45l-7.72 7.72c-.78.78-.78 2.05 0 2.83L4 21.41c.39.39.9.59 1.41.59.51 0 1.02-.2 1.41-.59l7.78-7.78 2.81-2.81c.8-.78.8-2.07 0-2.86zM5.41 20L4 18.59l7.72-7.72 1.47 1.35L5.41 20z\"/>\n",
              "  </svg>\n",
              "      </button>\n",
              "      \n",
              "  <style>\n",
              "    .colab-df-container {\n",
              "      display:flex;\n",
              "      flex-wrap:wrap;\n",
              "      gap: 12px;\n",
              "    }\n",
              "\n",
              "    .colab-df-convert {\n",
              "      background-color: #E8F0FE;\n",
              "      border: none;\n",
              "      border-radius: 50%;\n",
              "      cursor: pointer;\n",
              "      display: none;\n",
              "      fill: #1967D2;\n",
              "      height: 32px;\n",
              "      padding: 0 0 0 0;\n",
              "      width: 32px;\n",
              "    }\n",
              "\n",
              "    .colab-df-convert:hover {\n",
              "      background-color: #E2EBFA;\n",
              "      box-shadow: 0px 1px 2px rgba(60, 64, 67, 0.3), 0px 1px 3px 1px rgba(60, 64, 67, 0.15);\n",
              "      fill: #174EA6;\n",
              "    }\n",
              "\n",
              "    [theme=dark] .colab-df-convert {\n",
              "      background-color: #3B4455;\n",
              "      fill: #D2E3FC;\n",
              "    }\n",
              "\n",
              "    [theme=dark] .colab-df-convert:hover {\n",
              "      background-color: #434B5C;\n",
              "      box-shadow: 0px 1px 3px 1px rgba(0, 0, 0, 0.15);\n",
              "      filter: drop-shadow(0px 1px 2px rgba(0, 0, 0, 0.3));\n",
              "      fill: #FFFFFF;\n",
              "    }\n",
              "  </style>\n",
              "\n",
              "      <script>\n",
              "        const buttonEl =\n",
              "          document.querySelector('#df-3b524952-b81d-4cbb-8050-a30d25ec87c0 button.colab-df-convert');\n",
              "        buttonEl.style.display =\n",
              "          google.colab.kernel.accessAllowed ? 'block' : 'none';\n",
              "\n",
              "        async function convertToInteractive(key) {\n",
              "          const element = document.querySelector('#df-3b524952-b81d-4cbb-8050-a30d25ec87c0');\n",
              "          const dataTable =\n",
              "            await google.colab.kernel.invokeFunction('convertToInteractive',\n",
              "                                                     [key], {});\n",
              "          if (!dataTable) return;\n",
              "\n",
              "          const docLinkHtml = 'Like what you see? Visit the ' +\n",
              "            '<a target=\"_blank\" href=https://colab.research.google.com/notebooks/data_table.ipynb>data table notebook</a>'\n",
              "            + ' to learn more about interactive tables.';\n",
              "          element.innerHTML = '';\n",
              "          dataTable['output_type'] = 'display_data';\n",
              "          await google.colab.output.renderOutput(dataTable, element);\n",
              "          const docLink = document.createElement('div');\n",
              "          docLink.innerHTML = docLinkHtml;\n",
              "          element.appendChild(docLink);\n",
              "        }\n",
              "      </script>\n",
              "    </div>\n",
              "  </div>\n",
              "  "
            ]
          },
          "metadata": {},
          "execution_count": 19
        }
      ],
      "source": [
        "df.head()"
      ]
    },
    {
      "cell_type": "code",
      "execution_count": 20,
      "metadata": {
        "id": "d1LzfdZcEuZa"
      },
      "outputs": [],
      "source": [
        "#Usando Pandas para crear las variables dummies\n",
        "dummy_gender = pd.get_dummies(df[\"Gender\"], prefix = \"Gender\")\n",
        "dummy_city_tier = pd.get_dummies(df[\"City Tier\"], prefix = \"City\")"
      ]
    },
    {
      "cell_type": "code",
      "execution_count": 21,
      "metadata": {
        "id": "X_2tcGoUEuZa",
        "outputId": "ee18d5f4-4940-4960-b3c9-579c2577c9e1",
        "colab": {
          "base_uri": "https://localhost:8080/",
          "height": 206
        }
      },
      "outputs": [
        {
          "output_type": "execute_result",
          "data": {
            "text/plain": [
              "   Gender_Female  Gender_Male\n",
              "0              1            0\n",
              "1              1            0\n",
              "2              0            1\n",
              "3              1            0\n",
              "4              1            0"
            ],
            "text/html": [
              "\n",
              "  <div id=\"df-dba97188-0886-48f4-8be5-f42f14a1df8c\">\n",
              "    <div class=\"colab-df-container\">\n",
              "      <div>\n",
              "<style scoped>\n",
              "    .dataframe tbody tr th:only-of-type {\n",
              "        vertical-align: middle;\n",
              "    }\n",
              "\n",
              "    .dataframe tbody tr th {\n",
              "        vertical-align: top;\n",
              "    }\n",
              "\n",
              "    .dataframe thead th {\n",
              "        text-align: right;\n",
              "    }\n",
              "</style>\n",
              "<table border=\"1\" class=\"dataframe\">\n",
              "  <thead>\n",
              "    <tr style=\"text-align: right;\">\n",
              "      <th></th>\n",
              "      <th>Gender_Female</th>\n",
              "      <th>Gender_Male</th>\n",
              "    </tr>\n",
              "  </thead>\n",
              "  <tbody>\n",
              "    <tr>\n",
              "      <th>0</th>\n",
              "      <td>1</td>\n",
              "      <td>0</td>\n",
              "    </tr>\n",
              "    <tr>\n",
              "      <th>1</th>\n",
              "      <td>1</td>\n",
              "      <td>0</td>\n",
              "    </tr>\n",
              "    <tr>\n",
              "      <th>2</th>\n",
              "      <td>0</td>\n",
              "      <td>1</td>\n",
              "    </tr>\n",
              "    <tr>\n",
              "      <th>3</th>\n",
              "      <td>1</td>\n",
              "      <td>0</td>\n",
              "    </tr>\n",
              "    <tr>\n",
              "      <th>4</th>\n",
              "      <td>1</td>\n",
              "      <td>0</td>\n",
              "    </tr>\n",
              "  </tbody>\n",
              "</table>\n",
              "</div>\n",
              "      <button class=\"colab-df-convert\" onclick=\"convertToInteractive('df-dba97188-0886-48f4-8be5-f42f14a1df8c')\"\n",
              "              title=\"Convert this dataframe to an interactive table.\"\n",
              "              style=\"display:none;\">\n",
              "        \n",
              "  <svg xmlns=\"http://www.w3.org/2000/svg\" height=\"24px\"viewBox=\"0 0 24 24\"\n",
              "       width=\"24px\">\n",
              "    <path d=\"M0 0h24v24H0V0z\" fill=\"none\"/>\n",
              "    <path d=\"M18.56 5.44l.94 2.06.94-2.06 2.06-.94-2.06-.94-.94-2.06-.94 2.06-2.06.94zm-11 1L8.5 8.5l.94-2.06 2.06-.94-2.06-.94L8.5 2.5l-.94 2.06-2.06.94zm10 10l.94 2.06.94-2.06 2.06-.94-2.06-.94-.94-2.06-.94 2.06-2.06.94z\"/><path d=\"M17.41 7.96l-1.37-1.37c-.4-.4-.92-.59-1.43-.59-.52 0-1.04.2-1.43.59L10.3 9.45l-7.72 7.72c-.78.78-.78 2.05 0 2.83L4 21.41c.39.39.9.59 1.41.59.51 0 1.02-.2 1.41-.59l7.78-7.78 2.81-2.81c.8-.78.8-2.07 0-2.86zM5.41 20L4 18.59l7.72-7.72 1.47 1.35L5.41 20z\"/>\n",
              "  </svg>\n",
              "      </button>\n",
              "      \n",
              "  <style>\n",
              "    .colab-df-container {\n",
              "      display:flex;\n",
              "      flex-wrap:wrap;\n",
              "      gap: 12px;\n",
              "    }\n",
              "\n",
              "    .colab-df-convert {\n",
              "      background-color: #E8F0FE;\n",
              "      border: none;\n",
              "      border-radius: 50%;\n",
              "      cursor: pointer;\n",
              "      display: none;\n",
              "      fill: #1967D2;\n",
              "      height: 32px;\n",
              "      padding: 0 0 0 0;\n",
              "      width: 32px;\n",
              "    }\n",
              "\n",
              "    .colab-df-convert:hover {\n",
              "      background-color: #E2EBFA;\n",
              "      box-shadow: 0px 1px 2px rgba(60, 64, 67, 0.3), 0px 1px 3px 1px rgba(60, 64, 67, 0.15);\n",
              "      fill: #174EA6;\n",
              "    }\n",
              "\n",
              "    [theme=dark] .colab-df-convert {\n",
              "      background-color: #3B4455;\n",
              "      fill: #D2E3FC;\n",
              "    }\n",
              "\n",
              "    [theme=dark] .colab-df-convert:hover {\n",
              "      background-color: #434B5C;\n",
              "      box-shadow: 0px 1px 3px 1px rgba(0, 0, 0, 0.15);\n",
              "      filter: drop-shadow(0px 1px 2px rgba(0, 0, 0, 0.3));\n",
              "      fill: #FFFFFF;\n",
              "    }\n",
              "  </style>\n",
              "\n",
              "      <script>\n",
              "        const buttonEl =\n",
              "          document.querySelector('#df-dba97188-0886-48f4-8be5-f42f14a1df8c button.colab-df-convert');\n",
              "        buttonEl.style.display =\n",
              "          google.colab.kernel.accessAllowed ? 'block' : 'none';\n",
              "\n",
              "        async function convertToInteractive(key) {\n",
              "          const element = document.querySelector('#df-dba97188-0886-48f4-8be5-f42f14a1df8c');\n",
              "          const dataTable =\n",
              "            await google.colab.kernel.invokeFunction('convertToInteractive',\n",
              "                                                     [key], {});\n",
              "          if (!dataTable) return;\n",
              "\n",
              "          const docLinkHtml = 'Like what you see? Visit the ' +\n",
              "            '<a target=\"_blank\" href=https://colab.research.google.com/notebooks/data_table.ipynb>data table notebook</a>'\n",
              "            + ' to learn more about interactive tables.';\n",
              "          element.innerHTML = '';\n",
              "          dataTable['output_type'] = 'display_data';\n",
              "          await google.colab.output.renderOutput(dataTable, element);\n",
              "          const docLink = document.createElement('div');\n",
              "          docLink.innerHTML = docLinkHtml;\n",
              "          element.appendChild(docLink);\n",
              "        }\n",
              "      </script>\n",
              "    </div>\n",
              "  </div>\n",
              "  "
            ]
          },
          "metadata": {},
          "execution_count": 21
        }
      ],
      "source": [
        "dummy_gender.head()"
      ]
    },
    {
      "cell_type": "code",
      "execution_count": 22,
      "metadata": {
        "id": "gTnEqqqhEuZb",
        "outputId": "bbfa605b-c8c3-47d2-a525-b02c1af0a93b",
        "colab": {
          "base_uri": "https://localhost:8080/",
          "height": 206
        }
      },
      "outputs": [
        {
          "output_type": "execute_result",
          "data": {
            "text/plain": [
              "   City_Tier 1  City_Tier 2  City_Tier 3\n",
              "0            1            0            0\n",
              "1            0            1            0\n",
              "2            0            1            0\n",
              "3            1            0            0\n",
              "4            0            1            0"
            ],
            "text/html": [
              "\n",
              "  <div id=\"df-67ec4ec6-6ebe-449b-9622-7c438d80d2e8\">\n",
              "    <div class=\"colab-df-container\">\n",
              "      <div>\n",
              "<style scoped>\n",
              "    .dataframe tbody tr th:only-of-type {\n",
              "        vertical-align: middle;\n",
              "    }\n",
              "\n",
              "    .dataframe tbody tr th {\n",
              "        vertical-align: top;\n",
              "    }\n",
              "\n",
              "    .dataframe thead th {\n",
              "        text-align: right;\n",
              "    }\n",
              "</style>\n",
              "<table border=\"1\" class=\"dataframe\">\n",
              "  <thead>\n",
              "    <tr style=\"text-align: right;\">\n",
              "      <th></th>\n",
              "      <th>City_Tier 1</th>\n",
              "      <th>City_Tier 2</th>\n",
              "      <th>City_Tier 3</th>\n",
              "    </tr>\n",
              "  </thead>\n",
              "  <tbody>\n",
              "    <tr>\n",
              "      <th>0</th>\n",
              "      <td>1</td>\n",
              "      <td>0</td>\n",
              "      <td>0</td>\n",
              "    </tr>\n",
              "    <tr>\n",
              "      <th>1</th>\n",
              "      <td>0</td>\n",
              "      <td>1</td>\n",
              "      <td>0</td>\n",
              "    </tr>\n",
              "    <tr>\n",
              "      <th>2</th>\n",
              "      <td>0</td>\n",
              "      <td>1</td>\n",
              "      <td>0</td>\n",
              "    </tr>\n",
              "    <tr>\n",
              "      <th>3</th>\n",
              "      <td>1</td>\n",
              "      <td>0</td>\n",
              "      <td>0</td>\n",
              "    </tr>\n",
              "    <tr>\n",
              "      <th>4</th>\n",
              "      <td>0</td>\n",
              "      <td>1</td>\n",
              "      <td>0</td>\n",
              "    </tr>\n",
              "  </tbody>\n",
              "</table>\n",
              "</div>\n",
              "      <button class=\"colab-df-convert\" onclick=\"convertToInteractive('df-67ec4ec6-6ebe-449b-9622-7c438d80d2e8')\"\n",
              "              title=\"Convert this dataframe to an interactive table.\"\n",
              "              style=\"display:none;\">\n",
              "        \n",
              "  <svg xmlns=\"http://www.w3.org/2000/svg\" height=\"24px\"viewBox=\"0 0 24 24\"\n",
              "       width=\"24px\">\n",
              "    <path d=\"M0 0h24v24H0V0z\" fill=\"none\"/>\n",
              "    <path d=\"M18.56 5.44l.94 2.06.94-2.06 2.06-.94-2.06-.94-.94-2.06-.94 2.06-2.06.94zm-11 1L8.5 8.5l.94-2.06 2.06-.94-2.06-.94L8.5 2.5l-.94 2.06-2.06.94zm10 10l.94 2.06.94-2.06 2.06-.94-2.06-.94-.94-2.06-.94 2.06-2.06.94z\"/><path d=\"M17.41 7.96l-1.37-1.37c-.4-.4-.92-.59-1.43-.59-.52 0-1.04.2-1.43.59L10.3 9.45l-7.72 7.72c-.78.78-.78 2.05 0 2.83L4 21.41c.39.39.9.59 1.41.59.51 0 1.02-.2 1.41-.59l7.78-7.78 2.81-2.81c.8-.78.8-2.07 0-2.86zM5.41 20L4 18.59l7.72-7.72 1.47 1.35L5.41 20z\"/>\n",
              "  </svg>\n",
              "      </button>\n",
              "      \n",
              "  <style>\n",
              "    .colab-df-container {\n",
              "      display:flex;\n",
              "      flex-wrap:wrap;\n",
              "      gap: 12px;\n",
              "    }\n",
              "\n",
              "    .colab-df-convert {\n",
              "      background-color: #E8F0FE;\n",
              "      border: none;\n",
              "      border-radius: 50%;\n",
              "      cursor: pointer;\n",
              "      display: none;\n",
              "      fill: #1967D2;\n",
              "      height: 32px;\n",
              "      padding: 0 0 0 0;\n",
              "      width: 32px;\n",
              "    }\n",
              "\n",
              "    .colab-df-convert:hover {\n",
              "      background-color: #E2EBFA;\n",
              "      box-shadow: 0px 1px 2px rgba(60, 64, 67, 0.3), 0px 1px 3px 1px rgba(60, 64, 67, 0.15);\n",
              "      fill: #174EA6;\n",
              "    }\n",
              "\n",
              "    [theme=dark] .colab-df-convert {\n",
              "      background-color: #3B4455;\n",
              "      fill: #D2E3FC;\n",
              "    }\n",
              "\n",
              "    [theme=dark] .colab-df-convert:hover {\n",
              "      background-color: #434B5C;\n",
              "      box-shadow: 0px 1px 3px 1px rgba(0, 0, 0, 0.15);\n",
              "      filter: drop-shadow(0px 1px 2px rgba(0, 0, 0, 0.3));\n",
              "      fill: #FFFFFF;\n",
              "    }\n",
              "  </style>\n",
              "\n",
              "      <script>\n",
              "        const buttonEl =\n",
              "          document.querySelector('#df-67ec4ec6-6ebe-449b-9622-7c438d80d2e8 button.colab-df-convert');\n",
              "        buttonEl.style.display =\n",
              "          google.colab.kernel.accessAllowed ? 'block' : 'none';\n",
              "\n",
              "        async function convertToInteractive(key) {\n",
              "          const element = document.querySelector('#df-67ec4ec6-6ebe-449b-9622-7c438d80d2e8');\n",
              "          const dataTable =\n",
              "            await google.colab.kernel.invokeFunction('convertToInteractive',\n",
              "                                                     [key], {});\n",
              "          if (!dataTable) return;\n",
              "\n",
              "          const docLinkHtml = 'Like what you see? Visit the ' +\n",
              "            '<a target=\"_blank\" href=https://colab.research.google.com/notebooks/data_table.ipynb>data table notebook</a>'\n",
              "            + ' to learn more about interactive tables.';\n",
              "          element.innerHTML = '';\n",
              "          dataTable['output_type'] = 'display_data';\n",
              "          await google.colab.output.renderOutput(dataTable, element);\n",
              "          const docLink = document.createElement('div');\n",
              "          docLink.innerHTML = docLinkHtml;\n",
              "          element.appendChild(docLink);\n",
              "        }\n",
              "      </script>\n",
              "    </div>\n",
              "  </div>\n",
              "  "
            ]
          },
          "metadata": {},
          "execution_count": 22
        }
      ],
      "source": [
        "dummy_city_tier.head()"
      ]
    },
    {
      "cell_type": "code",
      "execution_count": 23,
      "metadata": {
        "id": "vbu1u9M2EuZb",
        "outputId": "a2a899d8-860f-4208-95a3-bcdeaab4ba5b",
        "colab": {
          "base_uri": "https://localhost:8080/"
        }
      },
      "outputs": [
        {
          "output_type": "execute_result",
          "data": {
            "text/plain": [
              "['Transaction ID',\n",
              " 'Age ',\n",
              " ' Items ',\n",
              " 'Monthly Income',\n",
              " 'Transaction Time',\n",
              " 'Record',\n",
              " 'Gender',\n",
              " 'City Tier',\n",
              " 'Total Spend']"
            ]
          },
          "metadata": {},
          "execution_count": 23
        }
      ],
      "source": [
        "column_names = df.columns.values.tolist()\n",
        "column_names"
      ]
    },
    {
      "cell_type": "code",
      "execution_count": 24,
      "metadata": {
        "id": "ez1kD3zpEuZc",
        "outputId": "40d3a069-5157-4cc1-b017-97f0b99e074f",
        "colab": {
          "base_uri": "https://localhost:8080/",
          "height": 206
        }
      },
      "outputs": [
        {
          "output_type": "execute_result",
          "data": {
            "text/plain": [
              "  Transaction ID  Age    Items   Monthly Income  Transaction Time  Record  \\\n",
              "0         TXN001    42       10            7313        627.668127       5   \n",
              "1         TXN002    24        8           17747        126.904567       3   \n",
              "2         TXN003    47       11           22845        873.469701       2   \n",
              "3         TXN004    50       11           18552        380.219428       7   \n",
              "4         TXN005    60        2           14439        403.374223       2   \n",
              "\n",
              "   Gender City Tier  Total Spend  Gender_Female  Gender_Male  \n",
              "0  Female    Tier 1  4198.385084              1            0  \n",
              "1  Female    Tier 2  4134.976648              1            0  \n",
              "2    Male    Tier 2  5166.614455              0            1  \n",
              "3  Female    Tier 1  7784.447676              1            0  \n",
              "4  Female    Tier 2  3254.160485              1            0  "
            ],
            "text/html": [
              "\n",
              "  <div id=\"df-915d435d-87d5-4048-b2dc-47f0938dcb82\">\n",
              "    <div class=\"colab-df-container\">\n",
              "      <div>\n",
              "<style scoped>\n",
              "    .dataframe tbody tr th:only-of-type {\n",
              "        vertical-align: middle;\n",
              "    }\n",
              "\n",
              "    .dataframe tbody tr th {\n",
              "        vertical-align: top;\n",
              "    }\n",
              "\n",
              "    .dataframe thead th {\n",
              "        text-align: right;\n",
              "    }\n",
              "</style>\n",
              "<table border=\"1\" class=\"dataframe\">\n",
              "  <thead>\n",
              "    <tr style=\"text-align: right;\">\n",
              "      <th></th>\n",
              "      <th>Transaction ID</th>\n",
              "      <th>Age</th>\n",
              "      <th>Items</th>\n",
              "      <th>Monthly Income</th>\n",
              "      <th>Transaction Time</th>\n",
              "      <th>Record</th>\n",
              "      <th>Gender</th>\n",
              "      <th>City Tier</th>\n",
              "      <th>Total Spend</th>\n",
              "      <th>Gender_Female</th>\n",
              "      <th>Gender_Male</th>\n",
              "    </tr>\n",
              "  </thead>\n",
              "  <tbody>\n",
              "    <tr>\n",
              "      <th>0</th>\n",
              "      <td>TXN001</td>\n",
              "      <td>42</td>\n",
              "      <td>10</td>\n",
              "      <td>7313</td>\n",
              "      <td>627.668127</td>\n",
              "      <td>5</td>\n",
              "      <td>Female</td>\n",
              "      <td>Tier 1</td>\n",
              "      <td>4198.385084</td>\n",
              "      <td>1</td>\n",
              "      <td>0</td>\n",
              "    </tr>\n",
              "    <tr>\n",
              "      <th>1</th>\n",
              "      <td>TXN002</td>\n",
              "      <td>24</td>\n",
              "      <td>8</td>\n",
              "      <td>17747</td>\n",
              "      <td>126.904567</td>\n",
              "      <td>3</td>\n",
              "      <td>Female</td>\n",
              "      <td>Tier 2</td>\n",
              "      <td>4134.976648</td>\n",
              "      <td>1</td>\n",
              "      <td>0</td>\n",
              "    </tr>\n",
              "    <tr>\n",
              "      <th>2</th>\n",
              "      <td>TXN003</td>\n",
              "      <td>47</td>\n",
              "      <td>11</td>\n",
              "      <td>22845</td>\n",
              "      <td>873.469701</td>\n",
              "      <td>2</td>\n",
              "      <td>Male</td>\n",
              "      <td>Tier 2</td>\n",
              "      <td>5166.614455</td>\n",
              "      <td>0</td>\n",
              "      <td>1</td>\n",
              "    </tr>\n",
              "    <tr>\n",
              "      <th>3</th>\n",
              "      <td>TXN004</td>\n",
              "      <td>50</td>\n",
              "      <td>11</td>\n",
              "      <td>18552</td>\n",
              "      <td>380.219428</td>\n",
              "      <td>7</td>\n",
              "      <td>Female</td>\n",
              "      <td>Tier 1</td>\n",
              "      <td>7784.447676</td>\n",
              "      <td>1</td>\n",
              "      <td>0</td>\n",
              "    </tr>\n",
              "    <tr>\n",
              "      <th>4</th>\n",
              "      <td>TXN005</td>\n",
              "      <td>60</td>\n",
              "      <td>2</td>\n",
              "      <td>14439</td>\n",
              "      <td>403.374223</td>\n",
              "      <td>2</td>\n",
              "      <td>Female</td>\n",
              "      <td>Tier 2</td>\n",
              "      <td>3254.160485</td>\n",
              "      <td>1</td>\n",
              "      <td>0</td>\n",
              "    </tr>\n",
              "  </tbody>\n",
              "</table>\n",
              "</div>\n",
              "      <button class=\"colab-df-convert\" onclick=\"convertToInteractive('df-915d435d-87d5-4048-b2dc-47f0938dcb82')\"\n",
              "              title=\"Convert this dataframe to an interactive table.\"\n",
              "              style=\"display:none;\">\n",
              "        \n",
              "  <svg xmlns=\"http://www.w3.org/2000/svg\" height=\"24px\"viewBox=\"0 0 24 24\"\n",
              "       width=\"24px\">\n",
              "    <path d=\"M0 0h24v24H0V0z\" fill=\"none\"/>\n",
              "    <path d=\"M18.56 5.44l.94 2.06.94-2.06 2.06-.94-2.06-.94-.94-2.06-.94 2.06-2.06.94zm-11 1L8.5 8.5l.94-2.06 2.06-.94-2.06-.94L8.5 2.5l-.94 2.06-2.06.94zm10 10l.94 2.06.94-2.06 2.06-.94-2.06-.94-.94-2.06-.94 2.06-2.06.94z\"/><path d=\"M17.41 7.96l-1.37-1.37c-.4-.4-.92-.59-1.43-.59-.52 0-1.04.2-1.43.59L10.3 9.45l-7.72 7.72c-.78.78-.78 2.05 0 2.83L4 21.41c.39.39.9.59 1.41.59.51 0 1.02-.2 1.41-.59l7.78-7.78 2.81-2.81c.8-.78.8-2.07 0-2.86zM5.41 20L4 18.59l7.72-7.72 1.47 1.35L5.41 20z\"/>\n",
              "  </svg>\n",
              "      </button>\n",
              "      \n",
              "  <style>\n",
              "    .colab-df-container {\n",
              "      display:flex;\n",
              "      flex-wrap:wrap;\n",
              "      gap: 12px;\n",
              "    }\n",
              "\n",
              "    .colab-df-convert {\n",
              "      background-color: #E8F0FE;\n",
              "      border: none;\n",
              "      border-radius: 50%;\n",
              "      cursor: pointer;\n",
              "      display: none;\n",
              "      fill: #1967D2;\n",
              "      height: 32px;\n",
              "      padding: 0 0 0 0;\n",
              "      width: 32px;\n",
              "    }\n",
              "\n",
              "    .colab-df-convert:hover {\n",
              "      background-color: #E2EBFA;\n",
              "      box-shadow: 0px 1px 2px rgba(60, 64, 67, 0.3), 0px 1px 3px 1px rgba(60, 64, 67, 0.15);\n",
              "      fill: #174EA6;\n",
              "    }\n",
              "\n",
              "    [theme=dark] .colab-df-convert {\n",
              "      background-color: #3B4455;\n",
              "      fill: #D2E3FC;\n",
              "    }\n",
              "\n",
              "    [theme=dark] .colab-df-convert:hover {\n",
              "      background-color: #434B5C;\n",
              "      box-shadow: 0px 1px 3px 1px rgba(0, 0, 0, 0.15);\n",
              "      filter: drop-shadow(0px 1px 2px rgba(0, 0, 0, 0.3));\n",
              "      fill: #FFFFFF;\n",
              "    }\n",
              "  </style>\n",
              "\n",
              "      <script>\n",
              "        const buttonEl =\n",
              "          document.querySelector('#df-915d435d-87d5-4048-b2dc-47f0938dcb82 button.colab-df-convert');\n",
              "        buttonEl.style.display =\n",
              "          google.colab.kernel.accessAllowed ? 'block' : 'none';\n",
              "\n",
              "        async function convertToInteractive(key) {\n",
              "          const element = document.querySelector('#df-915d435d-87d5-4048-b2dc-47f0938dcb82');\n",
              "          const dataTable =\n",
              "            await google.colab.kernel.invokeFunction('convertToInteractive',\n",
              "                                                     [key], {});\n",
              "          if (!dataTable) return;\n",
              "\n",
              "          const docLinkHtml = 'Like what you see? Visit the ' +\n",
              "            '<a target=\"_blank\" href=https://colab.research.google.com/notebooks/data_table.ipynb>data table notebook</a>'\n",
              "            + ' to learn more about interactive tables.';\n",
              "          element.innerHTML = '';\n",
              "          dataTable['output_type'] = 'display_data';\n",
              "          await google.colab.output.renderOutput(dataTable, element);\n",
              "          const docLink = document.createElement('div');\n",
              "          docLink.innerHTML = docLinkHtml;\n",
              "          element.appendChild(docLink);\n",
              "        }\n",
              "      </script>\n",
              "    </div>\n",
              "  </div>\n",
              "  "
            ]
          },
          "metadata": {},
          "execution_count": 24
        }
      ],
      "source": [
        "df_new = df[column_names].join(dummy_gender) #Crear un nuevo dataset para trabajar con el\n",
        "column_names = df_new.columns.values.tolist()\n",
        "df_new.head()"
      ]
    },
    {
      "cell_type": "code",
      "execution_count": 25,
      "metadata": {
        "id": "AD0tz3gPEuZc",
        "outputId": "1c6fdb51-abc8-451a-cdef-d2af6b341b52",
        "colab": {
          "base_uri": "https://localhost:8080/",
          "height": 206
        }
      },
      "outputs": [
        {
          "output_type": "execute_result",
          "data": {
            "text/plain": [
              "  Transaction ID  Age    Items   Monthly Income  Transaction Time  Record  \\\n",
              "0         TXN001    42       10            7313        627.668127       5   \n",
              "1         TXN002    24        8           17747        126.904567       3   \n",
              "2         TXN003    47       11           22845        873.469701       2   \n",
              "3         TXN004    50       11           18552        380.219428       7   \n",
              "4         TXN005    60        2           14439        403.374223       2   \n",
              "\n",
              "   Gender City Tier  Total Spend  Gender_Female  Gender_Male  City_Tier 1  \\\n",
              "0  Female    Tier 1  4198.385084              1            0            1   \n",
              "1  Female    Tier 2  4134.976648              1            0            0   \n",
              "2    Male    Tier 2  5166.614455              0            1            0   \n",
              "3  Female    Tier 1  7784.447676              1            0            1   \n",
              "4  Female    Tier 2  3254.160485              1            0            0   \n",
              "\n",
              "   City_Tier 2  City_Tier 3  \n",
              "0            0            0  \n",
              "1            1            0  \n",
              "2            1            0  \n",
              "3            0            0  \n",
              "4            1            0  "
            ],
            "text/html": [
              "\n",
              "  <div id=\"df-f1fd7128-f7c1-48c5-beb0-44942cb40b6b\">\n",
              "    <div class=\"colab-df-container\">\n",
              "      <div>\n",
              "<style scoped>\n",
              "    .dataframe tbody tr th:only-of-type {\n",
              "        vertical-align: middle;\n",
              "    }\n",
              "\n",
              "    .dataframe tbody tr th {\n",
              "        vertical-align: top;\n",
              "    }\n",
              "\n",
              "    .dataframe thead th {\n",
              "        text-align: right;\n",
              "    }\n",
              "</style>\n",
              "<table border=\"1\" class=\"dataframe\">\n",
              "  <thead>\n",
              "    <tr style=\"text-align: right;\">\n",
              "      <th></th>\n",
              "      <th>Transaction ID</th>\n",
              "      <th>Age</th>\n",
              "      <th>Items</th>\n",
              "      <th>Monthly Income</th>\n",
              "      <th>Transaction Time</th>\n",
              "      <th>Record</th>\n",
              "      <th>Gender</th>\n",
              "      <th>City Tier</th>\n",
              "      <th>Total Spend</th>\n",
              "      <th>Gender_Female</th>\n",
              "      <th>Gender_Male</th>\n",
              "      <th>City_Tier 1</th>\n",
              "      <th>City_Tier 2</th>\n",
              "      <th>City_Tier 3</th>\n",
              "    </tr>\n",
              "  </thead>\n",
              "  <tbody>\n",
              "    <tr>\n",
              "      <th>0</th>\n",
              "      <td>TXN001</td>\n",
              "      <td>42</td>\n",
              "      <td>10</td>\n",
              "      <td>7313</td>\n",
              "      <td>627.668127</td>\n",
              "      <td>5</td>\n",
              "      <td>Female</td>\n",
              "      <td>Tier 1</td>\n",
              "      <td>4198.385084</td>\n",
              "      <td>1</td>\n",
              "      <td>0</td>\n",
              "      <td>1</td>\n",
              "      <td>0</td>\n",
              "      <td>0</td>\n",
              "    </tr>\n",
              "    <tr>\n",
              "      <th>1</th>\n",
              "      <td>TXN002</td>\n",
              "      <td>24</td>\n",
              "      <td>8</td>\n",
              "      <td>17747</td>\n",
              "      <td>126.904567</td>\n",
              "      <td>3</td>\n",
              "      <td>Female</td>\n",
              "      <td>Tier 2</td>\n",
              "      <td>4134.976648</td>\n",
              "      <td>1</td>\n",
              "      <td>0</td>\n",
              "      <td>0</td>\n",
              "      <td>1</td>\n",
              "      <td>0</td>\n",
              "    </tr>\n",
              "    <tr>\n",
              "      <th>2</th>\n",
              "      <td>TXN003</td>\n",
              "      <td>47</td>\n",
              "      <td>11</td>\n",
              "      <td>22845</td>\n",
              "      <td>873.469701</td>\n",
              "      <td>2</td>\n",
              "      <td>Male</td>\n",
              "      <td>Tier 2</td>\n",
              "      <td>5166.614455</td>\n",
              "      <td>0</td>\n",
              "      <td>1</td>\n",
              "      <td>0</td>\n",
              "      <td>1</td>\n",
              "      <td>0</td>\n",
              "    </tr>\n",
              "    <tr>\n",
              "      <th>3</th>\n",
              "      <td>TXN004</td>\n",
              "      <td>50</td>\n",
              "      <td>11</td>\n",
              "      <td>18552</td>\n",
              "      <td>380.219428</td>\n",
              "      <td>7</td>\n",
              "      <td>Female</td>\n",
              "      <td>Tier 1</td>\n",
              "      <td>7784.447676</td>\n",
              "      <td>1</td>\n",
              "      <td>0</td>\n",
              "      <td>1</td>\n",
              "      <td>0</td>\n",
              "      <td>0</td>\n",
              "    </tr>\n",
              "    <tr>\n",
              "      <th>4</th>\n",
              "      <td>TXN005</td>\n",
              "      <td>60</td>\n",
              "      <td>2</td>\n",
              "      <td>14439</td>\n",
              "      <td>403.374223</td>\n",
              "      <td>2</td>\n",
              "      <td>Female</td>\n",
              "      <td>Tier 2</td>\n",
              "      <td>3254.160485</td>\n",
              "      <td>1</td>\n",
              "      <td>0</td>\n",
              "      <td>0</td>\n",
              "      <td>1</td>\n",
              "      <td>0</td>\n",
              "    </tr>\n",
              "  </tbody>\n",
              "</table>\n",
              "</div>\n",
              "      <button class=\"colab-df-convert\" onclick=\"convertToInteractive('df-f1fd7128-f7c1-48c5-beb0-44942cb40b6b')\"\n",
              "              title=\"Convert this dataframe to an interactive table.\"\n",
              "              style=\"display:none;\">\n",
              "        \n",
              "  <svg xmlns=\"http://www.w3.org/2000/svg\" height=\"24px\"viewBox=\"0 0 24 24\"\n",
              "       width=\"24px\">\n",
              "    <path d=\"M0 0h24v24H0V0z\" fill=\"none\"/>\n",
              "    <path d=\"M18.56 5.44l.94 2.06.94-2.06 2.06-.94-2.06-.94-.94-2.06-.94 2.06-2.06.94zm-11 1L8.5 8.5l.94-2.06 2.06-.94-2.06-.94L8.5 2.5l-.94 2.06-2.06.94zm10 10l.94 2.06.94-2.06 2.06-.94-2.06-.94-.94-2.06-.94 2.06-2.06.94z\"/><path d=\"M17.41 7.96l-1.37-1.37c-.4-.4-.92-.59-1.43-.59-.52 0-1.04.2-1.43.59L10.3 9.45l-7.72 7.72c-.78.78-.78 2.05 0 2.83L4 21.41c.39.39.9.59 1.41.59.51 0 1.02-.2 1.41-.59l7.78-7.78 2.81-2.81c.8-.78.8-2.07 0-2.86zM5.41 20L4 18.59l7.72-7.72 1.47 1.35L5.41 20z\"/>\n",
              "  </svg>\n",
              "      </button>\n",
              "      \n",
              "  <style>\n",
              "    .colab-df-container {\n",
              "      display:flex;\n",
              "      flex-wrap:wrap;\n",
              "      gap: 12px;\n",
              "    }\n",
              "\n",
              "    .colab-df-convert {\n",
              "      background-color: #E8F0FE;\n",
              "      border: none;\n",
              "      border-radius: 50%;\n",
              "      cursor: pointer;\n",
              "      display: none;\n",
              "      fill: #1967D2;\n",
              "      height: 32px;\n",
              "      padding: 0 0 0 0;\n",
              "      width: 32px;\n",
              "    }\n",
              "\n",
              "    .colab-df-convert:hover {\n",
              "      background-color: #E2EBFA;\n",
              "      box-shadow: 0px 1px 2px rgba(60, 64, 67, 0.3), 0px 1px 3px 1px rgba(60, 64, 67, 0.15);\n",
              "      fill: #174EA6;\n",
              "    }\n",
              "\n",
              "    [theme=dark] .colab-df-convert {\n",
              "      background-color: #3B4455;\n",
              "      fill: #D2E3FC;\n",
              "    }\n",
              "\n",
              "    [theme=dark] .colab-df-convert:hover {\n",
              "      background-color: #434B5C;\n",
              "      box-shadow: 0px 1px 3px 1px rgba(0, 0, 0, 0.15);\n",
              "      filter: drop-shadow(0px 1px 2px rgba(0, 0, 0, 0.3));\n",
              "      fill: #FFFFFF;\n",
              "    }\n",
              "  </style>\n",
              "\n",
              "      <script>\n",
              "        const buttonEl =\n",
              "          document.querySelector('#df-f1fd7128-f7c1-48c5-beb0-44942cb40b6b button.colab-df-convert');\n",
              "        buttonEl.style.display =\n",
              "          google.colab.kernel.accessAllowed ? 'block' : 'none';\n",
              "\n",
              "        async function convertToInteractive(key) {\n",
              "          const element = document.querySelector('#df-f1fd7128-f7c1-48c5-beb0-44942cb40b6b');\n",
              "          const dataTable =\n",
              "            await google.colab.kernel.invokeFunction('convertToInteractive',\n",
              "                                                     [key], {});\n",
              "          if (!dataTable) return;\n",
              "\n",
              "          const docLinkHtml = 'Like what you see? Visit the ' +\n",
              "            '<a target=\"_blank\" href=https://colab.research.google.com/notebooks/data_table.ipynb>data table notebook</a>'\n",
              "            + ' to learn more about interactive tables.';\n",
              "          element.innerHTML = '';\n",
              "          dataTable['output_type'] = 'display_data';\n",
              "          await google.colab.output.renderOutput(dataTable, element);\n",
              "          const docLink = document.createElement('div');\n",
              "          docLink.innerHTML = docLinkHtml;\n",
              "          element.appendChild(docLink);\n",
              "        }\n",
              "      </script>\n",
              "    </div>\n",
              "  </div>\n",
              "  "
            ]
          },
          "metadata": {},
          "execution_count": 25
        }
      ],
      "source": [
        "df_new = df_new[column_names].join(dummy_city_tier)\n",
        "df_new.head()"
      ]
    },
    {
      "cell_type": "code",
      "execution_count": 26,
      "metadata": {
        "id": "Tc84A2HOEuZd"
      },
      "outputs": [],
      "source": [
        "feature_cols = [\"Monthly Income\", \"Transaction Time\", \n",
        "                \"Gender_Female\", \"Gender_Male\", \n",
        "                \"City_Tier 1\", \"City_Tier 2\", \"City_Tier 3\",\n",
        "                \"Record\"]"
      ]
    },
    {
      "cell_type": "code",
      "execution_count": 27,
      "metadata": {
        "id": "584GuZoJEuZd"
      },
      "outputs": [],
      "source": [
        "X = df_new[feature_cols]\n",
        "Y = df_new[\"Total Spend\"]"
      ]
    },
    {
      "cell_type": "code",
      "execution_count": 28,
      "metadata": {
        "id": "nepXEsUBEuZd",
        "outputId": "5f31964f-7e6e-4e2f-d086-134efd06ca5a",
        "colab": {
          "base_uri": "https://localhost:8080/"
        }
      },
      "outputs": [
        {
          "output_type": "execute_result",
          "data": {
            "text/plain": [
              "LinearRegression()"
            ]
          },
          "metadata": {},
          "execution_count": 28
        }
      ],
      "source": [
        "lm = LinearRegression()\n",
        "lm.fit(X,Y)"
      ]
    },
    {
      "cell_type": "code",
      "execution_count": 29,
      "metadata": {
        "id": "ZNkKQqM3EuZe",
        "outputId": "53e612f5-3676-4f3c-9878-fb66f734160a",
        "colab": {
          "base_uri": "https://localhost:8080/"
        }
      },
      "outputs": [
        {
          "output_type": "stream",
          "name": "stdout",
          "text": [
            "-79.41713030137271\n",
            "[ 1.47538980e-01  1.54946125e-01 -1.31025013e+02  1.31025013e+02\n",
            "  7.67643260e+01  5.51389743e+01 -1.31903300e+02  7.72233446e+02]\n"
          ]
        }
      ],
      "source": [
        "print(lm.intercept_)\n",
        "print(lm.coef_)"
      ]
    },
    {
      "cell_type": "code",
      "execution_count": 30,
      "metadata": {
        "id": "6VAF0hL1EuZe",
        "outputId": "d672f170-5b7d-4a38-c14c-1ecc3db89f2b",
        "colab": {
          "base_uri": "https://localhost:8080/"
        }
      },
      "outputs": [
        {
          "output_type": "execute_result",
          "data": {
            "text/plain": [
              "[('Monthly Income', 0.1475389804920575),\n",
              " ('Transaction Time', 0.15494612549589526),\n",
              " ('Gender_Female', -131.02501325554573),\n",
              " ('Gender_Male', 131.02501325554587),\n",
              " ('City_Tier 1', 76.76432601049483),\n",
              " ('City_Tier 2', 55.13897430923282),\n",
              " ('City_Tier 3', -131.90330031972766),\n",
              " ('Record', 772.2334457445643)]"
            ]
          },
          "metadata": {},
          "execution_count": 30
        }
      ],
      "source": [
        "list(zip(feature_cols, lm.coef_))"
      ]
    },
    {
      "cell_type": "code",
      "execution_count": 31,
      "metadata": {
        "id": "oOWZUsMNEuZe",
        "outputId": "16d5d0e1-3bee-44a1-be16-c49387026555",
        "colab": {
          "base_uri": "https://localhost:8080/"
        }
      },
      "outputs": [
        {
          "output_type": "execute_result",
          "data": {
            "text/plain": [
              "0.9179923586131016"
            ]
          },
          "metadata": {},
          "execution_count": 31
        }
      ],
      "source": [
        "lm.score(X,Y)"
      ]
    },
    {
      "cell_type": "markdown",
      "metadata": {
        "id": "xQq6CEy4EuZf"
      },
      "source": [
        "El modelo puede ser escrito como:\n",
        "* Total_Spend = -79.41713030137362 + 'Monthly Income'* 0.14753898049205738 + 'Transaction Time'* 0.15494612549589545+'Gender_Female'* -131.02501325554567 + 'Gender_Male'* 131.0250132555456+'City_Tier 1'* 76.76432601049527 + 'City_Tier 2'* 55.138974309232474 + 'City_Tier 3'* -131.9033003197278+'Record'* 772.2334457445648\n",
        "    * Si es hombre y vive en CT1: Total_Spend = 128.37220896466724 + 'Monthly Income'* 0.14753898049205738 + 'Transaction Time'* 0.15494612549589545+'Record'* 772.2334457445648\n",
        "    * Si es hombre y vive en CT2: Total_Spend = 106.74685726340445 + 'Monthly Income'* 0.14753898049205738 + 'Transaction Time'* 0.15494612549589545 +'Record'* 772.2334457445648\n",
        "    * Si es hombre y vive en CT3: Total_Spend = -80.29541736555583 + 'Monthly Income'* 0.14753898049205738 + 'Transaction Time'* 0.15494612549589545+'Record'* 772.2334457445648\n",
        "    * Si es mujer y vive en CT1: Total_Spend = -79.41713030137362 + 'Monthly Income'* 0.14753898049205738 + 'Transaction Time'* 0.15494612549589545 - 131.0250132555456+ 76.76432601049527 +'Record'* 772.2334457445648\n",
        "    * Si es mujer y vive en CT2: Total_Spend = -79.41713030137362 + 'Monthly Income'* 0.14753898049205738 + 'Transaction Time'* 0.15494612549589545 - 131.0250132555456+ 55.138974309232474  +'Record'* 772.2334457445648\n",
        "    * Si es mujer y vive en CT3: Total_Spend = -79.41713030137362 + 'Monthly Income'* 0.14753898049205738 + 'Transaction Time'* 0.15494612549589545 - 131.0250132555456-131.9033003197278 +'Record'* 772.2334457445648"
      ]
    },
    {
      "cell_type": "code",
      "execution_count": 96,
      "metadata": {
        "id": "0b-7wKQeEuZg"
      },
      "outputs": [],
      "source": [
        "df_new[\"prediction\"] = -79.41713030137362 + df_new['Monthly Income']*0.14753898049205738 + df_new['Transaction Time']* 0.15494612549589545+ df_new['Gender_Female'] * (-131.02501325554567) + df_new['Gender_Male'] * 131.0250132555456+ df_new['City_Tier 1']* 76.76432601049527 +  df_new['City_Tier 2']* 55.138974309232474 + df_new['City_Tier 3']* (-131.9033003197278)+ df_new['Record']* 772.2334457445648\n",
        "\n",
        "#Otra forma de calcular las predicciones con el predict del modelo lineal:\n",
        "#df_new[\"prediction\"] = lm.predict(pd.DataFrame(df_new[feature_cols]))"
      ]
    },
    {
      "cell_type": "code",
      "execution_count": 34,
      "metadata": {
        "id": "pdh5NVzAEuZg",
        "outputId": "30b907b3-6969-441c-9629-cc98c36836ce",
        "colab": {
          "base_uri": "https://localhost:8080/",
          "height": 206
        }
      },
      "outputs": [
        {
          "output_type": "execute_result",
          "data": {
            "text/plain": [
              "  Transaction ID  Age    Items   Monthly Income  Transaction Time  Record  \\\n",
              "0         TXN001    42       10            7313        627.668127       5   \n",
              "1         TXN002    24        8           17747        126.904567       3   \n",
              "2         TXN003    47       11           22845        873.469701       2   \n",
              "3         TXN004    50       11           18552        380.219428       7   \n",
              "4         TXN005    60        2           14439        403.374223       2   \n",
              "\n",
              "   Gender City Tier  Total Spend  Gender_Female  Gender_Male  City_Tier 1  \\\n",
              "0  Female    Tier 1  4198.385084              1            0            1   \n",
              "1  Female    Tier 2  4134.976648              1            0            0   \n",
              "2    Male    Tier 2  5166.614455              0            1            0   \n",
              "3  Female    Tier 1  7784.447676              1            0            1   \n",
              "4  Female    Tier 2  3254.160485              1            0            0   \n",
              "\n",
              "   City_Tier 2  City_Tier 3   prediction  \n",
              "0            0            0  4903.696720  \n",
              "1            1            0  4799.434826  \n",
              "2            1            0  5157.082504  \n",
              "3            0            0  8068.012996  \n",
              "4            1            0  3581.980335  "
            ],
            "text/html": [
              "\n",
              "  <div id=\"df-5ed0b099-8dfc-417d-8f7e-fae88b6c549b\">\n",
              "    <div class=\"colab-df-container\">\n",
              "      <div>\n",
              "<style scoped>\n",
              "    .dataframe tbody tr th:only-of-type {\n",
              "        vertical-align: middle;\n",
              "    }\n",
              "\n",
              "    .dataframe tbody tr th {\n",
              "        vertical-align: top;\n",
              "    }\n",
              "\n",
              "    .dataframe thead th {\n",
              "        text-align: right;\n",
              "    }\n",
              "</style>\n",
              "<table border=\"1\" class=\"dataframe\">\n",
              "  <thead>\n",
              "    <tr style=\"text-align: right;\">\n",
              "      <th></th>\n",
              "      <th>Transaction ID</th>\n",
              "      <th>Age</th>\n",
              "      <th>Items</th>\n",
              "      <th>Monthly Income</th>\n",
              "      <th>Transaction Time</th>\n",
              "      <th>Record</th>\n",
              "      <th>Gender</th>\n",
              "      <th>City Tier</th>\n",
              "      <th>Total Spend</th>\n",
              "      <th>Gender_Female</th>\n",
              "      <th>Gender_Male</th>\n",
              "      <th>City_Tier 1</th>\n",
              "      <th>City_Tier 2</th>\n",
              "      <th>City_Tier 3</th>\n",
              "      <th>prediction</th>\n",
              "    </tr>\n",
              "  </thead>\n",
              "  <tbody>\n",
              "    <tr>\n",
              "      <th>0</th>\n",
              "      <td>TXN001</td>\n",
              "      <td>42</td>\n",
              "      <td>10</td>\n",
              "      <td>7313</td>\n",
              "      <td>627.668127</td>\n",
              "      <td>5</td>\n",
              "      <td>Female</td>\n",
              "      <td>Tier 1</td>\n",
              "      <td>4198.385084</td>\n",
              "      <td>1</td>\n",
              "      <td>0</td>\n",
              "      <td>1</td>\n",
              "      <td>0</td>\n",
              "      <td>0</td>\n",
              "      <td>4903.696720</td>\n",
              "    </tr>\n",
              "    <tr>\n",
              "      <th>1</th>\n",
              "      <td>TXN002</td>\n",
              "      <td>24</td>\n",
              "      <td>8</td>\n",
              "      <td>17747</td>\n",
              "      <td>126.904567</td>\n",
              "      <td>3</td>\n",
              "      <td>Female</td>\n",
              "      <td>Tier 2</td>\n",
              "      <td>4134.976648</td>\n",
              "      <td>1</td>\n",
              "      <td>0</td>\n",
              "      <td>0</td>\n",
              "      <td>1</td>\n",
              "      <td>0</td>\n",
              "      <td>4799.434826</td>\n",
              "    </tr>\n",
              "    <tr>\n",
              "      <th>2</th>\n",
              "      <td>TXN003</td>\n",
              "      <td>47</td>\n",
              "      <td>11</td>\n",
              "      <td>22845</td>\n",
              "      <td>873.469701</td>\n",
              "      <td>2</td>\n",
              "      <td>Male</td>\n",
              "      <td>Tier 2</td>\n",
              "      <td>5166.614455</td>\n",
              "      <td>0</td>\n",
              "      <td>1</td>\n",
              "      <td>0</td>\n",
              "      <td>1</td>\n",
              "      <td>0</td>\n",
              "      <td>5157.082504</td>\n",
              "    </tr>\n",
              "    <tr>\n",
              "      <th>3</th>\n",
              "      <td>TXN004</td>\n",
              "      <td>50</td>\n",
              "      <td>11</td>\n",
              "      <td>18552</td>\n",
              "      <td>380.219428</td>\n",
              "      <td>7</td>\n",
              "      <td>Female</td>\n",
              "      <td>Tier 1</td>\n",
              "      <td>7784.447676</td>\n",
              "      <td>1</td>\n",
              "      <td>0</td>\n",
              "      <td>1</td>\n",
              "      <td>0</td>\n",
              "      <td>0</td>\n",
              "      <td>8068.012996</td>\n",
              "    </tr>\n",
              "    <tr>\n",
              "      <th>4</th>\n",
              "      <td>TXN005</td>\n",
              "      <td>60</td>\n",
              "      <td>2</td>\n",
              "      <td>14439</td>\n",
              "      <td>403.374223</td>\n",
              "      <td>2</td>\n",
              "      <td>Female</td>\n",
              "      <td>Tier 2</td>\n",
              "      <td>3254.160485</td>\n",
              "      <td>1</td>\n",
              "      <td>0</td>\n",
              "      <td>0</td>\n",
              "      <td>1</td>\n",
              "      <td>0</td>\n",
              "      <td>3581.980335</td>\n",
              "    </tr>\n",
              "  </tbody>\n",
              "</table>\n",
              "</div>\n",
              "      <button class=\"colab-df-convert\" onclick=\"convertToInteractive('df-5ed0b099-8dfc-417d-8f7e-fae88b6c549b')\"\n",
              "              title=\"Convert this dataframe to an interactive table.\"\n",
              "              style=\"display:none;\">\n",
              "        \n",
              "  <svg xmlns=\"http://www.w3.org/2000/svg\" height=\"24px\"viewBox=\"0 0 24 24\"\n",
              "       width=\"24px\">\n",
              "    <path d=\"M0 0h24v24H0V0z\" fill=\"none\"/>\n",
              "    <path d=\"M18.56 5.44l.94 2.06.94-2.06 2.06-.94-2.06-.94-.94-2.06-.94 2.06-2.06.94zm-11 1L8.5 8.5l.94-2.06 2.06-.94-2.06-.94L8.5 2.5l-.94 2.06-2.06.94zm10 10l.94 2.06.94-2.06 2.06-.94-2.06-.94-.94-2.06-.94 2.06-2.06.94z\"/><path d=\"M17.41 7.96l-1.37-1.37c-.4-.4-.92-.59-1.43-.59-.52 0-1.04.2-1.43.59L10.3 9.45l-7.72 7.72c-.78.78-.78 2.05 0 2.83L4 21.41c.39.39.9.59 1.41.59.51 0 1.02-.2 1.41-.59l7.78-7.78 2.81-2.81c.8-.78.8-2.07 0-2.86zM5.41 20L4 18.59l7.72-7.72 1.47 1.35L5.41 20z\"/>\n",
              "  </svg>\n",
              "      </button>\n",
              "      \n",
              "  <style>\n",
              "    .colab-df-container {\n",
              "      display:flex;\n",
              "      flex-wrap:wrap;\n",
              "      gap: 12px;\n",
              "    }\n",
              "\n",
              "    .colab-df-convert {\n",
              "      background-color: #E8F0FE;\n",
              "      border: none;\n",
              "      border-radius: 50%;\n",
              "      cursor: pointer;\n",
              "      display: none;\n",
              "      fill: #1967D2;\n",
              "      height: 32px;\n",
              "      padding: 0 0 0 0;\n",
              "      width: 32px;\n",
              "    }\n",
              "\n",
              "    .colab-df-convert:hover {\n",
              "      background-color: #E2EBFA;\n",
              "      box-shadow: 0px 1px 2px rgba(60, 64, 67, 0.3), 0px 1px 3px 1px rgba(60, 64, 67, 0.15);\n",
              "      fill: #174EA6;\n",
              "    }\n",
              "\n",
              "    [theme=dark] .colab-df-convert {\n",
              "      background-color: #3B4455;\n",
              "      fill: #D2E3FC;\n",
              "    }\n",
              "\n",
              "    [theme=dark] .colab-df-convert:hover {\n",
              "      background-color: #434B5C;\n",
              "      box-shadow: 0px 1px 3px 1px rgba(0, 0, 0, 0.15);\n",
              "      filter: drop-shadow(0px 1px 2px rgba(0, 0, 0, 0.3));\n",
              "      fill: #FFFFFF;\n",
              "    }\n",
              "  </style>\n",
              "\n",
              "      <script>\n",
              "        const buttonEl =\n",
              "          document.querySelector('#df-5ed0b099-8dfc-417d-8f7e-fae88b6c549b button.colab-df-convert');\n",
              "        buttonEl.style.display =\n",
              "          google.colab.kernel.accessAllowed ? 'block' : 'none';\n",
              "\n",
              "        async function convertToInteractive(key) {\n",
              "          const element = document.querySelector('#df-5ed0b099-8dfc-417d-8f7e-fae88b6c549b');\n",
              "          const dataTable =\n",
              "            await google.colab.kernel.invokeFunction('convertToInteractive',\n",
              "                                                     [key], {});\n",
              "          if (!dataTable) return;\n",
              "\n",
              "          const docLinkHtml = 'Like what you see? Visit the ' +\n",
              "            '<a target=\"_blank\" href=https://colab.research.google.com/notebooks/data_table.ipynb>data table notebook</a>'\n",
              "            + ' to learn more about interactive tables.';\n",
              "          element.innerHTML = '';\n",
              "          dataTable['output_type'] = 'display_data';\n",
              "          await google.colab.output.renderOutput(dataTable, element);\n",
              "          const docLink = document.createElement('div');\n",
              "          docLink.innerHTML = docLinkHtml;\n",
              "          element.appendChild(docLink);\n",
              "        }\n",
              "      </script>\n",
              "    </div>\n",
              "  </div>\n",
              "  "
            ]
          },
          "metadata": {},
          "execution_count": 34
        }
      ],
      "source": [
        "df_new.head()"
      ]
    },
    {
      "cell_type": "code",
      "execution_count": 35,
      "metadata": {
        "id": "1LdczupPEuZg"
      },
      "outputs": [],
      "source": [
        "SSD = np.sum((df_new[\"prediction\"] - df_new[\"Total Spend\"])**2)"
      ]
    },
    {
      "cell_type": "code",
      "execution_count": 36,
      "metadata": {
        "id": "V-4syP92EuZg",
        "outputId": "769f2d51-970e-4cd6-f142-2ae2b6a3a104",
        "colab": {
          "base_uri": "https://localhost:8080/"
        }
      },
      "outputs": [
        {
          "output_type": "execute_result",
          "data": {
            "text/plain": [
              "1517733985.340816"
            ]
          },
          "metadata": {},
          "execution_count": 36
        }
      ],
      "source": [
        "SSD"
      ]
    },
    {
      "cell_type": "code",
      "execution_count": 37,
      "metadata": {
        "id": "w-J5haFDEuZg"
      },
      "outputs": [],
      "source": [
        "RSE = np.sqrt(SSD/(len(df_new)-len(feature_cols)-1))"
      ]
    },
    {
      "cell_type": "code",
      "execution_count": 39,
      "metadata": {
        "id": "Nx0z_KYkEuZg",
        "outputId": "e7d73854-eb7f-4e94-a0b0-90484f165551",
        "colab": {
          "base_uri": "https://localhost:8080/"
        }
      },
      "outputs": [
        {
          "output_type": "execute_result",
          "data": {
            "text/plain": [
              "803.1318809818165"
            ]
          },
          "metadata": {},
          "execution_count": 39
        }
      ],
      "source": [
        "RSE"
      ]
    },
    {
      "cell_type": "code",
      "execution_count": 40,
      "metadata": {
        "id": "oDqDaZ0bEuZh"
      },
      "outputs": [],
      "source": [
        "sales_mean=np.mean(df_new[\"Total Spend\"])"
      ]
    },
    {
      "cell_type": "code",
      "execution_count": 41,
      "metadata": {
        "id": "IZr1OxRDEuZh",
        "outputId": "e8bd9676-ece8-4c63-e29b-7e0bb99007c2",
        "colab": {
          "base_uri": "https://localhost:8080/"
        }
      },
      "outputs": [
        {
          "output_type": "execute_result",
          "data": {
            "text/plain": [
              "6163.176415976715"
            ]
          },
          "metadata": {},
          "execution_count": 41
        }
      ],
      "source": [
        "sales_mean"
      ]
    },
    {
      "cell_type": "code",
      "execution_count": 42,
      "metadata": {
        "id": "bQTy9HatEuZh"
      },
      "outputs": [],
      "source": [
        "error = RSE/sales_mean"
      ]
    },
    {
      "cell_type": "code",
      "execution_count": 43,
      "metadata": {
        "id": "HFrFpi_vEuZh",
        "outputId": "55ca729b-84d6-44da-e671-44f042c21419",
        "colab": {
          "base_uri": "https://localhost:8080/"
        }
      },
      "outputs": [
        {
          "output_type": "execute_result",
          "data": {
            "text/plain": [
              "13.03113568029416"
            ]
          },
          "metadata": {},
          "execution_count": 43
        }
      ],
      "source": [
        "error*100"
      ]
    },
    {
      "cell_type": "markdown",
      "metadata": {
        "id": "rByiCgdLEuZh"
      },
      "source": [
        "## Eliminar variables dummy redundantes"
      ]
    },
    {
      "cell_type": "code",
      "execution_count": 97,
      "metadata": {
        "id": "wL5LhpBiEuZh",
        "outputId": "7fc23bcb-92bb-4c84-b52a-3cd275ffa948",
        "colab": {
          "base_uri": "https://localhost:8080/",
          "height": 206
        }
      },
      "outputs": [
        {
          "output_type": "execute_result",
          "data": {
            "text/plain": [
              "   Gender_Male\n",
              "0            0\n",
              "1            0\n",
              "2            1\n",
              "3            0\n",
              "4            0"
            ],
            "text/html": [
              "\n",
              "  <div id=\"df-eceeabd4-d04e-4715-b356-32cd8b83038a\">\n",
              "    <div class=\"colab-df-container\">\n",
              "      <div>\n",
              "<style scoped>\n",
              "    .dataframe tbody tr th:only-of-type {\n",
              "        vertical-align: middle;\n",
              "    }\n",
              "\n",
              "    .dataframe tbody tr th {\n",
              "        vertical-align: top;\n",
              "    }\n",
              "\n",
              "    .dataframe thead th {\n",
              "        text-align: right;\n",
              "    }\n",
              "</style>\n",
              "<table border=\"1\" class=\"dataframe\">\n",
              "  <thead>\n",
              "    <tr style=\"text-align: right;\">\n",
              "      <th></th>\n",
              "      <th>Gender_Male</th>\n",
              "    </tr>\n",
              "  </thead>\n",
              "  <tbody>\n",
              "    <tr>\n",
              "      <th>0</th>\n",
              "      <td>0</td>\n",
              "    </tr>\n",
              "    <tr>\n",
              "      <th>1</th>\n",
              "      <td>0</td>\n",
              "    </tr>\n",
              "    <tr>\n",
              "      <th>2</th>\n",
              "      <td>1</td>\n",
              "    </tr>\n",
              "    <tr>\n",
              "      <th>3</th>\n",
              "      <td>0</td>\n",
              "    </tr>\n",
              "    <tr>\n",
              "      <th>4</th>\n",
              "      <td>0</td>\n",
              "    </tr>\n",
              "  </tbody>\n",
              "</table>\n",
              "</div>\n",
              "      <button class=\"colab-df-convert\" onclick=\"convertToInteractive('df-eceeabd4-d04e-4715-b356-32cd8b83038a')\"\n",
              "              title=\"Convert this dataframe to an interactive table.\"\n",
              "              style=\"display:none;\">\n",
              "        \n",
              "  <svg xmlns=\"http://www.w3.org/2000/svg\" height=\"24px\"viewBox=\"0 0 24 24\"\n",
              "       width=\"24px\">\n",
              "    <path d=\"M0 0h24v24H0V0z\" fill=\"none\"/>\n",
              "    <path d=\"M18.56 5.44l.94 2.06.94-2.06 2.06-.94-2.06-.94-.94-2.06-.94 2.06-2.06.94zm-11 1L8.5 8.5l.94-2.06 2.06-.94-2.06-.94L8.5 2.5l-.94 2.06-2.06.94zm10 10l.94 2.06.94-2.06 2.06-.94-2.06-.94-.94-2.06-.94 2.06-2.06.94z\"/><path d=\"M17.41 7.96l-1.37-1.37c-.4-.4-.92-.59-1.43-.59-.52 0-1.04.2-1.43.59L10.3 9.45l-7.72 7.72c-.78.78-.78 2.05 0 2.83L4 21.41c.39.39.9.59 1.41.59.51 0 1.02-.2 1.41-.59l7.78-7.78 2.81-2.81c.8-.78.8-2.07 0-2.86zM5.41 20L4 18.59l7.72-7.72 1.47 1.35L5.41 20z\"/>\n",
              "  </svg>\n",
              "      </button>\n",
              "      \n",
              "  <style>\n",
              "    .colab-df-container {\n",
              "      display:flex;\n",
              "      flex-wrap:wrap;\n",
              "      gap: 12px;\n",
              "    }\n",
              "\n",
              "    .colab-df-convert {\n",
              "      background-color: #E8F0FE;\n",
              "      border: none;\n",
              "      border-radius: 50%;\n",
              "      cursor: pointer;\n",
              "      display: none;\n",
              "      fill: #1967D2;\n",
              "      height: 32px;\n",
              "      padding: 0 0 0 0;\n",
              "      width: 32px;\n",
              "    }\n",
              "\n",
              "    .colab-df-convert:hover {\n",
              "      background-color: #E2EBFA;\n",
              "      box-shadow: 0px 1px 2px rgba(60, 64, 67, 0.3), 0px 1px 3px 1px rgba(60, 64, 67, 0.15);\n",
              "      fill: #174EA6;\n",
              "    }\n",
              "\n",
              "    [theme=dark] .colab-df-convert {\n",
              "      background-color: #3B4455;\n",
              "      fill: #D2E3FC;\n",
              "    }\n",
              "\n",
              "    [theme=dark] .colab-df-convert:hover {\n",
              "      background-color: #434B5C;\n",
              "      box-shadow: 0px 1px 3px 1px rgba(0, 0, 0, 0.15);\n",
              "      filter: drop-shadow(0px 1px 2px rgba(0, 0, 0, 0.3));\n",
              "      fill: #FFFFFF;\n",
              "    }\n",
              "  </style>\n",
              "\n",
              "      <script>\n",
              "        const buttonEl =\n",
              "          document.querySelector('#df-eceeabd4-d04e-4715-b356-32cd8b83038a button.colab-df-convert');\n",
              "        buttonEl.style.display =\n",
              "          google.colab.kernel.accessAllowed ? 'block' : 'none';\n",
              "\n",
              "        async function convertToInteractive(key) {\n",
              "          const element = document.querySelector('#df-eceeabd4-d04e-4715-b356-32cd8b83038a');\n",
              "          const dataTable =\n",
              "            await google.colab.kernel.invokeFunction('convertToInteractive',\n",
              "                                                     [key], {});\n",
              "          if (!dataTable) return;\n",
              "\n",
              "          const docLinkHtml = 'Like what you see? Visit the ' +\n",
              "            '<a target=\"_blank\" href=https://colab.research.google.com/notebooks/data_table.ipynb>data table notebook</a>'\n",
              "            + ' to learn more about interactive tables.';\n",
              "          element.innerHTML = '';\n",
              "          dataTable['output_type'] = 'display_data';\n",
              "          await google.colab.output.renderOutput(dataTable, element);\n",
              "          const docLink = document.createElement('div');\n",
              "          docLink.innerHTML = docLinkHtml;\n",
              "          element.appendChild(docLink);\n",
              "        }\n",
              "      </script>\n",
              "    </div>\n",
              "  </div>\n",
              "  "
            ]
          },
          "metadata": {},
          "execution_count": 97
        }
      ],
      "source": [
        "dummy_gender = pd.get_dummies(df[\"Gender\"], prefix=\"Gender\").iloc[:,1:]\n",
        "dummy_gender.head()"
      ]
    },
    {
      "cell_type": "code",
      "execution_count": 98,
      "metadata": {
        "id": "jQxiqVnUEuZi",
        "outputId": "73b37a20-6679-49cd-b162-108ac3df1e01",
        "colab": {
          "base_uri": "https://localhost:8080/",
          "height": 206
        }
      },
      "outputs": [
        {
          "output_type": "execute_result",
          "data": {
            "text/plain": [
              "   City_Tier 2  City_Tier 3\n",
              "0            0            0\n",
              "1            1            0\n",
              "2            1            0\n",
              "3            0            0\n",
              "4            1            0"
            ],
            "text/html": [
              "\n",
              "  <div id=\"df-a5bc303f-f224-4da6-abad-8a17a8153bd6\">\n",
              "    <div class=\"colab-df-container\">\n",
              "      <div>\n",
              "<style scoped>\n",
              "    .dataframe tbody tr th:only-of-type {\n",
              "        vertical-align: middle;\n",
              "    }\n",
              "\n",
              "    .dataframe tbody tr th {\n",
              "        vertical-align: top;\n",
              "    }\n",
              "\n",
              "    .dataframe thead th {\n",
              "        text-align: right;\n",
              "    }\n",
              "</style>\n",
              "<table border=\"1\" class=\"dataframe\">\n",
              "  <thead>\n",
              "    <tr style=\"text-align: right;\">\n",
              "      <th></th>\n",
              "      <th>City_Tier 2</th>\n",
              "      <th>City_Tier 3</th>\n",
              "    </tr>\n",
              "  </thead>\n",
              "  <tbody>\n",
              "    <tr>\n",
              "      <th>0</th>\n",
              "      <td>0</td>\n",
              "      <td>0</td>\n",
              "    </tr>\n",
              "    <tr>\n",
              "      <th>1</th>\n",
              "      <td>1</td>\n",
              "      <td>0</td>\n",
              "    </tr>\n",
              "    <tr>\n",
              "      <th>2</th>\n",
              "      <td>1</td>\n",
              "      <td>0</td>\n",
              "    </tr>\n",
              "    <tr>\n",
              "      <th>3</th>\n",
              "      <td>0</td>\n",
              "      <td>0</td>\n",
              "    </tr>\n",
              "    <tr>\n",
              "      <th>4</th>\n",
              "      <td>1</td>\n",
              "      <td>0</td>\n",
              "    </tr>\n",
              "  </tbody>\n",
              "</table>\n",
              "</div>\n",
              "      <button class=\"colab-df-convert\" onclick=\"convertToInteractive('df-a5bc303f-f224-4da6-abad-8a17a8153bd6')\"\n",
              "              title=\"Convert this dataframe to an interactive table.\"\n",
              "              style=\"display:none;\">\n",
              "        \n",
              "  <svg xmlns=\"http://www.w3.org/2000/svg\" height=\"24px\"viewBox=\"0 0 24 24\"\n",
              "       width=\"24px\">\n",
              "    <path d=\"M0 0h24v24H0V0z\" fill=\"none\"/>\n",
              "    <path d=\"M18.56 5.44l.94 2.06.94-2.06 2.06-.94-2.06-.94-.94-2.06-.94 2.06-2.06.94zm-11 1L8.5 8.5l.94-2.06 2.06-.94-2.06-.94L8.5 2.5l-.94 2.06-2.06.94zm10 10l.94 2.06.94-2.06 2.06-.94-2.06-.94-.94-2.06-.94 2.06-2.06.94z\"/><path d=\"M17.41 7.96l-1.37-1.37c-.4-.4-.92-.59-1.43-.59-.52 0-1.04.2-1.43.59L10.3 9.45l-7.72 7.72c-.78.78-.78 2.05 0 2.83L4 21.41c.39.39.9.59 1.41.59.51 0 1.02-.2 1.41-.59l7.78-7.78 2.81-2.81c.8-.78.8-2.07 0-2.86zM5.41 20L4 18.59l7.72-7.72 1.47 1.35L5.41 20z\"/>\n",
              "  </svg>\n",
              "      </button>\n",
              "      \n",
              "  <style>\n",
              "    .colab-df-container {\n",
              "      display:flex;\n",
              "      flex-wrap:wrap;\n",
              "      gap: 12px;\n",
              "    }\n",
              "\n",
              "    .colab-df-convert {\n",
              "      background-color: #E8F0FE;\n",
              "      border: none;\n",
              "      border-radius: 50%;\n",
              "      cursor: pointer;\n",
              "      display: none;\n",
              "      fill: #1967D2;\n",
              "      height: 32px;\n",
              "      padding: 0 0 0 0;\n",
              "      width: 32px;\n",
              "    }\n",
              "\n",
              "    .colab-df-convert:hover {\n",
              "      background-color: #E2EBFA;\n",
              "      box-shadow: 0px 1px 2px rgba(60, 64, 67, 0.3), 0px 1px 3px 1px rgba(60, 64, 67, 0.15);\n",
              "      fill: #174EA6;\n",
              "    }\n",
              "\n",
              "    [theme=dark] .colab-df-convert {\n",
              "      background-color: #3B4455;\n",
              "      fill: #D2E3FC;\n",
              "    }\n",
              "\n",
              "    [theme=dark] .colab-df-convert:hover {\n",
              "      background-color: #434B5C;\n",
              "      box-shadow: 0px 1px 3px 1px rgba(0, 0, 0, 0.15);\n",
              "      filter: drop-shadow(0px 1px 2px rgba(0, 0, 0, 0.3));\n",
              "      fill: #FFFFFF;\n",
              "    }\n",
              "  </style>\n",
              "\n",
              "      <script>\n",
              "        const buttonEl =\n",
              "          document.querySelector('#df-a5bc303f-f224-4da6-abad-8a17a8153bd6 button.colab-df-convert');\n",
              "        buttonEl.style.display =\n",
              "          google.colab.kernel.accessAllowed ? 'block' : 'none';\n",
              "\n",
              "        async function convertToInteractive(key) {\n",
              "          const element = document.querySelector('#df-a5bc303f-f224-4da6-abad-8a17a8153bd6');\n",
              "          const dataTable =\n",
              "            await google.colab.kernel.invokeFunction('convertToInteractive',\n",
              "                                                     [key], {});\n",
              "          if (!dataTable) return;\n",
              "\n",
              "          const docLinkHtml = 'Like what you see? Visit the ' +\n",
              "            '<a target=\"_blank\" href=https://colab.research.google.com/notebooks/data_table.ipynb>data table notebook</a>'\n",
              "            + ' to learn more about interactive tables.';\n",
              "          element.innerHTML = '';\n",
              "          dataTable['output_type'] = 'display_data';\n",
              "          await google.colab.output.renderOutput(dataTable, element);\n",
              "          const docLink = document.createElement('div');\n",
              "          docLink.innerHTML = docLinkHtml;\n",
              "          element.appendChild(docLink);\n",
              "        }\n",
              "      </script>\n",
              "    </div>\n",
              "  </div>\n",
              "  "
            ]
          },
          "metadata": {},
          "execution_count": 98
        }
      ],
      "source": [
        "dummy_city_tier = pd.get_dummies(df[\"City Tier\"], prefix=\"City\").iloc[:,1:]\n",
        "dummy_city_tier.head()"
      ]
    },
    {
      "cell_type": "code",
      "execution_count": 99,
      "metadata": {
        "id": "WFxNZJI7EuZi",
        "outputId": "a68d6dc7-8ec3-4eef-d200-953c565f7096",
        "colab": {
          "base_uri": "https://localhost:8080/",
          "height": 206
        }
      },
      "outputs": [
        {
          "output_type": "execute_result",
          "data": {
            "text/plain": [
              "  Transaction ID  Age    Items   Monthly Income  Transaction Time  Record  \\\n",
              "0         TXN001    42       10            7313        627.668127       5   \n",
              "1         TXN002    24        8           17747        126.904567       3   \n",
              "2         TXN003    47       11           22845        873.469701       2   \n",
              "3         TXN004    50       11           18552        380.219428       7   \n",
              "4         TXN005    60        2           14439        403.374223       2   \n",
              "\n",
              "   Gender City Tier  Total Spend  Gender_Male  City_Tier 2  City_Tier 3  \n",
              "0  Female    Tier 1  4198.385084            0            0            0  \n",
              "1  Female    Tier 2  4134.976648            0            1            0  \n",
              "2    Male    Tier 2  5166.614455            1            1            0  \n",
              "3  Female    Tier 1  7784.447676            0            0            0  \n",
              "4  Female    Tier 2  3254.160485            0            1            0  "
            ],
            "text/html": [
              "\n",
              "  <div id=\"df-a8a32d8b-a0ef-42a1-985c-62c235e8eacb\">\n",
              "    <div class=\"colab-df-container\">\n",
              "      <div>\n",
              "<style scoped>\n",
              "    .dataframe tbody tr th:only-of-type {\n",
              "        vertical-align: middle;\n",
              "    }\n",
              "\n",
              "    .dataframe tbody tr th {\n",
              "        vertical-align: top;\n",
              "    }\n",
              "\n",
              "    .dataframe thead th {\n",
              "        text-align: right;\n",
              "    }\n",
              "</style>\n",
              "<table border=\"1\" class=\"dataframe\">\n",
              "  <thead>\n",
              "    <tr style=\"text-align: right;\">\n",
              "      <th></th>\n",
              "      <th>Transaction ID</th>\n",
              "      <th>Age</th>\n",
              "      <th>Items</th>\n",
              "      <th>Monthly Income</th>\n",
              "      <th>Transaction Time</th>\n",
              "      <th>Record</th>\n",
              "      <th>Gender</th>\n",
              "      <th>City Tier</th>\n",
              "      <th>Total Spend</th>\n",
              "      <th>Gender_Male</th>\n",
              "      <th>City_Tier 2</th>\n",
              "      <th>City_Tier 3</th>\n",
              "    </tr>\n",
              "  </thead>\n",
              "  <tbody>\n",
              "    <tr>\n",
              "      <th>0</th>\n",
              "      <td>TXN001</td>\n",
              "      <td>42</td>\n",
              "      <td>10</td>\n",
              "      <td>7313</td>\n",
              "      <td>627.668127</td>\n",
              "      <td>5</td>\n",
              "      <td>Female</td>\n",
              "      <td>Tier 1</td>\n",
              "      <td>4198.385084</td>\n",
              "      <td>0</td>\n",
              "      <td>0</td>\n",
              "      <td>0</td>\n",
              "    </tr>\n",
              "    <tr>\n",
              "      <th>1</th>\n",
              "      <td>TXN002</td>\n",
              "      <td>24</td>\n",
              "      <td>8</td>\n",
              "      <td>17747</td>\n",
              "      <td>126.904567</td>\n",
              "      <td>3</td>\n",
              "      <td>Female</td>\n",
              "      <td>Tier 2</td>\n",
              "      <td>4134.976648</td>\n",
              "      <td>0</td>\n",
              "      <td>1</td>\n",
              "      <td>0</td>\n",
              "    </tr>\n",
              "    <tr>\n",
              "      <th>2</th>\n",
              "      <td>TXN003</td>\n",
              "      <td>47</td>\n",
              "      <td>11</td>\n",
              "      <td>22845</td>\n",
              "      <td>873.469701</td>\n",
              "      <td>2</td>\n",
              "      <td>Male</td>\n",
              "      <td>Tier 2</td>\n",
              "      <td>5166.614455</td>\n",
              "      <td>1</td>\n",
              "      <td>1</td>\n",
              "      <td>0</td>\n",
              "    </tr>\n",
              "    <tr>\n",
              "      <th>3</th>\n",
              "      <td>TXN004</td>\n",
              "      <td>50</td>\n",
              "      <td>11</td>\n",
              "      <td>18552</td>\n",
              "      <td>380.219428</td>\n",
              "      <td>7</td>\n",
              "      <td>Female</td>\n",
              "      <td>Tier 1</td>\n",
              "      <td>7784.447676</td>\n",
              "      <td>0</td>\n",
              "      <td>0</td>\n",
              "      <td>0</td>\n",
              "    </tr>\n",
              "    <tr>\n",
              "      <th>4</th>\n",
              "      <td>TXN005</td>\n",
              "      <td>60</td>\n",
              "      <td>2</td>\n",
              "      <td>14439</td>\n",
              "      <td>403.374223</td>\n",
              "      <td>2</td>\n",
              "      <td>Female</td>\n",
              "      <td>Tier 2</td>\n",
              "      <td>3254.160485</td>\n",
              "      <td>0</td>\n",
              "      <td>1</td>\n",
              "      <td>0</td>\n",
              "    </tr>\n",
              "  </tbody>\n",
              "</table>\n",
              "</div>\n",
              "      <button class=\"colab-df-convert\" onclick=\"convertToInteractive('df-a8a32d8b-a0ef-42a1-985c-62c235e8eacb')\"\n",
              "              title=\"Convert this dataframe to an interactive table.\"\n",
              "              style=\"display:none;\">\n",
              "        \n",
              "  <svg xmlns=\"http://www.w3.org/2000/svg\" height=\"24px\"viewBox=\"0 0 24 24\"\n",
              "       width=\"24px\">\n",
              "    <path d=\"M0 0h24v24H0V0z\" fill=\"none\"/>\n",
              "    <path d=\"M18.56 5.44l.94 2.06.94-2.06 2.06-.94-2.06-.94-.94-2.06-.94 2.06-2.06.94zm-11 1L8.5 8.5l.94-2.06 2.06-.94-2.06-.94L8.5 2.5l-.94 2.06-2.06.94zm10 10l.94 2.06.94-2.06 2.06-.94-2.06-.94-.94-2.06-.94 2.06-2.06.94z\"/><path d=\"M17.41 7.96l-1.37-1.37c-.4-.4-.92-.59-1.43-.59-.52 0-1.04.2-1.43.59L10.3 9.45l-7.72 7.72c-.78.78-.78 2.05 0 2.83L4 21.41c.39.39.9.59 1.41.59.51 0 1.02-.2 1.41-.59l7.78-7.78 2.81-2.81c.8-.78.8-2.07 0-2.86zM5.41 20L4 18.59l7.72-7.72 1.47 1.35L5.41 20z\"/>\n",
              "  </svg>\n",
              "      </button>\n",
              "      \n",
              "  <style>\n",
              "    .colab-df-container {\n",
              "      display:flex;\n",
              "      flex-wrap:wrap;\n",
              "      gap: 12px;\n",
              "    }\n",
              "\n",
              "    .colab-df-convert {\n",
              "      background-color: #E8F0FE;\n",
              "      border: none;\n",
              "      border-radius: 50%;\n",
              "      cursor: pointer;\n",
              "      display: none;\n",
              "      fill: #1967D2;\n",
              "      height: 32px;\n",
              "      padding: 0 0 0 0;\n",
              "      width: 32px;\n",
              "    }\n",
              "\n",
              "    .colab-df-convert:hover {\n",
              "      background-color: #E2EBFA;\n",
              "      box-shadow: 0px 1px 2px rgba(60, 64, 67, 0.3), 0px 1px 3px 1px rgba(60, 64, 67, 0.15);\n",
              "      fill: #174EA6;\n",
              "    }\n",
              "\n",
              "    [theme=dark] .colab-df-convert {\n",
              "      background-color: #3B4455;\n",
              "      fill: #D2E3FC;\n",
              "    }\n",
              "\n",
              "    [theme=dark] .colab-df-convert:hover {\n",
              "      background-color: #434B5C;\n",
              "      box-shadow: 0px 1px 3px 1px rgba(0, 0, 0, 0.15);\n",
              "      filter: drop-shadow(0px 1px 2px rgba(0, 0, 0, 0.3));\n",
              "      fill: #FFFFFF;\n",
              "    }\n",
              "  </style>\n",
              "\n",
              "      <script>\n",
              "        const buttonEl =\n",
              "          document.querySelector('#df-a8a32d8b-a0ef-42a1-985c-62c235e8eacb button.colab-df-convert');\n",
              "        buttonEl.style.display =\n",
              "          google.colab.kernel.accessAllowed ? 'block' : 'none';\n",
              "\n",
              "        async function convertToInteractive(key) {\n",
              "          const element = document.querySelector('#df-a8a32d8b-a0ef-42a1-985c-62c235e8eacb');\n",
              "          const dataTable =\n",
              "            await google.colab.kernel.invokeFunction('convertToInteractive',\n",
              "                                                     [key], {});\n",
              "          if (!dataTable) return;\n",
              "\n",
              "          const docLinkHtml = 'Like what you see? Visit the ' +\n",
              "            '<a target=\"_blank\" href=https://colab.research.google.com/notebooks/data_table.ipynb>data table notebook</a>'\n",
              "            + ' to learn more about interactive tables.';\n",
              "          element.innerHTML = '';\n",
              "          dataTable['output_type'] = 'display_data';\n",
              "          await google.colab.output.renderOutput(dataTable, element);\n",
              "          const docLink = document.createElement('div');\n",
              "          docLink.innerHTML = docLinkHtml;\n",
              "          element.appendChild(docLink);\n",
              "        }\n",
              "      </script>\n",
              "    </div>\n",
              "  </div>\n",
              "  "
            ]
          },
          "metadata": {},
          "execution_count": 99
        }
      ],
      "source": [
        "column_names = df.columns.values.tolist()\n",
        "df_new = df[column_names].join(dummy_gender)\n",
        "column_names = df_new.columns.values.tolist()\n",
        "df_new = df_new[column_names].join(dummy_city_tier)\n",
        "df_new.head()"
      ]
    },
    {
      "cell_type": "code",
      "execution_count": 100,
      "metadata": {
        "id": "GM6gn965EuZi",
        "outputId": "e99e415d-584c-48cd-d03e-51c463f5a72e",
        "colab": {
          "base_uri": "https://localhost:8080/"
        }
      },
      "outputs": [
        {
          "output_type": "execute_result",
          "data": {
            "text/plain": [
              "LinearRegression()"
            ]
          },
          "metadata": {},
          "execution_count": 100
        }
      ],
      "source": [
        "feature_cols = [\"Monthly Income\", \"Transaction Time\", \"Gender_Male\", \"City_Tier 2\", \"City_Tier 3\", \"Record\"]\n",
        "X = df_new[feature_cols]\n",
        "Y = df_new[\"Total Spend\"]\n",
        "lm = LinearRegression()\n",
        "lm.fit(X,Y)"
      ]
    },
    {
      "cell_type": "code",
      "execution_count": 101,
      "metadata": {
        "id": "uKQtu2M4EuZi",
        "outputId": "bc8594e9-7ae7-40e1-dc7b-54612728d83a",
        "colab": {
          "base_uri": "https://localhost:8080/"
        }
      },
      "outputs": [
        {
          "output_type": "stream",
          "name": "stdout",
          "text": [
            "-133.67781754642238\n"
          ]
        }
      ],
      "source": [
        "print(lm.intercept_)"
      ]
    },
    {
      "cell_type": "code",
      "execution_count": 102,
      "metadata": {
        "id": "DAUuDlZ-EuZi",
        "outputId": "5a645b9a-7b4b-4c9e-cb54-4760602e54d0",
        "colab": {
          "base_uri": "https://localhost:8080/"
        }
      },
      "outputs": [
        {
          "output_type": "execute_result",
          "data": {
            "text/plain": [
              "[('Monthly Income', 0.14753898049205752),\n",
              " ('Transaction Time', 0.1549461254958957),\n",
              " ('Gender_Male', 262.05002651109413),\n",
              " ('City_Tier 2', -21.625351701262886),\n",
              " ('City_Tier 3', -208.6676263302229),\n",
              " ('Record', 772.2334457445638)]"
            ]
          },
          "metadata": {},
          "execution_count": 102
        }
      ],
      "source": [
        "list(zip(feature_cols, lm.coef_))"
      ]
    },
    {
      "cell_type": "code",
      "execution_count": 103,
      "metadata": {
        "id": "bVTtLHBWEuZi",
        "outputId": "f0c471ed-de4d-465e-c1d4-9981819b0403",
        "colab": {
          "base_uri": "https://localhost:8080/"
        }
      },
      "outputs": [
        {
          "output_type": "execute_result",
          "data": {
            "text/plain": [
              "0.9179923586131016"
            ]
          },
          "metadata": {},
          "execution_count": 103
        }
      ],
      "source": [
        "lm.score(X,Y)"
      ]
    },
    {
      "cell_type": "markdown",
      "metadata": {
        "id": "8xPF9YmYEuZj"
      },
      "source": [
        "Coeficientes con todas las variables en el modelo\n",
        "* ('Monthly Income', 0.14753898049205738),\n",
        "* ('Transaction Time', 0.15494612549589545),\n",
        "* ('Gender_Female', -131.02501325554567),\n",
        "* ('Gender_Male', 131.0250132555456),\n",
        "* ('City_Tier 1', 76.76432601049527),\n",
        "* ('City_Tier 2', 55.138974309232474),\n",
        "* ('City_Tier 3', -131.9033003197278),\n",
        "* ('Record', 772.2334457445648)\n",
        " \n",
        " Coeficientes tras enmascarar las variables dummy pertinentes\n",
        "* 'Monthly Income', 0.14753898049205744),\n",
        "* ('Transaction Time', 0.15494612549589631),\n",
        "* ('Gender_Male', 262.05002651109595),\n",
        "* ('City_Tier 2', -21.62535170126296),\n",
        "* ('City_Tier 3', -208.66762633022324),\n",
        "* ('Record', 772.2334457445635)]\n",
        "\n",
        "Los cambios se reflejan en\n",
        "* Gender_Male: \n",
        "    * antes -> 131.02, \n",
        "    * después -> 262.05 = ( 131.02 - (-131.02))\n",
        "* Gender_Female: \n",
        "    * antes -> -131.02,\n",
        "    * después -> 0\n",
        "* CT1: \n",
        "    * antes -> 76.76,\n",
        "    * después -> 0\n",
        "* CT2: \n",
        "    * antes -> 55.13, \n",
        "    * después -> -21.62 = (55.13 - 76.76)\n",
        "* CT3: \n",
        "    * antes -> -131.90, \n",
        "    * después -> -208.66 = (-131.90 - 76.76)"
      ]
    },
    {
      "cell_type": "markdown",
      "metadata": {
        "id": "pWersrRgEuZj"
      },
      "source": [
        "# Transformación de variables para conseguir una relación no lineal"
      ]
    },
    {
      "cell_type": "code",
      "execution_count": 69,
      "metadata": {
        "id": "QmmpNvYJEuZj"
      },
      "outputs": [],
      "source": [
        "import pandas as pd"
      ]
    },
    {
      "cell_type": "code",
      "execution_count": 70,
      "metadata": {
        "id": "iT7n0FHpEuZj",
        "outputId": "fe36d4e6-e67d-4f4f-f4c1-c09208e4b9cf",
        "colab": {
          "base_uri": "https://localhost:8080/",
          "height": 206
        }
      },
      "outputs": [
        {
          "output_type": "execute_result",
          "data": {
            "text/plain": [
              "    mpg  cylinders  displacement  horsepower  weight  acceleration  \\\n",
              "0  18.0          8         307.0       130.0    3504          12.0   \n",
              "1  15.0          8         350.0       165.0    3693          11.5   \n",
              "2  18.0          8         318.0       150.0    3436          11.0   \n",
              "3  16.0          8         304.0       150.0    3433          12.0   \n",
              "4  17.0          8         302.0       140.0    3449          10.5   \n",
              "\n",
              "   model year  origin                   car name  \n",
              "0          70       1  chevrolet chevelle malibu  \n",
              "1          70       1          buick skylark 320  \n",
              "2          70       1         plymouth satellite  \n",
              "3          70       1              amc rebel sst  \n",
              "4          70       1                ford torino  "
            ],
            "text/html": [
              "\n",
              "  <div id=\"df-f73ddd50-e711-44b3-8641-14238068086e\">\n",
              "    <div class=\"colab-df-container\">\n",
              "      <div>\n",
              "<style scoped>\n",
              "    .dataframe tbody tr th:only-of-type {\n",
              "        vertical-align: middle;\n",
              "    }\n",
              "\n",
              "    .dataframe tbody tr th {\n",
              "        vertical-align: top;\n",
              "    }\n",
              "\n",
              "    .dataframe thead th {\n",
              "        text-align: right;\n",
              "    }\n",
              "</style>\n",
              "<table border=\"1\" class=\"dataframe\">\n",
              "  <thead>\n",
              "    <tr style=\"text-align: right;\">\n",
              "      <th></th>\n",
              "      <th>mpg</th>\n",
              "      <th>cylinders</th>\n",
              "      <th>displacement</th>\n",
              "      <th>horsepower</th>\n",
              "      <th>weight</th>\n",
              "      <th>acceleration</th>\n",
              "      <th>model year</th>\n",
              "      <th>origin</th>\n",
              "      <th>car name</th>\n",
              "    </tr>\n",
              "  </thead>\n",
              "  <tbody>\n",
              "    <tr>\n",
              "      <th>0</th>\n",
              "      <td>18.0</td>\n",
              "      <td>8</td>\n",
              "      <td>307.0</td>\n",
              "      <td>130.0</td>\n",
              "      <td>3504</td>\n",
              "      <td>12.0</td>\n",
              "      <td>70</td>\n",
              "      <td>1</td>\n",
              "      <td>chevrolet chevelle malibu</td>\n",
              "    </tr>\n",
              "    <tr>\n",
              "      <th>1</th>\n",
              "      <td>15.0</td>\n",
              "      <td>8</td>\n",
              "      <td>350.0</td>\n",
              "      <td>165.0</td>\n",
              "      <td>3693</td>\n",
              "      <td>11.5</td>\n",
              "      <td>70</td>\n",
              "      <td>1</td>\n",
              "      <td>buick skylark 320</td>\n",
              "    </tr>\n",
              "    <tr>\n",
              "      <th>2</th>\n",
              "      <td>18.0</td>\n",
              "      <td>8</td>\n",
              "      <td>318.0</td>\n",
              "      <td>150.0</td>\n",
              "      <td>3436</td>\n",
              "      <td>11.0</td>\n",
              "      <td>70</td>\n",
              "      <td>1</td>\n",
              "      <td>plymouth satellite</td>\n",
              "    </tr>\n",
              "    <tr>\n",
              "      <th>3</th>\n",
              "      <td>16.0</td>\n",
              "      <td>8</td>\n",
              "      <td>304.0</td>\n",
              "      <td>150.0</td>\n",
              "      <td>3433</td>\n",
              "      <td>12.0</td>\n",
              "      <td>70</td>\n",
              "      <td>1</td>\n",
              "      <td>amc rebel sst</td>\n",
              "    </tr>\n",
              "    <tr>\n",
              "      <th>4</th>\n",
              "      <td>17.0</td>\n",
              "      <td>8</td>\n",
              "      <td>302.0</td>\n",
              "      <td>140.0</td>\n",
              "      <td>3449</td>\n",
              "      <td>10.5</td>\n",
              "      <td>70</td>\n",
              "      <td>1</td>\n",
              "      <td>ford torino</td>\n",
              "    </tr>\n",
              "  </tbody>\n",
              "</table>\n",
              "</div>\n",
              "      <button class=\"colab-df-convert\" onclick=\"convertToInteractive('df-f73ddd50-e711-44b3-8641-14238068086e')\"\n",
              "              title=\"Convert this dataframe to an interactive table.\"\n",
              "              style=\"display:none;\">\n",
              "        \n",
              "  <svg xmlns=\"http://www.w3.org/2000/svg\" height=\"24px\"viewBox=\"0 0 24 24\"\n",
              "       width=\"24px\">\n",
              "    <path d=\"M0 0h24v24H0V0z\" fill=\"none\"/>\n",
              "    <path d=\"M18.56 5.44l.94 2.06.94-2.06 2.06-.94-2.06-.94-.94-2.06-.94 2.06-2.06.94zm-11 1L8.5 8.5l.94-2.06 2.06-.94-2.06-.94L8.5 2.5l-.94 2.06-2.06.94zm10 10l.94 2.06.94-2.06 2.06-.94-2.06-.94-.94-2.06-.94 2.06-2.06.94z\"/><path d=\"M17.41 7.96l-1.37-1.37c-.4-.4-.92-.59-1.43-.59-.52 0-1.04.2-1.43.59L10.3 9.45l-7.72 7.72c-.78.78-.78 2.05 0 2.83L4 21.41c.39.39.9.59 1.41.59.51 0 1.02-.2 1.41-.59l7.78-7.78 2.81-2.81c.8-.78.8-2.07 0-2.86zM5.41 20L4 18.59l7.72-7.72 1.47 1.35L5.41 20z\"/>\n",
              "  </svg>\n",
              "      </button>\n",
              "      \n",
              "  <style>\n",
              "    .colab-df-container {\n",
              "      display:flex;\n",
              "      flex-wrap:wrap;\n",
              "      gap: 12px;\n",
              "    }\n",
              "\n",
              "    .colab-df-convert {\n",
              "      background-color: #E8F0FE;\n",
              "      border: none;\n",
              "      border-radius: 50%;\n",
              "      cursor: pointer;\n",
              "      display: none;\n",
              "      fill: #1967D2;\n",
              "      height: 32px;\n",
              "      padding: 0 0 0 0;\n",
              "      width: 32px;\n",
              "    }\n",
              "\n",
              "    .colab-df-convert:hover {\n",
              "      background-color: #E2EBFA;\n",
              "      box-shadow: 0px 1px 2px rgba(60, 64, 67, 0.3), 0px 1px 3px 1px rgba(60, 64, 67, 0.15);\n",
              "      fill: #174EA6;\n",
              "    }\n",
              "\n",
              "    [theme=dark] .colab-df-convert {\n",
              "      background-color: #3B4455;\n",
              "      fill: #D2E3FC;\n",
              "    }\n",
              "\n",
              "    [theme=dark] .colab-df-convert:hover {\n",
              "      background-color: #434B5C;\n",
              "      box-shadow: 0px 1px 3px 1px rgba(0, 0, 0, 0.15);\n",
              "      filter: drop-shadow(0px 1px 2px rgba(0, 0, 0, 0.3));\n",
              "      fill: #FFFFFF;\n",
              "    }\n",
              "  </style>\n",
              "\n",
              "      <script>\n",
              "        const buttonEl =\n",
              "          document.querySelector('#df-f73ddd50-e711-44b3-8641-14238068086e button.colab-df-convert');\n",
              "        buttonEl.style.display =\n",
              "          google.colab.kernel.accessAllowed ? 'block' : 'none';\n",
              "\n",
              "        async function convertToInteractive(key) {\n",
              "          const element = document.querySelector('#df-f73ddd50-e711-44b3-8641-14238068086e');\n",
              "          const dataTable =\n",
              "            await google.colab.kernel.invokeFunction('convertToInteractive',\n",
              "                                                     [key], {});\n",
              "          if (!dataTable) return;\n",
              "\n",
              "          const docLinkHtml = 'Like what you see? Visit the ' +\n",
              "            '<a target=\"_blank\" href=https://colab.research.google.com/notebooks/data_table.ipynb>data table notebook</a>'\n",
              "            + ' to learn more about interactive tables.';\n",
              "          element.innerHTML = '';\n",
              "          dataTable['output_type'] = 'display_data';\n",
              "          await google.colab.output.renderOutput(dataTable, element);\n",
              "          const docLink = document.createElement('div');\n",
              "          docLink.innerHTML = docLinkHtml;\n",
              "          element.appendChild(docLink);\n",
              "        }\n",
              "      </script>\n",
              "    </div>\n",
              "  </div>\n",
              "  "
            ]
          },
          "metadata": {},
          "execution_count": 70
        }
      ],
      "source": [
        "data_auto = pd.read_csv(\"/content/python-ml-course/datasets/auto/auto-mpg.csv\")\n",
        "data_auto.head()"
      ]
    },
    {
      "cell_type": "code",
      "execution_count": 71,
      "metadata": {
        "id": "Asv5KamxEuZj",
        "outputId": "94af106b-c7db-4df4-f101-5999db978250",
        "colab": {
          "base_uri": "https://localhost:8080/"
        }
      },
      "outputs": [
        {
          "output_type": "execute_result",
          "data": {
            "text/plain": [
              "(406, 9)"
            ]
          },
          "metadata": {},
          "execution_count": 71
        }
      ],
      "source": [
        "data_auto.shape"
      ]
    },
    {
      "cell_type": "code",
      "execution_count": 72,
      "metadata": {
        "id": "9FXQHyS2EuZk"
      },
      "outputs": [],
      "source": [
        "import matplotlib.pyplot as plt"
      ]
    },
    {
      "cell_type": "code",
      "execution_count": 73,
      "metadata": {
        "id": "9uBvNuH5EuZk",
        "outputId": "f0c0a5c2-6490-403b-fa7d-c75e634737f3",
        "colab": {
          "base_uri": "https://localhost:8080/",
          "height": 313
        }
      },
      "outputs": [
        {
          "output_type": "execute_result",
          "data": {
            "text/plain": [
              "Text(0.5, 1.0, 'CV vs MPG')"
            ]
          },
          "metadata": {},
          "execution_count": 73
        },
        {
          "output_type": "display_data",
          "data": {
            "text/plain": [
              "<Figure size 432x288 with 1 Axes>"
            ],
            "image/png": "[encoded data removed]"
          },
          "metadata": {
            "needs_background": "light"
          }
        }
      ],
      "source": [
        "%matplotlib inline\n",
        "data_auto[\"mpg\"] = data_auto[\"mpg\"].dropna()\n",
        "data_auto[\"horsepower\"] = data_auto[\"horsepower\"].dropna()\n",
        "plt.plot(data_auto[\"horsepower\"], data_auto[\"mpg\"], \"ro\")\n",
        "plt.xlabel(\"Caballos de Potencia\")\n",
        "plt.ylabel(\"Consumo (millas por galeón)\")\n",
        "plt.title(\"CV vs MPG\")"
      ]
    },
    {
      "cell_type": "markdown",
      "metadata": {
        "id": "lEXP8rKtEuZk"
      },
      "source": [
        "### Modelo de regresión lineal\n",
        "* mpg = a + b * horsepower"
      ]
    },
    {
      "cell_type": "code",
      "execution_count": 74,
      "metadata": {
        "id": "4PbUwqKkEuZk"
      },
      "outputs": [],
      "source": [
        "X = data_auto[\"horsepower\"].fillna(data_auto[\"horsepower\"].mean()).to_numpy()\n",
        "Y = data_auto[\"mpg\"].fillna(data_auto[\"mpg\"].mean())\n",
        "X_data = X[:,np.newaxis]"
      ]
    },
    {
      "cell_type": "code",
      "execution_count": 75,
      "metadata": {
        "id": "CCMK6tYvEuZk",
        "outputId": "7257e004-794e-415b-cb36-32119d72607f",
        "colab": {
          "base_uri": "https://localhost:8080/"
        }
      },
      "outputs": [
        {
          "output_type": "execute_result",
          "data": {
            "text/plain": [
              "LinearRegression()"
            ]
          },
          "metadata": {},
          "execution_count": 75
        }
      ],
      "source": [
        "lm = LinearRegression()\n",
        "lm.fit(X_data,Y)"
      ]
    },
    {
      "cell_type": "code",
      "execution_count": 76,
      "metadata": {
        "id": "SJV6UGGoEuZk",
        "outputId": "36f24544-098a-4795-b0ea-2d736c3afe6e",
        "colab": {
          "base_uri": "https://localhost:8080/"
        }
      },
      "outputs": [
        {
          "output_type": "execute_result",
          "data": {
            "text/plain": [
              "numpy.ndarray"
            ]
          },
          "metadata": {},
          "execution_count": 76
        }
      ],
      "source": [
        "type(X)"
      ]
    },
    {
      "cell_type": "code",
      "execution_count": 77,
      "metadata": {
        "id": "hWaRTc3iEuZk",
        "outputId": "25d99c61-bc03-455f-c5db-9f9235100e89",
        "colab": {
          "base_uri": "https://localhost:8080/"
        }
      },
      "outputs": [
        {
          "output_type": "execute_result",
          "data": {
            "text/plain": [
              "numpy.ndarray"
            ]
          },
          "metadata": {},
          "execution_count": 77
        }
      ],
      "source": [
        "type(X_data)"
      ]
    },
    {
      "cell_type": "code",
      "execution_count": 78,
      "metadata": {
        "id": "yjsyCAISEuZk",
        "outputId": "824fa073-a6ce-4cb1-9e3b-2513313bdac9",
        "colab": {
          "base_uri": "https://localhost:8080/",
          "height": 0
        }
      },
      "outputs": [
        {
          "output_type": "execute_result",
          "data": {
            "text/plain": [
              "[<matplotlib.lines.Line2D at 0x7f240c9b0dd0>]"
            ]
          },
          "metadata": {},
          "execution_count": 78
        },
        {
          "output_type": "display_data",
          "data": {
            "text/plain": [
              "<Figure size 432x288 with 1 Axes>"
            ],
            "image/png": "[encoded data removed]"
          },
          "metadata": {
            "needs_background": "light"
          }
        }
      ],
      "source": [
        "%matplotlib inline\n",
        "plt.plot(X,Y, \"ro\")\n",
        "plt.plot(X, lm.predict(X_data), color=\"blue\")"
      ]
    },
    {
      "cell_type": "code",
      "execution_count": 79,
      "metadata": {
        "id": "aN-OlwihEuZl",
        "outputId": "6b84edb3-ff90-485f-ea23-a0b6983cf43a",
        "colab": {
          "base_uri": "https://localhost:8080/"
        }
      },
      "outputs": [
        {
          "output_type": "execute_result",
          "data": {
            "text/plain": [
              "0.5746533406450252"
            ]
          },
          "metadata": {},
          "execution_count": 79
        }
      ],
      "source": [
        "lm.score(X_data, Y)"
      ]
    },
    {
      "cell_type": "code",
      "execution_count": 80,
      "metadata": {
        "id": "S6m8rKzwEuZl",
        "outputId": "a269052b-53ec-4e21-a63f-7eaa8911fde0",
        "colab": {
          "base_uri": "https://localhost:8080/"
        }
      },
      "outputs": [
        {
          "output_type": "execute_result",
          "data": {
            "text/plain": [
              "(10315.751960060918, 5.046879480825511, 23.514572864321607, 21.462773361633474)"
            ]
          },
          "metadata": {},
          "execution_count": 80
        }
      ],
      "source": [
        "SSD = np.sum((Y - lm.predict(X_data))**2)\n",
        "RSE = np.sqrt(SSD/(len(X_data)-1))\n",
        "y_mean = np.mean(Y)\n",
        "error = RSE/y_mean\n",
        "SSD, RSE, y_mean, error*100"
      ]
    },
    {
      "cell_type": "markdown",
      "metadata": {
        "id": "OAJTgh4XEuZl"
      },
      "source": [
        "### Modelo de regresión cuadrático\n",
        "* mpg = a + b * horsepower^2 "
      ]
    },
    {
      "cell_type": "code",
      "execution_count": 81,
      "metadata": {
        "id": "7MbxsEW6EuZl"
      },
      "outputs": [],
      "source": [
        "X_data = X**2\n",
        "X_data = np.asarray(X_data)\n",
        "X_data = X_data[:,np.newaxis]"
      ]
    },
    {
      "cell_type": "code",
      "execution_count": 82,
      "metadata": {
        "id": "Fh_vtfeGEuZl",
        "outputId": "96dbeb56-1594-41d7-93a0-48f8c59ec3ee",
        "colab": {
          "base_uri": "https://localhost:8080/"
        }
      },
      "outputs": [
        {
          "output_type": "execute_result",
          "data": {
            "text/plain": [
              "LinearRegression()"
            ]
          },
          "metadata": {},
          "execution_count": 82
        }
      ],
      "source": [
        "lm = LinearRegression()\n",
        "lm.fit(X_data, Y)"
      ]
    },
    {
      "cell_type": "code",
      "execution_count": 83,
      "metadata": {
        "id": "ifHTQPl3EuZl",
        "outputId": "a7d2d5c0-f2d2-4889-ae68-ead2df824d71",
        "colab": {
          "base_uri": "https://localhost:8080/"
        }
      },
      "outputs": [
        {
          "output_type": "execute_result",
          "data": {
            "text/plain": [
              "0.4849887034823205"
            ]
          },
          "metadata": {},
          "execution_count": 83
        }
      ],
      "source": [
        "lm.score(X_data, Y)"
      ]
    },
    {
      "cell_type": "code",
      "execution_count": 84,
      "metadata": {
        "id": "6mYm4x00EuZm",
        "outputId": "2e81b453-10d2-4c34-8936-fa2ee2f166ff",
        "colab": {
          "base_uri": "https://localhost:8080/"
        }
      },
      "outputs": [
        {
          "output_type": "execute_result",
          "data": {
            "text/plain": [
              "(12490.350340501926, 5.553410772769817, 23.514572864321607, 23.616889852998113)"
            ]
          },
          "metadata": {},
          "execution_count": 84
        }
      ],
      "source": [
        "SSD = np.sum((Y - lm.predict(X_data))**2)\n",
        "RSE = np.sqrt(SSD/(len(X_data)-1))\n",
        "y_mean = np.mean(Y)\n",
        "error = RSE/y_mean\n",
        "SSD, RSE, y_mean, error*100"
      ]
    },
    {
      "cell_type": "markdown",
      "metadata": {
        "id": "66-y4R6eEuZm"
      },
      "source": [
        "### Modelo de regresión  lineal y cuadrático\n",
        "* mpg = a + b * horsepower + c * horsepower^2"
      ]
    },
    {
      "cell_type": "code",
      "execution_count": 85,
      "metadata": {
        "id": "r7NEH9_tEuZm"
      },
      "outputs": [],
      "source": [
        "from sklearn.preprocessing import PolynomialFeatures\n",
        "from sklearn import linear_model"
      ]
    },
    {
      "cell_type": "code",
      "execution_count": 86,
      "metadata": {
        "id": "DRh-jEDJEuZm"
      },
      "outputs": [],
      "source": [
        "poly = PolynomialFeatures(degree=2)"
      ]
    },
    {
      "cell_type": "code",
      "execution_count": 87,
      "metadata": {
        "id": "xCLqVhEEEuZm"
      },
      "outputs": [],
      "source": [
        "X = np.asarray(X)\n",
        "X_data = poly.fit_transform(X[:,np.newaxis])"
      ]
    },
    {
      "cell_type": "code",
      "execution_count": 88,
      "metadata": {
        "id": "SPdplvjkEuZn",
        "outputId": "18dd85d3-1bbb-41c7-e4a9-832daacdc9f4",
        "colab": {
          "base_uri": "https://localhost:8080/"
        }
      },
      "outputs": [
        {
          "output_type": "execute_result",
          "data": {
            "text/plain": [
              "LinearRegression()"
            ]
          },
          "metadata": {},
          "execution_count": 88
        }
      ],
      "source": [
        "lm = linear_model.LinearRegression()\n",
        "lm.fit(X_data, Y)"
      ]
    },
    {
      "cell_type": "code",
      "execution_count": 89,
      "metadata": {
        "id": "qPqKPXmuEuZn",
        "outputId": "f31ca7b9-6f3a-435c-9af3-56633e12bf6d",
        "colab": {
          "base_uri": "https://localhost:8080/"
        }
      },
      "outputs": [
        {
          "output_type": "execute_result",
          "data": {
            "text/plain": [
              "0.6439066584257469"
            ]
          },
          "metadata": {},
          "execution_count": 89
        }
      ],
      "source": [
        "lm.score(X_data, Y)"
      ]
    },
    {
      "cell_type": "code",
      "execution_count": 90,
      "metadata": {
        "id": "_GIwdzN7EuZn",
        "outputId": "da121af2-0d8a-4915-8b57-a363fd627d84",
        "colab": {
          "base_uri": "https://localhost:8080/"
        }
      },
      "outputs": [
        {
          "output_type": "execute_result",
          "data": {
            "text/plain": [
              "55.026192447081144"
            ]
          },
          "metadata": {},
          "execution_count": 90
        }
      ],
      "source": [
        "lm.intercept_"
      ]
    },
    {
      "cell_type": "code",
      "execution_count": 91,
      "metadata": {
        "id": "Z6ayW2dkEuZn",
        "outputId": "c7b796f2-c662-4e81-b135-53acc913fb49",
        "colab": {
          "base_uri": "https://localhost:8080/"
        }
      },
      "outputs": [
        {
          "output_type": "execute_result",
          "data": {
            "text/plain": [
              "array([ 0.        , -0.43404318,  0.00112615])"
            ]
          },
          "metadata": {},
          "execution_count": 91
        }
      ],
      "source": [
        "lm.coef_"
      ]
    },
    {
      "cell_type": "markdown",
      "metadata": {
        "id": "qpFgaw3OEuZn"
      },
      "source": [
        "mpg = 55.026 -0.434 * hp + 0.00112615 * hp^2"
      ]
    },
    {
      "cell_type": "code",
      "execution_count": 92,
      "metadata": {
        "id": "c6Td3woyEuZn"
      },
      "outputs": [],
      "source": [
        "def regresion_validation(X_data, Y, Y_pred):\n",
        "    SSD = np.sum((Y - Y_pred)**2)\n",
        "    RSE = np.sqrt(SSD/(len(X_data)-1))\n",
        "    y_mean = np.mean(Y)\n",
        "    error = RSE/y_mean\n",
        "    print(\"SSD: \"+str(SSD)+\", RSE: \" +str(RSE) + \", Y_mean: \" +str(y_mean) +\", error: \" + str(error*100)+ \"%\")"
      ]
    },
    {
      "cell_type": "code",
      "execution_count": 93,
      "metadata": {
        "id": "z-f4ZeVtEuZn",
        "outputId": "f8d9c745-536c-4fb7-ad75-749eee18877e",
        "colab": {
          "base_uri": "https://localhost:8080/"
        }
      },
      "outputs": [
        {
          "output_type": "stream",
          "name": "stdout",
          "text": [
            "Regresión de grado 2\n",
            "R2:0.6439066584257469\n",
            "55.026192447081144\n",
            "[ 0.         -0.43404318  0.00112615]\n",
            "SSD: 8636.180643524502, RSE: 4.61778115803654, Y_mean: 23.514572864321607, error: 19.6379546619069%\n",
            "Regresión de grado 3\n",
            "R2:0.6444678885560744\n",
            "58.44877411148572\n",
            "[ 0.00000000e+00 -5.27113167e-01  1.89736722e-03 -1.95723195e-06]\n",
            "SSD: 8622.56936742855, RSE: 4.614140736300908, Y_mean: 23.514572864321607, error: 19.622473106036686%\n",
            "Regresión de grado 4\n",
            "R2:0.6467674189704502\n",
            "40.096643848808654\n",
            "[ 0.00000000e+00  1.62563541e-01 -7.10892744e-03  4.65580255e-05\n",
            " -9.15840092e-08]\n",
            "SSD: 8566.799832491351, RSE: 4.599194731579757, Y_mean: 23.514572864321607, error: 19.558912501268786%\n",
            "Regresión de grado 5\n",
            "R2:0.6547512491371934\n",
            "-40.69402885502241\n",
            "[ 0.00000000e+00  4.00021894e+00 -7.54802468e-02  6.19621641e-04\n",
            " -2.36220984e-06  3.41983153e-09]\n",
            "SSD: 8373.171388773775, RSE: 4.546921734122058, Y_mean: 23.514572864321607, error: 19.33661206757895%\n",
            "Regresión de grado 6\n",
            "R2:0.6572852671633754\n",
            "-156.98520706471135\n",
            "[ 0.00000000e+00  1.07622445e+01 -2.30165514e-01  2.40584068e-03\n",
            " -1.33797044e-05  3.79780867e-08 -4.32542890e-11]\n",
            "SSD: 8311.714925332735, RSE: 4.530204509959361, Y_mean: 23.514572864321607, error: 19.265519029831026%\n",
            "Regresión de grado 7\n",
            "R2:0.6538574587728879\n",
            "14.784065828850075\n",
            "[ 0.00000000e+00  1.26694156e-03  4.31482742e-02 -1.25395189e-03\n",
            "  1.46292435e-05 -8.50453223e-08  2.45090897e-10 -2.79305658e-13]\n",
            "SSD: 8394.848107045054, RSE: 4.552803533801475, Y_mean: 23.514572864321607, error: 19.36162549101367%\n",
            "Regresión de grado 8\n",
            "R2:0.6512432187305688\n",
            "36.40687265232428\n",
            "[ 0.00000000e+00  5.13552363e-07  3.03206123e-06  8.84865763e-05\n",
            " -3.97062827e-06  5.47389300e-08 -3.43823669e-10  1.02688816e-12\n",
            " -1.18560949e-15]\n",
            "SSD: 8458.250160987405, RSE: 4.56996370868898, Y_mean: 23.514572864321607, error: 19.4346022573216%\n",
            "Regresión de grado 9\n",
            "R2:0.6510536193902765\n",
            "39.46387142679963\n",
            "[ 0.00000000e+00  2.96414081e-08 -1.28619207e-09 -6.48222295e-08\n",
            " -1.77070696e-06  3.55391882e-08 -3.00072616e-10  1.32188162e-12\n",
            " -3.03802044e-15  2.92180706e-18]\n",
            "SSD: 8462.848433298306, RSE: 4.571205755326124, Y_mean: 23.514572864321607, error: 19.43988428665852%\n",
            "Regresión de grado 10\n",
            "R2:0.652357049711226\n",
            "38.443257481650434\n",
            "[ 0.00000000e+00 -8.69901012e-10 -2.80006298e-13 -2.72222346e-11\n",
            " -1.29906751e-09 -3.51792974e-08  8.70675176e-10 -8.87325871e-12\n",
            "  4.60568123e-14 -1.20916592e-16  1.27856170e-19]\n",
            "SSD: 8431.236891059965, RSE: 4.56266028395877, Y_mean: 23.514572864321607, error: 19.403543114668448%\n",
            "Regresión de grado 11\n",
            "R2:0.650973900794568\n",
            "36.33550600907266\n",
            "[ 0.00000000e+00  3.42124539e-11  1.37528592e-14 -4.89050725e-15\n",
            " -3.12607788e-13 -1.48171763e-11 -4.06509621e-10  1.03821826e-11\n",
            " -1.07573405e-13  5.61841262e-16 -1.47322816e-18  1.54740289e-21]\n",
            "SSD: 8464.78181455768, RSE: 4.57172788324218, Y_mean: 23.514572864321607, error: 19.442104730632%\n"
          ]
        }
      ],
      "source": [
        "for d in range(2,12):\n",
        "    poly = PolynomialFeatures(degree=d)\n",
        "    X_data = poly.fit_transform(X[:,np.newaxis])\n",
        "    lm = linear_model.LinearRegression()\n",
        "    lm.fit(X_data, Y)\n",
        "    print(\"Regresión de grado \"+str(d))\n",
        "    print(\"R2:\" +str(lm.score(X_data, Y)))\n",
        "    print(lm.intercept_)\n",
        "    print(lm.coef_)\n",
        "    regresion_validation(X_data, Y, lm.predict(X_data))"
      ]
    },
    {
      "cell_type": "markdown",
      "metadata": {
        "id": "QocZkOmfEuZo"
      },
      "source": [
        "# El problema de los outliers"
      ]
    },
    {
      "cell_type": "code",
      "execution_count": null,
      "metadata": {
        "id": "bwpJPdvtEuZo",
        "outputId": "7fb4f391-125f-40a6-b887-0923e15bff79"
      },
      "outputs": [
        {
          "data": {
            "text/plain": [
              "[<matplotlib.lines.Line2D at 0x7f95560fe910>]"
            ]
          },
          "execution_count": 59,
          "metadata": {},
          "output_type": "execute_result"
        },
        {
          "data": {
            "image/png": "[encoded data removed]",
            "text/plain": [
              "<Figure size 432x288 with 1 Axes>"
            ]
          },
          "metadata": {
            "needs_background": "light"
          },
          "output_type": "display_data"
        }
      ],
      "source": [
        "plt.plot(data_auto[\"displacement\"], data_auto[\"mpg\"], \"ro\")"
      ]
    },
    {
      "cell_type": "code",
      "execution_count": null,
      "metadata": {
        "id": "KpVPHrI9EuZo",
        "outputId": "7d241aad-6115-40b5-df19-a835e685ce29"
      },
      "outputs": [
        {
          "data": {
            "text/plain": [
              "LinearRegression()"
            ]
          },
          "execution_count": 60,
          "metadata": {},
          "output_type": "execute_result"
        }
      ],
      "source": [
        "X = data_auto[\"displacement\"].fillna(data_auto[\"displacement\"].mean()).to_numpy()\n",
        "X = X[:,np.newaxis]\n",
        "Y = data_auto[\"mpg\"].fillna(data_auto[\"mpg\"].mean())\n",
        "\n",
        "lm = LinearRegression()\n",
        "lm.fit(X, Y)"
      ]
    },
    {
      "cell_type": "code",
      "execution_count": null,
      "metadata": {
        "id": "5k7WLbC_EuZo",
        "outputId": "f7d137d9-a5ac-463f-d8f5-1b8e2b0840bf"
      },
      "outputs": [
        {
          "data": {
            "text/plain": [
              "0.6261049762826918"
            ]
          },
          "execution_count": 61,
          "metadata": {},
          "output_type": "execute_result"
        }
      ],
      "source": [
        "lm.score(X,Y)"
      ]
    },
    {
      "cell_type": "code",
      "execution_count": null,
      "metadata": {
        "id": "BPMktJDmEuZo",
        "outputId": "605a0e61-0b8b-415a-edb8-80199f102806"
      },
      "outputs": [
        {
          "data": {
            "text/plain": [
              "[<matplotlib.lines.Line2D at 0x7f9556184280>]"
            ]
          },
          "execution_count": 62,
          "metadata": {},
          "output_type": "execute_result"
        },
        {
          "data": {
            "image/png": "[encoded data removed]",
            "text/plain": [
              "<Figure size 432x288 with 1 Axes>"
            ]
          },
          "metadata": {
            "needs_background": "light"
          },
          "output_type": "display_data"
        }
      ],
      "source": [
        "%matplotlib inline\n",
        "plt.plot(X,Y, \"ro\")\n",
        "plt.plot(X, lm.predict(X), color=\"blue\")"
      ]
    },
    {
      "cell_type": "code",
      "execution_count": null,
      "metadata": {
        "id": "cltAR-fDEuZo",
        "outputId": "45b51afa-47ed-4ecc-b772-9becefe96e17"
      },
      "outputs": [
        {
          "data": {
            "text/html": [
              "<div>\n",
              "<style scoped>\n",
              "    .dataframe tbody tr th:only-of-type {\n",
              "        vertical-align: middle;\n",
              "    }\n",
              "\n",
              "    .dataframe tbody tr th {\n",
              "        vertical-align: top;\n",
              "    }\n",
              "\n",
              "    .dataframe thead th {\n",
              "        text-align: right;\n",
              "    }\n",
              "</style>\n",
              "<table border=\"1\" class=\"dataframe\">\n",
              "  <thead>\n",
              "    <tr style=\"text-align: right;\">\n",
              "      <th></th>\n",
              "      <th>mpg</th>\n",
              "      <th>cylinders</th>\n",
              "      <th>displacement</th>\n",
              "      <th>horsepower</th>\n",
              "      <th>weight</th>\n",
              "      <th>acceleration</th>\n",
              "      <th>model year</th>\n",
              "      <th>origin</th>\n",
              "      <th>car name</th>\n",
              "    </tr>\n",
              "  </thead>\n",
              "  <tbody>\n",
              "    <tr>\n",
              "      <th>395</th>\n",
              "      <td>38.0</td>\n",
              "      <td>6</td>\n",
              "      <td>262.0</td>\n",
              "      <td>85.0</td>\n",
              "      <td>3015</td>\n",
              "      <td>17.0</td>\n",
              "      <td>82</td>\n",
              "      <td>1</td>\n",
              "      <td>oldsmobile cutlass ciera (diesel)</td>\n",
              "    </tr>\n",
              "  </tbody>\n",
              "</table>\n",
              "</div>"
            ],
            "text/plain": [
              "      mpg  cylinders  displacement  horsepower  weight  acceleration  \\\n",
              "395  38.0          6         262.0        85.0    3015          17.0   \n",
              "\n",
              "     model year  origin                           car name  \n",
              "395          82       1  oldsmobile cutlass ciera (diesel)  "
            ]
          },
          "execution_count": 63,
          "metadata": {},
          "output_type": "execute_result"
        }
      ],
      "source": [
        "data_auto[(data_auto[\"displacement\"]>250)&(data_auto[\"mpg\"]>35)]"
      ]
    },
    {
      "cell_type": "code",
      "execution_count": null,
      "metadata": {
        "id": "ZfiYJr0qEuZo",
        "outputId": "d4a0f6f0-0867-410f-de0b-02999368a120"
      },
      "outputs": [
        {
          "data": {
            "text/html": [
              "<div>\n",
              "<style scoped>\n",
              "    .dataframe tbody tr th:only-of-type {\n",
              "        vertical-align: middle;\n",
              "    }\n",
              "\n",
              "    .dataframe tbody tr th {\n",
              "        vertical-align: top;\n",
              "    }\n",
              "\n",
              "    .dataframe thead th {\n",
              "        text-align: right;\n",
              "    }\n",
              "</style>\n",
              "<table border=\"1\" class=\"dataframe\">\n",
              "  <thead>\n",
              "    <tr style=\"text-align: right;\">\n",
              "      <th></th>\n",
              "      <th>mpg</th>\n",
              "      <th>cylinders</th>\n",
              "      <th>displacement</th>\n",
              "      <th>horsepower</th>\n",
              "      <th>weight</th>\n",
              "      <th>acceleration</th>\n",
              "      <th>model year</th>\n",
              "      <th>origin</th>\n",
              "      <th>car name</th>\n",
              "    </tr>\n",
              "  </thead>\n",
              "  <tbody>\n",
              "    <tr>\n",
              "      <th>258</th>\n",
              "      <td>20.2</td>\n",
              "      <td>8</td>\n",
              "      <td>302.0</td>\n",
              "      <td>139.0</td>\n",
              "      <td>3570</td>\n",
              "      <td>12.8</td>\n",
              "      <td>78</td>\n",
              "      <td>1</td>\n",
              "      <td>mercury monarch ghia</td>\n",
              "    </tr>\n",
              "    <tr>\n",
              "      <th>305</th>\n",
              "      <td>23.0</td>\n",
              "      <td>8</td>\n",
              "      <td>350.0</td>\n",
              "      <td>125.0</td>\n",
              "      <td>3900</td>\n",
              "      <td>17.4</td>\n",
              "      <td>79</td>\n",
              "      <td>1</td>\n",
              "      <td>cadillac eldorado</td>\n",
              "    </tr>\n",
              "    <tr>\n",
              "      <th>372</th>\n",
              "      <td>26.6</td>\n",
              "      <td>8</td>\n",
              "      <td>350.0</td>\n",
              "      <td>105.0</td>\n",
              "      <td>3725</td>\n",
              "      <td>19.0</td>\n",
              "      <td>81</td>\n",
              "      <td>1</td>\n",
              "      <td>oldsmobile cutlass ls</td>\n",
              "    </tr>\n",
              "  </tbody>\n",
              "</table>\n",
              "</div>"
            ],
            "text/plain": [
              "      mpg  cylinders  displacement  horsepower  weight  acceleration  \\\n",
              "258  20.2          8         302.0       139.0    3570          12.8   \n",
              "305  23.0          8         350.0       125.0    3900          17.4   \n",
              "372  26.6          8         350.0       105.0    3725          19.0   \n",
              "\n",
              "     model year  origin               car name  \n",
              "258          78       1   mercury monarch ghia  \n",
              "305          79       1      cadillac eldorado  \n",
              "372          81       1  oldsmobile cutlass ls  "
            ]
          },
          "execution_count": 64,
          "metadata": {},
          "output_type": "execute_result"
        }
      ],
      "source": [
        "data_auto[(data_auto[\"displacement\"]>300)&(data_auto[\"mpg\"]>20)]"
      ]
    },
    {
      "cell_type": "code",
      "execution_count": null,
      "metadata": {
        "id": "gHjsArMrEuZp"
      },
      "outputs": [],
      "source": [
        "data_auto_clean = data_auto.drop([395, 258, 305, 372])"
      ]
    },
    {
      "cell_type": "code",
      "execution_count": null,
      "metadata": {
        "id": "bs11BgxVEuZp",
        "outputId": "d3b1738f-ac01-4262-e67f-e5f179ed0081"
      },
      "outputs": [
        {
          "data": {
            "text/plain": [
              "LinearRegression()"
            ]
          },
          "execution_count": 69,
          "metadata": {},
          "output_type": "execute_result"
        }
      ],
      "source": [
        "X = data_auto_clean[\"displacement\"].fillna(data_auto_clean[\"displacement\"].mean()).to_numpy()\n",
        "X = X[:,np.newaxis]\n",
        "Y = data_auto_clean[\"mpg\"].fillna(data_auto_clean[\"mpg\"].mean())\n",
        "\n",
        "lm = LinearRegression()\n",
        "lm.fit(X, Y)"
      ]
    },
    {
      "cell_type": "code",
      "execution_count": null,
      "metadata": {
        "id": "R9ZCtxr7EuZp",
        "outputId": "9350e55f-3370-4768-af0b-633ec4b3c2d7"
      },
      "outputs": [
        {
          "data": {
            "text/plain": [
              "0.6466514317531822"
            ]
          },
          "execution_count": 70,
          "metadata": {},
          "output_type": "execute_result"
        }
      ],
      "source": [
        "lm.score(X,Y)"
      ]
    },
    {
      "cell_type": "code",
      "execution_count": null,
      "metadata": {
        "id": "MFIe0wKDEuZp",
        "outputId": "a8f9222b-1626-4256-d259-9651cf477571"
      },
      "outputs": [
        {
          "data": {
            "text/plain": [
              "[<matplotlib.lines.Line2D at 0x7f9556612130>]"
            ]
          },
          "execution_count": 71,
          "metadata": {},
          "output_type": "execute_result"
        },
        {
          "data": {
            "image/png": "[encoded data removed]",
            "text/plain": [
              "<Figure size 432x288 with 1 Axes>"
            ]
          },
          "metadata": {
            "needs_background": "light"
          },
          "output_type": "display_data"
        }
      ],
      "source": [
        "%matplotlib inline\n",
        "plt.plot(X,Y, \"ro\")\n",
        "plt.plot(X, lm.predict(X), color=\"blue\")"
      ]
    }
  ],
  "metadata": {
    "kernelspec": {
      "display_name": "Python 3",
      "language": "python",
      "name": "python3"
    },
    "language_info": {
      "codemirror_mode": {
        "name": "ipython",
        "version": 3
      },
      "file_extension": ".py",
      "mimetype": "text/x-python",
      "name": "python",
      "nbconvert_exporter": "python",
      "pygments_lexer": "ipython3",
      "version": "3.8.5"
    },
    "colab": {
      "name": "T4 - 5 - Linear Regression - Problemas con la regresión lineal-Colab.ipynb",
      "provenance": [],
      "toc_visible": true
    }
  },
  "nbformat": 4,
  "nbformat_minor": 0
}